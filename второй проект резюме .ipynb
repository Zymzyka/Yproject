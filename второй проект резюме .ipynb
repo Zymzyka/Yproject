{
 "cells": [
  {
   "cell_type": "markdown",
   "id": "e7860e94",
   "metadata": {
    "deletable": false,
    "editable": false,
    "id": "c81daeeb"
   },
   "source": [
    "# Исследование надежности заемщиков\n"
   ]
  },
  {
   "cell_type": "markdown",
   "id": "76a99432",
   "metadata": {
    "deletable": false,
    "editable": false,
    "id": "827c20bf"
   },
   "source": [
    "Во второй части проекта вы выполните шаги 3 и 4. Их вручную проверит ревьюер.\n",
    "Чтобы вам не пришлось писать код заново для шагов 1 и 2, мы добавили авторские решения в ячейки с кодом. \n",
    "\n"
   ]
  },
  {
   "cell_type": "markdown",
   "id": "2c64f203",
   "metadata": {
    "deletable": false,
    "editable": false,
    "id": "744d7639"
   },
   "source": [
    "## Откройте таблицу и изучите общую информацию о данных"
   ]
  },
  {
   "cell_type": "markdown",
   "id": "e682a456",
   "metadata": {
    "deletable": false,
    "editable": false,
    "id": "e7a14c31"
   },
   "source": [
    "**Задание 1. Импортируйте библиотеку pandas. Считайте данные из csv-файла в датафрейм и сохраните в переменную `data`. Путь к файлу:**\n",
    "\n",
    "`/datasets/data.csv`"
   ]
  },
  {
   "cell_type": "code",
   "execution_count": 1,
   "id": "d3d5fdf6",
   "metadata": {
    "deletable": false,
    "id": "7bcf75c9"
   },
   "outputs": [],
   "source": [
    "import pandas as pd\n",
    "\n",
    "try:\n",
    "    data = pd.read_csv('/datasets/data.csv')\n",
    "except:\n",
    "    data = pd.read_csv('https://code.s3.yandex.net/datasets/data.csv')"
   ]
  },
  {
   "cell_type": "markdown",
   "id": "779573e3",
   "metadata": {
    "deletable": false,
    "editable": false,
    "id": "b8038fe3"
   },
   "source": [
    "**Задание 2. Выведите первые 20 строчек датафрейма `data` на экран.**"
   ]
  },
  {
   "cell_type": "code",
   "execution_count": 2,
   "id": "e499f20b",
   "metadata": {
    "deletable": false,
    "id": "2a7cab99",
    "outputId": "1a8f3ef2-d323-4ec2-ddf7-89670b5944c4"
   },
   "outputs": [
    {
     "data": {
      "text/html": [
       "<div>\n",
       "<style scoped>\n",
       "    .dataframe tbody tr th:only-of-type {\n",
       "        vertical-align: middle;\n",
       "    }\n",
       "\n",
       "    .dataframe tbody tr th {\n",
       "        vertical-align: top;\n",
       "    }\n",
       "\n",
       "    .dataframe thead th {\n",
       "        text-align: right;\n",
       "    }\n",
       "</style>\n",
       "<table border=\"1\" class=\"dataframe\">\n",
       "  <thead>\n",
       "    <tr style=\"text-align: right;\">\n",
       "      <th></th>\n",
       "      <th>children</th>\n",
       "      <th>days_employed</th>\n",
       "      <th>dob_years</th>\n",
       "      <th>education</th>\n",
       "      <th>education_id</th>\n",
       "      <th>family_status</th>\n",
       "      <th>family_status_id</th>\n",
       "      <th>gender</th>\n",
       "      <th>income_type</th>\n",
       "      <th>debt</th>\n",
       "      <th>total_income</th>\n",
       "      <th>purpose</th>\n",
       "    </tr>\n",
       "  </thead>\n",
       "  <tbody>\n",
       "    <tr>\n",
       "      <th>0</th>\n",
       "      <td>1</td>\n",
       "      <td>-8437.673028</td>\n",
       "      <td>42</td>\n",
       "      <td>высшее</td>\n",
       "      <td>0</td>\n",
       "      <td>женат / замужем</td>\n",
       "      <td>0</td>\n",
       "      <td>F</td>\n",
       "      <td>сотрудник</td>\n",
       "      <td>0</td>\n",
       "      <td>253875.639453</td>\n",
       "      <td>покупка жилья</td>\n",
       "    </tr>\n",
       "    <tr>\n",
       "      <th>1</th>\n",
       "      <td>1</td>\n",
       "      <td>-4024.803754</td>\n",
       "      <td>36</td>\n",
       "      <td>среднее</td>\n",
       "      <td>1</td>\n",
       "      <td>женат / замужем</td>\n",
       "      <td>0</td>\n",
       "      <td>F</td>\n",
       "      <td>сотрудник</td>\n",
       "      <td>0</td>\n",
       "      <td>112080.014102</td>\n",
       "      <td>приобретение автомобиля</td>\n",
       "    </tr>\n",
       "    <tr>\n",
       "      <th>2</th>\n",
       "      <td>0</td>\n",
       "      <td>-5623.422610</td>\n",
       "      <td>33</td>\n",
       "      <td>Среднее</td>\n",
       "      <td>1</td>\n",
       "      <td>женат / замужем</td>\n",
       "      <td>0</td>\n",
       "      <td>M</td>\n",
       "      <td>сотрудник</td>\n",
       "      <td>0</td>\n",
       "      <td>145885.952297</td>\n",
       "      <td>покупка жилья</td>\n",
       "    </tr>\n",
       "    <tr>\n",
       "      <th>3</th>\n",
       "      <td>3</td>\n",
       "      <td>-4124.747207</td>\n",
       "      <td>32</td>\n",
       "      <td>среднее</td>\n",
       "      <td>1</td>\n",
       "      <td>женат / замужем</td>\n",
       "      <td>0</td>\n",
       "      <td>M</td>\n",
       "      <td>сотрудник</td>\n",
       "      <td>0</td>\n",
       "      <td>267628.550329</td>\n",
       "      <td>дополнительное образование</td>\n",
       "    </tr>\n",
       "    <tr>\n",
       "      <th>4</th>\n",
       "      <td>0</td>\n",
       "      <td>340266.072047</td>\n",
       "      <td>53</td>\n",
       "      <td>среднее</td>\n",
       "      <td>1</td>\n",
       "      <td>гражданский брак</td>\n",
       "      <td>1</td>\n",
       "      <td>F</td>\n",
       "      <td>пенсионер</td>\n",
       "      <td>0</td>\n",
       "      <td>158616.077870</td>\n",
       "      <td>сыграть свадьбу</td>\n",
       "    </tr>\n",
       "    <tr>\n",
       "      <th>5</th>\n",
       "      <td>0</td>\n",
       "      <td>-926.185831</td>\n",
       "      <td>27</td>\n",
       "      <td>высшее</td>\n",
       "      <td>0</td>\n",
       "      <td>гражданский брак</td>\n",
       "      <td>1</td>\n",
       "      <td>M</td>\n",
       "      <td>компаньон</td>\n",
       "      <td>0</td>\n",
       "      <td>255763.565419</td>\n",
       "      <td>покупка жилья</td>\n",
       "    </tr>\n",
       "    <tr>\n",
       "      <th>6</th>\n",
       "      <td>0</td>\n",
       "      <td>-2879.202052</td>\n",
       "      <td>43</td>\n",
       "      <td>высшее</td>\n",
       "      <td>0</td>\n",
       "      <td>женат / замужем</td>\n",
       "      <td>0</td>\n",
       "      <td>F</td>\n",
       "      <td>компаньон</td>\n",
       "      <td>0</td>\n",
       "      <td>240525.971920</td>\n",
       "      <td>операции с жильем</td>\n",
       "    </tr>\n",
       "    <tr>\n",
       "      <th>7</th>\n",
       "      <td>0</td>\n",
       "      <td>-152.779569</td>\n",
       "      <td>50</td>\n",
       "      <td>СРЕДНЕЕ</td>\n",
       "      <td>1</td>\n",
       "      <td>женат / замужем</td>\n",
       "      <td>0</td>\n",
       "      <td>M</td>\n",
       "      <td>сотрудник</td>\n",
       "      <td>0</td>\n",
       "      <td>135823.934197</td>\n",
       "      <td>образование</td>\n",
       "    </tr>\n",
       "    <tr>\n",
       "      <th>8</th>\n",
       "      <td>2</td>\n",
       "      <td>-6929.865299</td>\n",
       "      <td>35</td>\n",
       "      <td>ВЫСШЕЕ</td>\n",
       "      <td>0</td>\n",
       "      <td>гражданский брак</td>\n",
       "      <td>1</td>\n",
       "      <td>F</td>\n",
       "      <td>сотрудник</td>\n",
       "      <td>0</td>\n",
       "      <td>95856.832424</td>\n",
       "      <td>на проведение свадьбы</td>\n",
       "    </tr>\n",
       "    <tr>\n",
       "      <th>9</th>\n",
       "      <td>0</td>\n",
       "      <td>-2188.756445</td>\n",
       "      <td>41</td>\n",
       "      <td>среднее</td>\n",
       "      <td>1</td>\n",
       "      <td>женат / замужем</td>\n",
       "      <td>0</td>\n",
       "      <td>M</td>\n",
       "      <td>сотрудник</td>\n",
       "      <td>0</td>\n",
       "      <td>144425.938277</td>\n",
       "      <td>покупка жилья для семьи</td>\n",
       "    </tr>\n",
       "    <tr>\n",
       "      <th>10</th>\n",
       "      <td>2</td>\n",
       "      <td>-4171.483647</td>\n",
       "      <td>36</td>\n",
       "      <td>высшее</td>\n",
       "      <td>0</td>\n",
       "      <td>женат / замужем</td>\n",
       "      <td>0</td>\n",
       "      <td>M</td>\n",
       "      <td>компаньон</td>\n",
       "      <td>0</td>\n",
       "      <td>113943.491460</td>\n",
       "      <td>покупка недвижимости</td>\n",
       "    </tr>\n",
       "    <tr>\n",
       "      <th>11</th>\n",
       "      <td>0</td>\n",
       "      <td>-792.701887</td>\n",
       "      <td>40</td>\n",
       "      <td>среднее</td>\n",
       "      <td>1</td>\n",
       "      <td>женат / замужем</td>\n",
       "      <td>0</td>\n",
       "      <td>F</td>\n",
       "      <td>сотрудник</td>\n",
       "      <td>0</td>\n",
       "      <td>77069.234271</td>\n",
       "      <td>покупка коммерческой недвижимости</td>\n",
       "    </tr>\n",
       "    <tr>\n",
       "      <th>12</th>\n",
       "      <td>0</td>\n",
       "      <td>NaN</td>\n",
       "      <td>65</td>\n",
       "      <td>среднее</td>\n",
       "      <td>1</td>\n",
       "      <td>гражданский брак</td>\n",
       "      <td>1</td>\n",
       "      <td>M</td>\n",
       "      <td>пенсионер</td>\n",
       "      <td>0</td>\n",
       "      <td>NaN</td>\n",
       "      <td>сыграть свадьбу</td>\n",
       "    </tr>\n",
       "    <tr>\n",
       "      <th>13</th>\n",
       "      <td>0</td>\n",
       "      <td>-1846.641941</td>\n",
       "      <td>54</td>\n",
       "      <td>неоконченное высшее</td>\n",
       "      <td>2</td>\n",
       "      <td>женат / замужем</td>\n",
       "      <td>0</td>\n",
       "      <td>F</td>\n",
       "      <td>сотрудник</td>\n",
       "      <td>0</td>\n",
       "      <td>130458.228857</td>\n",
       "      <td>приобретение автомобиля</td>\n",
       "    </tr>\n",
       "    <tr>\n",
       "      <th>14</th>\n",
       "      <td>0</td>\n",
       "      <td>-1844.956182</td>\n",
       "      <td>56</td>\n",
       "      <td>высшее</td>\n",
       "      <td>0</td>\n",
       "      <td>гражданский брак</td>\n",
       "      <td>1</td>\n",
       "      <td>F</td>\n",
       "      <td>компаньон</td>\n",
       "      <td>1</td>\n",
       "      <td>165127.911772</td>\n",
       "      <td>покупка жилой недвижимости</td>\n",
       "    </tr>\n",
       "    <tr>\n",
       "      <th>15</th>\n",
       "      <td>1</td>\n",
       "      <td>-972.364419</td>\n",
       "      <td>26</td>\n",
       "      <td>среднее</td>\n",
       "      <td>1</td>\n",
       "      <td>женат / замужем</td>\n",
       "      <td>0</td>\n",
       "      <td>F</td>\n",
       "      <td>сотрудник</td>\n",
       "      <td>0</td>\n",
       "      <td>116820.904450</td>\n",
       "      <td>строительство собственной недвижимости</td>\n",
       "    </tr>\n",
       "    <tr>\n",
       "      <th>16</th>\n",
       "      <td>0</td>\n",
       "      <td>-1719.934226</td>\n",
       "      <td>35</td>\n",
       "      <td>среднее</td>\n",
       "      <td>1</td>\n",
       "      <td>женат / замужем</td>\n",
       "      <td>0</td>\n",
       "      <td>F</td>\n",
       "      <td>сотрудник</td>\n",
       "      <td>0</td>\n",
       "      <td>289202.704229</td>\n",
       "      <td>недвижимость</td>\n",
       "    </tr>\n",
       "    <tr>\n",
       "      <th>17</th>\n",
       "      <td>0</td>\n",
       "      <td>-2369.999720</td>\n",
       "      <td>33</td>\n",
       "      <td>высшее</td>\n",
       "      <td>0</td>\n",
       "      <td>гражданский брак</td>\n",
       "      <td>1</td>\n",
       "      <td>M</td>\n",
       "      <td>сотрудник</td>\n",
       "      <td>0</td>\n",
       "      <td>90410.586745</td>\n",
       "      <td>строительство недвижимости</td>\n",
       "    </tr>\n",
       "    <tr>\n",
       "      <th>18</th>\n",
       "      <td>0</td>\n",
       "      <td>400281.136913</td>\n",
       "      <td>53</td>\n",
       "      <td>среднее</td>\n",
       "      <td>1</td>\n",
       "      <td>вдовец / вдова</td>\n",
       "      <td>2</td>\n",
       "      <td>F</td>\n",
       "      <td>пенсионер</td>\n",
       "      <td>0</td>\n",
       "      <td>56823.777243</td>\n",
       "      <td>на покупку подержанного автомобиля</td>\n",
       "    </tr>\n",
       "    <tr>\n",
       "      <th>19</th>\n",
       "      <td>0</td>\n",
       "      <td>-10038.818549</td>\n",
       "      <td>48</td>\n",
       "      <td>СРЕДНЕЕ</td>\n",
       "      <td>1</td>\n",
       "      <td>в разводе</td>\n",
       "      <td>3</td>\n",
       "      <td>F</td>\n",
       "      <td>сотрудник</td>\n",
       "      <td>0</td>\n",
       "      <td>242831.107982</td>\n",
       "      <td>на покупку своего автомобиля</td>\n",
       "    </tr>\n",
       "  </tbody>\n",
       "</table>\n",
       "</div>"
      ],
      "text/plain": [
       "    children  days_employed  dob_years            education  education_id  \\\n",
       "0          1   -8437.673028         42               высшее             0   \n",
       "1          1   -4024.803754         36              среднее             1   \n",
       "2          0   -5623.422610         33              Среднее             1   \n",
       "3          3   -4124.747207         32              среднее             1   \n",
       "4          0  340266.072047         53              среднее             1   \n",
       "5          0    -926.185831         27               высшее             0   \n",
       "6          0   -2879.202052         43               высшее             0   \n",
       "7          0    -152.779569         50              СРЕДНЕЕ             1   \n",
       "8          2   -6929.865299         35               ВЫСШЕЕ             0   \n",
       "9          0   -2188.756445         41              среднее             1   \n",
       "10         2   -4171.483647         36               высшее             0   \n",
       "11         0    -792.701887         40              среднее             1   \n",
       "12         0            NaN         65              среднее             1   \n",
       "13         0   -1846.641941         54  неоконченное высшее             2   \n",
       "14         0   -1844.956182         56               высшее             0   \n",
       "15         1    -972.364419         26              среднее             1   \n",
       "16         0   -1719.934226         35              среднее             1   \n",
       "17         0   -2369.999720         33               высшее             0   \n",
       "18         0  400281.136913         53              среднее             1   \n",
       "19         0  -10038.818549         48              СРЕДНЕЕ             1   \n",
       "\n",
       "       family_status  family_status_id gender income_type  debt  \\\n",
       "0    женат / замужем                 0      F   сотрудник     0   \n",
       "1    женат / замужем                 0      F   сотрудник     0   \n",
       "2    женат / замужем                 0      M   сотрудник     0   \n",
       "3    женат / замужем                 0      M   сотрудник     0   \n",
       "4   гражданский брак                 1      F   пенсионер     0   \n",
       "5   гражданский брак                 1      M   компаньон     0   \n",
       "6    женат / замужем                 0      F   компаньон     0   \n",
       "7    женат / замужем                 0      M   сотрудник     0   \n",
       "8   гражданский брак                 1      F   сотрудник     0   \n",
       "9    женат / замужем                 0      M   сотрудник     0   \n",
       "10   женат / замужем                 0      M   компаньон     0   \n",
       "11   женат / замужем                 0      F   сотрудник     0   \n",
       "12  гражданский брак                 1      M   пенсионер     0   \n",
       "13   женат / замужем                 0      F   сотрудник     0   \n",
       "14  гражданский брак                 1      F   компаньон     1   \n",
       "15   женат / замужем                 0      F   сотрудник     0   \n",
       "16   женат / замужем                 0      F   сотрудник     0   \n",
       "17  гражданский брак                 1      M   сотрудник     0   \n",
       "18    вдовец / вдова                 2      F   пенсионер     0   \n",
       "19         в разводе                 3      F   сотрудник     0   \n",
       "\n",
       "     total_income                                 purpose  \n",
       "0   253875.639453                           покупка жилья  \n",
       "1   112080.014102                 приобретение автомобиля  \n",
       "2   145885.952297                           покупка жилья  \n",
       "3   267628.550329              дополнительное образование  \n",
       "4   158616.077870                         сыграть свадьбу  \n",
       "5   255763.565419                           покупка жилья  \n",
       "6   240525.971920                       операции с жильем  \n",
       "7   135823.934197                             образование  \n",
       "8    95856.832424                   на проведение свадьбы  \n",
       "9   144425.938277                 покупка жилья для семьи  \n",
       "10  113943.491460                    покупка недвижимости  \n",
       "11   77069.234271       покупка коммерческой недвижимости  \n",
       "12            NaN                         сыграть свадьбу  \n",
       "13  130458.228857                 приобретение автомобиля  \n",
       "14  165127.911772              покупка жилой недвижимости  \n",
       "15  116820.904450  строительство собственной недвижимости  \n",
       "16  289202.704229                            недвижимость  \n",
       "17   90410.586745              строительство недвижимости  \n",
       "18   56823.777243      на покупку подержанного автомобиля  \n",
       "19  242831.107982            на покупку своего автомобиля  "
      ]
     },
     "execution_count": 2,
     "metadata": {},
     "output_type": "execute_result"
    }
   ],
   "source": [
    "data.head(20)"
   ]
  },
  {
   "cell_type": "markdown",
   "id": "ff578b45",
   "metadata": {
    "deletable": false,
    "editable": false,
    "id": "1c12e233"
   },
   "source": [
    "**Задание 3. Выведите основную информацию о датафрейме с помощью метода `info()`.**"
   ]
  },
  {
   "cell_type": "code",
   "execution_count": 3,
   "id": "323f1829",
   "metadata": {
    "deletable": false,
    "id": "2b757bca",
    "outputId": "15376089-8dad-46c9-b520-c05248d43158"
   },
   "outputs": [
    {
     "name": "stdout",
     "output_type": "stream",
     "text": [
      "<class 'pandas.core.frame.DataFrame'>\n",
      "RangeIndex: 21525 entries, 0 to 21524\n",
      "Data columns (total 12 columns):\n",
      " #   Column            Non-Null Count  Dtype  \n",
      "---  ------            --------------  -----  \n",
      " 0   children          21525 non-null  int64  \n",
      " 1   days_employed     19351 non-null  float64\n",
      " 2   dob_years         21525 non-null  int64  \n",
      " 3   education         21525 non-null  object \n",
      " 4   education_id      21525 non-null  int64  \n",
      " 5   family_status     21525 non-null  object \n",
      " 6   family_status_id  21525 non-null  int64  \n",
      " 7   gender            21525 non-null  object \n",
      " 8   income_type       21525 non-null  object \n",
      " 9   debt              21525 non-null  int64  \n",
      " 10  total_income      19351 non-null  float64\n",
      " 11  purpose           21525 non-null  object \n",
      "dtypes: float64(2), int64(5), object(5)\n",
      "memory usage: 2.0+ MB\n"
     ]
    }
   ],
   "source": [
    "data.info()"
   ]
  },
  {
   "cell_type": "markdown",
   "id": "20e74d80",
   "metadata": {
    "deletable": false,
    "editable": false,
    "id": "333ec665"
   },
   "source": [
    "## Предобработка данных"
   ]
  },
  {
   "cell_type": "markdown",
   "id": "a1830aa4",
   "metadata": {
    "deletable": false,
    "editable": false,
    "id": "02d92d53"
   },
   "source": [
    "### Удаление пропусков"
   ]
  },
  {
   "cell_type": "markdown",
   "id": "994e4596",
   "metadata": {
    "deletable": false,
    "editable": false,
    "id": "cd84967c"
   },
   "source": [
    "**Задание 4. Выведите количество пропущенных значений для каждого столбца. Используйте комбинацию двух методов.**"
   ]
  },
  {
   "cell_type": "code",
   "execution_count": 4,
   "id": "f83301dc",
   "metadata": {
    "deletable": false,
    "id": "7f9b2309",
    "outputId": "81f4d817-781c-465c-ed15-91ce4446810d"
   },
   "outputs": [
    {
     "data": {
      "text/plain": [
       "children               0\n",
       "days_employed       2174\n",
       "dob_years              0\n",
       "education              0\n",
       "education_id           0\n",
       "family_status          0\n",
       "family_status_id       0\n",
       "gender                 0\n",
       "income_type            0\n",
       "debt                   0\n",
       "total_income        2174\n",
       "purpose                0\n",
       "dtype: int64"
      ]
     },
     "execution_count": 4,
     "metadata": {},
     "output_type": "execute_result"
    }
   ],
   "source": [
    "data.isna().sum()"
   ]
  },
  {
   "cell_type": "markdown",
   "id": "fc87ad00",
   "metadata": {
    "deletable": false,
    "editable": false,
    "id": "db86e27b"
   },
   "source": [
    "**Задание 5. В двух столбцах есть пропущенные значения. Один из них — `days_employed`. Пропуски в этом столбце вы обработаете на следующем этапе. Другой столбец с пропущенными значениями — `total_income` — хранит данные о доходах. На сумму дохода сильнее всего влияет тип занятости, поэтому заполнить пропуски в этом столбце нужно медианным значением по каждому типу из столбца `income_type`. Например, у человека с типом занятости `сотрудник` пропуск в столбце `total_income` должен быть заполнен медианным доходом среди всех записей с тем же типом.**"
   ]
  },
  {
   "cell_type": "code",
   "execution_count": 5,
   "id": "e2e97b36",
   "metadata": {
    "deletable": false,
    "id": "42006a93"
   },
   "outputs": [],
   "source": [
    "for t in data['income_type'].unique():\n",
    "    data.loc[(data['income_type'] == t) & (data['total_income'].isna()), 'total_income'] = \\\n",
    "    data.loc[(data['income_type'] == t), 'total_income'].median()"
   ]
  },
  {
   "cell_type": "markdown",
   "id": "9e7e105c",
   "metadata": {
    "deletable": false,
    "editable": false,
    "id": "89da5ece"
   },
   "source": [
    "### Обработка аномальных значений"
   ]
  },
  {
   "cell_type": "markdown",
   "id": "aa914be0",
   "metadata": {
    "deletable": false,
    "editable": false,
    "id": "57964554"
   },
   "source": [
    "**Задание 6. В данных могут встречаться артефакты (аномалии) — значения, которые не отражают действительность и появились по какой-то ошибке. таким артефактом будет отрицательное количество дней трудового стажа в столбце `days_employed`. Для реальных данных это нормально. Обработайте значения в этом столбце: замените все отрицательные значения положительными с помощью метода `abs()`.**"
   ]
  },
  {
   "cell_type": "code",
   "execution_count": 6,
   "id": "66c3b5bf",
   "metadata": {
    "deletable": false,
    "id": "f6f055bf"
   },
   "outputs": [],
   "source": [
    "data['days_employed'] = data['days_employed'].abs()"
   ]
  },
  {
   "cell_type": "markdown",
   "id": "e528fb6b",
   "metadata": {
    "deletable": false,
    "editable": false,
    "id": "6107dd2f"
   },
   "source": [
    "**Задание 7. Для каждого типа занятости выведите медианное значение трудового стажа `days_employed` в днях.**"
   ]
  },
  {
   "cell_type": "code",
   "execution_count": 7,
   "id": "c85432b5",
   "metadata": {
    "deletable": false,
    "id": "85a5faf6",
    "outputId": "801ef80e-522b-4668-f34e-565af7432bcf"
   },
   "outputs": [
    {
     "data": {
      "text/plain": [
       "income_type\n",
       "безработный        366413.652744\n",
       "в декрете            3296.759962\n",
       "госслужащий          2689.368353\n",
       "компаньон            1547.382223\n",
       "пенсионер          365213.306266\n",
       "предприниматель       520.848083\n",
       "сотрудник            1574.202821\n",
       "студент               578.751554\n",
       "Name: days_employed, dtype: float64"
      ]
     },
     "execution_count": 7,
     "metadata": {},
     "output_type": "execute_result"
    }
   ],
   "source": [
    "data.groupby('income_type')['days_employed'].agg('median')"
   ]
  },
  {
   "cell_type": "markdown",
   "id": "5ff55a33",
   "metadata": {
    "deletable": false,
    "editable": false,
    "id": "38d1a030"
   },
   "source": [
    "У двух типов (безработные и пенсионеры) получатся аномально большие значения. Исправить такие значения сложно, поэтому оставьте их как есть. Тем более этот столбец не понадобится вам для исследования."
   ]
  },
  {
   "cell_type": "markdown",
   "id": "7c38715a",
   "metadata": {
    "deletable": false,
    "editable": false,
    "id": "d8a9f147"
   },
   "source": [
    "**Задание 8. Выведите перечень уникальных значений столбца `children`.**"
   ]
  },
  {
   "cell_type": "code",
   "execution_count": 8,
   "id": "f180a772",
   "metadata": {
    "deletable": false,
    "id": "ef5056eb",
    "outputId": "6975b15c-7f95-4697-d16d-a0c79b657b03"
   },
   "outputs": [
    {
     "data": {
      "text/plain": [
       "array([ 1,  0,  3,  2, -1,  4, 20,  5])"
      ]
     },
     "execution_count": 8,
     "metadata": {},
     "output_type": "execute_result"
    }
   ],
   "source": [
    "data['children'].unique()"
   ]
  },
  {
   "cell_type": "markdown",
   "id": "8431ed5b",
   "metadata": {
    "deletable": false,
    "editable": false,
    "id": "40b9ebf2"
   },
   "source": [
    "**Задание 9. В столбце `children` есть два аномальных значения. Удалите строки, в которых встречаются такие аномальные значения из датафрейма `data`.**"
   ]
  },
  {
   "cell_type": "code",
   "execution_count": 9,
   "id": "f202e712",
   "metadata": {
    "deletable": false,
    "id": "3ff9801d"
   },
   "outputs": [],
   "source": [
    "data = data[(data['children'] != -1) & (data['children'] != 20)]"
   ]
  },
  {
   "cell_type": "markdown",
   "id": "b7d875b6",
   "metadata": {
    "deletable": false,
    "editable": false,
    "id": "bbc4d0ce"
   },
   "source": [
    "**Задание 10. Ещё раз выведите перечень уникальных значений столбца `children`, чтобы убедиться, что артефакты удалены.**"
   ]
  },
  {
   "cell_type": "code",
   "execution_count": 10,
   "id": "513deebd",
   "metadata": {
    "deletable": false,
    "id": "ad4fa8b7",
    "outputId": "b2097101-d49d-44d9-901b-32a65c9463d1"
   },
   "outputs": [
    {
     "data": {
      "text/plain": [
       "array([1, 0, 3, 2, 4, 5])"
      ]
     },
     "execution_count": 10,
     "metadata": {},
     "output_type": "execute_result"
    }
   ],
   "source": [
    "data['children'].unique()"
   ]
  },
  {
   "cell_type": "markdown",
   "id": "9fa7a550",
   "metadata": {
    "deletable": false,
    "editable": false,
    "id": "75440b63"
   },
   "source": [
    "### Удаление пропусков (продолжение)"
   ]
  },
  {
   "cell_type": "markdown",
   "id": "b59c760c",
   "metadata": {
    "deletable": false,
    "editable": false,
    "id": "f4ea573f"
   },
   "source": [
    "**Задание 11. Заполните пропуски в столбце `days_employed` медианными значениями по каждого типа занятости `income_type`.**"
   ]
  },
  {
   "cell_type": "code",
   "execution_count": 11,
   "id": "354ea203",
   "metadata": {
    "deletable": false,
    "id": "af6b1a7e"
   },
   "outputs": [],
   "source": [
    "for t in data['income_type'].unique():\n",
    "    data.loc[(data['income_type'] == t) & (data['days_employed'].isna()), 'days_employed'] = \\\n",
    "    data.loc[(data['income_type'] == t), 'days_employed'].median()"
   ]
  },
  {
   "cell_type": "markdown",
   "id": "239a79ab",
   "metadata": {
    "deletable": false,
    "editable": false,
    "id": "2753f40d"
   },
   "source": [
    "**Задание 12. Убедитесь, что все пропуски заполнены. Проверьте себя и ещё раз выведите количество пропущенных значений для каждого столбца с помощью двух методов.**"
   ]
  },
  {
   "cell_type": "code",
   "execution_count": 12,
   "id": "28b997f4",
   "metadata": {
    "deletable": false,
    "id": "55f78bc2",
    "outputId": "8da1e4e1-358e-4e87-98c9-f261bce0a7b2"
   },
   "outputs": [
    {
     "data": {
      "text/plain": [
       "children            0\n",
       "days_employed       0\n",
       "dob_years           0\n",
       "education           0\n",
       "education_id        0\n",
       "family_status       0\n",
       "family_status_id    0\n",
       "gender              0\n",
       "income_type         0\n",
       "debt                0\n",
       "total_income        0\n",
       "purpose             0\n",
       "dtype: int64"
      ]
     },
     "execution_count": 12,
     "metadata": {},
     "output_type": "execute_result"
    }
   ],
   "source": [
    "data.isna().sum()"
   ]
  },
  {
   "cell_type": "markdown",
   "id": "3fbc7abc",
   "metadata": {
    "deletable": false,
    "editable": false,
    "id": "ddc81e43"
   },
   "source": [
    "### Изменение типов данных"
   ]
  },
  {
   "cell_type": "markdown",
   "id": "3590709b",
   "metadata": {
    "deletable": false,
    "editable": false,
    "id": "42d19d24"
   },
   "source": [
    "**Задание 13. Замените вещественный тип данных в столбце `total_income` на целочисленный с помощью метода `astype()`.**"
   ]
  },
  {
   "cell_type": "code",
   "execution_count": 13,
   "id": "b0b48e75",
   "metadata": {
    "deletable": false,
    "id": "920b65ad"
   },
   "outputs": [],
   "source": [
    "data['total_income'] = data['total_income'].astype(int)"
   ]
  },
  {
   "cell_type": "markdown",
   "id": "c98f208b",
   "metadata": {
    "deletable": false,
    "editable": false,
    "id": "80c420ba"
   },
   "source": [
    "### Обработка дубликатов"
   ]
  },
  {
   "cell_type": "markdown",
   "id": "c5714747",
   "metadata": {
    "deletable": false,
    "editable": false
   },
   "source": [
    "**Задание 14. Обработайте неявные дубликаты в столбце `education`. В этом столбце есть одни и те же значения, но записанные по-разному: с использованием заглавных и строчных букв. Приведите их к нижнему регистру.**"
   ]
  },
  {
   "cell_type": "code",
   "execution_count": 14,
   "id": "9b464b88",
   "metadata": {
    "deletable": false
   },
   "outputs": [],
   "source": [
    "data['education'] = data['education'].str.lower()"
   ]
  },
  {
   "cell_type": "markdown",
   "id": "7b98a3ad",
   "metadata": {
    "deletable": false,
    "editable": false,
    "id": "dc587695"
   },
   "source": [
    "**Задание 15. Выведите на экран количество строк-дубликатов в данных. Если такие строки присутствуют, удалите их.**"
   ]
  },
  {
   "cell_type": "code",
   "execution_count": 15,
   "id": "fba64e4e",
   "metadata": {
    "deletable": false,
    "id": "3ee445e4",
    "outputId": "9684deba-1934-42d1-99e1-cda61740f822"
   },
   "outputs": [
    {
     "data": {
      "text/plain": [
       "71"
      ]
     },
     "execution_count": 15,
     "metadata": {},
     "output_type": "execute_result"
    }
   ],
   "source": [
    "data.duplicated().sum()"
   ]
  },
  {
   "cell_type": "code",
   "execution_count": 16,
   "id": "8d78f39d",
   "metadata": {
    "deletable": false,
    "id": "8575fe05"
   },
   "outputs": [],
   "source": [
    "data = data.drop_duplicates()"
   ]
  },
  {
   "cell_type": "markdown",
   "id": "3ab4c361",
   "metadata": {
    "deletable": false,
    "editable": false,
    "id": "9904cf55"
   },
   "source": [
    "### Категоризация данных"
   ]
  },
  {
   "cell_type": "markdown",
   "id": "7983cc8b",
   "metadata": {
    "deletable": false,
    "editable": false,
    "id": "72fcc8a2"
   },
   "source": [
    "**Задание 16. На основании диапазонов, указанных ниже, создайте в датафрейме `data` столбец `total_income_category` с категориями:**\n",
    "\n",
    "- 0–30000 — `'E'`;\n",
    "- 30001–50000 — `'D'`;\n",
    "- 50001–200000 — `'C'`;\n",
    "- 200001–1000000 — `'B'`;\n",
    "- 1000001 и выше — `'A'`.\n",
    "\n",
    "\n",
    "**Например, кредитополучателю с доходом 25000 нужно назначить категорию `'E'`, а клиенту, получающему 235000, — `'B'`. Используйте собственную функцию с именем `categorize_income()` и метод `apply()`.**"
   ]
  },
  {
   "cell_type": "code",
   "execution_count": 17,
   "id": "2b5c3c1a",
   "metadata": {
    "deletable": false,
    "id": "e1771346"
   },
   "outputs": [],
   "source": [
    "def categorize_income(income):\n",
    "    try:\n",
    "        if 0 <= income <= 30000:\n",
    "            return 'E'\n",
    "        elif 30001 <= income <= 50000:\n",
    "            return 'D'\n",
    "        elif 50001 <= income <= 200000:\n",
    "            return 'C'\n",
    "        elif 200001 <= income <= 1000000:\n",
    "            return 'B'\n",
    "        elif income >= 1000001:\n",
    "            return 'A'\n",
    "    except:\n",
    "        pass"
   ]
  },
  {
   "cell_type": "code",
   "execution_count": 18,
   "id": "682dd838",
   "metadata": {
    "deletable": false,
    "id": "d5f3586d"
   },
   "outputs": [],
   "source": [
    "data['total_income_category'] = data['total_income'].apply(categorize_income)"
   ]
  },
  {
   "cell_type": "markdown",
   "id": "c1f2c10f",
   "metadata": {
    "deletable": false,
    "editable": false,
    "id": "dde49b5c"
   },
   "source": [
    "**Задание 17. Выведите на экран перечень уникальных целей взятия кредита из столбца `purpose`.**"
   ]
  },
  {
   "cell_type": "code",
   "execution_count": 19,
   "id": "a11afbdf",
   "metadata": {
    "deletable": false,
    "id": "f67ce9b3",
    "outputId": "673c12d9-7d7e-4ae0-9812-c622c89dd244"
   },
   "outputs": [
    {
     "data": {
      "text/plain": [
       "array(['покупка жилья', 'приобретение автомобиля',\n",
       "       'дополнительное образование', 'сыграть свадьбу',\n",
       "       'операции с жильем', 'образование', 'на проведение свадьбы',\n",
       "       'покупка жилья для семьи', 'покупка недвижимости',\n",
       "       'покупка коммерческой недвижимости', 'покупка жилой недвижимости',\n",
       "       'строительство собственной недвижимости', 'недвижимость',\n",
       "       'строительство недвижимости', 'на покупку подержанного автомобиля',\n",
       "       'на покупку своего автомобиля',\n",
       "       'операции с коммерческой недвижимостью',\n",
       "       'строительство жилой недвижимости', 'жилье',\n",
       "       'операции со своей недвижимостью', 'автомобили',\n",
       "       'заняться образованием', 'сделка с подержанным автомобилем',\n",
       "       'получение образования', 'автомобиль', 'свадьба',\n",
       "       'получение дополнительного образования', 'покупка своего жилья',\n",
       "       'операции с недвижимостью', 'получение высшего образования',\n",
       "       'свой автомобиль', 'сделка с автомобилем',\n",
       "       'профильное образование', 'высшее образование',\n",
       "       'покупка жилья для сдачи', 'на покупку автомобиля', 'ремонт жилью',\n",
       "       'заняться высшим образованием'], dtype=object)"
      ]
     },
     "execution_count": 19,
     "metadata": {},
     "output_type": "execute_result"
    }
   ],
   "source": [
    "data['purpose'].unique()"
   ]
  },
  {
   "cell_type": "markdown",
   "id": "1ed1964d",
   "metadata": {
    "deletable": false,
    "editable": false,
    "id": "85d0aef0"
   },
   "source": [
    "**Задание 18. Создайте функцию, которая на основании данных из столбца `purpose` сформирует новый столбец `purpose_category`, в который войдут следующие категории:**\n",
    "\n",
    "- `'операции с автомобилем'`,\n",
    "- `'операции с недвижимостью'`,\n",
    "- `'проведение свадьбы'`,\n",
    "- `'получение образования'`.\n",
    "\n",
    "**Например, если в столбце `purpose` находится подстрока `'на покупку автомобиля'`, то в столбце `purpose_category` должна появиться строка `'операции с автомобилем'`.**\n",
    "\n",
    "**Используйте собственную функцию с именем `categorize_purpose()` и метод `apply()`. Изучите данные в столбце `purpose` и определите, какие подстроки помогут вам правильно определить категорию.**"
   ]
  },
  {
   "cell_type": "code",
   "execution_count": 20,
   "id": "a96c5121",
   "metadata": {
    "deletable": false,
    "id": "e149fab4"
   },
   "outputs": [],
   "source": [
    "def categorize_purpose(row):\n",
    "    try:\n",
    "        if 'автом' in row:\n",
    "            return 'операции с автомобилем'\n",
    "        elif 'жил' in row or 'недвиж' in row:\n",
    "            return 'операции с недвижимостью'\n",
    "        elif 'свад' in row:\n",
    "            return 'проведение свадьбы'\n",
    "        elif 'образов' in row:\n",
    "            return 'получение образования'\n",
    "    except:\n",
    "        return 'нет категории'"
   ]
  },
  {
   "cell_type": "code",
   "execution_count": 21,
   "id": "e0a20804",
   "metadata": {
    "deletable": false,
    "id": "bf36e69b"
   },
   "outputs": [],
   "source": [
    "data['purpose_category'] = data['purpose'].apply(categorize_purpose)"
   ]
  },
  {
   "cell_type": "markdown",
   "id": "aa7eee0b",
   "metadata": {
    "deletable": false,
    "editable": false,
    "id": "09b242bf"
   },
   "source": [
    "### Шаг 3. Исследуйте данные и ответьте на вопросы"
   ]
  },
  {
   "cell_type": "markdown",
   "id": "7c291887",
   "metadata": {
    "deletable": false,
    "editable": false,
    "id": "c5d66278"
   },
   "source": [
    "#### 3.1 Есть ли зависимость между количеством детей и возвратом кредита в срок?"
   ]
  },
  {
   "cell_type": "code",
   "execution_count": 22,
   "id": "bca22952",
   "metadata": {
    "deletable": false,
    "id": "2cacfc4a",
    "scrolled": true
   },
   "outputs": [],
   "source": [
    "# Ваш код будет здесь. Вы можете создавать новые ячейки.\n",
    "# группируем таблицу по количеству детей в семье и количеству клиентов банка с учетом возврата кредита в срок \n",
    "data_grouped_age = data.groupby(['children']).agg({'family_status_id': 'count', 'debt':'sum',})\n",
    "# Доля просрочек в каждой группе\n",
    "data_grouped_age['share_not_ret'] = data_grouped_age['debt'] / data_grouped_age['family_status_id']*100\n"
   ]
  },
  {
   "cell_type": "code",
   "execution_count": 23,
   "id": "e366aaaa",
   "metadata": {},
   "outputs": [
    {
     "data": {
      "text/html": [
       "<div>\n",
       "<style scoped>\n",
       "    .dataframe tbody tr th:only-of-type {\n",
       "        vertical-align: middle;\n",
       "    }\n",
       "\n",
       "    .dataframe tbody tr th {\n",
       "        vertical-align: top;\n",
       "    }\n",
       "\n",
       "    .dataframe thead th {\n",
       "        text-align: right;\n",
       "    }\n",
       "</style>\n",
       "<table border=\"1\" class=\"dataframe\">\n",
       "  <thead>\n",
       "    <tr style=\"text-align: right;\">\n",
       "      <th></th>\n",
       "      <th>family_status_id</th>\n",
       "      <th>debt</th>\n",
       "      <th>share_not_ret</th>\n",
       "    </tr>\n",
       "    <tr>\n",
       "      <th>children</th>\n",
       "      <th></th>\n",
       "      <th></th>\n",
       "      <th></th>\n",
       "    </tr>\n",
       "  </thead>\n",
       "  <tbody>\n",
       "    <tr>\n",
       "      <th>0</th>\n",
       "      <td>14091</td>\n",
       "      <td>1063</td>\n",
       "      <td>7.543822</td>\n",
       "    </tr>\n",
       "    <tr>\n",
       "      <th>1</th>\n",
       "      <td>4808</td>\n",
       "      <td>444</td>\n",
       "      <td>9.234609</td>\n",
       "    </tr>\n",
       "    <tr>\n",
       "      <th>2</th>\n",
       "      <td>2052</td>\n",
       "      <td>194</td>\n",
       "      <td>9.454191</td>\n",
       "    </tr>\n",
       "    <tr>\n",
       "      <th>3</th>\n",
       "      <td>330</td>\n",
       "      <td>27</td>\n",
       "      <td>8.181818</td>\n",
       "    </tr>\n",
       "    <tr>\n",
       "      <th>4</th>\n",
       "      <td>41</td>\n",
       "      <td>4</td>\n",
       "      <td>9.756098</td>\n",
       "    </tr>\n",
       "    <tr>\n",
       "      <th>5</th>\n",
       "      <td>9</td>\n",
       "      <td>0</td>\n",
       "      <td>0.000000</td>\n",
       "    </tr>\n",
       "  </tbody>\n",
       "</table>\n",
       "</div>"
      ],
      "text/plain": [
       "          family_status_id  debt  share_not_ret\n",
       "children                                       \n",
       "0                    14091  1063       7.543822\n",
       "1                     4808   444       9.234609\n",
       "2                     2052   194       9.454191\n",
       "3                      330    27       8.181818\n",
       "4                       41     4       9.756098\n",
       "5                        9     0       0.000000"
      ]
     },
     "execution_count": 23,
     "metadata": {},
     "output_type": "execute_result"
    }
   ],
   "source": [
    "# выводим таблицу сортируем по убыванию не возвращенных кредитов \n",
    "data_grouped_age.sort_values(by='debt', ascending=False)"
   ]
  },
  {
   "cell_type": "markdown",
   "id": "aa975954",
   "metadata": {
    "deletable": false,
    "id": "3a6b99ec"
   },
   "source": [
    "**Вывод:** Была выявлена зависимость между количеством детей у клиента и возвратом банковского кредита в срок.\n",
    "Данные таблицы говорят о том, что клиенты банка взявшие кредит и не имеющие детей, чаще исполняют свои кредитные обязательства перед банком в срок, чем клиенты банка взявшие кредиты и имеющие детей.\n",
    "\n",
    "\n",
    "Клиенты банка с одним или двумя детьми в семье не возвращают кредиты банку вовремя примерно с одинаковым процентом. Семья с одним ребенком это вторая крупная группа клиентов банка, в нее входит 4808 клиентов. Семья с двумя детьми третья группа по числености клиентов банка, в нее входит 2052 клиента.\n",
    "\n",
    "Клиенты банка в семье которых три ребенка, возвращают кредиты чаще чем семьи с одним ребенком, но \n",
    "данных клиенто всего 330. Чем меньше клиентов тем сильнее влиет каждый кредит возвращенный вовремя на долю возвратов на количество клиентов. \n",
    "\n",
    "Клиенты банка в семьях которых четыре ребенка, составляют 41 клиент банка. Эти клиенты имеют самый большой процент не возвращенных кредитов банка. При своей очень не большой числености как калиенты у банка, имеют самый большой процент не возвращенных вовремя кредитов.\n",
    "\n",
    "Клиенты банка с пятью детьми,вернули все кредиты вовремя, но данная группа состоит всего из 9 клиентов .Является самой малочисленной клиентской группой у банка. "
   ]
  },
  {
   "cell_type": "markdown",
   "id": "6a40956c",
   "metadata": {
    "deletable": false,
    "editable": false,
    "id": "97be82ca"
   },
   "source": [
    "#### 3.2 Есть ли зависимость между семейным положением и возвратом кредита в срок?"
   ]
  },
  {
   "cell_type": "code",
   "execution_count": 24,
   "id": "58086e26",
   "metadata": {},
   "outputs": [
    {
     "data": {
      "text/plain": [
       "array(['женат / замужем', 'гражданский брак', 'вдовец / вдова',\n",
       "       'в разводе', 'Не женат / не замужем'], dtype=object)"
      ]
     },
     "execution_count": 24,
     "metadata": {},
     "output_type": "execute_result"
    }
   ],
   "source": [
    "# Ваш код будет здесь. Вы можете создавать новые ячейки\n",
    "# Посмотрели сколько уникальных семейных статусов есть в таблице\n",
    "data['family_status'].unique()"
   ]
  },
  {
   "cell_type": "code",
   "execution_count": 25,
   "id": "8a85d85b",
   "metadata": {},
   "outputs": [],
   "source": [
    "# Сделали все буквы в названии семейных статусов строчными  \n",
    "data['family_status'] = data['family_status'].str.lower() "
   ]
  },
  {
   "cell_type": "code",
   "execution_count": 26,
   "id": "9a3515bd",
   "metadata": {},
   "outputs": [],
   "source": [
    "# Нашли зависимость между семейным положением и количеством клиентов в этих строках  и вовзратом кредита в срок\n",
    "data_grouped_fam_stat = data.groupby(['family_status']).agg({'family_status':'count',\n",
    "                                                                  'debt':'sum'})"
   ]
  },
  {
   "cell_type": "code",
   "execution_count": 27,
   "id": "d0d2ab61",
   "metadata": {},
   "outputs": [],
   "source": [
    "# Доля просрочек в каждой группе\n",
    "data_grouped_fam_stat['share_not_ret'] = data_grouped_fam_stat['debt'] / data_grouped_fam_stat['family_status']*100"
   ]
  },
  {
   "cell_type": "code",
   "execution_count": 28,
   "id": "2cdf469c",
   "metadata": {
    "deletable": false,
    "id": "dc3f7ee8"
   },
   "outputs": [
    {
     "data": {
      "text/html": [
       "<div>\n",
       "<style scoped>\n",
       "    .dataframe tbody tr th:only-of-type {\n",
       "        vertical-align: middle;\n",
       "    }\n",
       "\n",
       "    .dataframe tbody tr th {\n",
       "        vertical-align: top;\n",
       "    }\n",
       "\n",
       "    .dataframe thead th {\n",
       "        text-align: right;\n",
       "    }\n",
       "</style>\n",
       "<table border=\"1\" class=\"dataframe\">\n",
       "  <thead>\n",
       "    <tr style=\"text-align: right;\">\n",
       "      <th></th>\n",
       "      <th>family_status</th>\n",
       "      <th>debt</th>\n",
       "      <th>share_not_ret</th>\n",
       "    </tr>\n",
       "    <tr>\n",
       "      <th>family_status</th>\n",
       "      <th></th>\n",
       "      <th></th>\n",
       "      <th></th>\n",
       "    </tr>\n",
       "  </thead>\n",
       "  <tbody>\n",
       "    <tr>\n",
       "      <th>женат / замужем</th>\n",
       "      <td>12261</td>\n",
       "      <td>927</td>\n",
       "      <td>7.560558</td>\n",
       "    </tr>\n",
       "    <tr>\n",
       "      <th>гражданский брак</th>\n",
       "      <td>4134</td>\n",
       "      <td>385</td>\n",
       "      <td>9.313014</td>\n",
       "    </tr>\n",
       "    <tr>\n",
       "      <th>не женат / не замужем</th>\n",
       "      <td>2796</td>\n",
       "      <td>273</td>\n",
       "      <td>9.763948</td>\n",
       "    </tr>\n",
       "    <tr>\n",
       "      <th>в разводе</th>\n",
       "      <td>1189</td>\n",
       "      <td>84</td>\n",
       "      <td>7.064760</td>\n",
       "    </tr>\n",
       "    <tr>\n",
       "      <th>вдовец / вдова</th>\n",
       "      <td>951</td>\n",
       "      <td>63</td>\n",
       "      <td>6.624606</td>\n",
       "    </tr>\n",
       "  </tbody>\n",
       "</table>\n",
       "</div>"
      ],
      "text/plain": [
       "                       family_status  debt  share_not_ret\n",
       "family_status                                            \n",
       "женат / замужем                12261   927       7.560558\n",
       "гражданский брак                4134   385       9.313014\n",
       "не женат / не замужем           2796   273       9.763948\n",
       "в разводе                       1189    84       7.064760\n",
       "вдовец / вдова                   951    63       6.624606"
      ]
     },
     "execution_count": 28,
     "metadata": {},
     "output_type": "execute_result"
    }
   ],
   "source": [
    "# Вывели результат отсортировав его по убыванию \n",
    "data_grouped_fam_stat.sort_values(by='debt',ascending=False)"
   ]
  },
  {
   "cell_type": "markdown",
   "id": "779ad409",
   "metadata": {
    "deletable": false,
    "id": "1cef7837"
   },
   "source": [
    "**Вывод:** \n",
    "\n",
    "Была выявлена зависимость между семейным положеним клиентов и их возвратом кредита в срок.\n",
    " \n",
    "Группа клиентов банка с семейным статусом \"женат/замужем\" является самой большой, что состовляет 12261 человек. У данной группы клиентов бюанка процент невозвращенных кредитов вовремя составляет 7.56%.\n",
    "\n",
    "Группа клиентов банка с семейным статусом \"гражданский брак\" является второй по количеству взявших кредит, и состовляет 4134 человека. У данной группы клиентов процент кредитов, невозвращенных в срок, больше чем у клиентов банка с семейным статусом \"женат/замужем\", и состовляет 9.3%.\n",
    "\n",
    "Группа клиентов банка с семейным статусом \"не женат/ не замужем\", является третьей по количеству клиентов банка, и состовляет 2796 человек. Данная группа имееет самый большой процент невозвращенных кредитов вовремя, что состовляет 9.76% \n",
    "\n",
    "Группа клиентов банка с семейным статусом \"в разводе\", состоящая из 1189 клиентов, не возвращает кредиты вовремя, что составляет 7.06%.\n",
    "\n",
    "Группа клиентов банка с семейным статусом \"вдовец/вдова\" является самой малочисленной из всех представленных, и состоит из 951 клиента. Данная группа клиентов имеет самый низкий процент невозвращенных кредитов в срок, который состовляет 6.62%."
   ]
  },
  {
   "cell_type": "markdown",
   "id": "5ef26573",
   "metadata": {
    "deletable": false,
    "editable": false,
    "id": "1e8b2fca"
   },
   "source": [
    "#### 3.3 Есть ли зависимость между уровнем дохода и возвратом кредита в срок?"
   ]
  },
  {
   "cell_type": "code",
   "execution_count": 29,
   "id": "4a6c74c4",
   "metadata": {
    "deletable": false,
    "id": "cd7e3720"
   },
   "outputs": [],
   "source": [
    "# Ваш код будет здесь. Вы можете создавать новые ячейки\n",
    "# Нашли зависимость между уровне дохода и возратом кредита в срок \n",
    "# Для этого использовали ранее созданный столбец total_income_category,\n",
    "# который распределил доходы на группы(A,B,C,D,E)\n",
    "data_grouped_total_income = data.groupby(['total_income_category']).agg({'family_status_id': 'count',\n",
    "                                                                         'total_income':'median',\n",
    "                                                                         'debt':'sum'})"
   ]
  },
  {
   "cell_type": "code",
   "execution_count": 30,
   "id": "581e3487",
   "metadata": {
    "scrolled": true
   },
   "outputs": [],
   "source": [
    "# Доля просрочек в каждой группе\n",
    "data_grouped_total_income['share_not_ret'] = data_grouped_total_income['debt'] / data_grouped_total_income['total_income']*100"
   ]
  },
  {
   "cell_type": "code",
   "execution_count": 31,
   "id": "c0e7eb0f",
   "metadata": {},
   "outputs": [
    {
     "data": {
      "text/html": [
       "<div>\n",
       "<style scoped>\n",
       "    .dataframe tbody tr th:only-of-type {\n",
       "        vertical-align: middle;\n",
       "    }\n",
       "\n",
       "    .dataframe tbody tr th {\n",
       "        vertical-align: top;\n",
       "    }\n",
       "\n",
       "    .dataframe thead th {\n",
       "        text-align: right;\n",
       "    }\n",
       "</style>\n",
       "<table border=\"1\" class=\"dataframe\">\n",
       "  <thead>\n",
       "    <tr style=\"text-align: right;\">\n",
       "      <th></th>\n",
       "      <th>family_status_id</th>\n",
       "      <th>total_income</th>\n",
       "      <th>debt</th>\n",
       "      <th>share_not_ret</th>\n",
       "    </tr>\n",
       "    <tr>\n",
       "      <th>total_income_category</th>\n",
       "      <th></th>\n",
       "      <th></th>\n",
       "      <th></th>\n",
       "      <th></th>\n",
       "    </tr>\n",
       "  </thead>\n",
       "  <tbody>\n",
       "    <tr>\n",
       "      <th>A</th>\n",
       "      <td>25</td>\n",
       "      <td>1223042</td>\n",
       "      <td>2</td>\n",
       "      <td>0.000164</td>\n",
       "    </tr>\n",
       "    <tr>\n",
       "      <th>B</th>\n",
       "      <td>5014</td>\n",
       "      <td>257558</td>\n",
       "      <td>354</td>\n",
       "      <td>0.137445</td>\n",
       "    </tr>\n",
       "    <tr>\n",
       "      <th>C</th>\n",
       "      <td>15921</td>\n",
       "      <td>130355</td>\n",
       "      <td>1353</td>\n",
       "      <td>1.037935</td>\n",
       "    </tr>\n",
       "    <tr>\n",
       "      <th>D</th>\n",
       "      <td>349</td>\n",
       "      <td>43929</td>\n",
       "      <td>21</td>\n",
       "      <td>0.047804</td>\n",
       "    </tr>\n",
       "    <tr>\n",
       "      <th>E</th>\n",
       "      <td>22</td>\n",
       "      <td>26431</td>\n",
       "      <td>2</td>\n",
       "      <td>0.007567</td>\n",
       "    </tr>\n",
       "  </tbody>\n",
       "</table>\n",
       "</div>"
      ],
      "text/plain": [
       "                       family_status_id  total_income  debt  share_not_ret\n",
       "total_income_category                                                     \n",
       "A                                    25       1223042     2       0.000164\n",
       "B                                  5014        257558   354       0.137445\n",
       "C                                 15921        130355  1353       1.037935\n",
       "D                                   349         43929    21       0.047804\n",
       "E                                    22         26431     2       0.007567"
      ]
     },
     "execution_count": 31,
     "metadata": {},
     "output_type": "execute_result"
    }
   ],
   "source": [
    "# Выводим сгрупированную таблицу и сортируем по убыванию общего медианного дохода по категориям\n",
    "data_grouped_total_income.sort_values(by='total_income',ascending=False)"
   ]
  },
  {
   "cell_type": "markdown",
   "id": "a562ab26",
   "metadata": {
    "deletable": false,
    "id": "e8593def"
   },
   "source": [
    "**Вывод:** \n",
    "Группа 'С' имеет самое большое количество клиентов банка - 15921 человек со средним доходом 130355 рублей. Процент невозвращенных кредитов среди них составляет 1.03%.\n",
    "\n",
    "Группа 'B' состоит из 5014 клиентов банка при среднем доходе 257558 рублей. Процент невозвращенных кредитов среди них составляет 0.13%.\n",
    "\n",
    "Клиентов банка категории 'C' - 15921 человек, это больше, чем клиентов банка 'B'- 5014 человек. Но доход клиентов банка 'B'- 257558 рублей, что больше, чем клиентов 'C', где зарплата 130355 рублей.  Процент невозвращенных кредитов клиентами банка вовремя у клиентов группы'B' на 0.13% ниже, чем у клиентов банка группы 'C' 1.03%.\n",
    "\n",
    "Группы клиентов 'А', 'D', 'E' не были использованы при анализе. Так как в данных группах не достаточно клиентов банка для анализа.\n",
    "\n"
   ]
  },
  {
   "cell_type": "markdown",
   "id": "ae0e9955",
   "metadata": {
    "deletable": false,
    "editable": false,
    "id": "99ecbd1f"
   },
   "source": [
    "#### 3.4 Как разные цели кредита влияют на его возврат в срок?"
   ]
  },
  {
   "cell_type": "code",
   "execution_count": 32,
   "id": "45421b50",
   "metadata": {
    "deletable": false,
    "id": "2b687290"
   },
   "outputs": [],
   "source": [
    "# Ваш код будет здесь. Вы можете создавать новые ячейки.\n",
    "# Нашли зависимость между целями кредита и его возвратом в срок\n",
    "# Для этого использовали ранее сформированных столбец purpose_category\n",
    "# В purpose_category собранны все цели клиентов банка и разделены 4 категории по целям\n",
    "data_groupedpur = data.groupby(['purpose_category']).agg({'family_status_id': 'count', 'debt':'sum'})"
   ]
  },
  {
   "cell_type": "code",
   "execution_count": 33,
   "id": "daf73c7c",
   "metadata": {},
   "outputs": [],
   "source": [
    "# Доля просрочек в каждой группе\n",
    "data_groupedpur['share_not_ret'] = data_groupedpur['debt'] / data_groupedpur['family_status_id']*100"
   ]
  },
  {
   "cell_type": "code",
   "execution_count": 34,
   "id": "4b4c0cf2",
   "metadata": {},
   "outputs": [
    {
     "data": {
      "text/html": [
       "<div>\n",
       "<style scoped>\n",
       "    .dataframe tbody tr th:only-of-type {\n",
       "        vertical-align: middle;\n",
       "    }\n",
       "\n",
       "    .dataframe tbody tr th {\n",
       "        vertical-align: top;\n",
       "    }\n",
       "\n",
       "    .dataframe thead th {\n",
       "        text-align: right;\n",
       "    }\n",
       "</style>\n",
       "<table border=\"1\" class=\"dataframe\">\n",
       "  <thead>\n",
       "    <tr style=\"text-align: right;\">\n",
       "      <th></th>\n",
       "      <th>family_status_id</th>\n",
       "      <th>debt</th>\n",
       "      <th>share_not_ret</th>\n",
       "    </tr>\n",
       "    <tr>\n",
       "      <th>purpose_category</th>\n",
       "      <th></th>\n",
       "      <th></th>\n",
       "      <th></th>\n",
       "    </tr>\n",
       "  </thead>\n",
       "  <tbody>\n",
       "    <tr>\n",
       "      <th>операции с недвижимостью</th>\n",
       "      <td>10751</td>\n",
       "      <td>780</td>\n",
       "      <td>7.255139</td>\n",
       "    </tr>\n",
       "    <tr>\n",
       "      <th>операции с автомобилем</th>\n",
       "      <td>4279</td>\n",
       "      <td>400</td>\n",
       "      <td>9.347978</td>\n",
       "    </tr>\n",
       "    <tr>\n",
       "      <th>получение образования</th>\n",
       "      <td>3988</td>\n",
       "      <td>369</td>\n",
       "      <td>9.252758</td>\n",
       "    </tr>\n",
       "    <tr>\n",
       "      <th>проведение свадьбы</th>\n",
       "      <td>2313</td>\n",
       "      <td>183</td>\n",
       "      <td>7.911803</td>\n",
       "    </tr>\n",
       "  </tbody>\n",
       "</table>\n",
       "</div>"
      ],
      "text/plain": [
       "                          family_status_id  debt  share_not_ret\n",
       "purpose_category                                               \n",
       "операции с недвижимостью             10751   780       7.255139\n",
       "операции с автомобилем                4279   400       9.347978\n",
       "получение образования                 3988   369       9.252758\n",
       "проведение свадьбы                    2313   183       7.911803"
      ]
     },
     "execution_count": 34,
     "metadata": {},
     "output_type": "execute_result"
    }
   ],
   "source": [
    "# Выводим результа сортируем по убыванию \n",
    "data_groupedpur.sort_values(by='debt',ascending=False)"
   ]
  },
  {
   "cell_type": "markdown",
   "id": "5da4a0de",
   "metadata": {
    "deletable": false,
    "id": "b4bb2ce6"
   },
   "source": [
    "**Вывод:** \n",
    "Было выявлено как разные цели кредита влияют на его возврат в срок.\n",
    "Клиенты банка, которые взяли кредит на 'операции с недвижимостью', являются самой большой группой клиентов банка - 10751 человек. Данная группа показала низкий процент невозвратов кредитов в срок - 7.25%.\n",
    "\n",
    "Клиенты банка, которые бралил кредиты на 'операции с автомобилем' состовляют 4279 человек, их процент не возрата кредита - 9.34%. Клиенты банка взявшие кредит на 'получение образования' состовляют 3988 человек, их процент не возрата кредита - 9.25%. В данных группах количесво клиентов банка и процент невозвращенных кредитов в срок схож.\n",
    "\n",
    "\n",
    "Клиенты банка, которые брали кредиты на 'проведение свадьбы', составляет 2313 человек. Данные клиентыы не возвращают кредиты в срок 7.91%. Данный показатель является вторым в сравнении с клиентами банка, которые берут кредит на 'операции с недвижимостью'"
   ]
  },
  {
   "cell_type": "markdown",
   "id": "b4b2dbf3",
   "metadata": {
    "deletable": false,
    "editable": false,
    "id": "09c3ac4c"
   },
   "source": [
    "#### 3.5 Приведите возможные причины появления пропусков в исходных данных."
   ]
  },
  {
   "cell_type": "markdown",
   "id": "4a7f9b91",
   "metadata": {
    "deletable": false,
    "id": "9da2ceda"
   },
   "source": [
    "*Ответ:* \n",
    "Человеческий фактор,\n",
    "ошибки при выгрузке данных."
   ]
  },
  {
   "cell_type": "markdown",
   "id": "ad664526",
   "metadata": {
    "deletable": false,
    "editable": false,
    "id": "7b0487d6"
   },
   "source": [
    "#### 3.6 Объясните, почему заполнить пропуски медианным значением — лучшее решение для количественных переменных."
   ]
  },
  {
   "cell_type": "markdown",
   "id": "aa78dea8",
   "metadata": {
    "deletable": false,
    "id": "7ecf2b8e"
   },
   "source": [
    "*Ответ:*\n",
    "Заполнение медианным значением пропусков количественных переменных - лучшее решение, потому что так эти пропусти не могу влият на результат анализа данных и можно делать выводы, в которых нет аномальных значений.  "
   ]
  },
  {
   "cell_type": "markdown",
   "id": "c86573a5",
   "metadata": {
    "deletable": false,
    "editable": false,
    "id": "6db5255a"
   },
   "source": [
    "### Шаг 4: общий вывод."
   ]
  },
  {
   "cell_type": "markdown",
   "id": "4f8585a7",
   "metadata": {
    "deletable": false,
    "id": "bad65432"
   },
   "source": [
    "Напишите ваш общий вывод.\n",
    "Провели анализ данных клиентов банка по критериям\n",
    "- Количеством детей и возвратом кредита в срок\n",
    "- Семейные положение и возвратом кредита в срок\n",
    "- Уровнем дохода и возвратом кредита в срок\n",
    "- Цели кредита и влияние на его возврат в срок\n",
    "\n",
    "\n",
    "- Количеством детей и возвратом кредита в срок\n",
    "Была выявлена зависимость между количеством детей у клиента и возвратом банковского кредита в срок.\n",
    "Больше всего берут кредиты клиенты банка, которые не имеют детей, у данных клиентов самая низкий процент не возврата кредита в срок. Реже берут кредиты клиенты банка с 1-м, 2-мя, 4-мя детьми, но процент не возврата достаочной высокий более 9%.\n",
    "\n",
    "- Семейные положение и возвратом кредита в срок\n",
    "Была выявлена зависимость между семейный положением и возвратом кредита в срок. \n",
    "Клиенты банка, которые имеют семейное положение \"женат/замужем\", \"в разводе\", \"вдовец / вдова\", показывают низкие проценты по невовзрату кредитов в срок, не более 8%.\n",
    "Клиенты банка,которые имеют семейное положение \"гражданский брак\" или \"не женат / не замужем\" показывают проценты по невозврату кредита в срок более 9%.\n",
    "\n",
    "- Уровнем дохода и возвратом кредита в срок\n",
    "Была выявлена зависимость между доходом и возвратом кредита в срок\n",
    "Выявили две группу и зависимость между средним доходом клиента и возвратом клиентом кредита в срок\n",
    "Были рассмотрены две группы клиентов банка, поделенные по среднему доходу, на 'B' и 'С'.\n",
    "\n",
    "Процент не возврата кредита в срок у группы клиентов банка 'B', где 5014 человек со средний доходом 257558 рублей, состовляет 0.13%.\n",
    "\n",
    "Процеент не возврата кредиа в срок у группы клиентов банка 'C', где 15921 человек со средним доходом \n",
    "130355 рублей, состаляет 1%. \n",
    "\n",
    "В группе 'B' в три раза меньше количество клиентов банка, чем в группе 'C', и доход группы 'B' выше в два раза чем в группе 'C'. Группа 'B' выплачивает кредиты в срок, чаще чем группа 'C'.\n",
    "\n",
    "\n",
    "\n",
    "- Цели кредита и влияние на его возврат в срок\n",
    "Была выявлена зависимость между целью кредита и невозврата кредита в срок.\n",
    "\n",
    "Клиенты банка,которые берут кредиты на 'операции с недвижимостью', состовляет 10751 человек  и имею самую низкую просрочку по кредитам не выплаченным в срок, которая составляет 7.25%.\n",
    "\n",
    "Клиенов банка, которые берут кредиты 'операции с автомобилем' и 'получение образования', состовляет 4279 и 3988 человек, но данные клиенты банка, имеют самый высокий процент не выплаты кредитов в срок, который состовляет 9.34% и 9.25%.\n",
    "\n",
    "Клиенты банка, которые берут кредиты на 'проведение свадьбы', состовляет 2313 человек, данная группа является малочисленной из представленных выше, но выплаты по кредитам не в срок составляют 7.91%.\n",
    "\n",
    "\n"
   ]
  },
  {
   "cell_type": "code",
   "execution_count": null,
   "id": "b60e6dda",
   "metadata": {},
   "outputs": [],
   "source": []
  }
 ],
 "metadata": {
  "ExecuteTimeLog": [
   {
    "duration": 45,
    "start_time": "2023-01-01T08:52:04.393Z"
   },
   {
    "duration": 675,
    "start_time": "2023-01-01T08:52:15.237Z"
   },
   {
    "duration": 21,
    "start_time": "2023-01-01T08:52:15.914Z"
   },
   {
    "duration": 14,
    "start_time": "2023-01-01T08:52:15.936Z"
   },
   {
    "duration": 11,
    "start_time": "2023-01-01T08:52:15.952Z"
   },
   {
    "duration": 64,
    "start_time": "2023-01-01T08:52:15.964Z"
   },
   {
    "duration": 4,
    "start_time": "2023-01-01T08:52:16.029Z"
   },
   {
    "duration": 14,
    "start_time": "2023-01-01T08:52:16.035Z"
   },
   {
    "duration": 5,
    "start_time": "2023-01-01T08:52:16.051Z"
   },
   {
    "duration": 16,
    "start_time": "2023-01-01T08:52:16.058Z"
   },
   {
    "duration": 8,
    "start_time": "2023-01-01T08:52:16.077Z"
   },
   {
    "duration": 49,
    "start_time": "2023-01-01T08:52:16.086Z"
   },
   {
    "duration": 11,
    "start_time": "2023-01-01T08:52:16.136Z"
   },
   {
    "duration": 4,
    "start_time": "2023-01-01T08:52:16.149Z"
   },
   {
    "duration": 13,
    "start_time": "2023-01-01T08:52:16.155Z"
   },
   {
    "duration": 20,
    "start_time": "2023-01-01T08:52:16.170Z"
   },
   {
    "duration": 46,
    "start_time": "2023-01-01T08:52:16.191Z"
   },
   {
    "duration": 4,
    "start_time": "2023-01-01T08:52:16.238Z"
   },
   {
    "duration": 12,
    "start_time": "2023-01-01T08:52:16.244Z"
   },
   {
    "duration": 17,
    "start_time": "2023-01-01T08:52:16.258Z"
   },
   {
    "duration": 6,
    "start_time": "2023-01-01T08:52:16.277Z"
   },
   {
    "duration": 13,
    "start_time": "2023-01-01T08:52:16.284Z"
   },
   {
    "duration": 79,
    "start_time": "2023-01-01T08:52:16.299Z"
   },
   {
    "duration": 0,
    "start_time": "2023-01-01T08:52:16.380Z"
   },
   {
    "duration": 0,
    "start_time": "2023-01-01T08:52:16.381Z"
   },
   {
    "duration": 0,
    "start_time": "2023-01-01T08:52:16.382Z"
   },
   {
    "duration": 9,
    "start_time": "2023-01-01T08:52:30.598Z"
   },
   {
    "duration": 8,
    "start_time": "2023-01-01T08:52:45.458Z"
   },
   {
    "duration": 5,
    "start_time": "2023-01-01T08:53:01.672Z"
   },
   {
    "duration": 7,
    "start_time": "2023-01-01T08:53:36.928Z"
   },
   {
    "duration": 423,
    "start_time": "2023-01-01T08:53:56.766Z"
   },
   {
    "duration": 23,
    "start_time": "2023-01-01T08:53:57.191Z"
   },
   {
    "duration": 16,
    "start_time": "2023-01-01T08:53:57.215Z"
   },
   {
    "duration": 10,
    "start_time": "2023-01-01T08:53:57.234Z"
   },
   {
    "duration": 33,
    "start_time": "2023-01-01T08:53:57.246Z"
   },
   {
    "duration": 4,
    "start_time": "2023-01-01T08:53:57.280Z"
   },
   {
    "duration": 41,
    "start_time": "2023-01-01T08:53:57.285Z"
   },
   {
    "duration": 6,
    "start_time": "2023-01-01T08:53:57.328Z"
   },
   {
    "duration": 7,
    "start_time": "2023-01-01T08:53:57.335Z"
   },
   {
    "duration": 4,
    "start_time": "2023-01-01T08:53:57.346Z"
   },
   {
    "duration": 33,
    "start_time": "2023-01-01T08:53:57.351Z"
   },
   {
    "duration": 40,
    "start_time": "2023-01-01T08:53:57.386Z"
   },
   {
    "duration": 3,
    "start_time": "2023-01-01T08:53:57.428Z"
   },
   {
    "duration": 11,
    "start_time": "2023-01-01T08:53:57.433Z"
   },
   {
    "duration": 20,
    "start_time": "2023-01-01T08:53:57.446Z"
   },
   {
    "duration": 59,
    "start_time": "2023-01-01T08:53:57.467Z"
   },
   {
    "duration": 3,
    "start_time": "2023-01-01T08:53:57.528Z"
   },
   {
    "duration": 14,
    "start_time": "2023-01-01T08:53:57.533Z"
   },
   {
    "duration": 6,
    "start_time": "2023-01-01T08:53:57.548Z"
   },
   {
    "duration": 3,
    "start_time": "2023-01-01T08:53:57.556Z"
   },
   {
    "duration": 13,
    "start_time": "2023-01-01T08:53:57.560Z"
   },
   {
    "duration": 97,
    "start_time": "2023-01-01T08:53:57.574Z"
   },
   {
    "duration": 0,
    "start_time": "2023-01-01T08:53:57.672Z"
   },
   {
    "duration": 0,
    "start_time": "2023-01-01T08:53:57.674Z"
   },
   {
    "duration": 0,
    "start_time": "2023-01-01T08:53:57.674Z"
   },
   {
    "duration": 7,
    "start_time": "2023-01-01T08:54:01.774Z"
   },
   {
    "duration": 7,
    "start_time": "2023-01-01T08:54:16.247Z"
   },
   {
    "duration": 53,
    "start_time": "2023-01-01T09:01:35.148Z"
   },
   {
    "duration": 434,
    "start_time": "2023-01-01T09:04:31.550Z"
   },
   {
    "duration": 22,
    "start_time": "2023-01-01T09:04:31.986Z"
   },
   {
    "duration": 14,
    "start_time": "2023-01-01T09:04:32.009Z"
   },
   {
    "duration": 9,
    "start_time": "2023-01-01T09:04:32.025Z"
   },
   {
    "duration": 37,
    "start_time": "2023-01-01T09:04:32.036Z"
   },
   {
    "duration": 3,
    "start_time": "2023-01-01T09:04:32.074Z"
   },
   {
    "duration": 9,
    "start_time": "2023-01-01T09:04:32.079Z"
   },
   {
    "duration": 4,
    "start_time": "2023-01-01T09:04:32.089Z"
   },
   {
    "duration": 32,
    "start_time": "2023-01-01T09:04:32.094Z"
   },
   {
    "duration": 5,
    "start_time": "2023-01-01T09:04:32.128Z"
   },
   {
    "duration": 32,
    "start_time": "2023-01-01T09:04:32.135Z"
   },
   {
    "duration": 9,
    "start_time": "2023-01-01T09:04:32.169Z"
   },
   {
    "duration": 4,
    "start_time": "2023-01-01T09:04:32.221Z"
   },
   {
    "duration": 12,
    "start_time": "2023-01-01T09:04:32.226Z"
   },
   {
    "duration": 20,
    "start_time": "2023-01-01T09:04:32.240Z"
   },
   {
    "duration": 16,
    "start_time": "2023-01-01T09:04:32.261Z"
   },
   {
    "duration": 4,
    "start_time": "2023-01-01T09:04:32.278Z"
   },
   {
    "duration": 10,
    "start_time": "2023-01-01T09:04:32.321Z"
   },
   {
    "duration": 10,
    "start_time": "2023-01-01T09:04:32.333Z"
   },
   {
    "duration": 3,
    "start_time": "2023-01-01T09:04:32.345Z"
   },
   {
    "duration": 10,
    "start_time": "2023-01-01T09:04:32.349Z"
   },
   {
    "duration": 61,
    "start_time": "2023-01-01T09:04:32.361Z"
   },
   {
    "duration": 3,
    "start_time": "2023-01-01T09:04:32.423Z"
   },
   {
    "duration": 8,
    "start_time": "2023-01-01T09:04:32.427Z"
   },
   {
    "duration": 4,
    "start_time": "2023-01-01T09:04:32.436Z"
   },
   {
    "duration": 8,
    "start_time": "2023-01-01T09:07:31.328Z"
   },
   {
    "duration": 422,
    "start_time": "2023-01-01T09:13:42.267Z"
   },
   {
    "duration": 20,
    "start_time": "2023-01-01T09:13:42.692Z"
   },
   {
    "duration": 16,
    "start_time": "2023-01-01T09:13:42.714Z"
   },
   {
    "duration": 12,
    "start_time": "2023-01-01T09:13:42.733Z"
   },
   {
    "duration": 36,
    "start_time": "2023-01-01T09:13:42.747Z"
   },
   {
    "duration": 3,
    "start_time": "2023-01-01T09:13:42.785Z"
   },
   {
    "duration": 22,
    "start_time": "2023-01-01T09:13:42.790Z"
   },
   {
    "duration": 11,
    "start_time": "2023-01-01T09:13:42.813Z"
   },
   {
    "duration": 7,
    "start_time": "2023-01-01T09:13:42.825Z"
   },
   {
    "duration": 5,
    "start_time": "2023-01-01T09:13:42.834Z"
   },
   {
    "duration": 41,
    "start_time": "2023-01-01T09:13:42.841Z"
   },
   {
    "duration": 10,
    "start_time": "2023-01-01T09:13:42.884Z"
   },
   {
    "duration": 26,
    "start_time": "2023-01-01T09:13:42.895Z"
   },
   {
    "duration": 20,
    "start_time": "2023-01-01T09:13:42.923Z"
   },
   {
    "duration": 21,
    "start_time": "2023-01-01T09:13:42.945Z"
   },
   {
    "duration": 15,
    "start_time": "2023-01-01T09:13:42.968Z"
   },
   {
    "duration": 3,
    "start_time": "2023-01-01T09:13:42.984Z"
   },
   {
    "duration": 32,
    "start_time": "2023-01-01T09:13:42.989Z"
   },
   {
    "duration": 5,
    "start_time": "2023-01-01T09:13:43.023Z"
   },
   {
    "duration": 5,
    "start_time": "2023-01-01T09:13:43.029Z"
   },
   {
    "duration": 10,
    "start_time": "2023-01-01T09:13:43.035Z"
   },
   {
    "duration": 55,
    "start_time": "2023-01-01T09:13:43.046Z"
   },
   {
    "duration": 0,
    "start_time": "2023-01-01T09:13:43.102Z"
   },
   {
    "duration": 0,
    "start_time": "2023-01-01T09:13:43.103Z"
   },
   {
    "duration": 0,
    "start_time": "2023-01-01T09:13:43.105Z"
   },
   {
    "duration": 588,
    "start_time": "2023-01-01T09:13:50.467Z"
   },
   {
    "duration": 90,
    "start_time": "2023-01-01T09:15:41.977Z"
   },
   {
    "duration": 18,
    "start_time": "2023-01-01T09:15:58.147Z"
   },
   {
    "duration": 497,
    "start_time": "2023-01-01T09:16:03.044Z"
   },
   {
    "duration": 21,
    "start_time": "2023-01-01T09:16:03.543Z"
   },
   {
    "duration": 14,
    "start_time": "2023-01-01T09:16:03.566Z"
   },
   {
    "duration": 9,
    "start_time": "2023-01-01T09:16:03.582Z"
   },
   {
    "duration": 58,
    "start_time": "2023-01-01T09:16:03.593Z"
   },
   {
    "duration": 3,
    "start_time": "2023-01-01T09:16:03.653Z"
   },
   {
    "duration": 14,
    "start_time": "2023-01-01T09:16:03.658Z"
   },
   {
    "duration": 4,
    "start_time": "2023-01-01T09:16:03.674Z"
   },
   {
    "duration": 8,
    "start_time": "2023-01-01T09:16:03.680Z"
   },
   {
    "duration": 4,
    "start_time": "2023-01-01T09:16:03.690Z"
   },
   {
    "duration": 66,
    "start_time": "2023-01-01T09:16:03.696Z"
   },
   {
    "duration": 11,
    "start_time": "2023-01-01T09:16:03.763Z"
   },
   {
    "duration": 6,
    "start_time": "2023-01-01T09:16:03.776Z"
   },
   {
    "duration": 11,
    "start_time": "2023-01-01T09:16:03.784Z"
   },
   {
    "duration": 49,
    "start_time": "2023-01-01T09:16:03.796Z"
   },
   {
    "duration": 17,
    "start_time": "2023-01-01T09:16:03.847Z"
   },
   {
    "duration": 3,
    "start_time": "2023-01-01T09:16:03.865Z"
   },
   {
    "duration": 31,
    "start_time": "2023-01-01T09:16:03.870Z"
   },
   {
    "duration": 40,
    "start_time": "2023-01-01T09:16:03.902Z"
   },
   {
    "duration": 7,
    "start_time": "2023-01-01T09:16:03.944Z"
   },
   {
    "duration": 16,
    "start_time": "2023-01-01T09:16:03.953Z"
   },
   {
    "duration": 83,
    "start_time": "2023-01-01T09:16:03.971Z"
   },
   {
    "duration": 0,
    "start_time": "2023-01-01T09:16:04.056Z"
   },
   {
    "duration": 0,
    "start_time": "2023-01-01T09:16:04.057Z"
   },
   {
    "duration": 0,
    "start_time": "2023-01-01T09:16:04.058Z"
   },
   {
    "duration": 17,
    "start_time": "2023-01-01T09:18:20.796Z"
   },
   {
    "duration": 444,
    "start_time": "2023-01-01T09:18:32.073Z"
   },
   {
    "duration": 27,
    "start_time": "2023-01-01T09:18:32.519Z"
   },
   {
    "duration": 14,
    "start_time": "2023-01-01T09:18:32.547Z"
   },
   {
    "duration": 12,
    "start_time": "2023-01-01T09:18:32.564Z"
   },
   {
    "duration": 61,
    "start_time": "2023-01-01T09:18:32.578Z"
   },
   {
    "duration": 4,
    "start_time": "2023-01-01T09:18:32.640Z"
   },
   {
    "duration": 12,
    "start_time": "2023-01-01T09:18:32.645Z"
   },
   {
    "duration": 4,
    "start_time": "2023-01-01T09:18:32.659Z"
   },
   {
    "duration": 11,
    "start_time": "2023-01-01T09:18:32.664Z"
   },
   {
    "duration": 4,
    "start_time": "2023-01-01T09:18:32.678Z"
   },
   {
    "duration": 64,
    "start_time": "2023-01-01T09:18:32.683Z"
   },
   {
    "duration": 11,
    "start_time": "2023-01-01T09:18:32.749Z"
   },
   {
    "duration": 4,
    "start_time": "2023-01-01T09:18:32.762Z"
   },
   {
    "duration": 12,
    "start_time": "2023-01-01T09:18:32.768Z"
   },
   {
    "duration": 51,
    "start_time": "2023-01-01T09:18:32.782Z"
   },
   {
    "duration": 25,
    "start_time": "2023-01-01T09:18:32.835Z"
   },
   {
    "duration": 4,
    "start_time": "2023-01-01T09:18:32.862Z"
   },
   {
    "duration": 15,
    "start_time": "2023-01-01T09:18:32.868Z"
   },
   {
    "duration": 7,
    "start_time": "2023-01-01T09:18:32.885Z"
   },
   {
    "duration": 27,
    "start_time": "2023-01-01T09:18:32.894Z"
   },
   {
    "duration": 11,
    "start_time": "2023-01-01T09:18:32.923Z"
   },
   {
    "duration": 95,
    "start_time": "2023-01-01T09:18:32.936Z"
   },
   {
    "duration": 0,
    "start_time": "2023-01-01T09:18:33.033Z"
   },
   {
    "duration": 0,
    "start_time": "2023-01-01T09:18:33.035Z"
   },
   {
    "duration": 0,
    "start_time": "2023-01-01T09:18:33.036Z"
   },
   {
    "duration": 9,
    "start_time": "2023-01-01T09:21:07.418Z"
   },
   {
    "duration": 6,
    "start_time": "2023-01-01T09:38:32.647Z"
   },
   {
    "duration": 12,
    "start_time": "2023-01-01T09:39:58.198Z"
   },
   {
    "duration": 18,
    "start_time": "2023-01-01T09:41:28.637Z"
   },
   {
    "duration": 12,
    "start_time": "2023-01-01T09:41:57.271Z"
   },
   {
    "duration": 16,
    "start_time": "2023-01-01T09:42:24.223Z"
   },
   {
    "duration": 17,
    "start_time": "2023-01-01T09:42:27.519Z"
   },
   {
    "duration": 6,
    "start_time": "2023-01-01T09:42:58.313Z"
   },
   {
    "duration": 9,
    "start_time": "2023-01-01T09:43:21.485Z"
   },
   {
    "duration": 7,
    "start_time": "2023-01-01T09:43:47.244Z"
   },
   {
    "duration": 13,
    "start_time": "2023-01-01T09:44:57.305Z"
   },
   {
    "duration": 15,
    "start_time": "2023-01-01T09:45:25.547Z"
   },
   {
    "duration": 451,
    "start_time": "2023-01-01T09:45:30.159Z"
   },
   {
    "duration": 22,
    "start_time": "2023-01-01T09:45:30.611Z"
   },
   {
    "duration": 52,
    "start_time": "2023-01-01T09:45:30.635Z"
   },
   {
    "duration": 33,
    "start_time": "2023-01-01T09:45:30.689Z"
   },
   {
    "duration": 68,
    "start_time": "2023-01-01T09:45:30.724Z"
   },
   {
    "duration": 3,
    "start_time": "2023-01-01T09:45:30.794Z"
   },
   {
    "duration": 61,
    "start_time": "2023-01-01T09:45:30.798Z"
   },
   {
    "duration": 16,
    "start_time": "2023-01-01T09:45:30.861Z"
   },
   {
    "duration": 34,
    "start_time": "2023-01-01T09:45:30.878Z"
   },
   {
    "duration": 11,
    "start_time": "2023-01-01T09:45:30.914Z"
   },
   {
    "duration": 53,
    "start_time": "2023-01-01T09:45:30.926Z"
   },
   {
    "duration": 13,
    "start_time": "2023-01-01T09:45:30.981Z"
   },
   {
    "duration": 36,
    "start_time": "2023-01-01T09:45:30.996Z"
   },
   {
    "duration": 66,
    "start_time": "2023-01-01T09:45:31.034Z"
   },
   {
    "duration": 67,
    "start_time": "2023-01-01T09:45:31.102Z"
   },
   {
    "duration": 47,
    "start_time": "2023-01-01T09:45:31.171Z"
   },
   {
    "duration": 17,
    "start_time": "2023-01-01T09:45:31.220Z"
   },
   {
    "duration": 33,
    "start_time": "2023-01-01T09:45:31.238Z"
   },
   {
    "duration": 33,
    "start_time": "2023-01-01T09:45:31.272Z"
   },
   {
    "duration": 11,
    "start_time": "2023-01-01T09:45:31.307Z"
   },
   {
    "duration": 25,
    "start_time": "2023-01-01T09:45:31.320Z"
   },
   {
    "duration": 22,
    "start_time": "2023-01-01T09:45:31.347Z"
   },
   {
    "duration": 13,
    "start_time": "2023-01-01T09:45:31.371Z"
   },
   {
    "duration": 31,
    "start_time": "2023-01-01T09:45:31.386Z"
   },
   {
    "duration": 92,
    "start_time": "2023-01-01T09:45:31.419Z"
   },
   {
    "duration": 10,
    "start_time": "2023-01-01T09:45:56.435Z"
   },
   {
    "duration": 15,
    "start_time": "2023-01-01T09:46:01.892Z"
   },
   {
    "duration": 31,
    "start_time": "2023-01-01T09:46:16.728Z"
   },
   {
    "duration": 13,
    "start_time": "2023-01-01T09:46:43.048Z"
   },
   {
    "duration": 11,
    "start_time": "2023-01-01T09:46:53.643Z"
   },
   {
    "duration": 471,
    "start_time": "2023-01-01T09:47:50.261Z"
   },
   {
    "duration": 21,
    "start_time": "2023-01-01T09:47:50.734Z"
   },
   {
    "duration": 15,
    "start_time": "2023-01-01T09:47:50.757Z"
   },
   {
    "duration": 9,
    "start_time": "2023-01-01T09:47:50.774Z"
   },
   {
    "duration": 51,
    "start_time": "2023-01-01T09:47:50.784Z"
   },
   {
    "duration": 3,
    "start_time": "2023-01-01T09:47:50.837Z"
   },
   {
    "duration": 18,
    "start_time": "2023-01-01T09:47:50.841Z"
   },
   {
    "duration": 4,
    "start_time": "2023-01-01T09:47:50.860Z"
   },
   {
    "duration": 10,
    "start_time": "2023-01-01T09:47:50.866Z"
   },
   {
    "duration": 8,
    "start_time": "2023-01-01T09:47:50.879Z"
   },
   {
    "duration": 48,
    "start_time": "2023-01-01T09:47:50.889Z"
   },
   {
    "duration": 10,
    "start_time": "2023-01-01T09:47:50.939Z"
   },
   {
    "duration": 7,
    "start_time": "2023-01-01T09:47:50.951Z"
   },
   {
    "duration": 16,
    "start_time": "2023-01-01T09:47:50.960Z"
   },
   {
    "duration": 33,
    "start_time": "2023-01-01T09:47:50.977Z"
   },
   {
    "duration": 25,
    "start_time": "2023-01-01T09:47:51.012Z"
   },
   {
    "duration": 3,
    "start_time": "2023-01-01T09:47:51.039Z"
   },
   {
    "duration": 27,
    "start_time": "2023-01-01T09:47:51.044Z"
   },
   {
    "duration": 9,
    "start_time": "2023-01-01T09:47:51.072Z"
   },
   {
    "duration": 16,
    "start_time": "2023-01-01T09:47:51.082Z"
   },
   {
    "duration": 33,
    "start_time": "2023-01-01T09:47:51.100Z"
   },
   {
    "duration": 7,
    "start_time": "2023-01-01T09:47:51.135Z"
   },
   {
    "duration": 8,
    "start_time": "2023-01-01T09:47:51.144Z"
   },
   {
    "duration": 28,
    "start_time": "2023-01-01T09:47:51.153Z"
   },
   {
    "duration": 61,
    "start_time": "2023-01-01T09:47:51.183Z"
   },
   {
    "duration": 2,
    "start_time": "2023-01-01T09:49:12.856Z"
   },
   {
    "duration": 45,
    "start_time": "2023-01-01T09:49:14.146Z"
   },
   {
    "duration": 13,
    "start_time": "2023-01-01T09:49:19.088Z"
   },
   {
    "duration": 7,
    "start_time": "2023-01-01T09:50:53.557Z"
   },
   {
    "duration": 24,
    "start_time": "2023-01-01T09:52:23.008Z"
   },
   {
    "duration": 9,
    "start_time": "2023-01-01T09:52:45.586Z"
   },
   {
    "duration": 11,
    "start_time": "2023-01-01T09:52:48.730Z"
   },
   {
    "duration": 25,
    "start_time": "2023-01-01T09:52:56.561Z"
   },
   {
    "duration": 12,
    "start_time": "2023-01-01T09:53:56.726Z"
   },
   {
    "duration": 12,
    "start_time": "2023-01-01T09:54:04.110Z"
   },
   {
    "duration": 17,
    "start_time": "2023-01-01T09:54:10.385Z"
   },
   {
    "duration": 29,
    "start_time": "2023-01-01T09:54:19.341Z"
   },
   {
    "duration": 23,
    "start_time": "2023-01-01T09:54:42.597Z"
   },
   {
    "duration": 52,
    "start_time": "2023-01-01T09:54:58.051Z"
   },
   {
    "duration": 6,
    "start_time": "2023-01-01T09:55:03.299Z"
   },
   {
    "duration": 6,
    "start_time": "2023-01-01T09:55:16.306Z"
   },
   {
    "duration": 420,
    "start_time": "2023-01-01T09:55:20.568Z"
   },
   {
    "duration": 20,
    "start_time": "2023-01-01T09:55:20.990Z"
   },
   {
    "duration": 14,
    "start_time": "2023-01-01T09:55:21.012Z"
   },
   {
    "duration": 11,
    "start_time": "2023-01-01T09:55:21.027Z"
   },
   {
    "duration": 36,
    "start_time": "2023-01-01T09:55:21.039Z"
   },
   {
    "duration": 3,
    "start_time": "2023-01-01T09:55:21.077Z"
   },
   {
    "duration": 13,
    "start_time": "2023-01-01T09:55:21.082Z"
   },
   {
    "duration": 4,
    "start_time": "2023-01-01T09:55:21.096Z"
   },
   {
    "duration": 24,
    "start_time": "2023-01-01T09:55:21.101Z"
   },
   {
    "duration": 5,
    "start_time": "2023-01-01T09:55:21.128Z"
   },
   {
    "duration": 36,
    "start_time": "2023-01-01T09:55:21.134Z"
   },
   {
    "duration": 9,
    "start_time": "2023-01-01T09:55:21.171Z"
   },
   {
    "duration": 5,
    "start_time": "2023-01-01T09:55:21.182Z"
   },
   {
    "duration": 12,
    "start_time": "2023-01-01T09:55:21.188Z"
   },
   {
    "duration": 19,
    "start_time": "2023-01-01T09:55:21.221Z"
   },
   {
    "duration": 16,
    "start_time": "2023-01-01T09:55:21.241Z"
   },
   {
    "duration": 4,
    "start_time": "2023-01-01T09:55:21.259Z"
   },
   {
    "duration": 15,
    "start_time": "2023-01-01T09:55:21.265Z"
   },
   {
    "duration": 18,
    "start_time": "2023-01-01T09:55:21.281Z"
   },
   {
    "duration": 27,
    "start_time": "2023-01-01T09:55:21.301Z"
   },
   {
    "duration": 30,
    "start_time": "2023-01-01T09:55:21.330Z"
   },
   {
    "duration": 15,
    "start_time": "2023-01-01T09:55:21.362Z"
   },
   {
    "duration": 14,
    "start_time": "2023-01-01T09:55:21.379Z"
   },
   {
    "duration": 18,
    "start_time": "2023-01-01T09:55:21.395Z"
   },
   {
    "duration": 81,
    "start_time": "2023-01-01T09:55:21.415Z"
   },
   {
    "duration": 11,
    "start_time": "2023-01-01T09:55:37.496Z"
   },
   {
    "duration": 26,
    "start_time": "2023-01-01T09:55:52.131Z"
   },
   {
    "duration": 11,
    "start_time": "2023-01-01T09:56:36.511Z"
   },
   {
    "duration": 11,
    "start_time": "2023-01-01T09:56:54.483Z"
   },
   {
    "duration": 12,
    "start_time": "2023-01-01T09:57:04.532Z"
   },
   {
    "duration": 12,
    "start_time": "2023-01-01T09:57:06.743Z"
   },
   {
    "duration": 434,
    "start_time": "2023-01-01T09:57:16.152Z"
   },
   {
    "duration": 23,
    "start_time": "2023-01-01T09:57:16.588Z"
   },
   {
    "duration": 13,
    "start_time": "2023-01-01T09:57:16.613Z"
   },
   {
    "duration": 9,
    "start_time": "2023-01-01T09:57:16.628Z"
   },
   {
    "duration": 33,
    "start_time": "2023-01-01T09:57:16.638Z"
   },
   {
    "duration": 3,
    "start_time": "2023-01-01T09:57:16.672Z"
   },
   {
    "duration": 14,
    "start_time": "2023-01-01T09:57:16.677Z"
   },
   {
    "duration": 6,
    "start_time": "2023-01-01T09:57:16.692Z"
   },
   {
    "duration": 8,
    "start_time": "2023-01-01T09:57:16.720Z"
   },
   {
    "duration": 6,
    "start_time": "2023-01-01T09:57:16.730Z"
   },
   {
    "duration": 43,
    "start_time": "2023-01-01T09:57:16.738Z"
   },
   {
    "duration": 8,
    "start_time": "2023-01-01T09:57:16.783Z"
   },
   {
    "duration": 5,
    "start_time": "2023-01-01T09:57:16.793Z"
   },
   {
    "duration": 21,
    "start_time": "2023-01-01T09:57:16.800Z"
   },
   {
    "duration": 25,
    "start_time": "2023-01-01T09:57:16.823Z"
   },
   {
    "duration": 16,
    "start_time": "2023-01-01T09:57:16.850Z"
   },
   {
    "duration": 3,
    "start_time": "2023-01-01T09:57:16.868Z"
   },
   {
    "duration": 16,
    "start_time": "2023-01-01T09:57:16.872Z"
   },
   {
    "duration": 9,
    "start_time": "2023-01-01T09:57:16.889Z"
   },
   {
    "duration": 22,
    "start_time": "2023-01-01T09:57:16.900Z"
   },
   {
    "duration": 12,
    "start_time": "2023-01-01T09:57:16.924Z"
   },
   {
    "duration": 9,
    "start_time": "2023-01-01T09:57:16.938Z"
   },
   {
    "duration": 13,
    "start_time": "2023-01-01T09:57:16.949Z"
   },
   {
    "duration": 9,
    "start_time": "2023-01-01T09:57:16.964Z"
   },
   {
    "duration": 106,
    "start_time": "2023-01-01T09:57:16.974Z"
   },
   {
    "duration": 12,
    "start_time": "2023-01-01T09:57:50.140Z"
   },
   {
    "duration": 12,
    "start_time": "2023-01-01T09:58:01.691Z"
   },
   {
    "duration": 11,
    "start_time": "2023-01-01T09:58:07.596Z"
   },
   {
    "duration": 10,
    "start_time": "2023-01-01T10:13:22.383Z"
   },
   {
    "duration": 9,
    "start_time": "2023-01-01T10:13:28.828Z"
   },
   {
    "duration": 13,
    "start_time": "2023-01-01T10:13:40.643Z"
   },
   {
    "duration": 66,
    "start_time": "2023-01-01T10:14:59.793Z"
   },
   {
    "duration": 66,
    "start_time": "2023-01-01T10:15:03.307Z"
   },
   {
    "duration": 13,
    "start_time": "2023-01-01T10:15:07.417Z"
   },
   {
    "duration": 32,
    "start_time": "2023-01-01T10:15:20.412Z"
   },
   {
    "duration": 9,
    "start_time": "2023-01-01T10:15:27.925Z"
   },
   {
    "duration": 469,
    "start_time": "2023-01-01T10:15:34.858Z"
   },
   {
    "duration": 27,
    "start_time": "2023-01-01T10:15:35.330Z"
   },
   {
    "duration": 29,
    "start_time": "2023-01-01T10:15:35.359Z"
   },
   {
    "duration": 22,
    "start_time": "2023-01-01T10:15:35.390Z"
   },
   {
    "duration": 40,
    "start_time": "2023-01-01T10:15:35.415Z"
   },
   {
    "duration": 3,
    "start_time": "2023-01-01T10:15:35.457Z"
   },
   {
    "duration": 12,
    "start_time": "2023-01-01T10:15:35.462Z"
   },
   {
    "duration": 5,
    "start_time": "2023-01-01T10:15:35.475Z"
   },
   {
    "duration": 10,
    "start_time": "2023-01-01T10:15:35.481Z"
   },
   {
    "duration": 18,
    "start_time": "2023-01-01T10:15:35.492Z"
   },
   {
    "duration": 37,
    "start_time": "2023-01-01T10:15:35.511Z"
   },
   {
    "duration": 9,
    "start_time": "2023-01-01T10:15:35.550Z"
   },
   {
    "duration": 6,
    "start_time": "2023-01-01T10:15:35.561Z"
   },
   {
    "duration": 15,
    "start_time": "2023-01-01T10:15:35.569Z"
   },
   {
    "duration": 35,
    "start_time": "2023-01-01T10:15:35.586Z"
   },
   {
    "duration": 17,
    "start_time": "2023-01-01T10:15:35.623Z"
   },
   {
    "duration": 3,
    "start_time": "2023-01-01T10:15:35.641Z"
   },
   {
    "duration": 15,
    "start_time": "2023-01-01T10:15:35.645Z"
   },
   {
    "duration": 5,
    "start_time": "2023-01-01T10:15:35.661Z"
   },
   {
    "duration": 5,
    "start_time": "2023-01-01T10:15:35.668Z"
   },
   {
    "duration": 11,
    "start_time": "2023-01-01T10:15:35.675Z"
   },
   {
    "duration": 34,
    "start_time": "2023-01-01T10:15:35.688Z"
   },
   {
    "duration": 11,
    "start_time": "2023-01-01T10:15:35.724Z"
   },
   {
    "duration": 8,
    "start_time": "2023-01-01T10:15:35.737Z"
   },
   {
    "duration": 10,
    "start_time": "2023-01-01T10:15:35.747Z"
   },
   {
    "duration": 15,
    "start_time": "2023-01-01T10:38:35.272Z"
   },
   {
    "duration": 15,
    "start_time": "2023-01-01T10:39:01.638Z"
   },
   {
    "duration": 60,
    "start_time": "2023-01-01T10:39:40.707Z"
   },
   {
    "duration": 3,
    "start_time": "2023-01-01T10:39:46.366Z"
   },
   {
    "duration": 10,
    "start_time": "2023-01-01T10:39:48.838Z"
   },
   {
    "duration": 430,
    "start_time": "2023-01-01T10:39:58.067Z"
   },
   {
    "duration": 23,
    "start_time": "2023-01-01T10:39:58.499Z"
   },
   {
    "duration": 34,
    "start_time": "2023-01-01T10:39:58.523Z"
   },
   {
    "duration": 13,
    "start_time": "2023-01-01T10:39:58.559Z"
   },
   {
    "duration": 36,
    "start_time": "2023-01-01T10:39:58.574Z"
   },
   {
    "duration": 10,
    "start_time": "2023-01-01T10:39:58.612Z"
   },
   {
    "duration": 12,
    "start_time": "2023-01-01T10:39:58.624Z"
   },
   {
    "duration": 4,
    "start_time": "2023-01-01T10:39:58.638Z"
   },
   {
    "duration": 8,
    "start_time": "2023-01-01T10:39:58.644Z"
   },
   {
    "duration": 4,
    "start_time": "2023-01-01T10:39:58.656Z"
   },
   {
    "duration": 60,
    "start_time": "2023-01-01T10:39:58.662Z"
   },
   {
    "duration": 11,
    "start_time": "2023-01-01T10:39:58.723Z"
   },
   {
    "duration": 5,
    "start_time": "2023-01-01T10:39:58.735Z"
   },
   {
    "duration": 12,
    "start_time": "2023-01-01T10:39:58.742Z"
   },
   {
    "duration": 18,
    "start_time": "2023-01-01T10:39:58.756Z"
   },
   {
    "duration": 15,
    "start_time": "2023-01-01T10:39:58.776Z"
   },
   {
    "duration": 34,
    "start_time": "2023-01-01T10:39:58.792Z"
   },
   {
    "duration": 26,
    "start_time": "2023-01-01T10:39:58.827Z"
   },
   {
    "duration": 24,
    "start_time": "2023-01-01T10:39:58.854Z"
   },
   {
    "duration": 30,
    "start_time": "2023-01-01T10:39:58.879Z"
   },
   {
    "duration": 34,
    "start_time": "2023-01-01T10:39:58.911Z"
   },
   {
    "duration": 25,
    "start_time": "2023-01-01T10:39:58.946Z"
   },
   {
    "duration": 11,
    "start_time": "2023-01-01T10:39:58.972Z"
   },
   {
    "duration": 6,
    "start_time": "2023-01-01T10:39:58.984Z"
   },
   {
    "duration": 14,
    "start_time": "2023-01-01T10:39:58.991Z"
   },
   {
    "duration": 9,
    "start_time": "2023-01-01T10:39:59.007Z"
   },
   {
    "duration": 21,
    "start_time": "2023-01-01T10:39:59.017Z"
   },
   {
    "duration": 18,
    "start_time": "2023-01-01T10:40:19.869Z"
   },
   {
    "duration": 461,
    "start_time": "2023-01-01T10:40:25.705Z"
   },
   {
    "duration": 22,
    "start_time": "2023-01-01T10:40:26.168Z"
   },
   {
    "duration": 29,
    "start_time": "2023-01-01T10:40:26.192Z"
   },
   {
    "duration": 10,
    "start_time": "2023-01-01T10:40:26.223Z"
   },
   {
    "duration": 34,
    "start_time": "2023-01-01T10:40:26.234Z"
   },
   {
    "duration": 4,
    "start_time": "2023-01-01T10:40:26.269Z"
   },
   {
    "duration": 11,
    "start_time": "2023-01-01T10:40:26.274Z"
   },
   {
    "duration": 4,
    "start_time": "2023-01-01T10:40:26.287Z"
   },
   {
    "duration": 32,
    "start_time": "2023-01-01T10:40:26.292Z"
   },
   {
    "duration": 4,
    "start_time": "2023-01-01T10:40:26.328Z"
   },
   {
    "duration": 43,
    "start_time": "2023-01-01T10:40:26.334Z"
   },
   {
    "duration": 9,
    "start_time": "2023-01-01T10:40:26.379Z"
   },
   {
    "duration": 4,
    "start_time": "2023-01-01T10:40:26.389Z"
   },
   {
    "duration": 30,
    "start_time": "2023-01-01T10:40:26.394Z"
   },
   {
    "duration": 24,
    "start_time": "2023-01-01T10:40:26.426Z"
   },
   {
    "duration": 15,
    "start_time": "2023-01-01T10:40:26.452Z"
   },
   {
    "duration": 3,
    "start_time": "2023-01-01T10:40:26.469Z"
   },
   {
    "duration": 11,
    "start_time": "2023-01-01T10:40:26.473Z"
   },
   {
    "duration": 5,
    "start_time": "2023-01-01T10:40:26.486Z"
   },
   {
    "duration": 8,
    "start_time": "2023-01-01T10:40:26.492Z"
   },
   {
    "duration": 9,
    "start_time": "2023-01-01T10:40:26.522Z"
   },
   {
    "duration": 10,
    "start_time": "2023-01-01T10:40:26.533Z"
   },
   {
    "duration": 11,
    "start_time": "2023-01-01T10:40:26.544Z"
   },
   {
    "duration": 23,
    "start_time": "2023-01-01T10:40:26.556Z"
   },
   {
    "duration": 15,
    "start_time": "2023-01-01T10:40:26.581Z"
   },
   {
    "duration": 25,
    "start_time": "2023-01-01T10:40:26.597Z"
   },
   {
    "duration": 11,
    "start_time": "2023-01-01T10:40:26.624Z"
   },
   {
    "duration": 492,
    "start_time": "2023-01-02T09:31:40.438Z"
   },
   {
    "duration": 21,
    "start_time": "2023-01-02T09:31:40.932Z"
   },
   {
    "duration": 13,
    "start_time": "2023-01-02T09:31:40.954Z"
   },
   {
    "duration": 9,
    "start_time": "2023-01-02T09:31:40.969Z"
   },
   {
    "duration": 47,
    "start_time": "2023-01-02T09:31:40.980Z"
   },
   {
    "duration": 3,
    "start_time": "2023-01-02T09:31:41.028Z"
   },
   {
    "duration": 10,
    "start_time": "2023-01-02T09:31:41.033Z"
   },
   {
    "duration": 5,
    "start_time": "2023-01-02T09:31:41.045Z"
   },
   {
    "duration": 12,
    "start_time": "2023-01-02T09:31:41.051Z"
   },
   {
    "duration": 4,
    "start_time": "2023-01-02T09:31:41.065Z"
   },
   {
    "duration": 32,
    "start_time": "2023-01-02T09:31:41.071Z"
   },
   {
    "duration": 10,
    "start_time": "2023-01-02T09:31:41.121Z"
   },
   {
    "duration": 4,
    "start_time": "2023-01-02T09:31:41.133Z"
   },
   {
    "duration": 13,
    "start_time": "2023-01-02T09:31:41.138Z"
   },
   {
    "duration": 22,
    "start_time": "2023-01-02T09:31:41.153Z"
   },
   {
    "duration": 17,
    "start_time": "2023-01-02T09:31:41.177Z"
   },
   {
    "duration": 28,
    "start_time": "2023-01-02T09:31:41.195Z"
   },
   {
    "duration": 11,
    "start_time": "2023-01-02T09:31:41.225Z"
   },
   {
    "duration": 7,
    "start_time": "2023-01-02T09:31:41.237Z"
   },
   {
    "duration": 4,
    "start_time": "2023-01-02T09:31:41.245Z"
   },
   {
    "duration": 12,
    "start_time": "2023-01-02T09:31:41.251Z"
   },
   {
    "duration": 7,
    "start_time": "2023-01-02T09:31:41.264Z"
   },
   {
    "duration": 92,
    "start_time": "2023-01-02T09:31:41.272Z"
   },
   {
    "duration": 0,
    "start_time": "2023-01-02T09:31:41.366Z"
   },
   {
    "duration": 0,
    "start_time": "2023-01-02T09:31:41.367Z"
   },
   {
    "duration": 0,
    "start_time": "2023-01-02T09:31:41.368Z"
   },
   {
    "duration": 0,
    "start_time": "2023-01-02T09:31:41.370Z"
   },
   {
    "duration": 0,
    "start_time": "2023-01-02T09:31:41.372Z"
   },
   {
    "duration": 0,
    "start_time": "2023-01-02T09:31:41.373Z"
   },
   {
    "duration": 6,
    "start_time": "2023-01-02T09:32:24.615Z"
   },
   {
    "duration": 6,
    "start_time": "2023-01-02T09:32:26.107Z"
   },
   {
    "duration": 7,
    "start_time": "2023-01-02T09:33:03.109Z"
   },
   {
    "duration": 6,
    "start_time": "2023-01-02T09:33:12.874Z"
   },
   {
    "duration": 7,
    "start_time": "2023-01-02T09:33:14.195Z"
   },
   {
    "duration": 7,
    "start_time": "2023-01-02T09:33:28.339Z"
   },
   {
    "duration": 7,
    "start_time": "2023-01-02T09:33:31.016Z"
   },
   {
    "duration": 7,
    "start_time": "2023-01-02T09:33:35.413Z"
   },
   {
    "duration": 6,
    "start_time": "2023-01-02T09:33:36.730Z"
   },
   {
    "duration": 7,
    "start_time": "2023-01-02T09:33:38.078Z"
   },
   {
    "duration": 5,
    "start_time": "2023-01-02T09:34:15.191Z"
   },
   {
    "duration": 12,
    "start_time": "2023-01-02T09:34:16.909Z"
   },
   {
    "duration": 8,
    "start_time": "2023-01-02T09:34:18.705Z"
   },
   {
    "duration": 6,
    "start_time": "2023-01-02T09:34:20.041Z"
   },
   {
    "duration": 10,
    "start_time": "2023-01-02T09:34:56.146Z"
   },
   {
    "duration": 11,
    "start_time": "2023-01-02T09:41:09.531Z"
   },
   {
    "duration": 12,
    "start_time": "2023-01-02T09:41:33.035Z"
   },
   {
    "duration": 13,
    "start_time": "2023-01-02T09:42:45.820Z"
   },
   {
    "duration": 11,
    "start_time": "2023-01-02T10:06:16.806Z"
   },
   {
    "duration": 13,
    "start_time": "2023-01-02T10:06:58.467Z"
   },
   {
    "duration": 9,
    "start_time": "2023-01-02T10:07:04.422Z"
   },
   {
    "duration": 7,
    "start_time": "2023-01-02T10:07:07.160Z"
   },
   {
    "duration": 70,
    "start_time": "2023-01-02T10:24:38.393Z"
   },
   {
    "duration": 7,
    "start_time": "2023-01-02T10:24:46.208Z"
   },
   {
    "duration": 6,
    "start_time": "2023-01-02T10:25:21.759Z"
   },
   {
    "duration": 7,
    "start_time": "2023-01-02T10:25:30.870Z"
   },
   {
    "duration": 9,
    "start_time": "2023-01-02T11:37:14.232Z"
   },
   {
    "duration": 8,
    "start_time": "2023-01-02T11:37:16.747Z"
   },
   {
    "duration": 8,
    "start_time": "2023-01-02T11:37:25.690Z"
   },
   {
    "duration": 521,
    "start_time": "2023-01-02T11:42:57.615Z"
   },
   {
    "duration": 29,
    "start_time": "2023-01-02T11:42:58.139Z"
   },
   {
    "duration": 21,
    "start_time": "2023-01-02T11:42:58.170Z"
   },
   {
    "duration": 30,
    "start_time": "2023-01-02T11:42:58.193Z"
   },
   {
    "duration": 38,
    "start_time": "2023-01-02T11:42:58.227Z"
   },
   {
    "duration": 3,
    "start_time": "2023-01-02T11:42:58.267Z"
   },
   {
    "duration": 11,
    "start_time": "2023-01-02T11:42:58.272Z"
   },
   {
    "duration": 5,
    "start_time": "2023-01-02T11:42:58.284Z"
   },
   {
    "duration": 40,
    "start_time": "2023-01-02T11:42:58.292Z"
   },
   {
    "duration": 5,
    "start_time": "2023-01-02T11:42:58.334Z"
   },
   {
    "duration": 48,
    "start_time": "2023-01-02T11:42:58.341Z"
   },
   {
    "duration": 36,
    "start_time": "2023-01-02T11:42:58.391Z"
   },
   {
    "duration": 4,
    "start_time": "2023-01-02T11:42:58.429Z"
   },
   {
    "duration": 24,
    "start_time": "2023-01-02T11:42:58.436Z"
   },
   {
    "duration": 22,
    "start_time": "2023-01-02T11:42:58.462Z"
   },
   {
    "duration": 40,
    "start_time": "2023-01-02T11:42:58.486Z"
   },
   {
    "duration": 3,
    "start_time": "2023-01-02T11:42:58.528Z"
   },
   {
    "duration": 18,
    "start_time": "2023-01-02T11:42:58.533Z"
   },
   {
    "duration": 19,
    "start_time": "2023-01-02T11:42:58.553Z"
   },
   {
    "duration": 5,
    "start_time": "2023-01-02T11:42:58.575Z"
   },
   {
    "duration": 16,
    "start_time": "2023-01-02T11:42:58.582Z"
   },
   {
    "duration": 27,
    "start_time": "2023-01-02T11:42:58.601Z"
   },
   {
    "duration": 9,
    "start_time": "2023-01-02T11:42:58.630Z"
   },
   {
    "duration": 14,
    "start_time": "2023-01-02T11:42:58.641Z"
   },
   {
    "duration": 17,
    "start_time": "2023-01-02T11:42:58.657Z"
   },
   {
    "duration": 11,
    "start_time": "2023-01-02T11:42:58.676Z"
   },
   {
    "duration": 38,
    "start_time": "2023-01-02T11:42:58.688Z"
   },
   {
    "duration": 16,
    "start_time": "2023-01-02T11:42:58.728Z"
   },
   {
    "duration": 10,
    "start_time": "2023-01-02T11:42:58.746Z"
   },
   {
    "duration": 10,
    "start_time": "2023-01-02T11:42:58.758Z"
   },
   {
    "duration": 8,
    "start_time": "2023-01-02T11:42:58.771Z"
   },
   {
    "duration": 456,
    "start_time": "2023-01-02T11:55:50.388Z"
   },
   {
    "duration": 23,
    "start_time": "2023-01-02T11:55:50.846Z"
   },
   {
    "duration": 14,
    "start_time": "2023-01-02T11:55:50.871Z"
   },
   {
    "duration": 8,
    "start_time": "2023-01-02T11:55:50.887Z"
   },
   {
    "duration": 60,
    "start_time": "2023-01-02T11:55:50.896Z"
   },
   {
    "duration": 4,
    "start_time": "2023-01-02T11:55:50.957Z"
   },
   {
    "duration": 14,
    "start_time": "2023-01-02T11:55:50.962Z"
   },
   {
    "duration": 4,
    "start_time": "2023-01-02T11:55:50.977Z"
   },
   {
    "duration": 10,
    "start_time": "2023-01-02T11:55:50.983Z"
   },
   {
    "duration": 9,
    "start_time": "2023-01-02T11:55:50.996Z"
   },
   {
    "duration": 40,
    "start_time": "2023-01-02T11:55:51.023Z"
   },
   {
    "duration": 7,
    "start_time": "2023-01-02T11:55:51.065Z"
   },
   {
    "duration": 4,
    "start_time": "2023-01-02T11:55:51.074Z"
   },
   {
    "duration": 16,
    "start_time": "2023-01-02T11:55:51.079Z"
   },
   {
    "duration": 48,
    "start_time": "2023-01-02T11:55:51.097Z"
   },
   {
    "duration": 16,
    "start_time": "2023-01-02T11:55:51.147Z"
   },
   {
    "duration": 3,
    "start_time": "2023-01-02T11:55:51.165Z"
   },
   {
    "duration": 14,
    "start_time": "2023-01-02T11:55:51.170Z"
   },
   {
    "duration": 6,
    "start_time": "2023-01-02T11:55:51.185Z"
   },
   {
    "duration": 7,
    "start_time": "2023-01-02T11:55:51.192Z"
   },
   {
    "duration": 13,
    "start_time": "2023-01-02T11:55:51.223Z"
   },
   {
    "duration": 10,
    "start_time": "2023-01-02T11:55:51.238Z"
   },
   {
    "duration": 8,
    "start_time": "2023-01-02T11:55:51.249Z"
   },
   {
    "duration": 9,
    "start_time": "2023-01-02T11:55:51.258Z"
   },
   {
    "duration": 15,
    "start_time": "2023-01-02T11:55:51.268Z"
   },
   {
    "duration": 12,
    "start_time": "2023-01-02T11:55:51.284Z"
   },
   {
    "duration": 28,
    "start_time": "2023-01-02T11:55:51.297Z"
   },
   {
    "duration": 18,
    "start_time": "2023-01-02T11:55:51.328Z"
   },
   {
    "duration": 7,
    "start_time": "2023-01-02T11:55:51.347Z"
   },
   {
    "duration": 11,
    "start_time": "2023-01-02T11:55:51.356Z"
   },
   {
    "duration": 12,
    "start_time": "2023-01-02T11:55:51.368Z"
   },
   {
    "duration": 10,
    "start_time": "2023-01-02T12:59:47.425Z"
   },
   {
    "duration": 10,
    "start_time": "2023-01-02T12:59:50.301Z"
   },
   {
    "duration": 499,
    "start_time": "2023-01-02T12:59:56.500Z"
   },
   {
    "duration": 21,
    "start_time": "2023-01-02T12:59:57.001Z"
   },
   {
    "duration": 14,
    "start_time": "2023-01-02T12:59:57.024Z"
   },
   {
    "duration": 9,
    "start_time": "2023-01-02T12:59:57.040Z"
   },
   {
    "duration": 32,
    "start_time": "2023-01-02T12:59:57.050Z"
   },
   {
    "duration": 4,
    "start_time": "2023-01-02T12:59:57.084Z"
   },
   {
    "duration": 35,
    "start_time": "2023-01-02T12:59:57.089Z"
   },
   {
    "duration": 18,
    "start_time": "2023-01-02T12:59:57.126Z"
   },
   {
    "duration": 7,
    "start_time": "2023-01-02T12:59:57.147Z"
   },
   {
    "duration": 4,
    "start_time": "2023-01-02T12:59:57.158Z"
   },
   {
    "duration": 34,
    "start_time": "2023-01-02T12:59:57.163Z"
   },
   {
    "duration": 30,
    "start_time": "2023-01-02T12:59:57.199Z"
   },
   {
    "duration": 3,
    "start_time": "2023-01-02T12:59:57.231Z"
   },
   {
    "duration": 13,
    "start_time": "2023-01-02T12:59:57.236Z"
   },
   {
    "duration": 25,
    "start_time": "2023-01-02T12:59:57.251Z"
   },
   {
    "duration": 17,
    "start_time": "2023-01-02T12:59:57.277Z"
   },
   {
    "duration": 28,
    "start_time": "2023-01-02T12:59:57.296Z"
   },
   {
    "duration": 13,
    "start_time": "2023-01-02T12:59:57.326Z"
   },
   {
    "duration": 7,
    "start_time": "2023-01-02T12:59:57.341Z"
   },
   {
    "duration": 5,
    "start_time": "2023-01-02T12:59:57.350Z"
   },
   {
    "duration": 13,
    "start_time": "2023-01-02T12:59:57.357Z"
   },
   {
    "duration": 10,
    "start_time": "2023-01-02T12:59:57.372Z"
   },
   {
    "duration": 42,
    "start_time": "2023-01-02T12:59:57.384Z"
   },
   {
    "duration": 9,
    "start_time": "2023-01-02T12:59:57.428Z"
   },
   {
    "duration": 16,
    "start_time": "2023-01-02T12:59:57.439Z"
   },
   {
    "duration": 10,
    "start_time": "2023-01-02T12:59:57.457Z"
   },
   {
    "duration": 7,
    "start_time": "2023-01-02T12:59:57.469Z"
   },
   {
    "duration": 47,
    "start_time": "2023-01-02T12:59:57.481Z"
   },
   {
    "duration": 11,
    "start_time": "2023-01-02T12:59:57.530Z"
   },
   {
    "duration": 14,
    "start_time": "2023-01-02T12:59:57.543Z"
   },
   {
    "duration": 10,
    "start_time": "2023-01-02T12:59:57.559Z"
   },
   {
    "duration": 7,
    "start_time": "2023-01-02T13:06:30.007Z"
   },
   {
    "duration": 6,
    "start_time": "2023-01-02T13:06:33.679Z"
   },
   {
    "duration": 425,
    "start_time": "2023-01-02T13:07:00.765Z"
   },
   {
    "duration": 20,
    "start_time": "2023-01-02T13:07:01.193Z"
   },
   {
    "duration": 16,
    "start_time": "2023-01-02T13:07:01.215Z"
   },
   {
    "duration": 10,
    "start_time": "2023-01-02T13:07:01.232Z"
   },
   {
    "duration": 31,
    "start_time": "2023-01-02T13:07:01.244Z"
   },
   {
    "duration": 4,
    "start_time": "2023-01-02T13:07:01.276Z"
   },
   {
    "duration": 13,
    "start_time": "2023-01-02T13:07:01.281Z"
   },
   {
    "duration": 5,
    "start_time": "2023-01-02T13:07:01.321Z"
   },
   {
    "duration": 13,
    "start_time": "2023-01-02T13:07:01.327Z"
   },
   {
    "duration": 9,
    "start_time": "2023-01-02T13:07:01.342Z"
   },
   {
    "duration": 33,
    "start_time": "2023-01-02T13:07:01.353Z"
   },
   {
    "duration": 9,
    "start_time": "2023-01-02T13:07:01.388Z"
   },
   {
    "duration": 4,
    "start_time": "2023-01-02T13:07:01.422Z"
   },
   {
    "duration": 17,
    "start_time": "2023-01-02T13:07:01.429Z"
   },
   {
    "duration": 30,
    "start_time": "2023-01-02T13:07:01.448Z"
   },
   {
    "duration": 17,
    "start_time": "2023-01-02T13:07:01.479Z"
   },
   {
    "duration": 4,
    "start_time": "2023-01-02T13:07:01.497Z"
   },
   {
    "duration": 25,
    "start_time": "2023-01-02T13:07:01.502Z"
   },
   {
    "duration": 9,
    "start_time": "2023-01-02T13:07:01.528Z"
   },
   {
    "duration": 4,
    "start_time": "2023-01-02T13:07:01.539Z"
   },
   {
    "duration": 17,
    "start_time": "2023-01-02T13:07:01.544Z"
   },
   {
    "duration": 8,
    "start_time": "2023-01-02T13:07:01.563Z"
   },
   {
    "duration": 9,
    "start_time": "2023-01-02T13:07:01.573Z"
   },
   {
    "duration": 40,
    "start_time": "2023-01-02T13:07:01.584Z"
   },
   {
    "duration": 12,
    "start_time": "2023-01-02T13:07:01.626Z"
   },
   {
    "duration": 17,
    "start_time": "2023-01-02T13:07:01.640Z"
   },
   {
    "duration": 17,
    "start_time": "2023-01-02T13:07:01.660Z"
   },
   {
    "duration": 12,
    "start_time": "2023-01-02T13:07:01.680Z"
   },
   {
    "duration": 29,
    "start_time": "2023-01-02T13:07:01.694Z"
   },
   {
    "duration": 10,
    "start_time": "2023-01-02T13:07:01.725Z"
   },
   {
    "duration": 10,
    "start_time": "2023-01-02T13:07:01.737Z"
   },
   {
    "duration": 96,
    "start_time": "2023-01-02T13:11:03.772Z"
   },
   {
    "duration": 7,
    "start_time": "2023-01-02T13:18:10.155Z"
   },
   {
    "duration": 4,
    "start_time": "2023-01-02T13:18:13.979Z"
   },
   {
    "duration": 6,
    "start_time": "2023-01-02T13:18:52.687Z"
   },
   {
    "duration": 7,
    "start_time": "2023-01-02T13:18:53.822Z"
   },
   {
    "duration": 72,
    "start_time": "2023-01-02T13:19:34.954Z"
   },
   {
    "duration": 3,
    "start_time": "2023-01-02T13:19:59.850Z"
   },
   {
    "duration": 7,
    "start_time": "2023-01-02T13:20:04.629Z"
   },
   {
    "duration": 7,
    "start_time": "2023-01-02T13:20:06.429Z"
   },
   {
    "duration": 82,
    "start_time": "2023-01-02T13:23:17.715Z"
   },
   {
    "duration": 10,
    "start_time": "2023-01-02T13:23:34.831Z"
   },
   {
    "duration": 8,
    "start_time": "2023-01-02T13:23:58.955Z"
   },
   {
    "duration": 462,
    "start_time": "2023-01-02T13:24:04.830Z"
   },
   {
    "duration": 22,
    "start_time": "2023-01-02T13:24:05.295Z"
   },
   {
    "duration": 15,
    "start_time": "2023-01-02T13:24:05.319Z"
   },
   {
    "duration": 9,
    "start_time": "2023-01-02T13:24:05.336Z"
   },
   {
    "duration": 32,
    "start_time": "2023-01-02T13:24:05.346Z"
   },
   {
    "duration": 4,
    "start_time": "2023-01-02T13:24:05.379Z"
   },
   {
    "duration": 39,
    "start_time": "2023-01-02T13:24:05.384Z"
   },
   {
    "duration": 5,
    "start_time": "2023-01-02T13:24:05.424Z"
   },
   {
    "duration": 15,
    "start_time": "2023-01-02T13:24:05.430Z"
   },
   {
    "duration": 4,
    "start_time": "2023-01-02T13:24:05.448Z"
   },
   {
    "duration": 34,
    "start_time": "2023-01-02T13:24:05.453Z"
   },
   {
    "duration": 33,
    "start_time": "2023-01-02T13:24:05.489Z"
   },
   {
    "duration": 4,
    "start_time": "2023-01-02T13:24:05.524Z"
   },
   {
    "duration": 15,
    "start_time": "2023-01-02T13:24:05.529Z"
   },
   {
    "duration": 20,
    "start_time": "2023-01-02T13:24:05.545Z"
   },
   {
    "duration": 16,
    "start_time": "2023-01-02T13:24:05.567Z"
   },
   {
    "duration": 4,
    "start_time": "2023-01-02T13:24:05.585Z"
   },
   {
    "duration": 11,
    "start_time": "2023-01-02T13:24:05.621Z"
   },
   {
    "duration": 9,
    "start_time": "2023-01-02T13:24:05.633Z"
   },
   {
    "duration": 4,
    "start_time": "2023-01-02T13:24:05.644Z"
   },
   {
    "duration": 14,
    "start_time": "2023-01-02T13:24:05.649Z"
   },
   {
    "duration": 9,
    "start_time": "2023-01-02T13:24:05.664Z"
   },
   {
    "duration": 14,
    "start_time": "2023-01-02T13:24:05.674Z"
   },
   {
    "duration": 34,
    "start_time": "2023-01-02T13:24:05.689Z"
   },
   {
    "duration": 14,
    "start_time": "2023-01-02T13:24:05.725Z"
   },
   {
    "duration": 8,
    "start_time": "2023-01-02T13:24:05.741Z"
   },
   {
    "duration": 11,
    "start_time": "2023-01-02T13:24:05.750Z"
   },
   {
    "duration": 14,
    "start_time": "2023-01-02T13:24:05.764Z"
   },
   {
    "duration": 9,
    "start_time": "2023-01-02T13:24:05.780Z"
   },
   {
    "duration": 47,
    "start_time": "2023-01-02T13:24:05.790Z"
   },
   {
    "duration": 7,
    "start_time": "2023-01-02T13:24:05.839Z"
   },
   {
    "duration": 9,
    "start_time": "2023-01-02T13:24:55.826Z"
   },
   {
    "duration": 7,
    "start_time": "2023-01-02T13:24:58.415Z"
   },
   {
    "duration": 406,
    "start_time": "2023-01-02T13:25:02.877Z"
   },
   {
    "duration": 22,
    "start_time": "2023-01-02T13:25:03.284Z"
   },
   {
    "duration": 16,
    "start_time": "2023-01-02T13:25:03.308Z"
   },
   {
    "duration": 9,
    "start_time": "2023-01-02T13:25:03.326Z"
   },
   {
    "duration": 30,
    "start_time": "2023-01-02T13:25:03.336Z"
   },
   {
    "duration": 3,
    "start_time": "2023-01-02T13:25:03.367Z"
   },
   {
    "duration": 14,
    "start_time": "2023-01-02T13:25:03.372Z"
   },
   {
    "duration": 35,
    "start_time": "2023-01-02T13:25:03.388Z"
   },
   {
    "duration": 9,
    "start_time": "2023-01-02T13:25:03.425Z"
   },
   {
    "duration": 5,
    "start_time": "2023-01-02T13:25:03.437Z"
   },
   {
    "duration": 34,
    "start_time": "2023-01-02T13:25:03.444Z"
   },
   {
    "duration": 9,
    "start_time": "2023-01-02T13:25:03.479Z"
   },
   {
    "duration": 34,
    "start_time": "2023-01-02T13:25:03.489Z"
   },
   {
    "duration": 15,
    "start_time": "2023-01-02T13:25:03.525Z"
   },
   {
    "duration": 23,
    "start_time": "2023-01-02T13:25:03.541Z"
   },
   {
    "duration": 17,
    "start_time": "2023-01-02T13:25:03.565Z"
   },
   {
    "duration": 4,
    "start_time": "2023-01-02T13:25:03.583Z"
   },
   {
    "duration": 44,
    "start_time": "2023-01-02T13:25:03.588Z"
   },
   {
    "duration": 19,
    "start_time": "2023-01-02T13:25:03.633Z"
   },
   {
    "duration": 4,
    "start_time": "2023-01-02T13:25:03.653Z"
   },
   {
    "duration": 13,
    "start_time": "2023-01-02T13:25:03.659Z"
   },
   {
    "duration": 12,
    "start_time": "2023-01-02T13:25:03.674Z"
   },
   {
    "duration": 13,
    "start_time": "2023-01-02T13:25:03.688Z"
   },
   {
    "duration": 10,
    "start_time": "2023-01-02T13:25:03.702Z"
   },
   {
    "duration": 17,
    "start_time": "2023-01-02T13:25:03.714Z"
   },
   {
    "duration": 14,
    "start_time": "2023-01-02T13:25:03.732Z"
   },
   {
    "duration": 8,
    "start_time": "2023-01-02T13:25:03.747Z"
   },
   {
    "duration": 9,
    "start_time": "2023-01-02T13:25:03.758Z"
   },
   {
    "duration": 8,
    "start_time": "2023-01-02T13:25:03.769Z"
   },
   {
    "duration": 10,
    "start_time": "2023-01-02T13:25:03.779Z"
   },
   {
    "duration": 7,
    "start_time": "2023-01-02T13:25:03.822Z"
   },
   {
    "duration": 76,
    "start_time": "2023-01-02T13:30:14.816Z"
   },
   {
    "duration": 62,
    "start_time": "2023-01-02T13:30:28.176Z"
   },
   {
    "duration": 10,
    "start_time": "2023-01-02T13:31:00.485Z"
   },
   {
    "duration": 9,
    "start_time": "2023-01-02T13:31:04.670Z"
   },
   {
    "duration": 8,
    "start_time": "2023-01-02T13:31:13.256Z"
   },
   {
    "duration": 460,
    "start_time": "2023-01-02T13:31:20.831Z"
   },
   {
    "duration": 24,
    "start_time": "2023-01-02T13:31:21.292Z"
   },
   {
    "duration": 14,
    "start_time": "2023-01-02T13:31:21.318Z"
   },
   {
    "duration": 8,
    "start_time": "2023-01-02T13:31:21.334Z"
   },
   {
    "duration": 33,
    "start_time": "2023-01-02T13:31:21.343Z"
   },
   {
    "duration": 3,
    "start_time": "2023-01-02T13:31:21.378Z"
   },
   {
    "duration": 10,
    "start_time": "2023-01-02T13:31:21.383Z"
   },
   {
    "duration": 31,
    "start_time": "2023-01-02T13:31:21.394Z"
   },
   {
    "duration": 11,
    "start_time": "2023-01-02T13:31:21.426Z"
   },
   {
    "duration": 5,
    "start_time": "2023-01-02T13:31:21.439Z"
   },
   {
    "duration": 33,
    "start_time": "2023-01-02T13:31:21.445Z"
   },
   {
    "duration": 8,
    "start_time": "2023-01-02T13:31:21.480Z"
   },
   {
    "duration": 33,
    "start_time": "2023-01-02T13:31:21.490Z"
   },
   {
    "duration": 11,
    "start_time": "2023-01-02T13:31:21.525Z"
   },
   {
    "duration": 24,
    "start_time": "2023-01-02T13:31:21.538Z"
   },
   {
    "duration": 19,
    "start_time": "2023-01-02T13:31:21.564Z"
   },
   {
    "duration": 4,
    "start_time": "2023-01-02T13:31:21.585Z"
   },
   {
    "duration": 17,
    "start_time": "2023-01-02T13:31:21.621Z"
   },
   {
    "duration": 16,
    "start_time": "2023-01-02T13:31:21.640Z"
   },
   {
    "duration": 4,
    "start_time": "2023-01-02T13:31:21.657Z"
   },
   {
    "duration": 10,
    "start_time": "2023-01-02T13:31:21.662Z"
   },
   {
    "duration": 8,
    "start_time": "2023-01-02T13:31:21.674Z"
   },
   {
    "duration": 9,
    "start_time": "2023-01-02T13:31:21.684Z"
   },
   {
    "duration": 32,
    "start_time": "2023-01-02T13:31:21.694Z"
   },
   {
    "duration": 12,
    "start_time": "2023-01-02T13:31:21.728Z"
   },
   {
    "duration": 10,
    "start_time": "2023-01-02T13:31:21.742Z"
   },
   {
    "duration": 7,
    "start_time": "2023-01-02T13:31:21.754Z"
   },
   {
    "duration": 8,
    "start_time": "2023-01-02T13:31:21.764Z"
   },
   {
    "duration": 7,
    "start_time": "2023-01-02T13:31:21.773Z"
   },
   {
    "duration": 47,
    "start_time": "2023-01-02T13:31:21.782Z"
   },
   {
    "duration": 7,
    "start_time": "2023-01-02T13:31:21.831Z"
   },
   {
    "duration": 8,
    "start_time": "2023-01-02T13:31:37.071Z"
   },
   {
    "duration": 9,
    "start_time": "2023-01-02T13:31:40.886Z"
   },
   {
    "duration": 9,
    "start_time": "2023-01-02T13:31:57.044Z"
   },
   {
    "duration": 8,
    "start_time": "2023-01-02T13:31:58.893Z"
   },
   {
    "duration": 427,
    "start_time": "2023-01-02T13:35:25.464Z"
   },
   {
    "duration": 23,
    "start_time": "2023-01-02T13:35:25.893Z"
   },
   {
    "duration": 16,
    "start_time": "2023-01-02T13:35:25.918Z"
   },
   {
    "duration": 10,
    "start_time": "2023-01-02T13:35:25.936Z"
   },
   {
    "duration": 30,
    "start_time": "2023-01-02T13:35:25.948Z"
   },
   {
    "duration": 3,
    "start_time": "2023-01-02T13:35:25.980Z"
   },
   {
    "duration": 39,
    "start_time": "2023-01-02T13:35:25.985Z"
   },
   {
    "duration": 8,
    "start_time": "2023-01-02T13:35:26.025Z"
   },
   {
    "duration": 8,
    "start_time": "2023-01-02T13:35:26.034Z"
   },
   {
    "duration": 8,
    "start_time": "2023-01-02T13:35:26.043Z"
   },
   {
    "duration": 33,
    "start_time": "2023-01-02T13:35:26.053Z"
   },
   {
    "duration": 39,
    "start_time": "2023-01-02T13:35:26.088Z"
   },
   {
    "duration": 4,
    "start_time": "2023-01-02T13:35:26.129Z"
   },
   {
    "duration": 14,
    "start_time": "2023-01-02T13:35:26.135Z"
   },
   {
    "duration": 23,
    "start_time": "2023-01-02T13:35:26.151Z"
   },
   {
    "duration": 49,
    "start_time": "2023-01-02T13:35:26.176Z"
   },
   {
    "duration": 4,
    "start_time": "2023-01-02T13:35:26.226Z"
   },
   {
    "duration": 11,
    "start_time": "2023-01-02T13:35:26.231Z"
   },
   {
    "duration": 8,
    "start_time": "2023-01-02T13:35:26.243Z"
   },
   {
    "duration": 7,
    "start_time": "2023-01-02T13:35:26.253Z"
   },
   {
    "duration": 11,
    "start_time": "2023-01-02T13:35:26.262Z"
   },
   {
    "duration": 93,
    "start_time": "2023-01-02T13:35:26.275Z"
   },
   {
    "duration": 0,
    "start_time": "2023-01-02T13:35:26.370Z"
   },
   {
    "duration": 0,
    "start_time": "2023-01-02T13:35:26.371Z"
   },
   {
    "duration": 0,
    "start_time": "2023-01-02T13:35:26.372Z"
   },
   {
    "duration": 0,
    "start_time": "2023-01-02T13:35:26.374Z"
   },
   {
    "duration": 0,
    "start_time": "2023-01-02T13:35:26.375Z"
   },
   {
    "duration": 0,
    "start_time": "2023-01-02T13:35:26.376Z"
   },
   {
    "duration": 0,
    "start_time": "2023-01-02T13:35:26.377Z"
   },
   {
    "duration": 0,
    "start_time": "2023-01-02T13:35:26.377Z"
   },
   {
    "duration": 0,
    "start_time": "2023-01-02T13:35:26.378Z"
   },
   {
    "duration": 16,
    "start_time": "2023-01-02T13:35:38.168Z"
   },
   {
    "duration": 16,
    "start_time": "2023-01-02T13:35:51.103Z"
   },
   {
    "duration": 469,
    "start_time": "2023-01-02T13:35:56.989Z"
   },
   {
    "duration": 23,
    "start_time": "2023-01-02T13:35:57.460Z"
   },
   {
    "duration": 16,
    "start_time": "2023-01-02T13:35:57.484Z"
   },
   {
    "duration": 25,
    "start_time": "2023-01-02T13:35:57.502Z"
   },
   {
    "duration": 36,
    "start_time": "2023-01-02T13:35:57.529Z"
   },
   {
    "duration": 4,
    "start_time": "2023-01-02T13:35:57.566Z"
   },
   {
    "duration": 10,
    "start_time": "2023-01-02T13:35:57.572Z"
   },
   {
    "duration": 40,
    "start_time": "2023-01-02T13:35:57.583Z"
   },
   {
    "duration": 17,
    "start_time": "2023-01-02T13:35:57.624Z"
   },
   {
    "duration": 3,
    "start_time": "2023-01-02T13:35:57.644Z"
   },
   {
    "duration": 33,
    "start_time": "2023-01-02T13:35:57.649Z"
   },
   {
    "duration": 10,
    "start_time": "2023-01-02T13:35:57.683Z"
   },
   {
    "duration": 3,
    "start_time": "2023-01-02T13:35:57.695Z"
   },
   {
    "duration": 32,
    "start_time": "2023-01-02T13:35:57.699Z"
   },
   {
    "duration": 22,
    "start_time": "2023-01-02T13:35:57.733Z"
   },
   {
    "duration": 17,
    "start_time": "2023-01-02T13:35:57.756Z"
   },
   {
    "duration": 3,
    "start_time": "2023-01-02T13:35:57.775Z"
   },
   {
    "duration": 43,
    "start_time": "2023-01-02T13:35:57.779Z"
   },
   {
    "duration": 6,
    "start_time": "2023-01-02T13:35:57.824Z"
   },
   {
    "duration": 6,
    "start_time": "2023-01-02T13:35:57.831Z"
   },
   {
    "duration": 17,
    "start_time": "2023-01-02T13:35:57.838Z"
   },
   {
    "duration": 91,
    "start_time": "2023-01-02T13:35:57.857Z"
   },
   {
    "duration": 0,
    "start_time": "2023-01-02T13:35:57.950Z"
   },
   {
    "duration": 0,
    "start_time": "2023-01-02T13:35:57.951Z"
   },
   {
    "duration": 0,
    "start_time": "2023-01-02T13:35:57.952Z"
   },
   {
    "duration": 0,
    "start_time": "2023-01-02T13:35:57.954Z"
   },
   {
    "duration": 0,
    "start_time": "2023-01-02T13:35:57.955Z"
   },
   {
    "duration": 0,
    "start_time": "2023-01-02T13:35:57.956Z"
   },
   {
    "duration": 0,
    "start_time": "2023-01-02T13:35:57.957Z"
   },
   {
    "duration": 0,
    "start_time": "2023-01-02T13:35:57.958Z"
   },
   {
    "duration": 0,
    "start_time": "2023-01-02T13:35:57.959Z"
   },
   {
    "duration": 8,
    "start_time": "2023-01-02T13:38:24.784Z"
   },
   {
    "duration": 13,
    "start_time": "2023-01-02T13:38:27.147Z"
   },
   {
    "duration": 10,
    "start_time": "2023-01-02T13:38:33.542Z"
   },
   {
    "duration": 11,
    "start_time": "2023-01-02T13:38:34.773Z"
   },
   {
    "duration": 10,
    "start_time": "2023-01-02T13:38:49.917Z"
   },
   {
    "duration": 7,
    "start_time": "2023-01-02T13:39:33.845Z"
   },
   {
    "duration": 7,
    "start_time": "2023-01-02T13:39:34.813Z"
   },
   {
    "duration": 23,
    "start_time": "2023-01-02T13:40:59.899Z"
   },
   {
    "duration": 23,
    "start_time": "2023-01-02T13:43:35.554Z"
   },
   {
    "duration": 8,
    "start_time": "2023-01-02T13:45:25.685Z"
   },
   {
    "duration": 8,
    "start_time": "2023-01-02T13:45:27.022Z"
   },
   {
    "duration": 7,
    "start_time": "2023-01-02T13:46:03.076Z"
   },
   {
    "duration": 8,
    "start_time": "2023-01-02T13:46:04.364Z"
   },
   {
    "duration": 10,
    "start_time": "2023-01-02T13:46:42.013Z"
   },
   {
    "duration": 12,
    "start_time": "2023-01-02T13:46:42.553Z"
   },
   {
    "duration": 7,
    "start_time": "2023-01-02T13:46:56.304Z"
   },
   {
    "duration": 5,
    "start_time": "2023-01-02T13:46:58.057Z"
   },
   {
    "duration": 12,
    "start_time": "2023-01-02T13:46:58.198Z"
   },
   {
    "duration": 10,
    "start_time": "2023-01-02T13:46:58.335Z"
   },
   {
    "duration": 6,
    "start_time": "2023-01-02T13:46:58.486Z"
   },
   {
    "duration": 9,
    "start_time": "2023-01-02T13:46:59.199Z"
   },
   {
    "duration": 7,
    "start_time": "2023-01-02T13:46:59.355Z"
   },
   {
    "duration": 7,
    "start_time": "2023-01-02T13:47:42.416Z"
   },
   {
    "duration": 14,
    "start_time": "2023-01-02T13:47:49.783Z"
   },
   {
    "duration": 6,
    "start_time": "2023-01-02T13:50:55.262Z"
   },
   {
    "duration": 66,
    "start_time": "2023-01-02T13:51:07.062Z"
   },
   {
    "duration": 8,
    "start_time": "2023-01-02T13:51:12.171Z"
   },
   {
    "duration": 10,
    "start_time": "2023-01-02T13:54:08.200Z"
   },
   {
    "duration": 7,
    "start_time": "2023-01-02T13:54:09.410Z"
   },
   {
    "duration": 8,
    "start_time": "2023-01-02T13:54:17.821Z"
   },
   {
    "duration": 8,
    "start_time": "2023-01-02T13:54:19.476Z"
   },
   {
    "duration": 7,
    "start_time": "2023-01-02T13:57:13.300Z"
   },
   {
    "duration": 7,
    "start_time": "2023-01-02T13:58:20.922Z"
   },
   {
    "duration": 8,
    "start_time": "2023-01-02T13:58:23.427Z"
   },
   {
    "duration": 8,
    "start_time": "2023-01-02T13:58:26.577Z"
   },
   {
    "duration": 10,
    "start_time": "2023-01-02T13:58:27.847Z"
   },
   {
    "duration": 9,
    "start_time": "2023-01-02T14:02:16.700Z"
   },
   {
    "duration": 7,
    "start_time": "2023-01-02T14:02:17.330Z"
   },
   {
    "duration": 4,
    "start_time": "2023-01-02T14:05:13.405Z"
   },
   {
    "duration": 8,
    "start_time": "2023-01-02T14:05:14.764Z"
   },
   {
    "duration": 8,
    "start_time": "2023-01-02T14:08:35.725Z"
   },
   {
    "duration": 6,
    "start_time": "2023-01-02T14:11:09.297Z"
   },
   {
    "duration": 7,
    "start_time": "2023-01-02T14:11:35.385Z"
   },
   {
    "duration": 8,
    "start_time": "2023-01-02T14:11:36.976Z"
   },
   {
    "duration": 7,
    "start_time": "2023-01-02T14:11:38.027Z"
   },
   {
    "duration": 10,
    "start_time": "2023-01-02T14:13:55.841Z"
   },
   {
    "duration": 4,
    "start_time": "2023-01-02T14:13:56.246Z"
   },
   {
    "duration": 9,
    "start_time": "2023-01-02T14:13:56.888Z"
   },
   {
    "duration": 8,
    "start_time": "2023-01-02T14:15:56.808Z"
   },
   {
    "duration": 7,
    "start_time": "2023-01-02T14:15:57.340Z"
   },
   {
    "duration": 5,
    "start_time": "2023-01-02T14:18:01.359Z"
   },
   {
    "duration": 8,
    "start_time": "2023-01-02T14:18:03.307Z"
   },
   {
    "duration": 6,
    "start_time": "2023-01-02T14:22:18.435Z"
   },
   {
    "duration": 21,
    "start_time": "2023-01-02T14:22:19.331Z"
   },
   {
    "duration": 12,
    "start_time": "2023-01-02T14:22:19.868Z"
   },
   {
    "duration": 3,
    "start_time": "2023-01-02T14:22:20.295Z"
   },
   {
    "duration": 8,
    "start_time": "2023-01-02T14:22:20.707Z"
   },
   {
    "duration": 45,
    "start_time": "2023-01-05T13:21:17.718Z"
   },
   {
    "duration": 6,
    "start_time": "2023-01-05T13:22:09.190Z"
   },
   {
    "duration": 6,
    "start_time": "2023-01-05T13:22:31.670Z"
   },
   {
    "duration": 6,
    "start_time": "2023-01-05T13:22:46.149Z"
   },
   {
    "duration": 6,
    "start_time": "2023-01-05T13:22:52.229Z"
   },
   {
    "duration": 696,
    "start_time": "2023-01-05T13:22:56.707Z"
   },
   {
    "duration": 20,
    "start_time": "2023-01-05T13:22:57.405Z"
   },
   {
    "duration": 14,
    "start_time": "2023-01-05T13:22:57.426Z"
   },
   {
    "duration": 9,
    "start_time": "2023-01-05T13:22:57.442Z"
   },
   {
    "duration": 35,
    "start_time": "2023-01-05T13:22:57.453Z"
   },
   {
    "duration": 3,
    "start_time": "2023-01-05T13:22:57.489Z"
   },
   {
    "duration": 29,
    "start_time": "2023-01-05T13:22:57.493Z"
   },
   {
    "duration": 4,
    "start_time": "2023-01-05T13:22:57.523Z"
   },
   {
    "duration": 18,
    "start_time": "2023-01-05T13:22:57.528Z"
   },
   {
    "duration": 5,
    "start_time": "2023-01-05T13:22:57.549Z"
   },
   {
    "duration": 36,
    "start_time": "2023-01-05T13:22:57.555Z"
   },
   {
    "duration": 32,
    "start_time": "2023-01-05T13:22:57.592Z"
   },
   {
    "duration": 4,
    "start_time": "2023-01-05T13:22:57.626Z"
   },
   {
    "duration": 24,
    "start_time": "2023-01-05T13:22:57.632Z"
   },
   {
    "duration": 29,
    "start_time": "2023-01-05T13:22:57.658Z"
   },
   {
    "duration": 33,
    "start_time": "2023-01-05T13:22:57.689Z"
   },
   {
    "duration": 4,
    "start_time": "2023-01-05T13:22:57.725Z"
   },
   {
    "duration": 19,
    "start_time": "2023-01-05T13:22:57.731Z"
   },
   {
    "duration": 7,
    "start_time": "2023-01-05T13:22:57.752Z"
   },
   {
    "duration": 4,
    "start_time": "2023-01-05T13:22:57.761Z"
   },
   {
    "duration": 12,
    "start_time": "2023-01-05T13:22:57.766Z"
   },
   {
    "duration": 9,
    "start_time": "2023-01-05T13:22:57.779Z"
   },
   {
    "duration": 32,
    "start_time": "2023-01-05T13:22:57.790Z"
   },
   {
    "duration": 12,
    "start_time": "2023-01-05T13:22:57.824Z"
   },
   {
    "duration": 20,
    "start_time": "2023-01-05T13:22:57.837Z"
   },
   {
    "duration": 17,
    "start_time": "2023-01-05T13:22:57.859Z"
   },
   {
    "duration": 4,
    "start_time": "2023-01-05T13:22:57.878Z"
   },
   {
    "duration": 13,
    "start_time": "2023-01-05T13:22:57.886Z"
   },
   {
    "duration": 28,
    "start_time": "2023-01-05T13:22:57.901Z"
   },
   {
    "duration": 4,
    "start_time": "2023-01-05T13:22:57.931Z"
   },
   {
    "duration": 11,
    "start_time": "2023-01-05T13:22:57.937Z"
   },
   {
    "duration": 15,
    "start_time": "2023-01-05T13:22:57.950Z"
   },
   {
    "duration": 3,
    "start_time": "2023-01-05T13:22:57.967Z"
   },
   {
    "duration": 12,
    "start_time": "2023-01-05T13:22:57.972Z"
   },
   {
    "duration": 46,
    "start_time": "2023-01-05T13:50:54.839Z"
   }
  ],
  "colab": {
   "name": "dpp_template_part2.ipynb",
   "provenance": []
  },
  "kernelspec": {
   "display_name": "Python 3 (ipykernel)",
   "language": "python",
   "name": "python3"
  },
  "language_info": {
   "codemirror_mode": {
    "name": "ipython",
    "version": 3
   },
   "file_extension": ".py",
   "mimetype": "text/x-python",
   "name": "python",
   "nbconvert_exporter": "python",
   "pygments_lexer": "ipython3",
   "version": "3.9.13"
  },
  "toc": {
   "base_numbering": 1,
   "nav_menu": {},
   "number_sections": true,
   "sideBar": true,
   "skip_h1_title": true,
   "title_cell": "Table of Contents",
   "title_sidebar": "Contents",
   "toc_cell": false,
   "toc_position": {},
   "toc_section_display": true,
   "toc_window_display": false
  }
 },
 "nbformat": 4,
 "nbformat_minor": 5
}
