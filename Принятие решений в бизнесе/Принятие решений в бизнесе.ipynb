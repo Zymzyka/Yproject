{
 "cells": [
  {
   "cell_type": "markdown",
   "id": "ae438b19",
   "metadata": {},
   "source": [
    "# Предобработка данных"
   ]
  },
  {
   "cell_type": "code",
   "execution_count": 1,
   "id": "2de0e628",
   "metadata": {},
   "outputs": [],
   "source": [
    "#Подключаем бибиотеки\n",
    "import pandas as pd\n",
    "import numpy as np\n",
    "import matplotlib.pyplot as plt\n",
    "import seaborn as sns\n",
    "import math\n",
    "import datetime as dt\n",
    "import scipy.stats as stats\n",
    "from scipy import stats as st"
   ]
  },
  {
   "cell_type": "code",
   "execution_count": 2,
   "id": "58181d53",
   "metadata": {},
   "outputs": [],
   "source": [
    "# Устанавливаем максимальную ширину столбца \n",
    "pd.set_option('display.max_colwidth', None)"
   ]
  },
  {
   "cell_type": "code",
   "execution_count": 3,
   "id": "45a2cb5e",
   "metadata": {},
   "outputs": [],
   "source": [
    "#Открыли дата сеты\n",
    "try:\n",
    "    hypothesis = pd.read_csv('/datasets/hypothesis.csv')\n",
    "    orders = pd.read_csv('/datasets/orders.csv')\n",
    "    visitors = pd.read_csv('/datasets/visitors.csv')\n",
    "    \n",
    "except:\n",
    "    hypothesis = pd.read_csv('hypothesis.csv')\n",
    "    orders = pd.read_csv('orders.csv')\n",
    "    visitors = pd.read_csv('visitors.csv')\n",
    "    "
   ]
  },
  {
   "cell_type": "code",
   "execution_count": 4,
   "id": "ab558f35",
   "metadata": {},
   "outputs": [
    {
     "name": "stdout",
     "output_type": "stream",
     "text": [
      "<class 'pandas.core.frame.DataFrame'>\n",
      "RangeIndex: 9 entries, 0 to 8\n",
      "Data columns (total 5 columns):\n",
      " #   Column      Non-Null Count  Dtype \n",
      "---  ------      --------------  ----- \n",
      " 0   Hypothesis  9 non-null      object\n",
      " 1   Reach       9 non-null      int64 \n",
      " 2   Impact      9 non-null      int64 \n",
      " 3   Confidence  9 non-null      int64 \n",
      " 4   Efforts     9 non-null      int64 \n",
      "dtypes: int64(4), object(1)\n",
      "memory usage: 488.0+ bytes\n"
     ]
    }
   ],
   "source": [
    "#Смотрим сколько строк, столбцов и типы данных\n",
    "hypothesis.info()"
   ]
  },
  {
   "cell_type": "code",
   "execution_count": 5,
   "id": "fe4c623c",
   "metadata": {},
   "outputs": [
    {
     "data": {
      "text/html": [
       "<div>\n",
       "<style scoped>\n",
       "    .dataframe tbody tr th:only-of-type {\n",
       "        vertical-align: middle;\n",
       "    }\n",
       "\n",
       "    .dataframe tbody tr th {\n",
       "        vertical-align: top;\n",
       "    }\n",
       "\n",
       "    .dataframe thead th {\n",
       "        text-align: right;\n",
       "    }\n",
       "</style>\n",
       "<table border=\"1\" class=\"dataframe\">\n",
       "  <thead>\n",
       "    <tr style=\"text-align: right;\">\n",
       "      <th></th>\n",
       "      <th>Hypothesis</th>\n",
       "      <th>Reach</th>\n",
       "      <th>Impact</th>\n",
       "      <th>Confidence</th>\n",
       "      <th>Efforts</th>\n",
       "    </tr>\n",
       "  </thead>\n",
       "  <tbody>\n",
       "    <tr>\n",
       "      <th>0</th>\n",
       "      <td>Добавить два новых канала привлечения трафика, что позволит привлекать на 30% больше пользователей</td>\n",
       "      <td>3</td>\n",
       "      <td>10</td>\n",
       "      <td>8</td>\n",
       "      <td>6</td>\n",
       "    </tr>\n",
       "    <tr>\n",
       "      <th>1</th>\n",
       "      <td>Запустить собственную службу доставки, что сократит срок доставки заказов</td>\n",
       "      <td>2</td>\n",
       "      <td>5</td>\n",
       "      <td>4</td>\n",
       "      <td>10</td>\n",
       "    </tr>\n",
       "    <tr>\n",
       "      <th>2</th>\n",
       "      <td>Добавить блоки рекомендаций товаров на сайт интернет магазина, чтобы повысить конверсию и средний чек заказа</td>\n",
       "      <td>8</td>\n",
       "      <td>3</td>\n",
       "      <td>7</td>\n",
       "      <td>3</td>\n",
       "    </tr>\n",
       "    <tr>\n",
       "      <th>3</th>\n",
       "      <td>Изменить структура категорий, что увеличит конверсию, т.к. пользователи быстрее найдут нужный товар</td>\n",
       "      <td>8</td>\n",
       "      <td>3</td>\n",
       "      <td>3</td>\n",
       "      <td>8</td>\n",
       "    </tr>\n",
       "    <tr>\n",
       "      <th>4</th>\n",
       "      <td>Изменить цвет фона главной страницы, чтобы увеличить вовлеченность пользователей</td>\n",
       "      <td>3</td>\n",
       "      <td>1</td>\n",
       "      <td>1</td>\n",
       "      <td>1</td>\n",
       "    </tr>\n",
       "  </tbody>\n",
       "</table>\n",
       "</div>"
      ],
      "text/plain": [
       "                                                                                                     Hypothesis  \\\n",
       "0            Добавить два новых канала привлечения трафика, что позволит привлекать на 30% больше пользователей   \n",
       "1                                     Запустить собственную службу доставки, что сократит срок доставки заказов   \n",
       "2  Добавить блоки рекомендаций товаров на сайт интернет магазина, чтобы повысить конверсию и средний чек заказа   \n",
       "3           Изменить структура категорий, что увеличит конверсию, т.к. пользователи быстрее найдут нужный товар   \n",
       "4                              Изменить цвет фона главной страницы, чтобы увеличить вовлеченность пользователей   \n",
       "\n",
       "   Reach  Impact  Confidence  Efforts  \n",
       "0      3      10           8        6  \n",
       "1      2       5           4       10  \n",
       "2      8       3           7        3  \n",
       "3      8       3           3        8  \n",
       "4      3       1           1        1  "
      ]
     },
     "execution_count": 5,
     "metadata": {},
     "output_type": "execute_result"
    }
   ],
   "source": [
    "# Смотрим первые 5 строк hypothesis\n",
    "hypothesis.head()"
   ]
  },
  {
   "cell_type": "code",
   "execution_count": 6,
   "id": "af5e2ca5",
   "metadata": {},
   "outputs": [
    {
     "data": {
      "text/html": [
       "<div>\n",
       "<style scoped>\n",
       "    .dataframe tbody tr th:only-of-type {\n",
       "        vertical-align: middle;\n",
       "    }\n",
       "\n",
       "    .dataframe tbody tr th {\n",
       "        vertical-align: top;\n",
       "    }\n",
       "\n",
       "    .dataframe thead th {\n",
       "        text-align: right;\n",
       "    }\n",
       "</style>\n",
       "<table border=\"1\" class=\"dataframe\">\n",
       "  <thead>\n",
       "    <tr style=\"text-align: right;\">\n",
       "      <th></th>\n",
       "      <th>hypothesis</th>\n",
       "      <th>reach</th>\n",
       "      <th>impact</th>\n",
       "      <th>confidence</th>\n",
       "      <th>efforts</th>\n",
       "    </tr>\n",
       "  </thead>\n",
       "  <tbody>\n",
       "    <tr>\n",
       "      <th>0</th>\n",
       "      <td>Добавить два новых канала привлечения трафика, что позволит привлекать на 30% больше пользователей</td>\n",
       "      <td>3</td>\n",
       "      <td>10</td>\n",
       "      <td>8</td>\n",
       "      <td>6</td>\n",
       "    </tr>\n",
       "    <tr>\n",
       "      <th>1</th>\n",
       "      <td>Запустить собственную службу доставки, что сократит срок доставки заказов</td>\n",
       "      <td>2</td>\n",
       "      <td>5</td>\n",
       "      <td>4</td>\n",
       "      <td>10</td>\n",
       "    </tr>\n",
       "    <tr>\n",
       "      <th>2</th>\n",
       "      <td>Добавить блоки рекомендаций товаров на сайт интернет магазина, чтобы повысить конверсию и средний чек заказа</td>\n",
       "      <td>8</td>\n",
       "      <td>3</td>\n",
       "      <td>7</td>\n",
       "      <td>3</td>\n",
       "    </tr>\n",
       "    <tr>\n",
       "      <th>3</th>\n",
       "      <td>Изменить структура категорий, что увеличит конверсию, т.к. пользователи быстрее найдут нужный товар</td>\n",
       "      <td>8</td>\n",
       "      <td>3</td>\n",
       "      <td>3</td>\n",
       "      <td>8</td>\n",
       "    </tr>\n",
       "    <tr>\n",
       "      <th>4</th>\n",
       "      <td>Изменить цвет фона главной страницы, чтобы увеличить вовлеченность пользователей</td>\n",
       "      <td>3</td>\n",
       "      <td>1</td>\n",
       "      <td>1</td>\n",
       "      <td>1</td>\n",
       "    </tr>\n",
       "  </tbody>\n",
       "</table>\n",
       "</div>"
      ],
      "text/plain": [
       "                                                                                                     hypothesis  \\\n",
       "0            Добавить два новых канала привлечения трафика, что позволит привлекать на 30% больше пользователей   \n",
       "1                                     Запустить собственную службу доставки, что сократит срок доставки заказов   \n",
       "2  Добавить блоки рекомендаций товаров на сайт интернет магазина, чтобы повысить конверсию и средний чек заказа   \n",
       "3           Изменить структура категорий, что увеличит конверсию, т.к. пользователи быстрее найдут нужный товар   \n",
       "4                              Изменить цвет фона главной страницы, чтобы увеличить вовлеченность пользователей   \n",
       "\n",
       "   reach  impact  confidence  efforts  \n",
       "0      3      10           8        6  \n",
       "1      2       5           4       10  \n",
       "2      8       3           7        3  \n",
       "3      8       3           3        8  \n",
       "4      3       1           1        1  "
      ]
     },
     "execution_count": 6,
     "metadata": {},
     "output_type": "execute_result"
    }
   ],
   "source": [
    "# Привели столбцы в общему виду нижнего регистра \n",
    "hypothesis = hypothesis.rename(str.lower, axis='columns')\n",
    "hypothesis.head()"
   ]
  },
  {
   "cell_type": "code",
   "execution_count": 7,
   "id": "3e79cf35",
   "metadata": {},
   "outputs": [
    {
     "name": "stdout",
     "output_type": "stream",
     "text": [
      "<class 'pandas.core.frame.DataFrame'>\n",
      "RangeIndex: 1197 entries, 0 to 1196\n",
      "Data columns (total 5 columns):\n",
      " #   Column         Non-Null Count  Dtype \n",
      "---  ------         --------------  ----- \n",
      " 0   transactionId  1197 non-null   int64 \n",
      " 1   visitorId      1197 non-null   int64 \n",
      " 2   date           1197 non-null   object\n",
      " 3   revenue        1197 non-null   int64 \n",
      " 4   group          1197 non-null   object\n",
      "dtypes: int64(3), object(2)\n",
      "memory usage: 46.9+ KB\n"
     ]
    }
   ],
   "source": [
    "#Смотрим сколько строк, столбцов и типы данных\n",
    "orders.info()"
   ]
  },
  {
   "cell_type": "code",
   "execution_count": 8,
   "id": "9ac4e430",
   "metadata": {},
   "outputs": [
    {
     "data": {
      "text/html": [
       "<div>\n",
       "<style scoped>\n",
       "    .dataframe tbody tr th:only-of-type {\n",
       "        vertical-align: middle;\n",
       "    }\n",
       "\n",
       "    .dataframe tbody tr th {\n",
       "        vertical-align: top;\n",
       "    }\n",
       "\n",
       "    .dataframe thead th {\n",
       "        text-align: right;\n",
       "    }\n",
       "</style>\n",
       "<table border=\"1\" class=\"dataframe\">\n",
       "  <thead>\n",
       "    <tr style=\"text-align: right;\">\n",
       "      <th></th>\n",
       "      <th>transactionId</th>\n",
       "      <th>visitorId</th>\n",
       "      <th>date</th>\n",
       "      <th>revenue</th>\n",
       "      <th>group</th>\n",
       "    </tr>\n",
       "  </thead>\n",
       "  <tbody>\n",
       "    <tr>\n",
       "      <th>0</th>\n",
       "      <td>3667963787</td>\n",
       "      <td>3312258926</td>\n",
       "      <td>2019-08-15</td>\n",
       "      <td>1650</td>\n",
       "      <td>B</td>\n",
       "    </tr>\n",
       "    <tr>\n",
       "      <th>1</th>\n",
       "      <td>2804400009</td>\n",
       "      <td>3642806036</td>\n",
       "      <td>2019-08-15</td>\n",
       "      <td>730</td>\n",
       "      <td>B</td>\n",
       "    </tr>\n",
       "    <tr>\n",
       "      <th>2</th>\n",
       "      <td>2961555356</td>\n",
       "      <td>4069496402</td>\n",
       "      <td>2019-08-15</td>\n",
       "      <td>400</td>\n",
       "      <td>A</td>\n",
       "    </tr>\n",
       "    <tr>\n",
       "      <th>3</th>\n",
       "      <td>3797467345</td>\n",
       "      <td>1196621759</td>\n",
       "      <td>2019-08-15</td>\n",
       "      <td>9759</td>\n",
       "      <td>B</td>\n",
       "    </tr>\n",
       "    <tr>\n",
       "      <th>4</th>\n",
       "      <td>2282983706</td>\n",
       "      <td>2322279887</td>\n",
       "      <td>2019-08-15</td>\n",
       "      <td>2308</td>\n",
       "      <td>B</td>\n",
       "    </tr>\n",
       "  </tbody>\n",
       "</table>\n",
       "</div>"
      ],
      "text/plain": [
       "   transactionId   visitorId        date  revenue group\n",
       "0     3667963787  3312258926  2019-08-15     1650     B\n",
       "1     2804400009  3642806036  2019-08-15      730     B\n",
       "2     2961555356  4069496402  2019-08-15      400     A\n",
       "3     3797467345  1196621759  2019-08-15     9759     B\n",
       "4     2282983706  2322279887  2019-08-15     2308     B"
      ]
     },
     "execution_count": 8,
     "metadata": {},
     "output_type": "execute_result"
    }
   ],
   "source": [
    "# Смотрим первые 5 строк orders\n",
    "orders.head()"
   ]
  },
  {
   "cell_type": "code",
   "execution_count": 9,
   "id": "051d6264",
   "metadata": {},
   "outputs": [
    {
     "data": {
      "text/html": [
       "<div>\n",
       "<style scoped>\n",
       "    .dataframe tbody tr th:only-of-type {\n",
       "        vertical-align: middle;\n",
       "    }\n",
       "\n",
       "    .dataframe tbody tr th {\n",
       "        vertical-align: top;\n",
       "    }\n",
       "\n",
       "    .dataframe thead th {\n",
       "        text-align: right;\n",
       "    }\n",
       "</style>\n",
       "<table border=\"1\" class=\"dataframe\">\n",
       "  <thead>\n",
       "    <tr style=\"text-align: right;\">\n",
       "      <th></th>\n",
       "      <th>transactionid</th>\n",
       "      <th>visitorid</th>\n",
       "      <th>date</th>\n",
       "      <th>revenue</th>\n",
       "      <th>group</th>\n",
       "    </tr>\n",
       "  </thead>\n",
       "  <tbody>\n",
       "    <tr>\n",
       "      <th>0</th>\n",
       "      <td>3667963787</td>\n",
       "      <td>3312258926</td>\n",
       "      <td>2019-08-15</td>\n",
       "      <td>1650</td>\n",
       "      <td>B</td>\n",
       "    </tr>\n",
       "    <tr>\n",
       "      <th>1</th>\n",
       "      <td>2804400009</td>\n",
       "      <td>3642806036</td>\n",
       "      <td>2019-08-15</td>\n",
       "      <td>730</td>\n",
       "      <td>B</td>\n",
       "    </tr>\n",
       "    <tr>\n",
       "      <th>2</th>\n",
       "      <td>2961555356</td>\n",
       "      <td>4069496402</td>\n",
       "      <td>2019-08-15</td>\n",
       "      <td>400</td>\n",
       "      <td>A</td>\n",
       "    </tr>\n",
       "    <tr>\n",
       "      <th>3</th>\n",
       "      <td>3797467345</td>\n",
       "      <td>1196621759</td>\n",
       "      <td>2019-08-15</td>\n",
       "      <td>9759</td>\n",
       "      <td>B</td>\n",
       "    </tr>\n",
       "    <tr>\n",
       "      <th>4</th>\n",
       "      <td>2282983706</td>\n",
       "      <td>2322279887</td>\n",
       "      <td>2019-08-15</td>\n",
       "      <td>2308</td>\n",
       "      <td>B</td>\n",
       "    </tr>\n",
       "  </tbody>\n",
       "</table>\n",
       "</div>"
      ],
      "text/plain": [
       "   transactionid   visitorid        date  revenue group\n",
       "0     3667963787  3312258926  2019-08-15     1650     B\n",
       "1     2804400009  3642806036  2019-08-15      730     B\n",
       "2     2961555356  4069496402  2019-08-15      400     A\n",
       "3     3797467345  1196621759  2019-08-15     9759     B\n",
       "4     2282983706  2322279887  2019-08-15     2308     B"
      ]
     },
     "execution_count": 9,
     "metadata": {},
     "output_type": "execute_result"
    }
   ],
   "source": [
    "# Привели столбцы в общему виду нижнего регистра \n",
    "orders = orders.rename(str.lower, axis='columns')\n",
    "orders.head()"
   ]
  },
  {
   "cell_type": "code",
   "execution_count": 10,
   "id": "72a54f35",
   "metadata": {},
   "outputs": [
    {
     "name": "stdout",
     "output_type": "stream",
     "text": [
      "<class 'pandas.core.frame.DataFrame'>\n",
      "RangeIndex: 62 entries, 0 to 61\n",
      "Data columns (total 3 columns):\n",
      " #   Column    Non-Null Count  Dtype \n",
      "---  ------    --------------  ----- \n",
      " 0   date      62 non-null     object\n",
      " 1   group     62 non-null     object\n",
      " 2   visitors  62 non-null     int64 \n",
      "dtypes: int64(1), object(2)\n",
      "memory usage: 1.6+ KB\n"
     ]
    }
   ],
   "source": [
    "#Смотрим сколько строк, столбцов и типы данных\n",
    "visitors.info()"
   ]
  },
  {
   "cell_type": "code",
   "execution_count": 11,
   "id": "e0a0728f",
   "metadata": {},
   "outputs": [
    {
     "data": {
      "text/html": [
       "<div>\n",
       "<style scoped>\n",
       "    .dataframe tbody tr th:only-of-type {\n",
       "        vertical-align: middle;\n",
       "    }\n",
       "\n",
       "    .dataframe tbody tr th {\n",
       "        vertical-align: top;\n",
       "    }\n",
       "\n",
       "    .dataframe thead th {\n",
       "        text-align: right;\n",
       "    }\n",
       "</style>\n",
       "<table border=\"1\" class=\"dataframe\">\n",
       "  <thead>\n",
       "    <tr style=\"text-align: right;\">\n",
       "      <th></th>\n",
       "      <th>date</th>\n",
       "      <th>group</th>\n",
       "      <th>visitors</th>\n",
       "    </tr>\n",
       "  </thead>\n",
       "  <tbody>\n",
       "    <tr>\n",
       "      <th>0</th>\n",
       "      <td>2019-08-01</td>\n",
       "      <td>A</td>\n",
       "      <td>719</td>\n",
       "    </tr>\n",
       "    <tr>\n",
       "      <th>1</th>\n",
       "      <td>2019-08-02</td>\n",
       "      <td>A</td>\n",
       "      <td>619</td>\n",
       "    </tr>\n",
       "    <tr>\n",
       "      <th>2</th>\n",
       "      <td>2019-08-03</td>\n",
       "      <td>A</td>\n",
       "      <td>507</td>\n",
       "    </tr>\n",
       "    <tr>\n",
       "      <th>3</th>\n",
       "      <td>2019-08-04</td>\n",
       "      <td>A</td>\n",
       "      <td>717</td>\n",
       "    </tr>\n",
       "    <tr>\n",
       "      <th>4</th>\n",
       "      <td>2019-08-05</td>\n",
       "      <td>A</td>\n",
       "      <td>756</td>\n",
       "    </tr>\n",
       "  </tbody>\n",
       "</table>\n",
       "</div>"
      ],
      "text/plain": [
       "         date group  visitors\n",
       "0  2019-08-01     A       719\n",
       "1  2019-08-02     A       619\n",
       "2  2019-08-03     A       507\n",
       "3  2019-08-04     A       717\n",
       "4  2019-08-05     A       756"
      ]
     },
     "execution_count": 11,
     "metadata": {},
     "output_type": "execute_result"
    }
   ],
   "source": [
    "visitors.head()"
   ]
  },
  {
   "cell_type": "code",
   "execution_count": 12,
   "id": "b52ab0ba",
   "metadata": {},
   "outputs": [
    {
     "name": "stdout",
     "output_type": "stream",
     "text": [
      "<class 'pandas.core.frame.DataFrame'>\n",
      "RangeIndex: 1197 entries, 0 to 1196\n",
      "Data columns (total 5 columns):\n",
      " #   Column         Non-Null Count  Dtype         \n",
      "---  ------         --------------  -----         \n",
      " 0   transactionid  1197 non-null   int64         \n",
      " 1   visitorid      1197 non-null   int64         \n",
      " 2   date           1197 non-null   datetime64[ns]\n",
      " 3   revenue        1197 non-null   int64         \n",
      " 4   group          1197 non-null   object        \n",
      "dtypes: datetime64[ns](1), int64(3), object(1)\n",
      "memory usage: 46.9+ KB\n"
     ]
    }
   ],
   "source": [
    "#Смена типа данных даты с object на datetime64\n",
    "orders['date'] = orders['date'].astype('datetime64')\n",
    "orders.info()"
   ]
  },
  {
   "cell_type": "code",
   "execution_count": 13,
   "id": "15bc2bef",
   "metadata": {},
   "outputs": [
    {
     "name": "stdout",
     "output_type": "stream",
     "text": [
      "<class 'pandas.core.frame.DataFrame'>\n",
      "RangeIndex: 62 entries, 0 to 61\n",
      "Data columns (total 3 columns):\n",
      " #   Column    Non-Null Count  Dtype         \n",
      "---  ------    --------------  -----         \n",
      " 0   date      62 non-null     datetime64[ns]\n",
      " 1   group     62 non-null     object        \n",
      " 2   visitors  62 non-null     int64         \n",
      "dtypes: datetime64[ns](1), int64(1), object(1)\n",
      "memory usage: 1.6+ KB\n"
     ]
    }
   ],
   "source": [
    "#Смена типа данных даты с object на datetime64\n",
    "visitors['date'] = visitors['date'].astype('datetime64')\n",
    "visitors.info()"
   ]
  },
  {
   "cell_type": "code",
   "execution_count": 14,
   "id": "d7e084f9",
   "metadata": {},
   "outputs": [
    {
     "data": {
      "text/plain": [
       "0"
      ]
     },
     "metadata": {},
     "output_type": "display_data"
    },
    {
     "data": {
      "text/plain": [
       "0"
      ]
     },
     "metadata": {},
     "output_type": "display_data"
    },
    {
     "data": {
      "text/plain": [
       "0"
      ]
     },
     "metadata": {},
     "output_type": "display_data"
    }
   ],
   "source": [
    "#Проверяем на явные дубликаты\n",
    "display(\n",
    "    hypothesis.duplicated().isna().sum(), \n",
    "    orders.duplicated().isna().sum(), \n",
    "    visitors.duplicated().isna().sum()\n",
    ")\n"
   ]
  },
  {
   "cell_type": "markdown",
   "id": "c75e78d8",
   "metadata": {},
   "source": [
    "## Вывод"
   ]
  },
  {
   "cell_type": "markdown",
   "id": "bbdd8a89",
   "metadata": {},
   "source": [
    "Изучили три датафрейма hypothesis, orders, visitors.\n",
    "\n",
    "Привели к общему регистру столбцы в датафрейме hypothesis и orders.\n",
    "\n",
    "Измнили тип данных в столбцах \"data\" в датафреймах orders и visitors с odject на datetime.\n",
    "\n",
    "Проверили на наличия явных дубликатов, не обнаружено.\n",
    "\n",
    "Ошибок больше не выявлено. будем приступать к дальнейшему решению поставленной задачи. "
   ]
  },
  {
   "cell_type": "code",
   "execution_count": 15,
   "id": "94c78323",
   "metadata": {},
   "outputs": [],
   "source": [
    "#Составили группу А с уникальными пользователями\n",
    "sample_A_all = orders[orders['group'] == 'A']\n",
    "sample_A = sample_A_all['visitorid'].unique()"
   ]
  },
  {
   "cell_type": "code",
   "execution_count": 16,
   "id": "8ad4aaaf",
   "metadata": {},
   "outputs": [],
   "source": [
    "#Составили группу B с уникальными пользователями\n",
    "sample_B_all = orders[orders['group'] == 'B']\n",
    "sample_B = sample_B_all['visitorid'].unique()"
   ]
  },
  {
   "cell_type": "code",
   "execution_count": 3,
   "id": "cde59fae",
   "metadata": {},
   "outputs": [
    {
     "ename": "NameError",
     "evalue": "name 'sample_A' is not defined",
     "output_type": "error",
     "traceback": [
      "\u001b[1;31m---------------------------------------------------------------------------\u001b[0m",
      "\u001b[1;31mNameError\u001b[0m                                 Traceback (most recent call last)",
      "\u001b[1;32m~\\AppData\\Local\\Temp\\ipykernel_26564\\4248196832.py\u001b[0m in \u001b[0;36m<module>\u001b[1;34m\u001b[0m\n\u001b[1;32m----> 1\u001b[1;33m \u001b[0mset_a\u001b[0m \u001b[1;33m=\u001b[0m \u001b[0mset\u001b[0m\u001b[1;33m(\u001b[0m\u001b[0msample_A\u001b[0m\u001b[1;33m)\u001b[0m\u001b[1;33m\u001b[0m\u001b[1;33m\u001b[0m\u001b[0m\n\u001b[0m\u001b[0;32m      2\u001b[0m \u001b[0mset_b\u001b[0m \u001b[1;33m=\u001b[0m \u001b[0mset\u001b[0m\u001b[1;33m(\u001b[0m\u001b[0msample_B\u001b[0m\u001b[1;33m)\u001b[0m\u001b[1;33m\u001b[0m\u001b[1;33m\u001b[0m\u001b[0m\n\u001b[0;32m      3\u001b[0m \u001b[1;33m\u001b[0m\u001b[0m\n\u001b[0;32m      4\u001b[0m \u001b[1;31m# Найдем пересечение в группе A и B\u001b[0m\u001b[1;33m\u001b[0m\u001b[1;33m\u001b[0m\u001b[0m\n\u001b[0;32m      5\u001b[0m \u001b[0musers_ab\u001b[0m \u001b[1;33m=\u001b[0m \u001b[0mset_a\u001b[0m\u001b[1;33m.\u001b[0m\u001b[0mintersection\u001b[0m\u001b[1;33m(\u001b[0m\u001b[0mset_b\u001b[0m\u001b[1;33m)\u001b[0m\u001b[1;33m\u001b[0m\u001b[1;33m\u001b[0m\u001b[0m\n",
      "\u001b[1;31mNameError\u001b[0m: name 'sample_A' is not defined"
     ]
    }
   ],
   "source": [
    "set_a = set(sample_A)\n",
    "set_b = set(sample_B)\n",
    "\n",
    "# Найдем пересечение в группе A и B \n",
    "users_ab = set_a.intersection(set_b)\n",
    "display(len(users_ab))\n",
    "list(users_ab)"
   ]
  },
  {
   "cell_type": "code",
   "execution_count": 18,
   "id": "5b1280b5",
   "metadata": {},
   "outputs": [
    {
     "data": {
      "text/html": [
       "<div>\n",
       "<style scoped>\n",
       "    .dataframe tbody tr th:only-of-type {\n",
       "        vertical-align: middle;\n",
       "    }\n",
       "\n",
       "    .dataframe tbody tr th {\n",
       "        vertical-align: top;\n",
       "    }\n",
       "\n",
       "    .dataframe thead th {\n",
       "        text-align: right;\n",
       "    }\n",
       "</style>\n",
       "<table border=\"1\" class=\"dataframe\">\n",
       "  <thead>\n",
       "    <tr style=\"text-align: right;\">\n",
       "      <th></th>\n",
       "      <th>transactionid</th>\n",
       "      <th>visitorid</th>\n",
       "      <th>date</th>\n",
       "      <th>revenue</th>\n",
       "      <th>group</th>\n",
       "    </tr>\n",
       "  </thead>\n",
       "  <tbody>\n",
       "    <tr>\n",
       "      <th>858</th>\n",
       "      <td>192721366</td>\n",
       "      <td>1316129916</td>\n",
       "      <td>2019-08-27</td>\n",
       "      <td>93940</td>\n",
       "      <td>A</td>\n",
       "    </tr>\n",
       "    <tr>\n",
       "      <th>662</th>\n",
       "      <td>1811671147</td>\n",
       "      <td>4266935830</td>\n",
       "      <td>2019-08-29</td>\n",
       "      <td>78990</td>\n",
       "      <td>A</td>\n",
       "    </tr>\n",
       "    <tr>\n",
       "      <th>682</th>\n",
       "      <td>1216533772</td>\n",
       "      <td>4266935830</td>\n",
       "      <td>2019-08-29</td>\n",
       "      <td>78990</td>\n",
       "      <td>B</td>\n",
       "    </tr>\n",
       "    <tr>\n",
       "      <th>1029</th>\n",
       "      <td>469609643</td>\n",
       "      <td>2378935119</td>\n",
       "      <td>2019-08-10</td>\n",
       "      <td>58220</td>\n",
       "      <td>A</td>\n",
       "    </tr>\n",
       "    <tr>\n",
       "      <th>873</th>\n",
       "      <td>2519737434</td>\n",
       "      <td>4256040402</td>\n",
       "      <td>2019-08-08</td>\n",
       "      <td>58220</td>\n",
       "      <td>B</td>\n",
       "    </tr>\n",
       "    <tr>\n",
       "      <th>60</th>\n",
       "      <td>1421016313</td>\n",
       "      <td>4256040402</td>\n",
       "      <td>2019-08-16</td>\n",
       "      <td>56650</td>\n",
       "      <td>B</td>\n",
       "    </tr>\n",
       "    <tr>\n",
       "      <th>627</th>\n",
       "      <td>4212256267</td>\n",
       "      <td>4120364173</td>\n",
       "      <td>2019-08-29</td>\n",
       "      <td>39800</td>\n",
       "      <td>A</td>\n",
       "    </tr>\n",
       "    <tr>\n",
       "      <th>254</th>\n",
       "      <td>1545495643</td>\n",
       "      <td>2686716486</td>\n",
       "      <td>2019-08-23</td>\n",
       "      <td>34340</td>\n",
       "      <td>B</td>\n",
       "    </tr>\n",
       "    <tr>\n",
       "      <th>1096</th>\n",
       "      <td>3075787818</td>\n",
       "      <td>3062433592</td>\n",
       "      <td>2019-08-12</td>\n",
       "      <td>32610</td>\n",
       "      <td>B</td>\n",
       "    </tr>\n",
       "    <tr>\n",
       "      <th>1189</th>\n",
       "      <td>4082620617</td>\n",
       "      <td>393266494</td>\n",
       "      <td>2019-08-14</td>\n",
       "      <td>31550</td>\n",
       "      <td>B</td>\n",
       "    </tr>\n",
       "  </tbody>\n",
       "</table>\n",
       "</div>"
      ],
      "text/plain": [
       "      transactionid   visitorid       date  revenue group\n",
       "858       192721366  1316129916 2019-08-27    93940     A\n",
       "662      1811671147  4266935830 2019-08-29    78990     A\n",
       "682      1216533772  4266935830 2019-08-29    78990     B\n",
       "1029      469609643  2378935119 2019-08-10    58220     A\n",
       "873      2519737434  4256040402 2019-08-08    58220     B\n",
       "60       1421016313  4256040402 2019-08-16    56650     B\n",
       "627      4212256267  4120364173 2019-08-29    39800     A\n",
       "254      1545495643  2686716486 2019-08-23    34340     B\n",
       "1096     3075787818  3062433592 2019-08-12    32610     B\n",
       "1189     4082620617   393266494 2019-08-14    31550     B"
      ]
     },
     "metadata": {},
     "output_type": "display_data"
    },
    {
     "data": {
      "text/plain": [
       "181"
      ]
     },
     "execution_count": 18,
     "metadata": {},
     "output_type": "execute_result"
    }
   ],
   "source": [
    "#Посмотрели что пользовали из списка покупали на какую сумму и когда \n",
    "display(orders.query('visitorid in @users_ab').sort_values(by='revenue', ascending=False).head(10))\n",
    "len(orders.query('visitorid in @users_ab'))"
   ]
  },
  {
   "cell_type": "markdown",
   "id": "73b330e7",
   "metadata": {},
   "source": [
    "## Примените фреймворк ICE для приоритизации гипотез. Отсортируйте их по убыванию приоритета"
   ]
  },
  {
   "cell_type": "code",
   "execution_count": 19,
   "id": "bb9a7bb3",
   "metadata": {},
   "outputs": [
    {
     "data": {
      "text/html": [
       "<div>\n",
       "<style scoped>\n",
       "    .dataframe tbody tr th:only-of-type {\n",
       "        vertical-align: middle;\n",
       "    }\n",
       "\n",
       "    .dataframe tbody tr th {\n",
       "        vertical-align: top;\n",
       "    }\n",
       "\n",
       "    .dataframe thead th {\n",
       "        text-align: right;\n",
       "    }\n",
       "</style>\n",
       "<table border=\"1\" class=\"dataframe\">\n",
       "  <thead>\n",
       "    <tr style=\"text-align: right;\">\n",
       "      <th></th>\n",
       "      <th>hypothesis</th>\n",
       "      <th>reach</th>\n",
       "      <th>impact</th>\n",
       "      <th>confidence</th>\n",
       "      <th>efforts</th>\n",
       "    </tr>\n",
       "  </thead>\n",
       "  <tbody>\n",
       "    <tr>\n",
       "      <th>0</th>\n",
       "      <td>Добавить два новых канала привлечения трафика, что позволит привлекать на 30% больше пользователей</td>\n",
       "      <td>3</td>\n",
       "      <td>10</td>\n",
       "      <td>8</td>\n",
       "      <td>6</td>\n",
       "    </tr>\n",
       "    <tr>\n",
       "      <th>1</th>\n",
       "      <td>Запустить собственную службу доставки, что сократит срок доставки заказов</td>\n",
       "      <td>2</td>\n",
       "      <td>5</td>\n",
       "      <td>4</td>\n",
       "      <td>10</td>\n",
       "    </tr>\n",
       "    <tr>\n",
       "      <th>2</th>\n",
       "      <td>Добавить блоки рекомендаций товаров на сайт интернет магазина, чтобы повысить конверсию и средний чек заказа</td>\n",
       "      <td>8</td>\n",
       "      <td>3</td>\n",
       "      <td>7</td>\n",
       "      <td>3</td>\n",
       "    </tr>\n",
       "    <tr>\n",
       "      <th>3</th>\n",
       "      <td>Изменить структура категорий, что увеличит конверсию, т.к. пользователи быстрее найдут нужный товар</td>\n",
       "      <td>8</td>\n",
       "      <td>3</td>\n",
       "      <td>3</td>\n",
       "      <td>8</td>\n",
       "    </tr>\n",
       "    <tr>\n",
       "      <th>4</th>\n",
       "      <td>Изменить цвет фона главной страницы, чтобы увеличить вовлеченность пользователей</td>\n",
       "      <td>3</td>\n",
       "      <td>1</td>\n",
       "      <td>1</td>\n",
       "      <td>1</td>\n",
       "    </tr>\n",
       "  </tbody>\n",
       "</table>\n",
       "</div>"
      ],
      "text/plain": [
       "                                                                                                     hypothesis  \\\n",
       "0            Добавить два новых канала привлечения трафика, что позволит привлекать на 30% больше пользователей   \n",
       "1                                     Запустить собственную службу доставки, что сократит срок доставки заказов   \n",
       "2  Добавить блоки рекомендаций товаров на сайт интернет магазина, чтобы повысить конверсию и средний чек заказа   \n",
       "3           Изменить структура категорий, что увеличит конверсию, т.к. пользователи быстрее найдут нужный товар   \n",
       "4                              Изменить цвет фона главной страницы, чтобы увеличить вовлеченность пользователей   \n",
       "\n",
       "   reach  impact  confidence  efforts  \n",
       "0      3      10           8        6  \n",
       "1      2       5           4       10  \n",
       "2      8       3           7        3  \n",
       "3      8       3           3        8  \n",
       "4      3       1           1        1  "
      ]
     },
     "execution_count": 19,
     "metadata": {},
     "output_type": "execute_result"
    }
   ],
   "source": [
    "hypothesis.head()"
   ]
  },
  {
   "cell_type": "code",
   "execution_count": 20,
   "id": "56af6f3d",
   "metadata": {},
   "outputs": [
    {
     "data": {
      "text/html": [
       "<div>\n",
       "<style scoped>\n",
       "    .dataframe tbody tr th:only-of-type {\n",
       "        vertical-align: middle;\n",
       "    }\n",
       "\n",
       "    .dataframe tbody tr th {\n",
       "        vertical-align: top;\n",
       "    }\n",
       "\n",
       "    .dataframe thead th {\n",
       "        text-align: right;\n",
       "    }\n",
       "</style>\n",
       "<table border=\"1\" class=\"dataframe\">\n",
       "  <thead>\n",
       "    <tr style=\"text-align: right;\">\n",
       "      <th></th>\n",
       "      <th>hypothesis</th>\n",
       "      <th>reach</th>\n",
       "      <th>impact</th>\n",
       "      <th>confidence</th>\n",
       "      <th>efforts</th>\n",
       "      <th>ice_score</th>\n",
       "    </tr>\n",
       "  </thead>\n",
       "  <tbody>\n",
       "    <tr>\n",
       "      <th>8</th>\n",
       "      <td>Запустить акцию, дающую скидку на товар в день рождения</td>\n",
       "      <td>1</td>\n",
       "      <td>9</td>\n",
       "      <td>9</td>\n",
       "      <td>5</td>\n",
       "      <td>16.20</td>\n",
       "    </tr>\n",
       "    <tr>\n",
       "      <th>0</th>\n",
       "      <td>Добавить два новых канала привлечения трафика, что позволит привлекать на 30% больше пользователей</td>\n",
       "      <td>3</td>\n",
       "      <td>10</td>\n",
       "      <td>8</td>\n",
       "      <td>6</td>\n",
       "      <td>13.33</td>\n",
       "    </tr>\n",
       "    <tr>\n",
       "      <th>7</th>\n",
       "      <td>Добавить форму подписки на все основные страницы, чтобы собрать базу клиентов для email-рассылок</td>\n",
       "      <td>10</td>\n",
       "      <td>7</td>\n",
       "      <td>8</td>\n",
       "      <td>5</td>\n",
       "      <td>11.20</td>\n",
       "    </tr>\n",
       "    <tr>\n",
       "      <th>6</th>\n",
       "      <td>Показать на главной странице баннеры с актуальными акциями и распродажами, чтобы увеличить конверсию</td>\n",
       "      <td>5</td>\n",
       "      <td>3</td>\n",
       "      <td>8</td>\n",
       "      <td>3</td>\n",
       "      <td>8.00</td>\n",
       "    </tr>\n",
       "    <tr>\n",
       "      <th>2</th>\n",
       "      <td>Добавить блоки рекомендаций товаров на сайт интернет магазина, чтобы повысить конверсию и средний чек заказа</td>\n",
       "      <td>8</td>\n",
       "      <td>3</td>\n",
       "      <td>7</td>\n",
       "      <td>3</td>\n",
       "      <td>7.00</td>\n",
       "    </tr>\n",
       "  </tbody>\n",
       "</table>\n",
       "</div>"
      ],
      "text/plain": [
       "                                                                                                     hypothesis  \\\n",
       "8                                                       Запустить акцию, дающую скидку на товар в день рождения   \n",
       "0            Добавить два новых канала привлечения трафика, что позволит привлекать на 30% больше пользователей   \n",
       "7              Добавить форму подписки на все основные страницы, чтобы собрать базу клиентов для email-рассылок   \n",
       "6          Показать на главной странице баннеры с актуальными акциями и распродажами, чтобы увеличить конверсию   \n",
       "2  Добавить блоки рекомендаций товаров на сайт интернет магазина, чтобы повысить конверсию и средний чек заказа   \n",
       "\n",
       "   reach  impact  confidence  efforts  ice_score  \n",
       "8      1       9           9        5      16.20  \n",
       "0      3      10           8        6      13.33  \n",
       "7     10       7           8        5      11.20  \n",
       "6      5       3           8        3       8.00  \n",
       "2      8       3           7        3       7.00  "
      ]
     },
     "execution_count": 20,
     "metadata": {},
     "output_type": "execute_result"
    }
   ],
   "source": [
    "# посчитали рейтинг ice_score \n",
    "hypothesis['ice_score'] = (hypothesis['impact'] * hypothesis['confidence']) / hypothesis['efforts']\n",
    "hypothesis.sort_values(by='ice_score', ascending=False).round(2).head(5)"
   ]
  },
  {
   "cell_type": "code",
   "execution_count": 21,
   "id": "116e240a",
   "metadata": {},
   "outputs": [
    {
     "data": {
      "image/png": "[encoded data removed]",
      "text/plain": [
       "<Figure size 432x288 with 1 Axes>"
      ]
     },
     "metadata": {
      "needs_background": "light"
     },
     "output_type": "display_data"
    }
   ],
   "source": [
    "#Сводная таблица для графика\n",
    "pivot_hypothesi = (\n",
    "    hypothesis.pivot_table(index='hypothesis', values='ice_score')\n",
    "    .sort_values(by='ice_score', ascending=False)\n",
    "    .plot(grid=True, kind='barh')\n",
    ")\n",
    "\n",
    "# Добавляем заголовок и метки осей\n",
    "plt.title('Приоритизации идей')\n",
    "plt.xlabel('Приоритет Гипотез')\n",
    "plt.ylabel('Гипотезы')\n",
    "# Отображаем график\n",
    "plt.show()"
   ]
  },
  {
   "cell_type": "markdown",
   "id": "2a3f7b76",
   "metadata": {},
   "source": [
    "## Примените фреймворк RICE для приоритизации гипотез. Отсортируйте их по убыванию приоритета."
   ]
  },
  {
   "cell_type": "code",
   "execution_count": 22,
   "id": "add694ff",
   "metadata": {},
   "outputs": [
    {
     "data": {
      "text/html": [
       "<div>\n",
       "<style scoped>\n",
       "    .dataframe tbody tr th:only-of-type {\n",
       "        vertical-align: middle;\n",
       "    }\n",
       "\n",
       "    .dataframe tbody tr th {\n",
       "        vertical-align: top;\n",
       "    }\n",
       "\n",
       "    .dataframe thead th {\n",
       "        text-align: right;\n",
       "    }\n",
       "</style>\n",
       "<table border=\"1\" class=\"dataframe\">\n",
       "  <thead>\n",
       "    <tr style=\"text-align: right;\">\n",
       "      <th></th>\n",
       "      <th>hypothesis</th>\n",
       "      <th>reach</th>\n",
       "      <th>impact</th>\n",
       "      <th>confidence</th>\n",
       "      <th>efforts</th>\n",
       "      <th>ice_score</th>\n",
       "      <th>rice_score</th>\n",
       "    </tr>\n",
       "  </thead>\n",
       "  <tbody>\n",
       "    <tr>\n",
       "      <th>2</th>\n",
       "      <td>Добавить блоки рекомендаций товаров на сайт интернет магазина, чтобы повысить конверсию и средний чек заказа</td>\n",
       "      <td>8</td>\n",
       "      <td>3</td>\n",
       "      <td>7</td>\n",
       "      <td>3</td>\n",
       "      <td>7.000</td>\n",
       "      <td>56.0</td>\n",
       "    </tr>\n",
       "    <tr>\n",
       "      <th>0</th>\n",
       "      <td>Добавить два новых канала привлечения трафика, что позволит привлекать на 30% больше пользователей</td>\n",
       "      <td>3</td>\n",
       "      <td>10</td>\n",
       "      <td>8</td>\n",
       "      <td>6</td>\n",
       "      <td>13.333</td>\n",
       "      <td>40.0</td>\n",
       "    </tr>\n",
       "    <tr>\n",
       "      <th>3</th>\n",
       "      <td>Изменить структура категорий, что увеличит конверсию, т.к. пользователи быстрее найдут нужный товар</td>\n",
       "      <td>8</td>\n",
       "      <td>3</td>\n",
       "      <td>3</td>\n",
       "      <td>8</td>\n",
       "      <td>1.125</td>\n",
       "      <td>9.0</td>\n",
       "    </tr>\n",
       "    <tr>\n",
       "      <th>1</th>\n",
       "      <td>Запустить собственную службу доставки, что сократит срок доставки заказов</td>\n",
       "      <td>2</td>\n",
       "      <td>5</td>\n",
       "      <td>4</td>\n",
       "      <td>10</td>\n",
       "      <td>2.000</td>\n",
       "      <td>4.0</td>\n",
       "    </tr>\n",
       "    <tr>\n",
       "      <th>4</th>\n",
       "      <td>Изменить цвет фона главной страницы, чтобы увеличить вовлеченность пользователей</td>\n",
       "      <td>3</td>\n",
       "      <td>1</td>\n",
       "      <td>1</td>\n",
       "      <td>1</td>\n",
       "      <td>1.000</td>\n",
       "      <td>3.0</td>\n",
       "    </tr>\n",
       "  </tbody>\n",
       "</table>\n",
       "</div>"
      ],
      "text/plain": [
       "                                                                                                     hypothesis  \\\n",
       "2  Добавить блоки рекомендаций товаров на сайт интернет магазина, чтобы повысить конверсию и средний чек заказа   \n",
       "0            Добавить два новых канала привлечения трафика, что позволит привлекать на 30% больше пользователей   \n",
       "3           Изменить структура категорий, что увеличит конверсию, т.к. пользователи быстрее найдут нужный товар   \n",
       "1                                     Запустить собственную службу доставки, что сократит срок доставки заказов   \n",
       "4                              Изменить цвет фона главной страницы, чтобы увеличить вовлеченность пользователей   \n",
       "\n",
       "   reach  impact  confidence  efforts  ice_score  rice_score  \n",
       "2      8       3           7        3      7.000        56.0  \n",
       "0      3      10           8        6     13.333        40.0  \n",
       "3      8       3           3        8      1.125         9.0  \n",
       "1      2       5           4       10      2.000         4.0  \n",
       "4      3       1           1        1      1.000         3.0  "
      ]
     },
     "execution_count": 22,
     "metadata": {},
     "output_type": "execute_result"
    }
   ],
   "source": [
    "#Считаем rice_score\n",
    "hypothesis['rice_score'] = (hypothesis['reach'] * hypothesis['impact'] * hypothesis['confidence']) / hypothesis['efforts']\n",
    "hypothesis.head().sort_values(by='rice_score', ascending=False).round(3)"
   ]
  },
  {
   "cell_type": "raw",
   "id": "29f6ddbd",
   "metadata": {},
   "source": [
    "#Сводная таблица для графика\n",
    "pivot_hypothesis_rise = (\n",
    "    hypothesis.pivot_table(index='hypothesis', values='rice_score')\n",
    "    .sort_values(by='rice_score', ascending=False)\n",
    "    .plot(grid=True, kind='barh')\n",
    ")\n",
    "\n",
    "# Добавляем заголовок и метки осей\n",
    "plt.title('Приоритизации идей охват')\n",
    "plt.xlabel('Эффективные Гипотез')\n",
    "plt.ylabel('Гипотезы')\n",
    "# Отображаем график\n",
    "plt.show()"
   ]
  },
  {
   "cell_type": "raw",
   "id": "459868ca",
   "metadata": {},
   "source": [
    "## Укажите, как изменилась приоритизация гипотез при применении RICE вместо ICE. Объясните, почему так произошло."
   ]
  },
  {
   "cell_type": "code",
   "execution_count": 23,
   "id": "ae8a9f38",
   "metadata": {},
   "outputs": [
    {
     "data": {
      "text/html": [
       "<div>\n",
       "<style scoped>\n",
       "    .dataframe tbody tr th:only-of-type {\n",
       "        vertical-align: middle;\n",
       "    }\n",
       "\n",
       "    .dataframe tbody tr th {\n",
       "        vertical-align: top;\n",
       "    }\n",
       "\n",
       "    .dataframe thead th {\n",
       "        text-align: right;\n",
       "    }\n",
       "</style>\n",
       "<table border=\"1\" class=\"dataframe\">\n",
       "  <thead>\n",
       "    <tr style=\"text-align: right;\">\n",
       "      <th></th>\n",
       "      <th>ice_score</th>\n",
       "      <th>rice_score</th>\n",
       "    </tr>\n",
       "    <tr>\n",
       "      <th>hypothesis</th>\n",
       "      <th></th>\n",
       "      <th></th>\n",
       "    </tr>\n",
       "  </thead>\n",
       "  <tbody>\n",
       "    <tr>\n",
       "      <th>Запустить акцию, дающую скидку на товар в день рождения</th>\n",
       "      <td>16.200000</td>\n",
       "      <td>16.2</td>\n",
       "    </tr>\n",
       "    <tr>\n",
       "      <th>Добавить два новых канала привлечения трафика, что позволит привлекать на 30% больше пользователей</th>\n",
       "      <td>13.333333</td>\n",
       "      <td>40.0</td>\n",
       "    </tr>\n",
       "    <tr>\n",
       "      <th>Добавить форму подписки на все основные страницы, чтобы собрать базу клиентов для email-рассылок</th>\n",
       "      <td>11.200000</td>\n",
       "      <td>112.0</td>\n",
       "    </tr>\n",
       "    <tr>\n",
       "      <th>Показать на главной странице баннеры с актуальными акциями и распродажами, чтобы увеличить конверсию</th>\n",
       "      <td>8.000000</td>\n",
       "      <td>40.0</td>\n",
       "    </tr>\n",
       "    <tr>\n",
       "      <th>Добавить блоки рекомендаций товаров на сайт интернет магазина, чтобы повысить конверсию и средний чек заказа</th>\n",
       "      <td>7.000000</td>\n",
       "      <td>56.0</td>\n",
       "    </tr>\n",
       "  </tbody>\n",
       "</table>\n",
       "</div>"
      ],
      "text/plain": [
       "                                                                                                              ice_score  \\\n",
       "hypothesis                                                                                                                \n",
       "Запустить акцию, дающую скидку на товар в день рождения                                                       16.200000   \n",
       "Добавить два новых канала привлечения трафика, что позволит привлекать на 30% больше пользователей            13.333333   \n",
       "Добавить форму подписки на все основные страницы, чтобы собрать базу клиентов для email-рассылок              11.200000   \n",
       "Показать на главной странице баннеры с актуальными акциями и распродажами, чтобы увеличить конверсию           8.000000   \n",
       "Добавить блоки рекомендаций товаров на сайт интернет магазина, чтобы повысить конверсию и средний чек заказа   7.000000   \n",
       "\n",
       "                                                                                                              rice_score  \n",
       "hypothesis                                                                                                                \n",
       "Запустить акцию, дающую скидку на товар в день рождения                                                             16.2  \n",
       "Добавить два новых канала привлечения трафика, что позволит привлекать на 30% больше пользователей                  40.0  \n",
       "Добавить форму подписки на все основные страницы, чтобы собрать базу клиентов для email-рассылок                   112.0  \n",
       "Показать на главной странице баннеры с актуальными акциями и распродажами, чтобы увеличить конверсию                40.0  \n",
       "Добавить блоки рекомендаций товаров на сайт интернет магазина, чтобы повысить конверсию и средний чек заказа        56.0  "
      ]
     },
     "execution_count": 23,
     "metadata": {},
     "output_type": "execute_result"
    }
   ],
   "source": [
    "#Сводная таблица ICE и RICE\n",
    "(hypothesis.pivot_table(index='hypothesis', values=['ice_score', 'rice_score'])\n",
    ".sort_values(by='ice_score',ascending=False).head())"
   ]
  },
  {
   "cell_type": "markdown",
   "id": "8705a8a9",
   "metadata": {},
   "source": [
    "### Вывод"
   ]
  },
  {
   "cell_type": "markdown",
   "id": "126a60ec",
   "metadata": {},
   "source": [
    "Взяв топ5 категорий ICE и RICE мы видим, что у них меняется позиция, RICE учитывает повышение конверсии + количество людей.\n",
    "ICE учитывает только увеличение конверсии.\n",
    "Поэтому одни и теже гипотезы занимают разные позиции c учетом охвата пользователей и без учета. \n",
    "Одна гипотеза показывает одинаковый ICE И RICE 'Запустить акцию, дающую скидку на товар в день рождения'."
   ]
  },
  {
   "cell_type": "markdown",
   "id": "58828d42",
   "metadata": {},
   "source": [
    "# Анализ A/B-теста"
   ]
  },
  {
   "cell_type": "markdown",
   "id": "ca4f8ffd",
   "metadata": {},
   "source": [
    "## Постройте график кумулятивной выручки по группам. Сделайте выводы и предположения."
   ]
  },
  {
   "cell_type": "code",
   "execution_count": 24,
   "id": "bbcd8807",
   "metadata": {},
   "outputs": [
    {
     "data": {
      "text/html": [
       "<div>\n",
       "<style scoped>\n",
       "    .dataframe tbody tr th:only-of-type {\n",
       "        vertical-align: middle;\n",
       "    }\n",
       "\n",
       "    .dataframe tbody tr th {\n",
       "        vertical-align: top;\n",
       "    }\n",
       "\n",
       "    .dataframe thead th {\n",
       "        text-align: right;\n",
       "    }\n",
       "</style>\n",
       "<table border=\"1\" class=\"dataframe\">\n",
       "  <thead>\n",
       "    <tr style=\"text-align: right;\">\n",
       "      <th></th>\n",
       "      <th>transactionid</th>\n",
       "      <th>visitorid</th>\n",
       "      <th>date</th>\n",
       "      <th>revenue</th>\n",
       "      <th>group</th>\n",
       "    </tr>\n",
       "  </thead>\n",
       "  <tbody>\n",
       "    <tr>\n",
       "      <th>0</th>\n",
       "      <td>3667963787</td>\n",
       "      <td>3312258926</td>\n",
       "      <td>2019-08-15</td>\n",
       "      <td>1650</td>\n",
       "      <td>B</td>\n",
       "    </tr>\n",
       "    <tr>\n",
       "      <th>1</th>\n",
       "      <td>2804400009</td>\n",
       "      <td>3642806036</td>\n",
       "      <td>2019-08-15</td>\n",
       "      <td>730</td>\n",
       "      <td>B</td>\n",
       "    </tr>\n",
       "    <tr>\n",
       "      <th>2</th>\n",
       "      <td>2961555356</td>\n",
       "      <td>4069496402</td>\n",
       "      <td>2019-08-15</td>\n",
       "      <td>400</td>\n",
       "      <td>A</td>\n",
       "    </tr>\n",
       "    <tr>\n",
       "      <th>3</th>\n",
       "      <td>3797467345</td>\n",
       "      <td>1196621759</td>\n",
       "      <td>2019-08-15</td>\n",
       "      <td>9759</td>\n",
       "      <td>B</td>\n",
       "    </tr>\n",
       "    <tr>\n",
       "      <th>4</th>\n",
       "      <td>2282983706</td>\n",
       "      <td>2322279887</td>\n",
       "      <td>2019-08-15</td>\n",
       "      <td>2308</td>\n",
       "      <td>B</td>\n",
       "    </tr>\n",
       "  </tbody>\n",
       "</table>\n",
       "</div>"
      ],
      "text/plain": [
       "   transactionid   visitorid       date  revenue group\n",
       "0     3667963787  3312258926 2019-08-15     1650     B\n",
       "1     2804400009  3642806036 2019-08-15      730     B\n",
       "2     2961555356  4069496402 2019-08-15      400     A\n",
       "3     3797467345  1196621759 2019-08-15     9759     B\n",
       "4     2282983706  2322279887 2019-08-15     2308     B"
      ]
     },
     "execution_count": 24,
     "metadata": {},
     "output_type": "execute_result"
    }
   ],
   "source": [
    "orders.head()"
   ]
  },
  {
   "cell_type": "code",
   "execution_count": 25,
   "id": "0bae45ae",
   "metadata": {},
   "outputs": [
    {
     "data": {
      "text/html": [
       "<div>\n",
       "<style scoped>\n",
       "    .dataframe tbody tr th:only-of-type {\n",
       "        vertical-align: middle;\n",
       "    }\n",
       "\n",
       "    .dataframe tbody tr th {\n",
       "        vertical-align: top;\n",
       "    }\n",
       "\n",
       "    .dataframe thead th {\n",
       "        text-align: right;\n",
       "    }\n",
       "</style>\n",
       "<table border=\"1\" class=\"dataframe\">\n",
       "  <thead>\n",
       "    <tr style=\"text-align: right;\">\n",
       "      <th></th>\n",
       "      <th>date</th>\n",
       "      <th>group</th>\n",
       "      <th>transactionid</th>\n",
       "      <th>visitorid</th>\n",
       "      <th>revenue</th>\n",
       "    </tr>\n",
       "  </thead>\n",
       "  <tbody>\n",
       "    <tr>\n",
       "      <th>55</th>\n",
       "      <td>2019-08-01</td>\n",
       "      <td>A</td>\n",
       "      <td>24</td>\n",
       "      <td>20</td>\n",
       "      <td>148579</td>\n",
       "    </tr>\n",
       "    <tr>\n",
       "      <th>66</th>\n",
       "      <td>2019-08-01</td>\n",
       "      <td>B</td>\n",
       "      <td>21</td>\n",
       "      <td>20</td>\n",
       "      <td>101217</td>\n",
       "    </tr>\n",
       "    <tr>\n",
       "      <th>175</th>\n",
       "      <td>2019-08-02</td>\n",
       "      <td>A</td>\n",
       "      <td>44</td>\n",
       "      <td>38</td>\n",
       "      <td>242401</td>\n",
       "    </tr>\n",
       "    <tr>\n",
       "      <th>173</th>\n",
       "      <td>2019-08-02</td>\n",
       "      <td>B</td>\n",
       "      <td>45</td>\n",
       "      <td>43</td>\n",
       "      <td>266748</td>\n",
       "    </tr>\n",
       "    <tr>\n",
       "      <th>291</th>\n",
       "      <td>2019-08-03</td>\n",
       "      <td>A</td>\n",
       "      <td>68</td>\n",
       "      <td>62</td>\n",
       "      <td>354874</td>\n",
       "    </tr>\n",
       "    <tr>\n",
       "      <th>310</th>\n",
       "      <td>2019-08-03</td>\n",
       "      <td>B</td>\n",
       "      <td>61</td>\n",
       "      <td>59</td>\n",
       "      <td>380996</td>\n",
       "    </tr>\n",
       "    <tr>\n",
       "      <th>499</th>\n",
       "      <td>2019-08-04</td>\n",
       "      <td>A</td>\n",
       "      <td>84</td>\n",
       "      <td>77</td>\n",
       "      <td>425699</td>\n",
       "    </tr>\n",
       "    <tr>\n",
       "      <th>498</th>\n",
       "      <td>2019-08-04</td>\n",
       "      <td>B</td>\n",
       "      <td>78</td>\n",
       "      <td>75</td>\n",
       "      <td>489567</td>\n",
       "    </tr>\n",
       "    <tr>\n",
       "      <th>698</th>\n",
       "      <td>2019-08-05</td>\n",
       "      <td>A</td>\n",
       "      <td>109</td>\n",
       "      <td>100</td>\n",
       "      <td>549917</td>\n",
       "    </tr>\n",
       "    <tr>\n",
       "      <th>699</th>\n",
       "      <td>2019-08-05</td>\n",
       "      <td>B</td>\n",
       "      <td>101</td>\n",
       "      <td>98</td>\n",
       "      <td>581995</td>\n",
       "    </tr>\n",
       "  </tbody>\n",
       "</table>\n",
       "</div>"
      ],
      "text/plain": [
       "          date group  transactionid  visitorid  revenue\n",
       "55  2019-08-01     A             24         20   148579\n",
       "66  2019-08-01     B             21         20   101217\n",
       "175 2019-08-02     A             44         38   242401\n",
       "173 2019-08-02     B             45         43   266748\n",
       "291 2019-08-03     A             68         62   354874\n",
       "310 2019-08-03     B             61         59   380996\n",
       "499 2019-08-04     A             84         77   425699\n",
       "498 2019-08-04     B             78         75   489567\n",
       "698 2019-08-05     A            109        100   549917\n",
       "699 2019-08-05     B            101         98   581995"
      ]
     },
     "execution_count": 25,
     "metadata": {},
     "output_type": "execute_result"
    }
   ],
   "source": [
    "#Агрегированные кумулятивные по дням данные о заказах\n",
    "datesGroups = orders[['date', 'group']].drop_duplicates()\n",
    "\n",
    "ordersAggregated = datesGroups.apply(\n",
    "    lambda x: orders[np.logical_and(orders['date'] <= x['date'], orders['group'] == x['group'])].agg({\n",
    "'date' : 'max',\n",
    "'group' : 'max',\n",
    "'transactionid' : pd.Series.nunique,\n",
    "'visitorid' : pd.Series.nunique,\n",
    "'revenue' : 'sum'}), axis=1).sort_values(by=['date','group'])\n",
    "ordersAggregated.head(10)"
   ]
  },
  {
   "cell_type": "code",
   "execution_count": 26,
   "id": "bdc99df2",
   "metadata": {},
   "outputs": [
    {
     "data": {
      "text/html": [
       "<div>\n",
       "<style scoped>\n",
       "    .dataframe tbody tr th:only-of-type {\n",
       "        vertical-align: middle;\n",
       "    }\n",
       "\n",
       "    .dataframe tbody tr th {\n",
       "        vertical-align: top;\n",
       "    }\n",
       "\n",
       "    .dataframe thead th {\n",
       "        text-align: right;\n",
       "    }\n",
       "</style>\n",
       "<table border=\"1\" class=\"dataframe\">\n",
       "  <thead>\n",
       "    <tr style=\"text-align: right;\">\n",
       "      <th></th>\n",
       "      <th>date</th>\n",
       "      <th>group</th>\n",
       "      <th>visitors</th>\n",
       "    </tr>\n",
       "  </thead>\n",
       "  <tbody>\n",
       "    <tr>\n",
       "      <th>55</th>\n",
       "      <td>2019-08-01</td>\n",
       "      <td>A</td>\n",
       "      <td>719</td>\n",
       "    </tr>\n",
       "    <tr>\n",
       "      <th>66</th>\n",
       "      <td>2019-08-01</td>\n",
       "      <td>B</td>\n",
       "      <td>713</td>\n",
       "    </tr>\n",
       "    <tr>\n",
       "      <th>175</th>\n",
       "      <td>2019-08-02</td>\n",
       "      <td>A</td>\n",
       "      <td>1338</td>\n",
       "    </tr>\n",
       "    <tr>\n",
       "      <th>173</th>\n",
       "      <td>2019-08-02</td>\n",
       "      <td>B</td>\n",
       "      <td>1294</td>\n",
       "    </tr>\n",
       "    <tr>\n",
       "      <th>291</th>\n",
       "      <td>2019-08-03</td>\n",
       "      <td>A</td>\n",
       "      <td>1845</td>\n",
       "    </tr>\n",
       "  </tbody>\n",
       "</table>\n",
       "</div>"
      ],
      "text/plain": [
       "          date group  visitors\n",
       "55  2019-08-01     A       719\n",
       "66  2019-08-01     B       713\n",
       "175 2019-08-02     A      1338\n",
       "173 2019-08-02     B      1294\n",
       "291 2019-08-03     A      1845"
      ]
     },
     "execution_count": 26,
     "metadata": {},
     "output_type": "execute_result"
    }
   ],
   "source": [
    "#Агрегированные кумулятивные по дням данные о посетителях интернет-магазина \n",
    "visitorsAggregated = (\n",
    "    datesGroups.apply(lambda x: visitors[np.logical_and(visitors['date'] <= x['date'],\n",
    "    visitors['group'] == x['group'])].\n",
    "    agg({'date' : 'max', 'group' : 'max', 'visitors' : 'sum'}), axis=1)\n",
    "    .sort_values(by=['date','group'])\n",
    ")\n",
    "\n",
    "visitorsAggregated.head(5)"
   ]
  },
  {
   "cell_type": "code",
   "execution_count": 27,
   "id": "9129e41b",
   "metadata": {},
   "outputs": [
    {
     "data": {
      "text/html": [
       "<div>\n",
       "<style scoped>\n",
       "    .dataframe tbody tr th:only-of-type {\n",
       "        vertical-align: middle;\n",
       "    }\n",
       "\n",
       "    .dataframe tbody tr th {\n",
       "        vertical-align: top;\n",
       "    }\n",
       "\n",
       "    .dataframe thead th {\n",
       "        text-align: right;\n",
       "    }\n",
       "</style>\n",
       "<table border=\"1\" class=\"dataframe\">\n",
       "  <thead>\n",
       "    <tr style=\"text-align: right;\">\n",
       "      <th></th>\n",
       "      <th>date</th>\n",
       "      <th>group</th>\n",
       "      <th>orders</th>\n",
       "      <th>buyers</th>\n",
       "      <th>revenue</th>\n",
       "      <th>visitors</th>\n",
       "    </tr>\n",
       "  </thead>\n",
       "  <tbody>\n",
       "    <tr>\n",
       "      <th>0</th>\n",
       "      <td>2019-08-01</td>\n",
       "      <td>A</td>\n",
       "      <td>24</td>\n",
       "      <td>20</td>\n",
       "      <td>148579</td>\n",
       "      <td>719</td>\n",
       "    </tr>\n",
       "    <tr>\n",
       "      <th>1</th>\n",
       "      <td>2019-08-01</td>\n",
       "      <td>B</td>\n",
       "      <td>21</td>\n",
       "      <td>20</td>\n",
       "      <td>101217</td>\n",
       "      <td>713</td>\n",
       "    </tr>\n",
       "    <tr>\n",
       "      <th>2</th>\n",
       "      <td>2019-08-02</td>\n",
       "      <td>A</td>\n",
       "      <td>44</td>\n",
       "      <td>38</td>\n",
       "      <td>242401</td>\n",
       "      <td>1338</td>\n",
       "    </tr>\n",
       "    <tr>\n",
       "      <th>3</th>\n",
       "      <td>2019-08-02</td>\n",
       "      <td>B</td>\n",
       "      <td>45</td>\n",
       "      <td>43</td>\n",
       "      <td>266748</td>\n",
       "      <td>1294</td>\n",
       "    </tr>\n",
       "    <tr>\n",
       "      <th>4</th>\n",
       "      <td>2019-08-03</td>\n",
       "      <td>A</td>\n",
       "      <td>68</td>\n",
       "      <td>62</td>\n",
       "      <td>354874</td>\n",
       "      <td>1845</td>\n",
       "    </tr>\n",
       "    <tr>\n",
       "      <th>5</th>\n",
       "      <td>2019-08-03</td>\n",
       "      <td>B</td>\n",
       "      <td>61</td>\n",
       "      <td>59</td>\n",
       "      <td>380996</td>\n",
       "      <td>1803</td>\n",
       "    </tr>\n",
       "    <tr>\n",
       "      <th>6</th>\n",
       "      <td>2019-08-04</td>\n",
       "      <td>A</td>\n",
       "      <td>84</td>\n",
       "      <td>77</td>\n",
       "      <td>425699</td>\n",
       "      <td>2562</td>\n",
       "    </tr>\n",
       "    <tr>\n",
       "      <th>7</th>\n",
       "      <td>2019-08-04</td>\n",
       "      <td>B</td>\n",
       "      <td>78</td>\n",
       "      <td>75</td>\n",
       "      <td>489567</td>\n",
       "      <td>2573</td>\n",
       "    </tr>\n",
       "    <tr>\n",
       "      <th>8</th>\n",
       "      <td>2019-08-05</td>\n",
       "      <td>A</td>\n",
       "      <td>109</td>\n",
       "      <td>100</td>\n",
       "      <td>549917</td>\n",
       "      <td>3318</td>\n",
       "    </tr>\n",
       "    <tr>\n",
       "      <th>9</th>\n",
       "      <td>2019-08-05</td>\n",
       "      <td>B</td>\n",
       "      <td>101</td>\n",
       "      <td>98</td>\n",
       "      <td>581995</td>\n",
       "      <td>3280</td>\n",
       "    </tr>\n",
       "  </tbody>\n",
       "</table>\n",
       "</div>"
      ],
      "text/plain": [
       "        date group  orders  buyers  revenue  visitors\n",
       "0 2019-08-01     A      24      20   148579       719\n",
       "1 2019-08-01     B      21      20   101217       713\n",
       "2 2019-08-02     A      44      38   242401      1338\n",
       "3 2019-08-02     B      45      43   266748      1294\n",
       "4 2019-08-03     A      68      62   354874      1845\n",
       "5 2019-08-03     B      61      59   380996      1803\n",
       "6 2019-08-04     A      84      77   425699      2562\n",
       "7 2019-08-04     B      78      75   489567      2573\n",
       "8 2019-08-05     A     109     100   549917      3318\n",
       "9 2019-08-05     B     101      98   581995      3280"
      ]
     },
     "execution_count": 27,
     "metadata": {},
     "output_type": "execute_result"
    }
   ],
   "source": [
    "# Кумулятивная выручка по группам\n",
    "cumulativeData = ordersAggregated.merge(visitorsAggregated, left_on=['date', 'group'], right_on=['date', 'group'])\n",
    "cumulativeData.columns = ['date', 'group', 'orders', 'buyers', 'revenue', 'visitors']\n",
    "\n",
    "cumulativeData.head(10)"
   ]
  },
  {
   "cell_type": "code",
   "execution_count": 28,
   "id": "95dbea40",
   "metadata": {},
   "outputs": [
    {
     "data": {
      "image/png": "[encoded data removed]",
      "text/plain": [
       "<Figure size 432x288 with 1 Axes>"
      ]
     },
     "metadata": {
      "needs_background": "light"
     },
     "output_type": "display_data"
    }
   ],
   "source": [
    "# датафрейм с кумулятивным количеством заказов и кумулятивной выручкой по дням в группе А\n",
    "cumulativeRevenueA = cumulativeData[cumulativeData['group']=='A'][['date','revenue', 'orders']]\n",
    "\n",
    "# датафрейм с кумулятивным количеством заказов и кумулятивной выручкой по дням в группе B\n",
    "cumulativeRevenueB = cumulativeData[cumulativeData['group']=='B'][['date','revenue', 'orders']]\n",
    "\n",
    "# Строим график выручки группы А\n",
    "plt.plot(cumulativeRevenueA['date'], cumulativeRevenueA['revenue'], label='A')\n",
    "\n",
    "# Строим график выручки группы B\n",
    "plt.plot(cumulativeRevenueB['date'], cumulativeRevenueB['revenue'], label='B')\n",
    "\n",
    "plt.legend(fontsize=15)\n",
    "plt.xticks(rotation=45)\n",
    "plt.title('График выручки Группы А и B по датам')\n",
    "plt.xlabel('Дата')\n",
    "plt.ylabel('Сумма выручки')\n",
    "plt.show()"
   ]
  },
  {
   "cell_type": "markdown",
   "id": "d7e44a95",
   "metadata": {},
   "source": [
    "C 2019-08-17 по 2019-08-18 - сумма заказов группы А не сильно отличается от группы B.\n",
    "\n",
    "с 2019-08-19 по 2019-08-21  - сумма заказов группы А от группы B очень сильно падает. "
   ]
  },
  {
   "cell_type": "code",
   "execution_count": 29,
   "id": "c48eb56e",
   "metadata": {},
   "outputs": [
    {
     "data": {
      "image/png": "[encoded data removed]",
      "text/plain": [
       "<Figure size 432x288 with 1 Axes>"
      ]
     },
     "metadata": {
      "needs_background": "light"
     },
     "output_type": "display_data"
    }
   ],
   "source": [
    "#Создали срез с учетом дат где проишел рост \n",
    "cumulativeRevenueA_ = (cumulativeRevenueA[(cumulativeRevenueA['date'] >= '2019-08-17') \n",
    "                                          &  (cumulativeRevenueA['date'] <= '2019-08-21')])\n",
    "#Создали срез с учетом дат где проишел рост                        \n",
    "cumulativeRevenueB_= (cumulativeRevenueB[(cumulativeRevenueB['date'] >= '2019-08-17') \n",
    "                                          &  (cumulativeRevenueB['date'] <= '2019-08-21')])\n",
    "\n",
    "# Строим график выручки группы А\n",
    "plt.plot(cumulativeRevenueA_['date'], cumulativeRevenueA_['revenue'], label='A')\n",
    "\n",
    "# Строим график выручки группы B\n",
    "plt.plot(cumulativeRevenueB_['date'], cumulativeRevenueB_['revenue'], label='B')\n",
    "\n",
    "plt.legend(fontsize=15)\n",
    "plt.xticks(rotation=45)\n",
    "plt.title('График выручки Группы А и B по датам')\n",
    "plt.xlabel('Дата')\n",
    "plt.ylabel('Сумма выручки')\n",
    "plt.show()"
   ]
  },
  {
   "cell_type": "code",
   "execution_count": 30,
   "id": "fb6c8558",
   "metadata": {},
   "outputs": [
    {
     "data": {
      "text/html": [
       "<div>\n",
       "<style scoped>\n",
       "    .dataframe tbody tr th:only-of-type {\n",
       "        vertical-align: middle;\n",
       "    }\n",
       "\n",
       "    .dataframe tbody tr th {\n",
       "        vertical-align: top;\n",
       "    }\n",
       "\n",
       "    .dataframe thead th {\n",
       "        text-align: right;\n",
       "    }\n",
       "</style>\n",
       "<table border=\"1\" class=\"dataframe\">\n",
       "  <thead>\n",
       "    <tr style=\"text-align: right;\">\n",
       "      <th></th>\n",
       "      <th>date</th>\n",
       "      <th>revenue</th>\n",
       "      <th>orders</th>\n",
       "    </tr>\n",
       "  </thead>\n",
       "  <tbody>\n",
       "    <tr>\n",
       "      <th>32</th>\n",
       "      <td>2019-08-17</td>\n",
       "      <td>2129769</td>\n",
       "      <td>311</td>\n",
       "    </tr>\n",
       "    <tr>\n",
       "      <th>34</th>\n",
       "      <td>2019-08-18</td>\n",
       "      <td>2202167</td>\n",
       "      <td>328</td>\n",
       "    </tr>\n",
       "    <tr>\n",
       "      <th>36</th>\n",
       "      <td>2019-08-19</td>\n",
       "      <td>2391910</td>\n",
       "      <td>350</td>\n",
       "    </tr>\n",
       "    <tr>\n",
       "      <th>38</th>\n",
       "      <td>2019-08-20</td>\n",
       "      <td>2469529</td>\n",
       "      <td>362</td>\n",
       "    </tr>\n",
       "    <tr>\n",
       "      <th>40</th>\n",
       "      <td>2019-08-21</td>\n",
       "      <td>2643838</td>\n",
       "      <td>385</td>\n",
       "    </tr>\n",
       "  </tbody>\n",
       "</table>\n",
       "</div>"
      ],
      "text/plain": [
       "         date  revenue  orders\n",
       "32 2019-08-17  2129769     311\n",
       "34 2019-08-18  2202167     328\n",
       "36 2019-08-19  2391910     350\n",
       "38 2019-08-20  2469529     362\n",
       "40 2019-08-21  2643838     385"
      ]
     },
     "metadata": {},
     "output_type": "display_data"
    },
    {
     "data": {
      "text/html": [
       "<div>\n",
       "<style scoped>\n",
       "    .dataframe tbody tr th:only-of-type {\n",
       "        vertical-align: middle;\n",
       "    }\n",
       "\n",
       "    .dataframe tbody tr th {\n",
       "        vertical-align: top;\n",
       "    }\n",
       "\n",
       "    .dataframe thead th {\n",
       "        text-align: right;\n",
       "    }\n",
       "</style>\n",
       "<table border=\"1\" class=\"dataframe\">\n",
       "  <thead>\n",
       "    <tr style=\"text-align: right;\">\n",
       "      <th></th>\n",
       "      <th>date</th>\n",
       "      <th>revenue</th>\n",
       "      <th>orders</th>\n",
       "    </tr>\n",
       "  </thead>\n",
       "  <tbody>\n",
       "    <tr>\n",
       "      <th>33</th>\n",
       "      <td>2019-08-17</td>\n",
       "      <td>2620790</td>\n",
       "      <td>373</td>\n",
       "    </tr>\n",
       "    <tr>\n",
       "      <th>35</th>\n",
       "      <td>2019-08-18</td>\n",
       "      <td>2686621</td>\n",
       "      <td>382</td>\n",
       "    </tr>\n",
       "    <tr>\n",
       "      <th>37</th>\n",
       "      <td>2019-08-19</td>\n",
       "      <td>4116541</td>\n",
       "      <td>403</td>\n",
       "    </tr>\n",
       "    <tr>\n",
       "      <th>39</th>\n",
       "      <td>2019-08-20</td>\n",
       "      <td>4263815</td>\n",
       "      <td>423</td>\n",
       "    </tr>\n",
       "    <tr>\n",
       "      <th>41</th>\n",
       "      <td>2019-08-21</td>\n",
       "      <td>4426892</td>\n",
       "      <td>437</td>\n",
       "    </tr>\n",
       "  </tbody>\n",
       "</table>\n",
       "</div>"
      ],
      "text/plain": [
       "         date  revenue  orders\n",
       "33 2019-08-17  2620790     373\n",
       "35 2019-08-18  2686621     382\n",
       "37 2019-08-19  4116541     403\n",
       "39 2019-08-20  4263815     423\n",
       "41 2019-08-21  4426892     437"
      ]
     },
     "execution_count": 30,
     "metadata": {},
     "output_type": "execute_result"
    }
   ],
   "source": [
    "display(cumulativeRevenueA_.head())\n",
    "cumulativeRevenueB_.head()"
   ]
  },
  {
   "cell_type": "markdown",
   "id": "161896a4",
   "metadata": {},
   "source": [
    "На данном отрезке графика видно на сколько сильно случился рост показателей группы B от группы А"
   ]
  },
  {
   "cell_type": "markdown",
   "id": "08959163",
   "metadata": {},
   "source": [
    "### Вывод"
   ]
  },
  {
   "cell_type": "markdown",
   "id": "5d5bdf55",
   "metadata": {},
   "source": [
    "Рост группы А линейный.\n",
    "\n",
    "Рост группы B до даты 2019-08-17 тоже линейный.\n",
    "\n",
    "После этой даты идет резкий всплекск, возможно были очень дорогие заказы\n",
    "\n"
   ]
  },
  {
   "cell_type": "markdown",
   "id": "1f3fbaaa",
   "metadata": {},
   "source": [
    "##  Постройте график кумулятивного среднего чека по группам. Сделайте выводы и предположения."
   ]
  },
  {
   "cell_type": "code",
   "execution_count": 31,
   "id": "cb64336d",
   "metadata": {},
   "outputs": [
    {
     "data": {
      "image/png": "[encoded data removed]",
      "text/plain": [
       "<Figure size 432x288 with 1 Axes>"
      ]
     },
     "metadata": {
      "needs_background": "light"
     },
     "output_type": "display_data"
    }
   ],
   "source": [
    "#Uрафик кумулятивного среднего чека по группам#\n",
    "plt.plot(cumulativeRevenueA['date'], cumulativeRevenueA['revenue']/cumulativeRevenueA['orders'], label='A')\n",
    "plt.plot(cumulativeRevenueB['date'], cumulativeRevenueB['revenue']/cumulativeRevenueB['orders'], label='B')\n",
    "plt.legend(fontsize=15)\n",
    "plt.xticks(rotation=45)\n",
    "plt.title('График кумулятивного среднего чека по группам')\n",
    "plt.xlabel('дата')\n",
    "plt.ylabel('Средний чек')\n",
    "plt.show()"
   ]
  },
  {
   "cell_type": "markdown",
   "id": "cb258378",
   "metadata": {},
   "source": [
    "### Вывод"
   ]
  },
  {
   "cell_type": "markdown",
   "id": "c1792a50",
   "metadata": {},
   "source": [
    "Група B имеет не самый удачный старт по среднему чеку, но каждый день его увеличивает, на графике видно хорошо рост с последующей корректировкой. После 2019-08-17 идет резкий рост среднего чека. Что говорит нам о крупных покупках. С последующей корректировкой. \n",
    "\n",
    "Группа А наоборот имет удачный старт по сумме среднего чека, но теряет сумму среднего чека до 2019-08-06, после происходит рост и выход на плато среднего чека с даты 2019-08-13. "
   ]
  },
  {
   "cell_type": "markdown",
   "id": "c74bb430",
   "metadata": {},
   "source": [
    "## Постройте график относительного изменения кумулятивного среднего чека группы B к группе A. Сделайте выводы и предположения."
   ]
  },
  {
   "cell_type": "code",
   "execution_count": 32,
   "id": "c998e514",
   "metadata": {},
   "outputs": [
    {
     "data": {
      "image/png": "[encoded data removed]",
      "text/plain": [
       "<Figure size 432x288 with 1 Axes>"
      ]
     },
     "metadata": {
      "needs_background": "light"
     },
     "output_type": "display_data"
    }
   ],
   "source": [
    "# собираем данные в одном датафрейме\n",
    "mergedCumulativeRevenue = cumulativeRevenueA.merge(cumulativeRevenueB, left_on='date', right_on='date', how='left', suffixes=['A', 'B'])\n",
    "\n",
    "# cтроим отношение средних чеков\n",
    "plt.plot(mergedCumulativeRevenue['date'], (mergedCumulativeRevenue['revenueB']/mergedCumulativeRevenue['ordersB'])/(mergedCumulativeRevenue['revenueA']/mergedCumulativeRevenue['ordersA'])-1)\n",
    "\n",
    "# добавляем ось X\n",
    "plt.axhline(y=0, color='black', linestyle='--')\n",
    "plt.xticks(rotation=45)\n",
    "plt.title('График относительного изменения кумулятивного среднего чека группы B к группе A')\n",
    "plt.xlabel('Дата')\n",
    "plt.ylabel('Средний чек')\n",
    "plt.show()"
   ]
  },
  {
   "cell_type": "markdown",
   "id": "680c6046",
   "metadata": {},
   "source": [
    "### Вывод"
   ]
  },
  {
   "cell_type": "markdown",
   "id": "e3aa9f1f",
   "metadata": {},
   "source": [
    "График похож на американскте горки, можем сказать точно. Это крупные заказа, которые создают такие выбросы. "
   ]
  },
  {
   "cell_type": "markdown",
   "id": "a1348794",
   "metadata": {},
   "source": [
    "## Постройте график кумулятивного среднего количества заказов на посетителя по группам. Сделайте выводы и предположения."
   ]
  },
  {
   "cell_type": "code",
   "execution_count": 33,
   "id": "9a049987",
   "metadata": {},
   "outputs": [
    {
     "data": {
      "image/png": "[encoded data removed]",
      "text/plain": [
       "<Figure size 432x288 with 1 Axes>"
      ]
     },
     "metadata": {
      "needs_background": "light"
     },
     "output_type": "display_data"
    }
   ],
   "source": [
    "# считаем кумулятивную конверсию\n",
    "cumulativeData['conversion'] = cumulativeData['orders']/cumulativeData['visitors']\n",
    "\n",
    "# отделяем данные по группе A\n",
    "cumulativeDataA = cumulativeData[cumulativeData['group']=='A']\n",
    "\n",
    "# отделяем данные по группе B\n",
    "cumulativeDataB = cumulativeData[cumulativeData['group']=='B']\n",
    "\n",
    "# строим графики\n",
    "plt.plot(cumulativeDataA['date'], cumulativeDataA['conversion'], label='A')\n",
    "plt.plot(cumulativeDataB['date'], cumulativeDataB['conversion'], label='B')\n",
    "plt.legend(fontsize=15)\n",
    "plt.xticks(rotation=45)\n",
    "plt.title('График кумулятивного среднего количества заказов')\n",
    "plt.xlabel('Дата')\n",
    "plt.ylabel('Заказы')\n",
    "plt.show()"
   ]
  },
  {
   "cell_type": "markdown",
   "id": "7e070b42",
   "metadata": {},
   "source": [
    "### Вывод"
   ]
  },
  {
   "cell_type": "markdown",
   "id": "f8b47dae",
   "metadata": {},
   "source": [
    "Группа Б и А в начале имеют высокую волатильность.\n",
    "Конверсия группы Б показываает рост в отличии от группы А."
   ]
  },
  {
   "cell_type": "markdown",
   "id": "8a09fdb6",
   "metadata": {},
   "source": [
    "## Постройте график относительного изменения кумулятивного среднего количества заказов на посетителя группы B к группе A. Сделайте выводы и предположения."
   ]
  },
  {
   "cell_type": "code",
   "execution_count": 34,
   "id": "5d26a5dd",
   "metadata": {},
   "outputs": [
    {
     "data": {
      "image/png": "[encoded data removed]",
      "text/plain": [
       "<Figure size 432x288 with 1 Axes>"
      ]
     },
     "metadata": {
      "needs_background": "light"
     },
     "output_type": "display_data"
    }
   ],
   "source": [
    "#график относительного изменения кумулятивного среднего количества заказов на посетителя\n",
    "mergedCumulativeConversions = (cumulativeDataA[['date','conversion']]\n",
    "                               .merge(cumulativeDataB[['date','conversion']]\n",
    "                                      ,left_on='date', right_on='date'\n",
    "                                      ,how='left',suffixes=['A', 'B'])\n",
    "              )\n",
    "(plt.plot(mergedCumulativeConversions['date'],\n",
    "          mergedCumulativeConversions['conversionB']/mergedCumulativeConversions['conversionA']-1,\n",
    "          label=\"Относительный прирост конверсии группы B относительно группы A\"))\n",
    "plt.axhline(y=0, color='black', linestyle='--')\n",
    "plt.axhline(y=-0.1, color='grey', linestyle='--')\n",
    "plt.xticks(rotation=45)\n",
    "plt.title('График относительного изменения кумулятивного среднего количества заказов на посетителя группы B к группе A')\n",
    "plt.xlabel('Дата')\n",
    "plt.ylabel('Заказы')\n",
    "plt.show()\n"
   ]
  },
  {
   "cell_type": "markdown",
   "id": "c0789069",
   "metadata": {},
   "source": [
    "### Вывод"
   ]
  },
  {
   "cell_type": "markdown",
   "id": "7a9b49e4",
   "metadata": {},
   "source": [
    "Количество средних заказов группы B было низкое в начале. Последующий огромный рост средних заказов относительно группы А, но мы знаем что у нас есть выбросы в группе B."
   ]
  },
  {
   "cell_type": "markdown",
   "id": "fb61e336",
   "metadata": {},
   "source": [
    "## Постройте точечный график количества заказов по пользователям. Сделайте выводы и предположения."
   ]
  },
  {
   "cell_type": "code",
   "execution_count": 35,
   "id": "9ab6c414",
   "metadata": {
    "scrolled": false
   },
   "outputs": [
    {
     "data": {
      "image/png": "[encoded data removed]",
      "text/plain": [
       "<Figure size 432x288 with 1 Axes>"
      ]
     },
     "metadata": {
      "needs_background": "light"
     },
     "output_type": "display_data"
    }
   ],
   "source": [
    "ordersByUsers = (\n",
    "    orders.groupby('visitorid', as_index=False)\n",
    "    .agg({'transactionid': 'nunique'})\n",
    ")\n",
    "ordersByUsers.columns = ['visitorid', 'transactionid']\n",
    "\n",
    "ordersByUsers.sort_values(by='transactionid', ascending=False).head(10)\n",
    "\n",
    "# серия из чисел от 0 до количества наблюдений в ordersByUsers\n",
    "x_values = pd.Series(range(0, len(ordersByUsers)))\n",
    "y_values = ordersByUsers['transactionid']\n",
    "plt.scatter(x = x_values, y = y_values )\n",
    "plt.title('График количества заказов по пользователям')\n",
    "plt.xlabel('Как часто заказывают заказы')\n",
    "plt.ylabel('Количество заказов')\n",
    "plt.show()"
   ]
  },
  {
   "cell_type": "markdown",
   "id": "8e399d1c",
   "metadata": {},
   "source": [
    "### Вывод"
   ]
  },
  {
   "cell_type": "markdown",
   "id": "1f00db2a",
   "metadata": {},
   "source": [
    "Можем сделать вывод, один пользователь делает один заказ.\n",
    "Не так часто пользователь делает 2 заказа.\n",
    "Есть пользователи которые делают от 3 до 5 заказов. \n",
    "И есть пользователи супер шопоголики они делают от 8 до 11 заказов(в данном случае это выбросы для нас)\n"
   ]
  },
  {
   "cell_type": "markdown",
   "id": "57f5e9c7",
   "metadata": {},
   "source": [
    "##  Посчитайте 95-й и 99-й перцентили количества заказов на пользователя. Выберите границу для определения аномальных пользователей."
   ]
  },
  {
   "cell_type": "code",
   "execution_count": 36,
   "id": "330a50fa",
   "metadata": {},
   "outputs": [
    {
     "data": {
      "text/plain": [
       "array([2., 4.])"
      ]
     },
     "execution_count": 36,
     "metadata": {},
     "output_type": "execute_result"
    }
   ],
   "source": [
    "#Считаем 95-й и 99-й перцентили количества заказов на пользователя\n",
    "np.percentile(ordersByUsers['transactionid'], [95, 99])"
   ]
  },
  {
   "cell_type": "markdown",
   "id": "43bae171",
   "metadata": {},
   "source": [
    "### Вывод"
   ]
  },
  {
   "cell_type": "markdown",
   "id": "334932c7",
   "metadata": {},
   "source": [
    "5% пользователей заказывают 2 заказа.\n",
    "1% пользователей заказывает 4 заказа. Можем сказать что 4 заказа это выбросы."
   ]
  },
  {
   "cell_type": "markdown",
   "id": "939658e4",
   "metadata": {},
   "source": [
    "##   Постройте точечный график стоимостей заказов. Сделайте выводы и предположения."
   ]
  },
  {
   "cell_type": "code",
   "execution_count": 37,
   "id": "085ef126",
   "metadata": {},
   "outputs": [
    {
     "data": {
      "text/plain": [
       "1294500"
      ]
     },
     "execution_count": 37,
     "metadata": {},
     "output_type": "execute_result"
    }
   ],
   "source": [
    "#Посмотирм максимальное значяение\n",
    "orders_fix = (orders['revenue'])\n",
    "orders_fix.max()"
   ]
  },
  {
   "cell_type": "code",
   "execution_count": 38,
   "id": "686222f3",
   "metadata": {},
   "outputs": [
    {
     "data": {
      "image/png": "[encoded data removed]",
      "text/plain": [
       "<Figure size 432x288 with 1 Axes>"
      ]
     },
     "metadata": {
      "needs_background": "light"
     },
     "output_type": "display_data"
    }
   ],
   "source": [
    "#Строим точечный график стоимости заказов \n",
    "x_values = pd.Series(range(0, len(orders_fix)))\n",
    "plt.scatter(x=x_values, y=orders_fix)\n",
    "plt.title('График стоимостей заказов')\n",
    "plt.xlabel('Как часто заказывают заказы')\n",
    "plt.ylabel('Сумма стоимости заказа')\n",
    "plt.show()"
   ]
  },
  {
   "cell_type": "code",
   "execution_count": 39,
   "id": "35676f84",
   "metadata": {},
   "outputs": [],
   "source": [
    "#Удалили самый большой заказ\n",
    "orders_fix_nonmax = orders_fix.drop(orders_fix[orders_fix == orders_fix.max()].index)"
   ]
  },
  {
   "cell_type": "code",
   "execution_count": 40,
   "id": "152eab5b",
   "metadata": {},
   "outputs": [
    {
     "data": {
      "text/plain": [
       "202740"
      ]
     },
     "execution_count": 40,
     "metadata": {},
     "output_type": "execute_result"
    }
   ],
   "source": [
    "#Проверили что работает\n",
    "orders_fix_nonmax.max()"
   ]
  },
  {
   "cell_type": "code",
   "execution_count": 41,
   "id": "002e8cc9",
   "metadata": {},
   "outputs": [
    {
     "data": {
      "image/png": "[encoded data removed]",
      "text/plain": [
       "<Figure size 432x288 with 1 Axes>"
      ]
     },
     "metadata": {
      "needs_background": "light"
     },
     "output_type": "display_data"
    }
   ],
   "source": [
    "#Строим точечный график без самого большого заказа\n",
    "x_values = pd.Series(range(0, len(orders_fix_nonmax)))\n",
    "plt.scatter(x=x_values, y=orders_fix_nonmax)\n",
    "plt.title('График стоимостей заказов без учета самого дорогова заказа')\n",
    "plt.xlabel('Как часто заказывают заказы')\n",
    "plt.ylabel('Сумма стоимости заказа')\n",
    "plt.show()"
   ]
  },
  {
   "cell_type": "markdown",
   "id": "6e22e560",
   "metadata": {},
   "source": [
    "Такой вариант графика более наглядный для понимание, что происходит. "
   ]
  },
  {
   "cell_type": "code",
   "execution_count": 42,
   "id": "39f13cc0",
   "metadata": {},
   "outputs": [
    {
     "data": {
      "text/plain": [
       "50"
      ]
     },
     "execution_count": 42,
     "metadata": {},
     "output_type": "execute_result"
    }
   ],
   "source": [
    "#Самый минимальный заказ\n",
    "orders_fix_nonmax.min()"
   ]
  },
  {
   "cell_type": "markdown",
   "id": "27a951b5",
   "metadata": {},
   "source": [
    "### Вывод "
   ]
  },
  {
   "cell_type": "markdown",
   "id": "b0378eb5",
   "metadata": {},
   "source": [
    "Построили график без самого большого заказа, такой вариант нам показывает,что много заказов от 50 рублей до 20.000 тысяч."
   ]
  },
  {
   "cell_type": "markdown",
   "id": "9ff45cb4",
   "metadata": {},
   "source": [
    "## Посчитайте 95-й и 99-й перцентили стоимости заказов. Выберите границу для определения аномальных заказов."
   ]
  },
  {
   "cell_type": "code",
   "execution_count": 43,
   "id": "46f4831b",
   "metadata": {},
   "outputs": [
    {
     "data": {
      "text/plain": [
       "array([28000. , 58233.2])"
      ]
     },
     "execution_count": 43,
     "metadata": {},
     "output_type": "execute_result"
    }
   ],
   "source": [
    "#Считаем 95-й и 99-й перцентили количества заказов на пользователя\n",
    "np.percentile(orders_fix, [95, 99])"
   ]
  },
  {
   "cell_type": "markdown",
   "id": "e236ca5d",
   "metadata": {},
   "source": [
    "### Вывод"
   ]
  },
  {
   "cell_type": "markdown",
   "id": "c5d4d422",
   "metadata": {},
   "source": [
    "5% заказов было сделано больше 28.000 тысяч и 1 процент заказов составили 58.233 тысячи рублей.\n",
    "Будем считать все что вышел 1% выбросами."
   ]
  },
  {
   "cell_type": "markdown",
   "id": "e91c3eed",
   "metadata": {},
   "source": [
    "## Посчитайте статистическую значимость различий в среднем количестве заказов на посетителя между группами по «сырым» данным. Сделайте выводы и предположения.\n",
    "    "
   ]
  },
  {
   "cell_type": "markdown",
   "id": "019dde67",
   "metadata": {},
   "source": [
    "Оценили результаты A/B-теста визуально и выяснили, что в данных, скорее всего, есть выбросы.\n",
    "\n",
    "Увидели выбросы и нашли границу для их определения.\n",
    "\n",
    "\n",
    "Посчитаем статистическую значимость различий в среднем числе заказов на пользователя и среднем чеке между\n",
    "группами по «сырым» данным — без удаления аномальных пользователей.\n",
    "\n",
    "Сформулируем гипотезы. \n",
    "\n",
    "  H0 - различий в конверсии между группами нет \n",
    "  \n",
    "  H1 - различия в конверсии между между группами есть"
   ]
  },
  {
   "cell_type": "code",
   "execution_count": 44,
   "id": "baa8166e",
   "metadata": {},
   "outputs": [
    {
     "data": {
      "text/html": [
       "<div>\n",
       "<style scoped>\n",
       "    .dataframe tbody tr th:only-of-type {\n",
       "        vertical-align: middle;\n",
       "    }\n",
       "\n",
       "    .dataframe tbody tr th {\n",
       "        vertical-align: top;\n",
       "    }\n",
       "\n",
       "    .dataframe thead th {\n",
       "        text-align: right;\n",
       "    }\n",
       "</style>\n",
       "<table border=\"1\" class=\"dataframe\">\n",
       "  <thead>\n",
       "    <tr style=\"text-align: right;\">\n",
       "      <th></th>\n",
       "      <th>date</th>\n",
       "      <th>ordersPerDateA</th>\n",
       "      <th>revenuePerDateA</th>\n",
       "      <th>ordersPerDateB</th>\n",
       "      <th>revenuePerDateB</th>\n",
       "      <th>ordersCummulativeA</th>\n",
       "      <th>revenueCummulativeA</th>\n",
       "      <th>ordersCummulativeB</th>\n",
       "      <th>revenueCummulativeB</th>\n",
       "      <th>visitorsPerDateA</th>\n",
       "      <th>visitorsPerDateB</th>\n",
       "      <th>visitorsCummulativeA</th>\n",
       "      <th>visitorsCummulativeB</th>\n",
       "    </tr>\n",
       "  </thead>\n",
       "  <tbody>\n",
       "    <tr>\n",
       "      <th>0</th>\n",
       "      <td>2019-08-01</td>\n",
       "      <td>24</td>\n",
       "      <td>148579</td>\n",
       "      <td>21</td>\n",
       "      <td>101217</td>\n",
       "      <td>24</td>\n",
       "      <td>148579</td>\n",
       "      <td>21</td>\n",
       "      <td>101217</td>\n",
       "      <td>719</td>\n",
       "      <td>713</td>\n",
       "      <td>719</td>\n",
       "      <td>713</td>\n",
       "    </tr>\n",
       "    <tr>\n",
       "      <th>1</th>\n",
       "      <td>2019-08-02</td>\n",
       "      <td>20</td>\n",
       "      <td>93822</td>\n",
       "      <td>24</td>\n",
       "      <td>165531</td>\n",
       "      <td>44</td>\n",
       "      <td>242401</td>\n",
       "      <td>45</td>\n",
       "      <td>266748</td>\n",
       "      <td>619</td>\n",
       "      <td>581</td>\n",
       "      <td>1338</td>\n",
       "      <td>1294</td>\n",
       "    </tr>\n",
       "    <tr>\n",
       "      <th>2</th>\n",
       "      <td>2019-08-03</td>\n",
       "      <td>24</td>\n",
       "      <td>112473</td>\n",
       "      <td>16</td>\n",
       "      <td>114248</td>\n",
       "      <td>68</td>\n",
       "      <td>354874</td>\n",
       "      <td>61</td>\n",
       "      <td>380996</td>\n",
       "      <td>507</td>\n",
       "      <td>509</td>\n",
       "      <td>1845</td>\n",
       "      <td>1803</td>\n",
       "    </tr>\n",
       "    <tr>\n",
       "      <th>3</th>\n",
       "      <td>2019-08-04</td>\n",
       "      <td>16</td>\n",
       "      <td>70825</td>\n",
       "      <td>17</td>\n",
       "      <td>108571</td>\n",
       "      <td>84</td>\n",
       "      <td>425699</td>\n",
       "      <td>78</td>\n",
       "      <td>489567</td>\n",
       "      <td>717</td>\n",
       "      <td>770</td>\n",
       "      <td>2562</td>\n",
       "      <td>2573</td>\n",
       "    </tr>\n",
       "    <tr>\n",
       "      <th>4</th>\n",
       "      <td>2019-08-05</td>\n",
       "      <td>25</td>\n",
       "      <td>124218</td>\n",
       "      <td>23</td>\n",
       "      <td>92428</td>\n",
       "      <td>109</td>\n",
       "      <td>549917</td>\n",
       "      <td>101</td>\n",
       "      <td>581995</td>\n",
       "      <td>756</td>\n",
       "      <td>707</td>\n",
       "      <td>3318</td>\n",
       "      <td>3280</td>\n",
       "    </tr>\n",
       "  </tbody>\n",
       "</table>\n",
       "</div>"
      ],
      "text/plain": [
       "        date  ordersPerDateA  revenuePerDateA  ordersPerDateB  \\\n",
       "0 2019-08-01              24           148579              21   \n",
       "1 2019-08-02              20            93822              24   \n",
       "2 2019-08-03              24           112473              16   \n",
       "3 2019-08-04              16            70825              17   \n",
       "4 2019-08-05              25           124218              23   \n",
       "\n",
       "   revenuePerDateB  ordersCummulativeA  revenueCummulativeA  \\\n",
       "0           101217                  24               148579   \n",
       "1           165531                  44               242401   \n",
       "2           114248                  68               354874   \n",
       "3           108571                  84               425699   \n",
       "4            92428                 109               549917   \n",
       "\n",
       "   ordersCummulativeB  revenueCummulativeB  visitorsPerDateA  \\\n",
       "0                  21               101217               719   \n",
       "1                  45               266748               619   \n",
       "2                  61               380996               507   \n",
       "3                  78               489567               717   \n",
       "4                 101               581995               756   \n",
       "\n",
       "   visitorsPerDateB  visitorsCummulativeA  visitorsCummulativeB  \n",
       "0               713                   719                   713  \n",
       "1               581                  1338                  1294  \n",
       "2               509                  1845                  1803  \n",
       "3               770                  2562                  2573  \n",
       "4               707                  3318                  3280  "
      ]
     },
     "execution_count": 44,
     "metadata": {},
     "output_type": "execute_result"
    }
   ],
   "source": [
    "# Считаем статистическую значимость различий в среднем числе заказов \n",
    "# на пользователя и среднем чеке между группами по «сырым» данным — без удаления аномальных пользователей.\n",
    "\n",
    "visitorsADaily = visitors[visitors['group'] == 'A'][['date', 'visitors']]\n",
    "visitorsADaily.columns = ['date', 'visitorsPerDateA']\n",
    "\n",
    "visitorsACummulative = visitorsADaily.apply(\n",
    "    lambda x: visitorsADaily[visitorsADaily['date'] <= x['date']].agg(\n",
    "        {'date': 'max', 'visitorsPerDateA': 'sum'}\n",
    "    ),\n",
    "    axis=1,\n",
    ")\n",
    "visitorsACummulative.columns = ['date', 'visitorsCummulativeA']\n",
    "\n",
    "visitorsBDaily = visitors[visitors['group'] == 'B'][['date', 'visitors']]\n",
    "visitorsBDaily.columns = ['date', 'visitorsPerDateB']\n",
    "\n",
    "visitorsBCummulative = visitorsBDaily.apply(\n",
    "    lambda x: visitorsBDaily[visitorsBDaily['date'] <= x['date']].agg(\n",
    "        {'date': 'max', 'visitorsPerDateB': 'sum'}\n",
    "    ),\n",
    "    axis=1,\n",
    ")\n",
    "visitorsBCummulative.columns = ['date', 'visitorsCummulativeB']\n",
    "\n",
    "ordersADaily = (\n",
    "    orders[orders['group'] == 'A'][['date', 'transactionid', 'visitorid', 'revenue']]\n",
    "    .groupby('date', as_index=False)\n",
    "    .agg({'transactionid': pd.Series.nunique, 'revenue': 'sum'})\n",
    ")\n",
    "ordersADaily.columns = ['date', 'ordersPerDateA', 'revenuePerDateA']\n",
    "\n",
    "ordersACummulative = ordersADaily.apply(\n",
    "    lambda x: ordersADaily[ordersADaily['date'] <= x['date']].agg(\n",
    "        {'date': 'max', 'ordersPerDateA': 'sum', 'revenuePerDateA': 'sum'}\n",
    "    ),\n",
    "    axis=1,\n",
    ").sort_values(by=['date'])\n",
    "ordersACummulative.columns = [\n",
    "    'date',\n",
    "    'ordersCummulativeA',\n",
    "    'revenueCummulativeA',\n",
    "]\n",
    "\n",
    "ordersBDaily = (\n",
    "    orders[orders['group'] == 'B'][['date', 'transactionid', 'visitorid', 'revenue']]\n",
    "    .groupby('date', as_index=False)\n",
    "    .agg({'transactionid': pd.Series.nunique, 'revenue': 'sum'})\n",
    ")\n",
    "ordersBDaily.columns = ['date', 'ordersPerDateB', 'revenuePerDateB']\n",
    "\n",
    "ordersBCummulative = ordersBDaily.apply(\n",
    "    lambda x: ordersBDaily[ordersBDaily['date'] <= x['date']].agg(\n",
    "        {'date': 'max', 'ordersPerDateB': 'sum', 'revenuePerDateB': 'sum'}\n",
    "    ),\n",
    "    axis=1,\n",
    ").sort_values(by=['date'])\n",
    "ordersBCummulative.columns = [\n",
    "    'date',\n",
    "    'ordersCummulativeB',\n",
    "    'revenueCummulativeB',\n",
    "]\n",
    "\n",
    "data = (\n",
    "    ordersADaily.merge(\n",
    "        ordersBDaily, left_on='date', right_on='date', how='left'\n",
    "    )\n",
    "    .merge(ordersACummulative, left_on='date', right_on='date', how='left')\n",
    "    .merge(ordersBCummulative, left_on='date', right_on='date', how='left')\n",
    "    .merge(visitorsADaily, left_on='date', right_on='date', how='left')\n",
    "    .merge(visitorsBDaily, left_on='date', right_on='date', how='left')\n",
    "    .merge(visitorsACummulative, left_on='date', right_on='date', how='left')\n",
    "    .merge(visitorsBCummulative, left_on='date', right_on='date', how='left')\n",
    ")\n",
    "\n",
    "data.head(5)"
   ]
  },
  {
   "cell_type": "markdown",
   "id": "17769103",
   "metadata": {},
   "source": [
    "Напомним названия столбцов данных:\n",
    "\n",
    "    date — дата;\n",
    "    ordersPerDateA — количество заказов в выбранную дату в группе A;\n",
    "    revenuePerDateA — суммарная выручка в выбранную дату в группе A;\n",
    "    ordersPerDateB — количество заказов в выбранную дату в группе B;\n",
    "    revenuePerDateB — суммарная выручка в выбранную дату в группе B;\n",
    "    ordersCummulativeA — суммарное число заказов до выбранной даты включительно в группе A;\n",
    "    revenueCummulativeA — суммарная выручка до выбранной даты включительно в группе A;\n",
    "    ordersCummulativeB — суммарное количество заказов до выбранной даты включительно в группе B;\n",
    "    revenueCummulativeB — суммарная выручка до выбранной даты включительно в группе B;\n",
    "    visitorsPerDateA — количество пользователей в выбранную дату в группе A;\n",
    "    visitorsPerDateB — количество пользователей в выбранную дату в группе B;\n",
    "    visitorsCummulativeA  — количество пользователей до выбранной даты включительно в группе A;\n",
    "    visitorsCummulativeB — количество пользователей до выбранной даты включительно в группе B."
   ]
  },
  {
   "cell_type": "code",
   "execution_count": 45,
   "id": "2133ea5d",
   "metadata": {},
   "outputs": [],
   "source": [
    "# Создадим переменные ordersByUsersA и ordersByUsersB со столбцами ['userId', 'orders'].\n",
    "# В них для пользователей, которые заказывали хотя бы 1 раз, укажем число совершённых заказов.\n",
    "\n",
    "ordersByUsersA = (\n",
    "    orders[orders['group'] == 'A']\n",
    "    .groupby('visitorid', as_index=False)\n",
    "    .agg({'transactionid': pd.Series.nunique})\n",
    ")\n",
    "ordersByUsersA.columns = ['visitorid', 'transactionid']\n",
    "\n",
    "ordersByUsersB = (\n",
    "    orders[orders['group'] == 'B']\n",
    "    .groupby('visitorid', as_index=False)\n",
    "    .agg({'transactionid': pd.Series.nunique})\n",
    ")\n",
    "ordersByUsersB.columns = ['visitorid', 'transactionid']"
   ]
  },
  {
   "cell_type": "code",
   "execution_count": 46,
   "id": "6ba23abd",
   "metadata": {},
   "outputs": [],
   "source": [
    "# Cоздадим sampleA и sampleB, в которых пользователям из разных групп будет соответствовать\n",
    "# количество заказов.\n",
    "sampleA = (pd.concat([ordersByUsersA['transactionid']\n",
    "                      ,pd.Series(0, index=np.arange(data['visitorsPerDateA']\n",
    "                       .sum() - len(ordersByUsersA['transactionid']))\n",
    "                                 , name='orders')],axis=0))\n",
    "\n",
    "sampleB = (pd.concat([ordersByUsersB['transactionid']\n",
    "                      ,pd.Series(0, index=np.arange(data['visitorsPerDateB']\n",
    "                       .sum() - len(ordersByUsersB['transactionid']))\n",
    "                                 ,name='orders')],axis=0))"
   ]
  },
  {
   "cell_type": "markdown",
   "id": "f4a5324a",
   "metadata": {},
   "source": [
    "Задаем уровень значимости alpha=0.05\n",
    "\n",
    "Применим критерий Манна-Уитни"
   ]
  },
  {
   "cell_type": "code",
   "execution_count": 47,
   "id": "70e589ff",
   "metadata": {},
   "outputs": [
    {
     "name": "stdout",
     "output_type": "stream",
     "text": [
      "p-value 0.017\n",
      "Относительный прирост группы В к группе А 0.138\n"
     ]
    }
   ],
   "source": [
    "ordersByUsersA = (\n",
    "    orders[orders['group'] == 'A']\n",
    "    .groupby('visitorid', as_index=False)\n",
    "    .agg({'transactionid': pd.Series.nunique})\n",
    ")\n",
    "ordersByUsersA.columns = ['visitorid', 'transactionid']\n",
    "\n",
    "ordersByUsersB = (\n",
    "    orders[orders['group'] == 'B']\n",
    "    .groupby('visitorid', as_index=False)\n",
    "    .agg({'transactionid': pd.Series.nunique})\n",
    ")\n",
    "ordersByUsersB.columns = ['visitorid', 'transactionid']\n",
    "\n",
    "sampleA = pd.concat(\n",
    "    [\n",
    "        ordersByUsersA['transactionid'],\n",
    "        pd.Series(\n",
    "            0,\n",
    "            index=np.arange(\n",
    "                data['visitorsPerDateA'].sum() - len(ordersByUsersA['transactionid'])\n",
    "            ),\n",
    "            name='orders',\n",
    "        ),\n",
    "    ],\n",
    "    axis=0,\n",
    ")\n",
    "\n",
    "sampleB = pd.concat(\n",
    "    [\n",
    "        ordersByUsersB['transactionid'],\n",
    "        pd.Series(\n",
    "            0,\n",
    "            index=np.arange(\n",
    "                data['visitorsPerDateB'].sum() - len(ordersByUsersB['transactionid'])\n",
    "            ),\n",
    "            name='orders',\n",
    "        ),\n",
    "    ],\n",
    "    axis=0,\n",
    ")\n",
    "\n",
    "print('p-value', \"{0:.3f}\".format(stats.mannwhitneyu(sampleA, sampleB)[1]))\n",
    "\n",
    "print('Относительный прирост группы В к группе А',\"{0:.3f}\".format(sampleB.mean() / sampleA.mean() - 1))\n"
   ]
  },
  {
   "cell_type": "markdown",
   "id": "655d9b8b",
   "metadata": {},
   "source": [
    "### Вывод"
   ]
  },
  {
   "cell_type": "markdown",
   "id": "31e09207",
   "metadata": {},
   "source": [
    "P-value: 0.017\n",
    "Отвергаем нулевую гипотезу: между группами есть разница\n",
    "Относительный прирост В к А: 13.808%\n"
   ]
  },
  {
   "cell_type": "markdown",
   "id": "5ea7d9c9",
   "metadata": {},
   "source": [
    "## Посчитайте статистическую значимость различий в среднем чеке заказа между группами по «сырым» данным. Сделайте выводы и предположения.\n"
   ]
  },
  {
   "cell_type": "markdown",
   "id": "0e729621",
   "metadata": {},
   "source": [
    "Задаем уровень значимости alpha=0.05\n",
    "\n",
    "H0 - различий в среднем чеке в группах нет\n",
    "\n",
    "H1 - различий в среднем  чеке между группами есть "
   ]
  },
  {
   "cell_type": "code",
   "execution_count": 48,
   "id": "a0365170",
   "metadata": {},
   "outputs": [
    {
     "name": "stdout",
     "output_type": "stream",
     "text": [
      "p-value 0.729\n",
      "Относительны прирост группы B к группе А 0.259\n"
     ]
    }
   ],
   "source": [
    "# Cчитаем статистическую значимость различий в среднем чеке заказа между группами по «сырым» данным\n",
    "(print('p-value','{0:.3f}'.format(stats.mannwhitneyu(orders[orders['group']=='A']['revenue']\n",
    "                                           , orders[orders['group']=='B']['revenue'])[1])))\n",
    "(print('Относительны прирост группы B к группе А','{0:.3f}'\n",
    "       .format(orders[orders['group']=='B']['revenue']\n",
    "       .mean()/orders[orders['group']=='A']['revenue'].mean()-1)))"
   ]
  },
  {
   "cell_type": "markdown",
   "id": "f75b4fd9",
   "metadata": {},
   "source": [
    "### Вывод "
   ]
  },
  {
   "cell_type": "markdown",
   "id": "c61d0da7",
   "metadata": {},
   "source": [
    "P-value значительно больше 0.05. Значит, причин отвергать нулевую гипотезу и считать, что в среднем чеке есть различия, нет. Впрочем, средний чек группы B значительно выше среднего чека группы A.\n",
    "Относительный прирост В к А: 25.9%"
   ]
  },
  {
   "cell_type": "markdown",
   "id": "27afebca",
   "metadata": {},
   "source": [
    "## Посчитайте статистическую значимость различий в среднем количестве заказов на посетителя между группами по «очищенным» данным. Сделайте выводы и предположения.\n"
   ]
  },
  {
   "cell_type": "code",
   "execution_count": 49,
   "id": "121168e4",
   "metadata": {},
   "outputs": [
    {
     "data": {
      "text/plain": [
       "1099     148427295\n",
       "949      887908475\n",
       "744      888512513\n",
       "1103    1164614297\n",
       "1136    1307669133\n",
       "Name: visitorid, dtype: int64"
      ]
     },
     "metadata": {},
     "output_type": "display_data"
    },
    {
     "data": {
      "text/plain": [
       "15"
      ]
     },
     "execution_count": 49,
     "metadata": {},
     "output_type": "execute_result"
    }
   ],
   "source": [
    "# Посчитали аномальный пользователей\n",
    "cost_orders = np.percentile(orders_fix, 99)\n",
    "many_orders = np.percentile(ordersByUsers['transactionid'], 99)\n",
    "usersWithManyOrders = pd.concat(\n",
    "    [\n",
    "        ordersByUsersA[ordersByUsersA['transactionid'] > many_orders]['visitorid'],\n",
    "        ordersByUsersB[ordersByUsersB['transactionid'] > many_orders]['visitorid'],\n",
    "    ],\n",
    "    axis=0,\n",
    ")\n",
    "usersWithExpensiveOrders = orders[orders['revenue'] > cost_orders]['visitorid']\n",
    "abnormalUsers = (\n",
    "    pd.concat([usersWithManyOrders, usersWithExpensiveOrders], axis=0)\n",
    "    .drop_duplicates()\n",
    "    .sort_values()\n",
    ")\n",
    "display(abnormalUsers.head(5))\n",
    "abnormalUsers.shape[0]"
   ]
  },
  {
   "cell_type": "code",
   "execution_count": 50,
   "id": "f30cf21d",
   "metadata": {},
   "outputs": [],
   "source": [
    "#Считаем статистическую значимость различий в среднем количестве \n",
    "#заказов на посетителя между группами по «очищенным» данным\n",
    "sampleAFiltered = pd.concat(\n",
    "    [\n",
    "        ordersByUsersA[\n",
    "            np.logical_not(ordersByUsersA['visitorid'].isin(abnormalUsers))\n",
    "        ]['transactionid'],\n",
    "        pd.Series(\n",
    "            0,\n",
    "            index=np.arange(\n",
    "                data['visitorsPerDateA'].sum() - len(ordersByUsersA['transactionid'])\n",
    "            ),\n",
    "            name='orders',\n",
    "        ),\n",
    "    ],\n",
    "    axis=0,\n",
    ")\n",
    "\n",
    "sampleBFiltered = pd.concat(\n",
    "    [\n",
    "        ordersByUsersB[\n",
    "            np.logical_not(ordersByUsersB['visitorid'].isin(abnormalUsers))\n",
    "        ]['transactionid'],\n",
    "        pd.Series(\n",
    "            0,\n",
    "            index=np.arange(\n",
    "                data['visitorsPerDateB'].sum() - len(ordersByUsersB['transactionid'])\n",
    "            ),\n",
    "            name='orders',\n",
    "        ),\n",
    "    ],\n",
    "    axis=0,\n",
    ")"
   ]
  },
  {
   "cell_type": "code",
   "execution_count": 51,
   "id": "fa4c06f3",
   "metadata": {},
   "outputs": [
    {
     "name": "stdout",
     "output_type": "stream",
     "text": [
      "P-value 0.014\n",
      "Относительный прирост группы B к группе А 0.153\n"
     ]
    }
   ],
   "source": [
    "print('P-value','{0:.3f}'.format(stats.mannwhitneyu(sampleAFiltered, sampleBFiltered)[1]))\n",
    "print('Относительный прирост группы B к группе А','{0:.3f}'.format(sampleBFiltered.mean()/sampleAFiltered.mean()-1))"
   ]
  },
  {
   "cell_type": "markdown",
   "id": "c8f80f3b",
   "metadata": {},
   "source": [
    "## Вывод"
   ]
  },
  {
   "cell_type": "markdown",
   "id": "a5917d6e",
   "metadata": {},
   "source": [
    "Наша гипотеза по очищенынм данным:\n",
    "H0 - различий в конверсии между группами нет \n",
    "  \n",
    "H1 - различия в конверсии между между группами есть\n",
    "\n",
    "P-value: 0.014\n",
    "Отвергаем нулевую гипотезу: между группами есть разница\n",
    "Относительный прирост В к А: 15.3%\n",
    " \n"
   ]
  },
  {
   "cell_type": "markdown",
   "id": "80c8a268",
   "metadata": {},
   "source": [
    "## Посчитайте статистическую значимость различий в среднем чеке заказа между группами по «очищенным» данным. Сделайте выводы и предположения.\n"
   ]
  },
  {
   "cell_type": "code",
   "execution_count": 52,
   "id": "f265f368",
   "metadata": {},
   "outputs": [
    {
     "name": "stdout",
     "output_type": "stream",
     "text": [
      "p-value 0.851\n",
      "Относительны прирост группы B к группе А -0.006\n"
     ]
    }
   ],
   "source": [
    "#Считаем татистическую значимость различий в среднем чеке заказа между группами по «очищенным» данным\n",
    "print('p-value','{0:.3f}'.format(\n",
    "        stats.mannwhitneyu(\n",
    "            orders[\n",
    "                np.logical_and(\n",
    "                    orders['group'] == 'A',\n",
    "                    np.logical_not(orders['visitorid'].isin(abnormalUsers)),\n",
    "                )\n",
    "            ]['revenue'],\n",
    "            orders[\n",
    "                np.logical_and(\n",
    "                    orders['group'] == 'B',\n",
    "                    np.logical_not(orders['visitorid'].isin(abnormalUsers)),\n",
    "                )\n",
    "            ]['revenue'],\n",
    "        )[1]\n",
    "    )\n",
    ")\n",
    "\n",
    "print('Относительны прирост группы B к группе А'\n",
    "    ,\"{0:.3f}\".format(\n",
    "        orders[\n",
    "            np.logical_and(\n",
    "                orders['group'] == 'B',\n",
    "                np.logical_not(orders['visitorid'].isin(abnormalUsers)),\n",
    "            )\n",
    "        ]['revenue'].mean()\n",
    "        / orders[\n",
    "            np.logical_and(\n",
    "                orders['group'] == 'A',\n",
    "                np.logical_not(orders['visitorid'].isin(abnormalUsers)),\n",
    "            )\n",
    "        ]['revenue'].mean()\n",
    "        - 1\n",
    "    )\n",
    ")"
   ]
  },
  {
   "cell_type": "markdown",
   "id": "9dd57ed5",
   "metadata": {},
   "source": [
    "### Вывод"
   ]
  },
  {
   "cell_type": "markdown",
   "id": "9d9c3f00",
   "metadata": {},
   "source": [
    "P-value значительно больше 0.05. Значит, причин отвергать нулевую гипотезу и считать, что в среднем чеке есть различия, нет. Впрочем, средний чек группы B значительно выше среднего чека группы A.\n",
    "Относительный прирост В к А: 0.6%"
   ]
  },
  {
   "cell_type": "markdown",
   "id": "319a8c3e",
   "metadata": {},
   "source": [
    "## Примите решение по результатам теста и объясните его. Варианты решений:\n",
    "    1. Остановить тест, зафиксировать победу одной из групп.\n",
    "    2. Остановить тест, зафиксировать отсутствие различий между группами.\n",
    "    3. Продолжить тест."
   ]
  },
  {
   "cell_type": "markdown",
   "id": "a6673e08",
   "metadata": {},
   "source": [
    "### Общий вывод"
   ]
  },
  {
   "cell_type": "markdown",
   "id": "029512b7",
   "metadata": {},
   "source": [
    "Приоритизация гипотез\n",
    "\n",
    "Выяснили на какие гипотезы стоит обратить в первую очередь:\n",
    "- Запустить акцию, дающую скидку на товар в день рождения.\n",
    "- Добавить два новых канала привлечения трафика, что позволит привлекать на 30% больше пользователей .\n",
    "- Добавить форму подписки на все основные страницы, чтобы собрать базу клиентов для email-рассылок.\n",
    "\n",
    "Гипотезы с учетом охвата пользователи:\n",
    "- Добавить блоки рекомендаций товаров на сайт интернет магазина, чтобы повысить конверсию и средний чек заказа.\n",
    "- Добавить два новых канала привлечения трафика, что позволит привлекать на 30% больше пользователей.\n",
    "- Изменить структура категорий, что увеличит конверсию, т.к. пользователи быстрее найдут нужный товар."
   ]
  },
  {
   "cell_type": "markdown",
   "id": "85e3e791",
   "metadata": {},
   "source": [
    "Анализ теста A/B\n",
    "\n",
    "- Конвeрсия группы B выше чем в группе А по сырым данным составляет 13.808%, а по очищенным данным  15.3%\n",
    "\n",
    "- Нет достоверных различий в среднем чеке между двумя группами A и B ни на основе исходных данных, ни на основе данных после удаления аномалий.  Средний чек группы B в сырых данных выше группы А на  25.9%, а на основании очищенных данных составляет всего 0.6%\n"
   ]
  },
  {
   "cell_type": "markdown",
   "id": "4514cab3",
   "metadata": {},
   "source": [
    "На основании полученных данных победила группа B, ее конверсия выше чем у группы А. Тест останавливаем."
   ]
  },
  {
   "cell_type": "code",
   "execution_count": null,
   "id": "9f267cc5",
   "metadata": {},
   "outputs": [],
   "source": []
  }
 ],
 "metadata": {
  "ExecuteTimeLog": [
   {
    "duration": 1245,
    "start_time": "2023-04-17T07:38:41.414Z"
   },
   {
    "duration": 10,
    "start_time": "2023-04-17T07:38:42.667Z"
   },
   {
    "duration": 66,
    "start_time": "2023-04-17T07:38:42.679Z"
   },
   {
    "duration": 15,
    "start_time": "2023-04-17T07:38:42.747Z"
   },
   {
    "duration": 28,
    "start_time": "2023-04-17T07:38:42.765Z"
   },
   {
    "duration": 11,
    "start_time": "2023-04-17T07:38:42.795Z"
   },
   {
    "duration": 26,
    "start_time": "2023-04-17T07:38:42.809Z"
   },
   {
    "duration": 22,
    "start_time": "2023-04-17T07:38:42.838Z"
   },
   {
    "duration": 18,
    "start_time": "2023-04-17T07:38:42.865Z"
   },
   {
    "duration": 14,
    "start_time": "2023-04-17T07:38:42.885Z"
   },
   {
    "duration": 9,
    "start_time": "2023-04-17T07:38:42.901Z"
   },
   {
    "duration": 17,
    "start_time": "2023-04-17T07:38:42.912Z"
   },
   {
    "duration": 31,
    "start_time": "2023-04-17T07:38:42.955Z"
   },
   {
    "duration": 21,
    "start_time": "2023-04-17T07:38:42.991Z"
   },
   {
    "duration": 12,
    "start_time": "2023-04-17T07:38:43.014Z"
   },
   {
    "duration": 43,
    "start_time": "2023-04-17T07:38:43.028Z"
   },
   {
    "duration": 313,
    "start_time": "2023-04-17T07:38:43.075Z"
   },
   {
    "duration": 18,
    "start_time": "2023-04-17T07:38:43.390Z"
   },
   {
    "duration": 295,
    "start_time": "2023-04-17T07:38:43.410Z"
   },
   {
    "duration": 15,
    "start_time": "2023-04-17T07:38:43.707Z"
   },
   {
    "duration": 15,
    "start_time": "2023-04-17T07:38:43.724Z"
   },
   {
    "duration": 201,
    "start_time": "2023-04-17T07:38:43.756Z"
   },
   {
    "duration": 129,
    "start_time": "2023-04-17T07:38:43.965Z"
   },
   {
    "duration": 12,
    "start_time": "2023-04-17T07:38:44.095Z"
   },
   {
    "duration": 363,
    "start_time": "2023-04-17T07:38:44.109Z"
   },
   {
    "duration": 226,
    "start_time": "2023-04-17T07:38:44.477Z"
   },
   {
    "duration": 320,
    "start_time": "2023-04-17T07:38:44.705Z"
   },
   {
    "duration": 220,
    "start_time": "2023-04-17T07:38:45.027Z"
   },
   {
    "duration": 338,
    "start_time": "2023-04-17T07:38:45.249Z"
   },
   {
    "duration": 221,
    "start_time": "2023-04-17T07:38:45.589Z"
   },
   {
    "duration": 6,
    "start_time": "2023-04-17T07:38:45.811Z"
   },
   {
    "duration": 6,
    "start_time": "2023-04-17T07:38:45.818Z"
   },
   {
    "duration": 164,
    "start_time": "2023-04-17T07:38:45.826Z"
   },
   {
    "duration": 5,
    "start_time": "2023-04-17T07:38:45.991Z"
   },
   {
    "duration": 6,
    "start_time": "2023-04-17T07:38:45.998Z"
   },
   {
    "duration": 184,
    "start_time": "2023-04-17T07:38:46.007Z"
   },
   {
    "duration": 5,
    "start_time": "2023-04-17T07:38:46.193Z"
   },
   {
    "duration": 8,
    "start_time": "2023-04-17T07:38:46.200Z"
   },
   {
    "duration": 259,
    "start_time": "2023-04-17T07:38:46.210Z"
   },
   {
    "duration": 184,
    "start_time": "2023-04-17T07:38:46.482Z"
   },
   {
    "duration": 6,
    "start_time": "2023-04-17T07:38:46.677Z"
   },
   {
    "duration": 203,
    "start_time": "2023-04-17T07:38:46.685Z"
   },
   {
    "duration": 111,
    "start_time": "2023-04-17T07:38:46.890Z"
   },
   {
    "duration": 0,
    "start_time": "2023-04-17T07:38:47.003Z"
   },
   {
    "duration": 0,
    "start_time": "2023-04-17T07:38:47.004Z"
   },
   {
    "duration": 1,
    "start_time": "2023-04-17T07:38:47.005Z"
   },
   {
    "duration": 0,
    "start_time": "2023-04-17T07:38:47.006Z"
   },
   {
    "duration": 0,
    "start_time": "2023-04-17T07:38:47.007Z"
   },
   {
    "duration": 0,
    "start_time": "2023-04-17T07:38:47.008Z"
   },
   {
    "duration": 1233,
    "start_time": "2023-04-17T07:40:17.353Z"
   },
   {
    "duration": 3,
    "start_time": "2023-04-17T07:40:18.588Z"
   },
   {
    "duration": 78,
    "start_time": "2023-04-17T07:40:18.593Z"
   },
   {
    "duration": 11,
    "start_time": "2023-04-17T07:40:18.677Z"
   },
   {
    "duration": 14,
    "start_time": "2023-04-17T07:40:18.690Z"
   },
   {
    "duration": 8,
    "start_time": "2023-04-17T07:40:18.706Z"
   },
   {
    "duration": 12,
    "start_time": "2023-04-17T07:40:18.715Z"
   },
   {
    "duration": 35,
    "start_time": "2023-04-17T07:40:18.729Z"
   },
   {
    "duration": 32,
    "start_time": "2023-04-17T07:40:18.766Z"
   },
   {
    "duration": 13,
    "start_time": "2023-04-17T07:40:18.800Z"
   },
   {
    "duration": 24,
    "start_time": "2023-04-17T07:40:18.816Z"
   },
   {
    "duration": 20,
    "start_time": "2023-04-17T07:40:18.842Z"
   },
   {
    "duration": 15,
    "start_time": "2023-04-17T07:40:18.870Z"
   },
   {
    "duration": 11,
    "start_time": "2023-04-17T07:40:18.889Z"
   },
   {
    "duration": 8,
    "start_time": "2023-04-17T07:40:18.901Z"
   },
   {
    "duration": 16,
    "start_time": "2023-04-17T07:40:18.911Z"
   },
   {
    "duration": 314,
    "start_time": "2023-04-17T07:40:18.959Z"
   },
   {
    "duration": 18,
    "start_time": "2023-04-17T07:40:19.275Z"
   },
   {
    "duration": 281,
    "start_time": "2023-04-17T07:40:19.295Z"
   },
   {
    "duration": 15,
    "start_time": "2023-04-17T07:40:19.578Z"
   },
   {
    "duration": 10,
    "start_time": "2023-04-17T07:40:19.594Z"
   },
   {
    "duration": 226,
    "start_time": "2023-04-17T07:40:19.606Z"
   },
   {
    "duration": 133,
    "start_time": "2023-04-17T07:40:19.834Z"
   },
   {
    "duration": 13,
    "start_time": "2023-04-17T07:40:19.976Z"
   },
   {
    "duration": 294,
    "start_time": "2023-04-17T07:40:19.990Z"
   },
   {
    "duration": 201,
    "start_time": "2023-04-17T07:40:20.285Z"
   },
   {
    "duration": 286,
    "start_time": "2023-04-17T07:40:20.488Z"
   },
   {
    "duration": 219,
    "start_time": "2023-04-17T07:40:20.778Z"
   },
   {
    "duration": 291,
    "start_time": "2023-04-17T07:40:20.999Z"
   },
   {
    "duration": 219,
    "start_time": "2023-04-17T07:40:21.292Z"
   },
   {
    "duration": 5,
    "start_time": "2023-04-17T07:40:21.513Z"
   },
   {
    "duration": 5,
    "start_time": "2023-04-17T07:40:21.520Z"
   },
   {
    "duration": 182,
    "start_time": "2023-04-17T07:40:21.526Z"
   },
   {
    "duration": 5,
    "start_time": "2023-04-17T07:40:21.710Z"
   },
   {
    "duration": 6,
    "start_time": "2023-04-17T07:40:21.717Z"
   },
   {
    "duration": 206,
    "start_time": "2023-04-17T07:40:21.725Z"
   },
   {
    "duration": 4,
    "start_time": "2023-04-17T07:40:21.933Z"
   },
   {
    "duration": 24,
    "start_time": "2023-04-17T07:40:21.939Z"
   },
   {
    "duration": 290,
    "start_time": "2023-04-17T07:40:21.965Z"
   },
   {
    "duration": 181,
    "start_time": "2023-04-17T07:40:22.260Z"
   },
   {
    "duration": 18,
    "start_time": "2023-04-17T07:40:22.445Z"
   },
   {
    "duration": 160,
    "start_time": "2023-04-17T07:40:22.473Z"
   },
   {
    "duration": 25,
    "start_time": "2023-04-17T07:40:22.634Z"
   },
   {
    "duration": 20,
    "start_time": "2023-04-17T07:40:22.667Z"
   },
   {
    "duration": 9,
    "start_time": "2023-04-17T07:40:22.689Z"
   },
   {
    "duration": 27,
    "start_time": "2023-04-17T07:40:22.700Z"
   },
   {
    "duration": 184,
    "start_time": "2023-04-17T07:40:22.729Z"
   },
   {
    "duration": 0,
    "start_time": "2023-04-17T07:40:22.915Z"
   },
   {
    "duration": 31,
    "start_time": "2023-04-17T07:40:30.650Z"
   },
   {
    "duration": 1248,
    "start_time": "2023-04-17T07:55:49.340Z"
   },
   {
    "duration": 3,
    "start_time": "2023-04-17T07:55:50.591Z"
   },
   {
    "duration": 89,
    "start_time": "2023-04-17T07:55:50.596Z"
   },
   {
    "duration": 12,
    "start_time": "2023-04-17T07:55:50.686Z"
   },
   {
    "duration": 17,
    "start_time": "2023-04-17T07:55:50.700Z"
   },
   {
    "duration": 10,
    "start_time": "2023-04-17T07:55:50.719Z"
   },
   {
    "duration": 41,
    "start_time": "2023-04-17T07:55:50.731Z"
   },
   {
    "duration": 8,
    "start_time": "2023-04-17T07:55:50.780Z"
   },
   {
    "duration": 48,
    "start_time": "2023-04-17T07:55:50.790Z"
   },
   {
    "duration": 35,
    "start_time": "2023-04-17T07:55:50.840Z"
   },
   {
    "duration": 29,
    "start_time": "2023-04-17T07:55:50.877Z"
   },
   {
    "duration": 28,
    "start_time": "2023-04-17T07:55:50.907Z"
   },
   {
    "duration": 12,
    "start_time": "2023-04-17T07:55:50.937Z"
   },
   {
    "duration": 20,
    "start_time": "2023-04-17T07:55:50.953Z"
   },
   {
    "duration": 8,
    "start_time": "2023-04-17T07:55:50.980Z"
   },
   {
    "duration": 15,
    "start_time": "2023-04-17T07:55:50.990Z"
   },
   {
    "duration": 296,
    "start_time": "2023-04-17T07:55:51.007Z"
   },
   {
    "duration": 15,
    "start_time": "2023-04-17T07:55:51.304Z"
   },
   {
    "duration": 277,
    "start_time": "2023-04-17T07:55:51.321Z"
   },
   {
    "duration": 14,
    "start_time": "2023-04-17T07:55:51.600Z"
   },
   {
    "duration": 24,
    "start_time": "2023-04-17T07:55:51.615Z"
   },
   {
    "duration": 225,
    "start_time": "2023-04-17T07:55:51.641Z"
   },
   {
    "duration": 133,
    "start_time": "2023-04-17T07:55:51.868Z"
   },
   {
    "duration": 14,
    "start_time": "2023-04-17T07:55:52.003Z"
   },
   {
    "duration": 296,
    "start_time": "2023-04-17T07:55:52.019Z"
   },
   {
    "duration": 199,
    "start_time": "2023-04-17T07:55:52.317Z"
   },
   {
    "duration": 304,
    "start_time": "2023-04-17T07:55:52.517Z"
   },
   {
    "duration": 214,
    "start_time": "2023-04-17T07:55:52.823Z"
   },
   {
    "duration": 350,
    "start_time": "2023-04-17T07:55:53.039Z"
   },
   {
    "duration": 229,
    "start_time": "2023-04-17T07:55:53.390Z"
   },
   {
    "duration": 4,
    "start_time": "2023-04-17T07:55:53.621Z"
   },
   {
    "duration": 9,
    "start_time": "2023-04-17T07:55:53.627Z"
   },
   {
    "duration": 154,
    "start_time": "2023-04-17T07:55:53.638Z"
   },
   {
    "duration": 5,
    "start_time": "2023-04-17T07:55:53.793Z"
   },
   {
    "duration": 22,
    "start_time": "2023-04-17T07:55:53.799Z"
   },
   {
    "duration": 171,
    "start_time": "2023-04-17T07:55:53.823Z"
   },
   {
    "duration": 5,
    "start_time": "2023-04-17T07:55:53.996Z"
   },
   {
    "duration": 15,
    "start_time": "2023-04-17T07:55:54.002Z"
   },
   {
    "duration": 252,
    "start_time": "2023-04-17T07:55:54.019Z"
   },
   {
    "duration": 160,
    "start_time": "2023-04-17T07:55:54.273Z"
   },
   {
    "duration": 24,
    "start_time": "2023-04-17T07:55:54.439Z"
   },
   {
    "duration": 232,
    "start_time": "2023-04-17T07:55:54.467Z"
   },
   {
    "duration": 13,
    "start_time": "2023-04-17T07:55:54.700Z"
   },
   {
    "duration": 15,
    "start_time": "2023-04-17T07:55:54.714Z"
   },
   {
    "duration": 28,
    "start_time": "2023-04-17T07:55:54.732Z"
   },
   {
    "duration": 33,
    "start_time": "2023-04-17T07:55:54.765Z"
   },
   {
    "duration": 19,
    "start_time": "2023-04-17T07:55:54.800Z"
   },
   {
    "duration": 1292,
    "start_time": "2023-04-18T01:28:15.254Z"
   },
   {
    "duration": 4,
    "start_time": "2023-04-18T01:28:16.548Z"
   },
   {
    "duration": 396,
    "start_time": "2023-04-18T01:28:16.554Z"
   },
   {
    "duration": 20,
    "start_time": "2023-04-18T01:28:16.952Z"
   },
   {
    "duration": 35,
    "start_time": "2023-04-18T01:28:16.977Z"
   },
   {
    "duration": 10,
    "start_time": "2023-04-18T01:28:17.014Z"
   },
   {
    "duration": 30,
    "start_time": "2023-04-18T01:28:17.025Z"
   },
   {
    "duration": 47,
    "start_time": "2023-04-18T01:28:17.056Z"
   },
   {
    "duration": 11,
    "start_time": "2023-04-18T01:28:17.104Z"
   },
   {
    "duration": 14,
    "start_time": "2023-04-18T01:28:17.117Z"
   },
   {
    "duration": 60,
    "start_time": "2023-04-18T01:28:17.132Z"
   },
   {
    "duration": 15,
    "start_time": "2023-04-18T01:28:17.196Z"
   },
   {
    "duration": 13,
    "start_time": "2023-04-18T01:28:17.212Z"
   },
   {
    "duration": 20,
    "start_time": "2023-04-18T01:28:17.228Z"
   },
   {
    "duration": 60,
    "start_time": "2023-04-18T01:28:17.250Z"
   },
   {
    "duration": 9,
    "start_time": "2023-04-18T01:28:17.311Z"
   },
   {
    "duration": 23,
    "start_time": "2023-04-18T01:28:17.322Z"
   },
   {
    "duration": 45,
    "start_time": "2023-04-18T01:28:17.349Z"
   },
   {
    "duration": 13,
    "start_time": "2023-04-18T01:28:17.396Z"
   },
   {
    "duration": 344,
    "start_time": "2023-04-18T01:28:17.411Z"
   },
   {
    "duration": 29,
    "start_time": "2023-04-18T01:28:17.763Z"
   },
   {
    "duration": 22,
    "start_time": "2023-04-18T01:28:17.796Z"
   },
   {
    "duration": 32,
    "start_time": "2023-04-18T01:28:17.820Z"
   },
   {
    "duration": 249,
    "start_time": "2023-04-18T01:28:17.857Z"
   },
   {
    "duration": 129,
    "start_time": "2023-04-18T01:28:18.107Z"
   },
   {
    "duration": 37,
    "start_time": "2023-04-18T01:28:18.238Z"
   },
   {
    "duration": 349,
    "start_time": "2023-04-18T01:28:18.277Z"
   },
   {
    "duration": 120,
    "start_time": "2023-04-18T01:28:18.627Z"
   },
   {
    "duration": 0,
    "start_time": "2023-04-18T01:28:18.749Z"
   },
   {
    "duration": 0,
    "start_time": "2023-04-18T01:28:18.750Z"
   },
   {
    "duration": 0,
    "start_time": "2023-04-18T01:28:18.750Z"
   },
   {
    "duration": 0,
    "start_time": "2023-04-18T01:28:18.751Z"
   },
   {
    "duration": 0,
    "start_time": "2023-04-18T01:28:18.752Z"
   },
   {
    "duration": 0,
    "start_time": "2023-04-18T01:28:18.753Z"
   },
   {
    "duration": 0,
    "start_time": "2023-04-18T01:28:18.753Z"
   },
   {
    "duration": 0,
    "start_time": "2023-04-18T01:28:18.756Z"
   },
   {
    "duration": 0,
    "start_time": "2023-04-18T01:28:18.757Z"
   },
   {
    "duration": 0,
    "start_time": "2023-04-18T01:28:18.761Z"
   },
   {
    "duration": 0,
    "start_time": "2023-04-18T01:28:18.762Z"
   },
   {
    "duration": 0,
    "start_time": "2023-04-18T01:28:18.763Z"
   },
   {
    "duration": 0,
    "start_time": "2023-04-18T01:28:18.764Z"
   },
   {
    "duration": 0,
    "start_time": "2023-04-18T01:28:18.765Z"
   },
   {
    "duration": 0,
    "start_time": "2023-04-18T01:28:18.766Z"
   },
   {
    "duration": 0,
    "start_time": "2023-04-18T01:28:18.767Z"
   },
   {
    "duration": 0,
    "start_time": "2023-04-18T01:28:18.768Z"
   },
   {
    "duration": 0,
    "start_time": "2023-04-18T01:28:18.769Z"
   },
   {
    "duration": 0,
    "start_time": "2023-04-18T01:28:18.770Z"
   },
   {
    "duration": 0,
    "start_time": "2023-04-18T01:28:18.771Z"
   },
   {
    "duration": 0,
    "start_time": "2023-04-18T01:28:18.771Z"
   },
   {
    "duration": 0,
    "start_time": "2023-04-18T01:28:18.772Z"
   },
   {
    "duration": 0,
    "start_time": "2023-04-18T01:28:18.773Z"
   },
   {
    "duration": 12,
    "start_time": "2023-04-18T01:28:42.799Z"
   },
   {
    "duration": 1216,
    "start_time": "2023-04-18T01:28:49.698Z"
   },
   {
    "duration": 2,
    "start_time": "2023-04-18T01:28:50.916Z"
   },
   {
    "duration": 135,
    "start_time": "2023-04-18T01:28:50.920Z"
   },
   {
    "duration": 15,
    "start_time": "2023-04-18T01:28:51.057Z"
   },
   {
    "duration": 36,
    "start_time": "2023-04-18T01:28:51.077Z"
   },
   {
    "duration": 72,
    "start_time": "2023-04-18T01:28:51.115Z"
   },
   {
    "duration": 14,
    "start_time": "2023-04-18T01:28:51.193Z"
   },
   {
    "duration": 29,
    "start_time": "2023-04-18T01:28:51.209Z"
   },
   {
    "duration": 72,
    "start_time": "2023-04-18T01:28:51.239Z"
   },
   {
    "duration": 16,
    "start_time": "2023-04-18T01:28:51.313Z"
   },
   {
    "duration": 72,
    "start_time": "2023-04-18T01:28:51.331Z"
   },
   {
    "duration": 25,
    "start_time": "2023-04-18T01:28:51.405Z"
   },
   {
    "duration": 13,
    "start_time": "2023-04-18T01:28:51.431Z"
   },
   {
    "duration": 62,
    "start_time": "2023-04-18T01:28:51.448Z"
   },
   {
    "duration": 4,
    "start_time": "2023-04-18T01:28:51.512Z"
   },
   {
    "duration": 6,
    "start_time": "2023-04-18T01:28:51.518Z"
   },
   {
    "duration": 10,
    "start_time": "2023-04-18T01:28:51.525Z"
   },
   {
    "duration": 69,
    "start_time": "2023-04-18T01:28:51.538Z"
   },
   {
    "duration": 23,
    "start_time": "2023-04-18T01:28:51.609Z"
   },
   {
    "duration": 387,
    "start_time": "2023-04-18T01:28:51.634Z"
   },
   {
    "duration": 26,
    "start_time": "2023-04-18T01:28:52.022Z"
   },
   {
    "duration": 18,
    "start_time": "2023-04-18T01:28:52.052Z"
   },
   {
    "duration": 38,
    "start_time": "2023-04-18T01:28:52.071Z"
   },
   {
    "duration": 209,
    "start_time": "2023-04-18T01:28:52.110Z"
   },
   {
    "duration": 160,
    "start_time": "2023-04-18T01:28:52.321Z"
   },
   {
    "duration": 14,
    "start_time": "2023-04-18T01:28:52.487Z"
   },
   {
    "duration": 309,
    "start_time": "2023-04-18T01:28:52.503Z"
   },
   {
    "duration": 23,
    "start_time": "2023-04-18T01:28:52.814Z"
   },
   {
    "duration": 346,
    "start_time": "2023-04-18T01:28:52.839Z"
   },
   {
    "duration": 0,
    "start_time": "2023-04-18T01:28:53.191Z"
   },
   {
    "duration": 0,
    "start_time": "2023-04-18T01:28:53.194Z"
   },
   {
    "duration": 0,
    "start_time": "2023-04-18T01:28:53.195Z"
   },
   {
    "duration": 0,
    "start_time": "2023-04-18T01:28:53.195Z"
   },
   {
    "duration": 0,
    "start_time": "2023-04-18T01:28:53.196Z"
   },
   {
    "duration": 0,
    "start_time": "2023-04-18T01:28:53.199Z"
   },
   {
    "duration": 0,
    "start_time": "2023-04-18T01:28:53.200Z"
   },
   {
    "duration": 0,
    "start_time": "2023-04-18T01:28:53.200Z"
   },
   {
    "duration": 0,
    "start_time": "2023-04-18T01:28:53.201Z"
   },
   {
    "duration": 0,
    "start_time": "2023-04-18T01:28:53.202Z"
   },
   {
    "duration": 0,
    "start_time": "2023-04-18T01:28:53.204Z"
   },
   {
    "duration": 0,
    "start_time": "2023-04-18T01:28:53.205Z"
   },
   {
    "duration": 0,
    "start_time": "2023-04-18T01:28:53.205Z"
   },
   {
    "duration": 0,
    "start_time": "2023-04-18T01:28:53.206Z"
   },
   {
    "duration": 0,
    "start_time": "2023-04-18T01:28:53.207Z"
   },
   {
    "duration": 0,
    "start_time": "2023-04-18T01:28:53.208Z"
   },
   {
    "duration": 0,
    "start_time": "2023-04-18T01:28:53.209Z"
   },
   {
    "duration": 0,
    "start_time": "2023-04-18T01:28:53.210Z"
   },
   {
    "duration": 0,
    "start_time": "2023-04-18T01:28:53.211Z"
   },
   {
    "duration": 0,
    "start_time": "2023-04-18T01:28:53.212Z"
   },
   {
    "duration": 0,
    "start_time": "2023-04-18T01:28:53.213Z"
   },
   {
    "duration": 0,
    "start_time": "2023-04-18T01:28:53.214Z"
   },
   {
    "duration": 1204,
    "start_time": "2023-04-18T01:29:17.184Z"
   },
   {
    "duration": 4,
    "start_time": "2023-04-18T01:29:18.395Z"
   },
   {
    "duration": 118,
    "start_time": "2023-04-18T01:29:18.402Z"
   },
   {
    "duration": 11,
    "start_time": "2023-04-18T01:29:18.522Z"
   },
   {
    "duration": 80,
    "start_time": "2023-04-18T01:29:18.534Z"
   },
   {
    "duration": 16,
    "start_time": "2023-04-18T01:29:18.616Z"
   },
   {
    "duration": 72,
    "start_time": "2023-04-18T01:29:18.634Z"
   },
   {
    "duration": 19,
    "start_time": "2023-04-18T01:29:18.708Z"
   },
   {
    "duration": 27,
    "start_time": "2023-04-18T01:29:18.729Z"
   },
   {
    "duration": 42,
    "start_time": "2023-04-18T01:29:18.760Z"
   },
   {
    "duration": 32,
    "start_time": "2023-04-18T01:29:18.805Z"
   },
   {
    "duration": 62,
    "start_time": "2023-04-18T01:29:18.845Z"
   },
   {
    "duration": 20,
    "start_time": "2023-04-18T01:29:18.909Z"
   },
   {
    "duration": 63,
    "start_time": "2023-04-18T01:29:18.930Z"
   },
   {
    "duration": 7,
    "start_time": "2023-04-18T01:29:18.999Z"
   },
   {
    "duration": 9,
    "start_time": "2023-04-18T01:29:19.008Z"
   },
   {
    "duration": 12,
    "start_time": "2023-04-18T01:29:19.018Z"
   },
   {
    "duration": 34,
    "start_time": "2023-04-18T01:29:19.032Z"
   },
   {
    "duration": 46,
    "start_time": "2023-04-18T01:29:19.068Z"
   },
   {
    "duration": 343,
    "start_time": "2023-04-18T01:29:19.115Z"
   },
   {
    "duration": 21,
    "start_time": "2023-04-18T01:29:19.467Z"
   },
   {
    "duration": 22,
    "start_time": "2023-04-18T01:29:19.490Z"
   },
   {
    "duration": 10,
    "start_time": "2023-04-18T01:29:19.513Z"
   },
   {
    "duration": 214,
    "start_time": "2023-04-18T01:29:19.524Z"
   },
   {
    "duration": 131,
    "start_time": "2023-04-18T01:29:19.739Z"
   },
   {
    "duration": 26,
    "start_time": "2023-04-18T01:29:19.874Z"
   },
   {
    "duration": 315,
    "start_time": "2023-04-18T01:29:19.905Z"
   },
   {
    "duration": 125,
    "start_time": "2023-04-18T01:29:20.224Z"
   },
   {
    "duration": 0,
    "start_time": "2023-04-18T01:29:20.351Z"
   },
   {
    "duration": 0,
    "start_time": "2023-04-18T01:29:20.352Z"
   },
   {
    "duration": 0,
    "start_time": "2023-04-18T01:29:20.353Z"
   },
   {
    "duration": 0,
    "start_time": "2023-04-18T01:29:20.354Z"
   },
   {
    "duration": 0,
    "start_time": "2023-04-18T01:29:20.355Z"
   },
   {
    "duration": 0,
    "start_time": "2023-04-18T01:29:20.355Z"
   },
   {
    "duration": 0,
    "start_time": "2023-04-18T01:29:20.356Z"
   },
   {
    "duration": 0,
    "start_time": "2023-04-18T01:29:20.357Z"
   },
   {
    "duration": 0,
    "start_time": "2023-04-18T01:29:20.358Z"
   },
   {
    "duration": 0,
    "start_time": "2023-04-18T01:29:20.359Z"
   },
   {
    "duration": 0,
    "start_time": "2023-04-18T01:29:20.360Z"
   },
   {
    "duration": 0,
    "start_time": "2023-04-18T01:29:20.361Z"
   },
   {
    "duration": 0,
    "start_time": "2023-04-18T01:29:20.362Z"
   },
   {
    "duration": 0,
    "start_time": "2023-04-18T01:29:20.363Z"
   },
   {
    "duration": 0,
    "start_time": "2023-04-18T01:29:20.364Z"
   },
   {
    "duration": 0,
    "start_time": "2023-04-18T01:29:20.365Z"
   },
   {
    "duration": 0,
    "start_time": "2023-04-18T01:29:20.366Z"
   },
   {
    "duration": 0,
    "start_time": "2023-04-18T01:29:20.367Z"
   },
   {
    "duration": 0,
    "start_time": "2023-04-18T01:29:20.368Z"
   },
   {
    "duration": 0,
    "start_time": "2023-04-18T01:29:20.369Z"
   },
   {
    "duration": 0,
    "start_time": "2023-04-18T01:29:20.369Z"
   },
   {
    "duration": 0,
    "start_time": "2023-04-18T01:29:20.374Z"
   },
   {
    "duration": 0,
    "start_time": "2023-04-18T01:29:20.375Z"
   },
   {
    "duration": 6,
    "start_time": "2023-04-18T01:29:58.898Z"
   },
   {
    "duration": 5,
    "start_time": "2023-04-18T01:30:19.095Z"
   },
   {
    "duration": 4,
    "start_time": "2023-04-18T01:30:20.298Z"
   },
   {
    "duration": 14,
    "start_time": "2023-04-18T01:30:20.796Z"
   },
   {
    "duration": 17,
    "start_time": "2023-04-18T01:30:45.582Z"
   },
   {
    "duration": 6,
    "start_time": "2023-04-18T01:30:57.464Z"
   },
   {
    "duration": 4,
    "start_time": "2023-04-18T01:30:59.698Z"
   },
   {
    "duration": 12,
    "start_time": "2023-04-18T01:31:00.574Z"
   },
   {
    "duration": 11,
    "start_time": "2023-04-18T01:31:07.080Z"
   },
   {
    "duration": 7,
    "start_time": "2023-04-18T01:31:36.877Z"
   },
   {
    "duration": 8,
    "start_time": "2023-04-18T01:31:37.278Z"
   },
   {
    "duration": 16,
    "start_time": "2023-04-18T01:31:37.656Z"
   },
   {
    "duration": 12,
    "start_time": "2023-04-18T01:31:43.032Z"
   },
   {
    "duration": 2938,
    "start_time": "2023-04-18T01:31:53.887Z"
   },
   {
    "duration": 16,
    "start_time": "2023-04-18T01:32:02.861Z"
   },
   {
    "duration": 17,
    "start_time": "2023-04-18T01:32:09.931Z"
   },
   {
    "duration": 7,
    "start_time": "2023-04-18T01:32:13.487Z"
   },
   {
    "duration": 14,
    "start_time": "2023-04-18T01:32:20.176Z"
   },
   {
    "duration": 16,
    "start_time": "2023-04-18T01:32:32.073Z"
   },
   {
    "duration": 5,
    "start_time": "2023-04-18T01:32:38.009Z"
   },
   {
    "duration": 4,
    "start_time": "2023-04-18T01:33:32.912Z"
   },
   {
    "duration": 14,
    "start_time": "2023-04-18T01:33:33.462Z"
   },
   {
    "duration": 9,
    "start_time": "2023-04-18T01:33:33.807Z"
   },
   {
    "duration": 16,
    "start_time": "2023-04-18T01:33:52.032Z"
   },
   {
    "duration": 6,
    "start_time": "2023-04-18T01:33:57.809Z"
   },
   {
    "duration": 9,
    "start_time": "2023-04-18T01:34:11.001Z"
   },
   {
    "duration": 13,
    "start_time": "2023-04-18T01:34:16.528Z"
   },
   {
    "duration": 5,
    "start_time": "2023-04-18T01:34:34.505Z"
   },
   {
    "duration": 12,
    "start_time": "2023-04-18T01:34:39.260Z"
   },
   {
    "duration": 4,
    "start_time": "2023-04-18T01:35:02.415Z"
   },
   {
    "duration": 4,
    "start_time": "2023-04-18T01:35:02.823Z"
   },
   {
    "duration": 7,
    "start_time": "2023-04-18T01:35:03.299Z"
   },
   {
    "duration": 6,
    "start_time": "2023-04-18T01:35:06.720Z"
   },
   {
    "duration": 4,
    "start_time": "2023-04-18T01:35:49.127Z"
   },
   {
    "duration": 7,
    "start_time": "2023-04-18T01:37:29.063Z"
   },
   {
    "duration": 10,
    "start_time": "2023-04-18T01:37:37.956Z"
   },
   {
    "duration": 11,
    "start_time": "2023-04-18T01:38:19.589Z"
   },
   {
    "duration": 5,
    "start_time": "2023-04-18T01:38:33.519Z"
   },
   {
    "duration": 21,
    "start_time": "2023-04-18T01:38:42.377Z"
   },
   {
    "duration": 5,
    "start_time": "2023-04-18T01:39:05.526Z"
   },
   {
    "duration": 10,
    "start_time": "2023-04-18T01:39:06.281Z"
   },
   {
    "duration": 23,
    "start_time": "2023-04-18T01:39:06.852Z"
   },
   {
    "duration": 8,
    "start_time": "2023-04-18T01:39:16.587Z"
   },
   {
    "duration": 10,
    "start_time": "2023-04-18T01:39:19.099Z"
   },
   {
    "duration": 4,
    "start_time": "2023-04-18T01:40:43.112Z"
   },
   {
    "duration": 10,
    "start_time": "2023-04-18T01:40:57.387Z"
   },
   {
    "duration": 5,
    "start_time": "2023-04-18T01:41:05.379Z"
   },
   {
    "duration": 6,
    "start_time": "2023-04-18T01:41:08.966Z"
   },
   {
    "duration": 10,
    "start_time": "2023-04-18T01:41:09.651Z"
   },
   {
    "duration": 22,
    "start_time": "2023-04-18T01:41:12.548Z"
   },
   {
    "duration": 5,
    "start_time": "2023-04-18T01:41:19.607Z"
   },
   {
    "duration": 1317,
    "start_time": "2023-04-18T01:42:06.059Z"
   },
   {
    "duration": 7,
    "start_time": "2023-04-18T01:42:07.389Z"
   },
   {
    "duration": 120,
    "start_time": "2023-04-18T01:42:07.397Z"
   },
   {
    "duration": 12,
    "start_time": "2023-04-18T01:42:07.519Z"
   },
   {
    "duration": 95,
    "start_time": "2023-04-18T01:42:07.533Z"
   },
   {
    "duration": 73,
    "start_time": "2023-04-18T01:42:07.629Z"
   },
   {
    "duration": 19,
    "start_time": "2023-04-18T01:42:07.704Z"
   },
   {
    "duration": 22,
    "start_time": "2023-04-18T01:42:07.725Z"
   },
   {
    "duration": 53,
    "start_time": "2023-04-18T01:42:07.748Z"
   },
   {
    "duration": 26,
    "start_time": "2023-04-18T01:42:07.803Z"
   },
   {
    "duration": 79,
    "start_time": "2023-04-18T01:42:07.830Z"
   },
   {
    "duration": 24,
    "start_time": "2023-04-18T01:42:07.910Z"
   },
   {
    "duration": 74,
    "start_time": "2023-04-18T01:42:07.935Z"
   },
   {
    "duration": 17,
    "start_time": "2023-04-18T01:42:08.012Z"
   },
   {
    "duration": 64,
    "start_time": "2023-04-18T01:42:08.030Z"
   },
   {
    "duration": 38,
    "start_time": "2023-04-18T01:42:08.096Z"
   },
   {
    "duration": 65,
    "start_time": "2023-04-18T01:42:08.135Z"
   },
   {
    "duration": 11,
    "start_time": "2023-04-18T01:42:08.201Z"
   },
   {
    "duration": 19,
    "start_time": "2023-04-18T01:42:08.214Z"
   },
   {
    "duration": 431,
    "start_time": "2023-04-18T01:42:08.239Z"
   },
   {
    "duration": 21,
    "start_time": "2023-04-18T01:42:08.671Z"
   },
   {
    "duration": 22,
    "start_time": "2023-04-18T01:42:08.694Z"
   },
   {
    "duration": 11,
    "start_time": "2023-04-18T01:42:08.718Z"
   },
   {
    "duration": 279,
    "start_time": "2023-04-18T01:42:08.731Z"
   },
   {
    "duration": 158,
    "start_time": "2023-04-18T01:42:09.011Z"
   },
   {
    "duration": 16,
    "start_time": "2023-04-18T01:42:09.170Z"
   },
   {
    "duration": 408,
    "start_time": "2023-04-18T01:42:09.187Z"
   },
   {
    "duration": 121,
    "start_time": "2023-04-18T01:42:09.597Z"
   },
   {
    "duration": 0,
    "start_time": "2023-04-18T01:42:09.720Z"
   },
   {
    "duration": 0,
    "start_time": "2023-04-18T01:42:09.720Z"
   },
   {
    "duration": 0,
    "start_time": "2023-04-18T01:42:09.722Z"
   },
   {
    "duration": 0,
    "start_time": "2023-04-18T01:42:09.723Z"
   },
   {
    "duration": 0,
    "start_time": "2023-04-18T01:42:09.725Z"
   },
   {
    "duration": 0,
    "start_time": "2023-04-18T01:42:09.741Z"
   },
   {
    "duration": 0,
    "start_time": "2023-04-18T01:42:09.742Z"
   },
   {
    "duration": 0,
    "start_time": "2023-04-18T01:42:09.743Z"
   },
   {
    "duration": 0,
    "start_time": "2023-04-18T01:42:09.743Z"
   },
   {
    "duration": 0,
    "start_time": "2023-04-18T01:42:09.744Z"
   },
   {
    "duration": 0,
    "start_time": "2023-04-18T01:42:09.745Z"
   },
   {
    "duration": 0,
    "start_time": "2023-04-18T01:42:09.747Z"
   },
   {
    "duration": 0,
    "start_time": "2023-04-18T01:42:09.748Z"
   },
   {
    "duration": 1,
    "start_time": "2023-04-18T01:42:09.749Z"
   },
   {
    "duration": 0,
    "start_time": "2023-04-18T01:42:09.755Z"
   },
   {
    "duration": 0,
    "start_time": "2023-04-18T01:42:09.756Z"
   },
   {
    "duration": 0,
    "start_time": "2023-04-18T01:42:09.757Z"
   },
   {
    "duration": 0,
    "start_time": "2023-04-18T01:42:09.762Z"
   },
   {
    "duration": 1,
    "start_time": "2023-04-18T01:42:09.763Z"
   },
   {
    "duration": 0,
    "start_time": "2023-04-18T01:42:09.765Z"
   },
   {
    "duration": 0,
    "start_time": "2023-04-18T01:42:09.766Z"
   },
   {
    "duration": 0,
    "start_time": "2023-04-18T01:42:09.767Z"
   },
   {
    "duration": 0,
    "start_time": "2023-04-18T01:42:09.768Z"
   },
   {
    "duration": 7,
    "start_time": "2023-04-18T01:44:13.242Z"
   },
   {
    "duration": 5,
    "start_time": "2023-04-18T01:44:20.917Z"
   },
   {
    "duration": 8,
    "start_time": "2023-04-18T01:44:29.765Z"
   },
   {
    "duration": 8,
    "start_time": "2023-04-18T01:44:30.275Z"
   },
   {
    "duration": 7,
    "start_time": "2023-04-18T01:44:30.733Z"
   },
   {
    "duration": 13,
    "start_time": "2023-04-18T01:45:46.794Z"
   },
   {
    "duration": 11,
    "start_time": "2023-04-18T01:46:08.133Z"
   },
   {
    "duration": 4,
    "start_time": "2023-04-18T01:46:08.598Z"
   },
   {
    "duration": 5,
    "start_time": "2023-04-18T01:46:08.917Z"
   },
   {
    "duration": 15,
    "start_time": "2023-04-18T01:46:23.889Z"
   },
   {
    "duration": 7,
    "start_time": "2023-04-18T01:47:23.135Z"
   },
   {
    "duration": 8,
    "start_time": "2023-04-18T01:47:23.586Z"
   },
   {
    "duration": 5,
    "start_time": "2023-04-18T01:47:23.956Z"
   },
   {
    "duration": 9,
    "start_time": "2023-04-18T01:47:35.285Z"
   },
   {
    "duration": 1357,
    "start_time": "2023-04-18T01:48:00.694Z"
   },
   {
    "duration": 4,
    "start_time": "2023-04-18T01:48:02.057Z"
   },
   {
    "duration": 165,
    "start_time": "2023-04-18T01:48:02.066Z"
   },
   {
    "duration": 22,
    "start_time": "2023-04-18T01:48:02.233Z"
   },
   {
    "duration": 50,
    "start_time": "2023-04-18T01:48:02.258Z"
   },
   {
    "duration": 94,
    "start_time": "2023-04-18T01:48:02.309Z"
   },
   {
    "duration": 28,
    "start_time": "2023-04-18T01:48:02.404Z"
   },
   {
    "duration": 99,
    "start_time": "2023-04-18T01:48:02.434Z"
   },
   {
    "duration": 83,
    "start_time": "2023-04-18T01:48:02.534Z"
   },
   {
    "duration": 29,
    "start_time": "2023-04-18T01:48:02.619Z"
   },
   {
    "duration": 61,
    "start_time": "2023-04-18T01:48:02.649Z"
   },
   {
    "duration": 51,
    "start_time": "2023-04-18T01:48:02.712Z"
   },
   {
    "duration": 38,
    "start_time": "2023-04-18T01:48:02.772Z"
   },
   {
    "duration": 93,
    "start_time": "2023-04-18T01:48:02.813Z"
   },
   {
    "duration": 4,
    "start_time": "2023-04-18T01:48:02.908Z"
   },
   {
    "duration": 16,
    "start_time": "2023-04-18T01:48:02.913Z"
   },
   {
    "duration": 150,
    "start_time": "2023-04-18T01:48:02.930Z"
   },
   {
    "duration": 0,
    "start_time": "2023-04-18T01:48:03.082Z"
   },
   {
    "duration": 0,
    "start_time": "2023-04-18T01:48:03.083Z"
   },
   {
    "duration": 0,
    "start_time": "2023-04-18T01:48:03.084Z"
   },
   {
    "duration": 0,
    "start_time": "2023-04-18T01:48:03.085Z"
   },
   {
    "duration": 0,
    "start_time": "2023-04-18T01:48:03.086Z"
   },
   {
    "duration": 0,
    "start_time": "2023-04-18T01:48:03.087Z"
   },
   {
    "duration": 0,
    "start_time": "2023-04-18T01:48:03.087Z"
   },
   {
    "duration": 0,
    "start_time": "2023-04-18T01:48:03.088Z"
   },
   {
    "duration": 0,
    "start_time": "2023-04-18T01:48:03.089Z"
   },
   {
    "duration": 0,
    "start_time": "2023-04-18T01:48:03.090Z"
   },
   {
    "duration": 0,
    "start_time": "2023-04-18T01:48:03.091Z"
   },
   {
    "duration": 0,
    "start_time": "2023-04-18T01:48:03.092Z"
   },
   {
    "duration": 0,
    "start_time": "2023-04-18T01:48:03.093Z"
   },
   {
    "duration": 0,
    "start_time": "2023-04-18T01:48:03.094Z"
   },
   {
    "duration": 0,
    "start_time": "2023-04-18T01:48:03.095Z"
   },
   {
    "duration": 0,
    "start_time": "2023-04-18T01:48:03.096Z"
   },
   {
    "duration": 0,
    "start_time": "2023-04-18T01:48:03.097Z"
   },
   {
    "duration": 0,
    "start_time": "2023-04-18T01:48:03.098Z"
   },
   {
    "duration": 0,
    "start_time": "2023-04-18T01:48:03.099Z"
   },
   {
    "duration": 0,
    "start_time": "2023-04-18T01:48:03.100Z"
   },
   {
    "duration": 0,
    "start_time": "2023-04-18T01:48:03.100Z"
   },
   {
    "duration": 0,
    "start_time": "2023-04-18T01:48:03.101Z"
   },
   {
    "duration": 0,
    "start_time": "2023-04-18T01:48:03.102Z"
   },
   {
    "duration": 0,
    "start_time": "2023-04-18T01:48:03.103Z"
   },
   {
    "duration": 0,
    "start_time": "2023-04-18T01:48:03.105Z"
   },
   {
    "duration": 0,
    "start_time": "2023-04-18T01:48:03.106Z"
   },
   {
    "duration": 0,
    "start_time": "2023-04-18T01:48:03.107Z"
   },
   {
    "duration": 0,
    "start_time": "2023-04-18T01:48:03.107Z"
   },
   {
    "duration": 0,
    "start_time": "2023-04-18T01:48:03.108Z"
   },
   {
    "duration": 0,
    "start_time": "2023-04-18T01:48:03.109Z"
   },
   {
    "duration": 0,
    "start_time": "2023-04-18T01:48:03.141Z"
   },
   {
    "duration": 0,
    "start_time": "2023-04-18T01:48:03.142Z"
   },
   {
    "duration": 0,
    "start_time": "2023-04-18T01:48:03.145Z"
   },
   {
    "duration": 0,
    "start_time": "2023-04-18T01:48:03.146Z"
   },
   {
    "duration": 9,
    "start_time": "2023-04-18T01:48:39.279Z"
   },
   {
    "duration": 9,
    "start_time": "2023-04-18T01:48:39.863Z"
   },
   {
    "duration": 18,
    "start_time": "2023-04-18T01:48:40.264Z"
   },
   {
    "duration": 6,
    "start_time": "2023-04-18T01:48:45.581Z"
   },
   {
    "duration": 6,
    "start_time": "2023-04-18T01:49:16.294Z"
   },
   {
    "duration": 4,
    "start_time": "2023-04-18T01:49:19.429Z"
   },
   {
    "duration": 9,
    "start_time": "2023-04-18T01:49:20.533Z"
   },
   {
    "duration": 5,
    "start_time": "2023-04-18T01:49:21.797Z"
   },
   {
    "duration": 3,
    "start_time": "2023-04-18T01:49:31.181Z"
   },
   {
    "duration": 12,
    "start_time": "2023-04-18T01:49:31.553Z"
   },
   {
    "duration": 4,
    "start_time": "2023-04-18T01:49:31.901Z"
   },
   {
    "duration": 8,
    "start_time": "2023-04-18T01:50:13.250Z"
   },
   {
    "duration": 7,
    "start_time": "2023-04-18T01:50:13.563Z"
   },
   {
    "duration": 10,
    "start_time": "2023-04-18T01:50:13.830Z"
   },
   {
    "duration": 15,
    "start_time": "2023-04-18T01:50:16.533Z"
   },
   {
    "duration": 5,
    "start_time": "2023-04-18T01:50:22.404Z"
   },
   {
    "duration": 11,
    "start_time": "2023-04-18T01:50:33.162Z"
   },
   {
    "duration": 9,
    "start_time": "2023-04-18T01:52:04.492Z"
   },
   {
    "duration": 4,
    "start_time": "2023-04-18T01:55:58.525Z"
   },
   {
    "duration": 14,
    "start_time": "2023-04-18T01:55:58.882Z"
   },
   {
    "duration": 6,
    "start_time": "2023-04-18T01:55:59.192Z"
   },
   {
    "duration": 15,
    "start_time": "2023-04-18T01:56:05.963Z"
   },
   {
    "duration": 20,
    "start_time": "2023-04-18T01:56:14.589Z"
   },
   {
    "duration": 7,
    "start_time": "2023-04-18T01:56:19.089Z"
   },
   {
    "duration": 34,
    "start_time": "2023-04-18T01:56:24.926Z"
   },
   {
    "duration": 1389,
    "start_time": "2023-04-18T02:03:26.917Z"
   },
   {
    "duration": 9,
    "start_time": "2023-04-18T02:03:28.308Z"
   },
   {
    "duration": 147,
    "start_time": "2023-04-18T02:03:28.320Z"
   },
   {
    "duration": 30,
    "start_time": "2023-04-18T02:03:28.469Z"
   },
   {
    "duration": 40,
    "start_time": "2023-04-18T02:03:28.502Z"
   },
   {
    "duration": 75,
    "start_time": "2023-04-18T02:03:28.543Z"
   },
   {
    "duration": 24,
    "start_time": "2023-04-18T02:03:28.620Z"
   },
   {
    "duration": 76,
    "start_time": "2023-04-18T02:03:28.645Z"
   },
   {
    "duration": 13,
    "start_time": "2023-04-18T02:03:28.723Z"
   },
   {
    "duration": 62,
    "start_time": "2023-04-18T02:03:28.737Z"
   },
   {
    "duration": 27,
    "start_time": "2023-04-18T02:03:28.804Z"
   },
   {
    "duration": 99,
    "start_time": "2023-04-18T02:03:28.833Z"
   },
   {
    "duration": 80,
    "start_time": "2023-04-18T02:03:28.934Z"
   },
   {
    "duration": 33,
    "start_time": "2023-04-18T02:03:29.017Z"
   },
   {
    "duration": 58,
    "start_time": "2023-04-18T02:03:29.055Z"
   },
   {
    "duration": 17,
    "start_time": "2023-04-18T02:03:29.115Z"
   },
   {
    "duration": 65,
    "start_time": "2023-04-18T02:03:29.140Z"
   },
   {
    "duration": 12,
    "start_time": "2023-04-18T02:03:29.207Z"
   },
   {
    "duration": 27,
    "start_time": "2023-04-18T02:03:29.221Z"
   },
   {
    "duration": 449,
    "start_time": "2023-04-18T02:03:29.262Z"
   },
   {
    "duration": 14,
    "start_time": "2023-04-18T02:03:29.715Z"
   },
   {
    "duration": 51,
    "start_time": "2023-04-18T02:03:29.735Z"
   },
   {
    "duration": 30,
    "start_time": "2023-04-18T02:03:29.788Z"
   },
   {
    "duration": 263,
    "start_time": "2023-04-18T02:03:29.820Z"
   },
   {
    "duration": 156,
    "start_time": "2023-04-18T02:03:30.092Z"
   },
   {
    "duration": 18,
    "start_time": "2023-04-18T02:03:30.260Z"
   },
   {
    "duration": 474,
    "start_time": "2023-04-18T02:03:30.284Z"
   },
   {
    "duration": 152,
    "start_time": "2023-04-18T02:03:30.765Z"
   },
   {
    "duration": 0,
    "start_time": "2023-04-18T02:03:30.923Z"
   },
   {
    "duration": 0,
    "start_time": "2023-04-18T02:03:30.931Z"
   },
   {
    "duration": 0,
    "start_time": "2023-04-18T02:03:30.936Z"
   },
   {
    "duration": 0,
    "start_time": "2023-04-18T02:03:30.944Z"
   },
   {
    "duration": 0,
    "start_time": "2023-04-18T02:03:30.953Z"
   },
   {
    "duration": 4,
    "start_time": "2023-04-18T02:03:30.958Z"
   },
   {
    "duration": 0,
    "start_time": "2023-04-18T02:03:30.970Z"
   },
   {
    "duration": 0,
    "start_time": "2023-04-18T02:03:30.978Z"
   },
   {
    "duration": 0,
    "start_time": "2023-04-18T02:03:30.980Z"
   },
   {
    "duration": 0,
    "start_time": "2023-04-18T02:03:30.981Z"
   },
   {
    "duration": 0,
    "start_time": "2023-04-18T02:03:30.995Z"
   },
   {
    "duration": 0,
    "start_time": "2023-04-18T02:03:30.997Z"
   },
   {
    "duration": 0,
    "start_time": "2023-04-18T02:03:30.998Z"
   },
   {
    "duration": 0,
    "start_time": "2023-04-18T02:03:31.007Z"
   },
   {
    "duration": 0,
    "start_time": "2023-04-18T02:03:31.013Z"
   },
   {
    "duration": 0,
    "start_time": "2023-04-18T02:03:31.018Z"
   },
   {
    "duration": 0,
    "start_time": "2023-04-18T02:03:31.019Z"
   },
   {
    "duration": 0,
    "start_time": "2023-04-18T02:03:31.030Z"
   },
   {
    "duration": 0,
    "start_time": "2023-04-18T02:03:31.034Z"
   },
   {
    "duration": 0,
    "start_time": "2023-04-18T02:03:31.035Z"
   },
   {
    "duration": 0,
    "start_time": "2023-04-18T02:03:31.035Z"
   },
   {
    "duration": 0,
    "start_time": "2023-04-18T02:03:31.036Z"
   },
   {
    "duration": 0,
    "start_time": "2023-04-18T02:03:31.037Z"
   },
   {
    "duration": 1322,
    "start_time": "2023-04-18T02:09:44.864Z"
   },
   {
    "duration": 3,
    "start_time": "2023-04-18T02:09:46.188Z"
   },
   {
    "duration": 202,
    "start_time": "2023-04-18T02:09:46.193Z"
   },
   {
    "duration": 13,
    "start_time": "2023-04-18T02:09:46.397Z"
   },
   {
    "duration": 13,
    "start_time": "2023-04-18T02:09:46.412Z"
   },
   {
    "duration": 8,
    "start_time": "2023-04-18T02:09:46.427Z"
   },
   {
    "duration": 14,
    "start_time": "2023-04-18T02:09:46.436Z"
   },
   {
    "duration": 9,
    "start_time": "2023-04-18T02:09:46.452Z"
   },
   {
    "duration": 21,
    "start_time": "2023-04-18T02:09:46.462Z"
   },
   {
    "duration": 19,
    "start_time": "2023-04-18T02:09:46.486Z"
   },
   {
    "duration": 12,
    "start_time": "2023-04-18T02:09:46.507Z"
   },
   {
    "duration": 26,
    "start_time": "2023-04-18T02:09:46.520Z"
   },
   {
    "duration": 13,
    "start_time": "2023-04-18T02:09:46.548Z"
   },
   {
    "duration": 25,
    "start_time": "2023-04-18T02:09:46.563Z"
   },
   {
    "duration": 12,
    "start_time": "2023-04-18T02:09:46.590Z"
   },
   {
    "duration": 31,
    "start_time": "2023-04-18T02:09:46.604Z"
   },
   {
    "duration": 32,
    "start_time": "2023-04-18T02:09:46.636Z"
   },
   {
    "duration": 26,
    "start_time": "2023-04-18T02:09:46.670Z"
   },
   {
    "duration": 25,
    "start_time": "2023-04-18T02:09:46.698Z"
   },
   {
    "duration": 279,
    "start_time": "2023-04-18T02:09:46.725Z"
   },
   {
    "duration": 17,
    "start_time": "2023-04-18T02:09:47.006Z"
   },
   {
    "duration": 22,
    "start_time": "2023-04-18T02:09:47.025Z"
   },
   {
    "duration": 13,
    "start_time": "2023-04-18T02:09:47.059Z"
   },
   {
    "duration": 197,
    "start_time": "2023-04-18T02:09:47.074Z"
   },
   {
    "duration": 132,
    "start_time": "2023-04-18T02:09:47.273Z"
   },
   {
    "duration": 13,
    "start_time": "2023-04-18T02:09:47.406Z"
   },
   {
    "duration": 273,
    "start_time": "2023-04-18T02:09:47.420Z"
   },
   {
    "duration": 104,
    "start_time": "2023-04-18T02:09:47.697Z"
   },
   {
    "duration": 0,
    "start_time": "2023-04-18T02:09:47.803Z"
   },
   {
    "duration": 0,
    "start_time": "2023-04-18T02:09:47.805Z"
   },
   {
    "duration": 0,
    "start_time": "2023-04-18T02:09:47.806Z"
   },
   {
    "duration": 0,
    "start_time": "2023-04-18T02:09:47.807Z"
   },
   {
    "duration": 0,
    "start_time": "2023-04-18T02:09:47.808Z"
   },
   {
    "duration": 0,
    "start_time": "2023-04-18T02:09:47.809Z"
   },
   {
    "duration": 0,
    "start_time": "2023-04-18T02:09:47.810Z"
   },
   {
    "duration": 0,
    "start_time": "2023-04-18T02:09:47.811Z"
   },
   {
    "duration": 0,
    "start_time": "2023-04-18T02:09:47.812Z"
   },
   {
    "duration": 0,
    "start_time": "2023-04-18T02:09:47.814Z"
   },
   {
    "duration": 0,
    "start_time": "2023-04-18T02:09:47.815Z"
   },
   {
    "duration": 0,
    "start_time": "2023-04-18T02:09:47.816Z"
   },
   {
    "duration": 0,
    "start_time": "2023-04-18T02:09:47.817Z"
   },
   {
    "duration": 0,
    "start_time": "2023-04-18T02:09:47.818Z"
   },
   {
    "duration": 0,
    "start_time": "2023-04-18T02:09:47.820Z"
   },
   {
    "duration": 0,
    "start_time": "2023-04-18T02:09:47.821Z"
   },
   {
    "duration": 0,
    "start_time": "2023-04-18T02:09:47.822Z"
   },
   {
    "duration": 0,
    "start_time": "2023-04-18T02:09:47.823Z"
   },
   {
    "duration": 0,
    "start_time": "2023-04-18T02:09:47.859Z"
   },
   {
    "duration": 0,
    "start_time": "2023-04-18T02:09:47.861Z"
   },
   {
    "duration": 0,
    "start_time": "2023-04-18T02:09:47.862Z"
   },
   {
    "duration": 0,
    "start_time": "2023-04-18T02:09:47.863Z"
   },
   {
    "duration": 0,
    "start_time": "2023-04-18T02:09:47.864Z"
   },
   {
    "duration": 8,
    "start_time": "2023-04-18T02:12:16.750Z"
   },
   {
    "duration": 169,
    "start_time": "2023-04-18T02:12:18.688Z"
   },
   {
    "duration": 12,
    "start_time": "2023-04-18T02:12:19.066Z"
   },
   {
    "duration": 158,
    "start_time": "2023-04-18T02:12:39.169Z"
   },
   {
    "duration": 154,
    "start_time": "2023-04-18T02:12:53.225Z"
   },
   {
    "duration": 14,
    "start_time": "2023-04-18T02:12:57.868Z"
   },
   {
    "duration": 173,
    "start_time": "2023-04-18T02:13:28.461Z"
   },
   {
    "duration": 13,
    "start_time": "2023-04-18T02:13:32.476Z"
   },
   {
    "duration": 179,
    "start_time": "2023-04-18T02:13:37.401Z"
   },
   {
    "duration": 11,
    "start_time": "2023-04-18T02:13:38.002Z"
   },
   {
    "duration": 4,
    "start_time": "2023-04-18T02:15:14.094Z"
   },
   {
    "duration": 5,
    "start_time": "2023-04-18T02:15:25.217Z"
   },
   {
    "duration": 5,
    "start_time": "2023-04-18T02:15:41.932Z"
   },
   {
    "duration": 5,
    "start_time": "2023-04-18T02:18:06.775Z"
   },
   {
    "duration": 5,
    "start_time": "2023-04-18T02:18:09.275Z"
   },
   {
    "duration": 8,
    "start_time": "2023-04-18T02:19:29.825Z"
   },
   {
    "duration": 3,
    "start_time": "2023-04-18T02:19:33.359Z"
   },
   {
    "duration": 5,
    "start_time": "2023-04-18T02:19:33.860Z"
   },
   {
    "duration": 4,
    "start_time": "2023-04-18T02:19:59.440Z"
   },
   {
    "duration": 47,
    "start_time": "2023-04-18T02:21:27.058Z"
   },
   {
    "duration": 44,
    "start_time": "2023-04-18T02:21:33.369Z"
   },
   {
    "duration": 3,
    "start_time": "2023-04-18T02:21:36.839Z"
   },
   {
    "duration": 6,
    "start_time": "2023-04-18T02:21:37.111Z"
   },
   {
    "duration": 4,
    "start_time": "2023-04-18T02:21:37.395Z"
   },
   {
    "duration": 5,
    "start_time": "2023-04-18T02:21:37.798Z"
   },
   {
    "duration": 5,
    "start_time": "2023-04-18T02:21:40.961Z"
   },
   {
    "duration": 3,
    "start_time": "2023-04-18T02:21:41.300Z"
   },
   {
    "duration": 4,
    "start_time": "2023-04-18T02:21:41.574Z"
   },
   {
    "duration": 5,
    "start_time": "2023-04-18T02:21:42.359Z"
   },
   {
    "duration": 3,
    "start_time": "2023-04-18T02:21:44.399Z"
   },
   {
    "duration": 4,
    "start_time": "2023-04-18T02:21:44.845Z"
   },
   {
    "duration": 58,
    "start_time": "2023-04-18T02:21:45.459Z"
   },
   {
    "duration": 11,
    "start_time": "2023-04-18T02:21:56.318Z"
   },
   {
    "duration": 5,
    "start_time": "2023-04-18T02:22:28.110Z"
   },
   {
    "duration": 4,
    "start_time": "2023-04-18T02:22:28.645Z"
   },
   {
    "duration": 10,
    "start_time": "2023-04-18T02:22:33.569Z"
   },
   {
    "duration": 4,
    "start_time": "2023-04-18T02:22:37.787Z"
   },
   {
    "duration": 2,
    "start_time": "2023-04-18T02:22:38.161Z"
   },
   {
    "duration": 5,
    "start_time": "2023-04-18T02:22:38.697Z"
   },
   {
    "duration": 2,
    "start_time": "2023-04-18T02:22:39.237Z"
   },
   {
    "duration": 4,
    "start_time": "2023-04-18T02:22:39.702Z"
   },
   {
    "duration": 4,
    "start_time": "2023-04-18T02:22:40.216Z"
   },
   {
    "duration": 10,
    "start_time": "2023-04-18T02:22:40.774Z"
   },
   {
    "duration": 4,
    "start_time": "2023-04-18T02:23:18.204Z"
   },
   {
    "duration": 5,
    "start_time": "2023-04-18T02:23:19.338Z"
   },
   {
    "duration": 7,
    "start_time": "2023-04-18T02:23:57.323Z"
   },
   {
    "duration": 6,
    "start_time": "2023-04-18T02:23:58.365Z"
   },
   {
    "duration": 5,
    "start_time": "2023-04-18T02:28:11.225Z"
   },
   {
    "duration": 5,
    "start_time": "2023-04-18T02:28:14.393Z"
   },
   {
    "duration": 8,
    "start_time": "2023-04-18T02:28:19.335Z"
   },
   {
    "duration": 8,
    "start_time": "2023-04-18T02:30:00.823Z"
   },
   {
    "duration": 7,
    "start_time": "2023-04-18T02:30:38.981Z"
   },
   {
    "duration": 8,
    "start_time": "2023-04-18T02:32:37.389Z"
   },
   {
    "duration": 7,
    "start_time": "2023-04-18T02:42:27.262Z"
   },
   {
    "duration": 7,
    "start_time": "2023-04-18T02:42:28.776Z"
   },
   {
    "duration": 14,
    "start_time": "2023-04-18T02:42:42.156Z"
   },
   {
    "duration": 16,
    "start_time": "2023-04-18T02:44:29.074Z"
   },
   {
    "duration": 5,
    "start_time": "2023-04-18T02:44:50.779Z"
   },
   {
    "duration": 7,
    "start_time": "2023-04-18T02:45:24.922Z"
   },
   {
    "duration": 9,
    "start_time": "2023-04-18T02:45:41.091Z"
   },
   {
    "duration": 9,
    "start_time": "2023-04-18T02:45:41.491Z"
   },
   {
    "duration": 5,
    "start_time": "2023-04-18T02:45:43.325Z"
   },
   {
    "duration": 12,
    "start_time": "2023-04-18T02:45:43.909Z"
   },
   {
    "duration": 1186,
    "start_time": "2023-04-18T02:46:24.786Z"
   },
   {
    "duration": 2,
    "start_time": "2023-04-18T02:46:25.974Z"
   },
   {
    "duration": 104,
    "start_time": "2023-04-18T02:46:25.978Z"
   },
   {
    "duration": 12,
    "start_time": "2023-04-18T02:46:26.084Z"
   },
   {
    "duration": 24,
    "start_time": "2023-04-18T02:46:26.098Z"
   },
   {
    "duration": 11,
    "start_time": "2023-04-18T02:46:26.123Z"
   },
   {
    "duration": 22,
    "start_time": "2023-04-18T02:46:26.135Z"
   },
   {
    "duration": 61,
    "start_time": "2023-04-18T02:46:26.159Z"
   },
   {
    "duration": 21,
    "start_time": "2023-04-18T02:46:26.222Z"
   },
   {
    "duration": 26,
    "start_time": "2023-04-18T02:46:26.246Z"
   },
   {
    "duration": 15,
    "start_time": "2023-04-18T02:46:26.273Z"
   },
   {
    "duration": 21,
    "start_time": "2023-04-18T02:46:26.289Z"
   },
   {
    "duration": 12,
    "start_time": "2023-04-18T02:46:26.312Z"
   },
   {
    "duration": 11,
    "start_time": "2023-04-18T02:46:26.325Z"
   },
   {
    "duration": 26,
    "start_time": "2023-04-18T02:46:26.337Z"
   },
   {
    "duration": 6,
    "start_time": "2023-04-18T02:46:26.364Z"
   },
   {
    "duration": 5,
    "start_time": "2023-04-18T02:46:26.372Z"
   },
   {
    "duration": 8,
    "start_time": "2023-04-18T02:46:26.379Z"
   },
   {
    "duration": 27,
    "start_time": "2023-04-18T02:46:26.389Z"
   },
   {
    "duration": 314,
    "start_time": "2023-04-18T02:46:26.418Z"
   },
   {
    "duration": 27,
    "start_time": "2023-04-18T02:46:26.734Z"
   },
   {
    "duration": 14,
    "start_time": "2023-04-18T02:46:26.762Z"
   },
   {
    "duration": 15,
    "start_time": "2023-04-18T02:46:26.778Z"
   },
   {
    "duration": 197,
    "start_time": "2023-04-18T02:46:26.795Z"
   },
   {
    "duration": 136,
    "start_time": "2023-04-18T02:46:26.994Z"
   },
   {
    "duration": 28,
    "start_time": "2023-04-18T02:46:27.132Z"
   },
   {
    "duration": 269,
    "start_time": "2023-04-18T02:46:27.162Z"
   },
   {
    "duration": 198,
    "start_time": "2023-04-18T02:46:27.435Z"
   },
   {
    "duration": 11,
    "start_time": "2023-04-18T02:46:27.635Z"
   },
   {
    "duration": 214,
    "start_time": "2023-04-18T02:46:27.648Z"
   },
   {
    "duration": 313,
    "start_time": "2023-04-18T02:46:27.864Z"
   },
   {
    "duration": 216,
    "start_time": "2023-04-18T02:46:28.178Z"
   },
   {
    "duration": 285,
    "start_time": "2023-04-18T02:46:28.396Z"
   },
   {
    "duration": 215,
    "start_time": "2023-04-18T02:46:28.683Z"
   },
   {
    "duration": 5,
    "start_time": "2023-04-18T02:46:28.900Z"
   },
   {
    "duration": 8,
    "start_time": "2023-04-18T02:46:28.907Z"
   },
   {
    "duration": 156,
    "start_time": "2023-04-18T02:46:28.916Z"
   },
   {
    "duration": 5,
    "start_time": "2023-04-18T02:46:29.073Z"
   },
   {
    "duration": 8,
    "start_time": "2023-04-18T02:46:29.079Z"
   },
   {
    "duration": 171,
    "start_time": "2023-04-18T02:46:29.088Z"
   },
   {
    "duration": 4,
    "start_time": "2023-04-18T02:46:29.261Z"
   },
   {
    "duration": 13,
    "start_time": "2023-04-18T02:46:29.266Z"
   },
   {
    "duration": 238,
    "start_time": "2023-04-18T02:46:29.281Z"
   },
   {
    "duration": 207,
    "start_time": "2023-04-18T02:46:29.520Z"
   },
   {
    "duration": 8,
    "start_time": "2023-04-18T02:46:29.732Z"
   },
   {
    "duration": 214,
    "start_time": "2023-04-18T02:46:29.742Z"
   },
   {
    "duration": 11,
    "start_time": "2023-04-18T02:46:29.958Z"
   },
   {
    "duration": 13,
    "start_time": "2023-04-18T02:46:29.970Z"
   },
   {
    "duration": 14,
    "start_time": "2023-04-18T02:46:29.985Z"
   },
   {
    "duration": 50,
    "start_time": "2023-04-18T02:46:30.000Z"
   },
   {
    "duration": 16,
    "start_time": "2023-04-18T02:46:30.052Z"
   },
   {
    "duration": 7,
    "start_time": "2023-04-18T02:47:05.608Z"
   },
   {
    "duration": 7,
    "start_time": "2023-04-18T02:47:20.158Z"
   },
   {
    "duration": 18,
    "start_time": "2023-04-18T02:47:20.166Z"
   },
   {
    "duration": 6,
    "start_time": "2023-04-18T02:47:20.767Z"
   },
   {
    "duration": 8,
    "start_time": "2023-04-18T02:47:23.836Z"
   },
   {
    "duration": 5,
    "start_time": "2023-04-18T02:47:26.395Z"
   },
   {
    "duration": 4,
    "start_time": "2023-04-18T02:47:55.520Z"
   },
   {
    "duration": 49,
    "start_time": "2023-04-18T02:48:44.967Z"
   },
   {
    "duration": 48,
    "start_time": "2023-04-18T02:50:48.279Z"
   },
   {
    "duration": 103,
    "start_time": "2023-04-18T02:51:27.871Z"
   },
   {
    "duration": 9,
    "start_time": "2023-04-18T02:51:31.095Z"
   },
   {
    "duration": 13,
    "start_time": "2023-04-18T02:51:32.231Z"
   },
   {
    "duration": 12,
    "start_time": "2023-04-18T02:51:47.622Z"
   },
   {
    "duration": 9,
    "start_time": "2023-04-18T02:51:56.593Z"
   },
   {
    "duration": 9,
    "start_time": "2023-04-18T02:51:59.495Z"
   },
   {
    "duration": 13,
    "start_time": "2023-04-18T02:52:01.276Z"
   },
   {
    "duration": 12,
    "start_time": "2023-04-18T02:52:24.874Z"
   },
   {
    "duration": 17,
    "start_time": "2023-04-18T02:52:30.590Z"
   },
   {
    "duration": 5,
    "start_time": "2023-04-18T02:53:32.079Z"
   },
   {
    "duration": 9,
    "start_time": "2023-04-18T02:53:35.573Z"
   },
   {
    "duration": 10,
    "start_time": "2023-04-18T02:53:35.765Z"
   },
   {
    "duration": 4,
    "start_time": "2023-04-18T02:53:38.064Z"
   },
   {
    "duration": 13,
    "start_time": "2023-04-18T02:55:19.017Z"
   },
   {
    "duration": 5,
    "start_time": "2023-04-18T02:55:39.243Z"
   },
   {
    "duration": 6,
    "start_time": "2023-04-18T02:55:45.382Z"
   },
   {
    "duration": 4,
    "start_time": "2023-04-18T02:56:50.396Z"
   },
   {
    "duration": 11,
    "start_time": "2023-04-18T02:56:57.815Z"
   },
   {
    "duration": 12,
    "start_time": "2023-04-18T02:57:08.583Z"
   },
   {
    "duration": 7,
    "start_time": "2023-04-18T02:57:14.748Z"
   },
   {
    "duration": 12,
    "start_time": "2023-04-18T02:57:36.435Z"
   },
   {
    "duration": 6,
    "start_time": "2023-04-18T02:57:46.510Z"
   },
   {
    "duration": 6,
    "start_time": "2023-04-18T02:57:52.325Z"
   },
   {
    "duration": 10,
    "start_time": "2023-04-18T02:57:54.743Z"
   },
   {
    "duration": 9,
    "start_time": "2023-04-18T02:58:16.747Z"
   },
   {
    "duration": 58,
    "start_time": "2023-04-18T02:58:52.332Z"
   },
   {
    "duration": 65,
    "start_time": "2023-04-18T02:59:07.924Z"
   },
   {
    "duration": 17,
    "start_time": "2023-04-18T02:59:23.417Z"
   },
   {
    "duration": 9,
    "start_time": "2023-04-18T03:00:33.724Z"
   },
   {
    "duration": 7,
    "start_time": "2023-04-18T03:04:43.020Z"
   },
   {
    "duration": 1185,
    "start_time": "2023-04-18T03:05:07.516Z"
   },
   {
    "duration": 3,
    "start_time": "2023-04-18T03:05:08.703Z"
   },
   {
    "duration": 171,
    "start_time": "2023-04-18T03:05:08.707Z"
   },
   {
    "duration": 13,
    "start_time": "2023-04-18T03:05:08.880Z"
   },
   {
    "duration": 23,
    "start_time": "2023-04-18T03:05:08.895Z"
   },
   {
    "duration": 14,
    "start_time": "2023-04-18T03:05:08.920Z"
   },
   {
    "duration": 22,
    "start_time": "2023-04-18T03:05:08.935Z"
   },
   {
    "duration": 12,
    "start_time": "2023-04-18T03:05:08.959Z"
   },
   {
    "duration": 14,
    "start_time": "2023-04-18T03:05:08.973Z"
   },
   {
    "duration": 19,
    "start_time": "2023-04-18T03:05:08.991Z"
   },
   {
    "duration": 13,
    "start_time": "2023-04-18T03:05:09.012Z"
   },
   {
    "duration": 16,
    "start_time": "2023-04-18T03:05:09.028Z"
   },
   {
    "duration": 16,
    "start_time": "2023-04-18T03:05:09.059Z"
   },
   {
    "duration": 21,
    "start_time": "2023-04-18T03:05:09.077Z"
   },
   {
    "duration": 6,
    "start_time": "2023-04-18T03:05:09.100Z"
   },
   {
    "duration": 11,
    "start_time": "2023-04-18T03:05:09.108Z"
   },
   {
    "duration": 15,
    "start_time": "2023-04-18T03:05:09.120Z"
   },
   {
    "duration": 29,
    "start_time": "2023-04-18T03:05:09.137Z"
   },
   {
    "duration": 17,
    "start_time": "2023-04-18T03:05:09.168Z"
   },
   {
    "duration": 354,
    "start_time": "2023-04-18T03:05:09.186Z"
   },
   {
    "duration": 27,
    "start_time": "2023-04-18T03:05:09.543Z"
   },
   {
    "duration": 26,
    "start_time": "2023-04-18T03:05:09.571Z"
   },
   {
    "duration": 20,
    "start_time": "2023-04-18T03:05:09.599Z"
   },
   {
    "duration": 292,
    "start_time": "2023-04-18T03:05:09.621Z"
   },
   {
    "duration": 170,
    "start_time": "2023-04-18T03:05:09.915Z"
   },
   {
    "duration": 14,
    "start_time": "2023-04-18T03:05:10.087Z"
   },
   {
    "duration": 318,
    "start_time": "2023-04-18T03:05:10.103Z"
   },
   {
    "duration": 255,
    "start_time": "2023-04-18T03:05:10.426Z"
   },
   {
    "duration": 14,
    "start_time": "2023-04-18T03:05:10.683Z"
   },
   {
    "duration": 285,
    "start_time": "2023-04-18T03:05:10.699Z"
   },
   {
    "duration": 304,
    "start_time": "2023-04-18T03:05:10.986Z"
   },
   {
    "duration": 236,
    "start_time": "2023-04-18T03:05:11.292Z"
   },
   {
    "duration": 392,
    "start_time": "2023-04-18T03:05:11.530Z"
   },
   {
    "duration": 235,
    "start_time": "2023-04-18T03:05:11.924Z"
   },
   {
    "duration": 5,
    "start_time": "2023-04-18T03:05:12.161Z"
   },
   {
    "duration": 22,
    "start_time": "2023-04-18T03:05:12.168Z"
   },
   {
    "duration": 166,
    "start_time": "2023-04-18T03:05:12.193Z"
   },
   {
    "duration": 7,
    "start_time": "2023-04-18T03:05:12.362Z"
   },
   {
    "duration": 11,
    "start_time": "2023-04-18T03:05:12.371Z"
   },
   {
    "duration": 210,
    "start_time": "2023-04-18T03:05:12.384Z"
   },
   {
    "duration": 5,
    "start_time": "2023-04-18T03:05:12.596Z"
   },
   {
    "duration": 15,
    "start_time": "2023-04-18T03:05:12.603Z"
   },
   {
    "duration": 288,
    "start_time": "2023-04-18T03:05:12.620Z"
   },
   {
    "duration": 178,
    "start_time": "2023-04-18T03:05:12.910Z"
   },
   {
    "duration": 9,
    "start_time": "2023-04-18T03:05:13.090Z"
   },
   {
    "duration": 249,
    "start_time": "2023-04-18T03:05:13.101Z"
   },
   {
    "duration": 13,
    "start_time": "2023-04-18T03:05:13.360Z"
   },
   {
    "duration": 17,
    "start_time": "2023-04-18T03:05:13.376Z"
   },
   {
    "duration": 17,
    "start_time": "2023-04-18T03:05:13.395Z"
   },
   {
    "duration": 52,
    "start_time": "2023-04-18T03:05:13.414Z"
   },
   {
    "duration": 16,
    "start_time": "2023-04-18T03:05:13.468Z"
   },
   {
    "duration": 9,
    "start_time": "2023-04-18T03:07:45.848Z"
   },
   {
    "duration": 145,
    "start_time": "2023-04-18T03:07:52.417Z"
   },
   {
    "duration": 24,
    "start_time": "2023-04-18T03:09:22.877Z"
   },
   {
    "duration": 42,
    "start_time": "2023-04-18T03:09:35.177Z"
   },
   {
    "duration": 61,
    "start_time": "2023-04-18T03:10:11.333Z"
   },
   {
    "duration": 51,
    "start_time": "2023-04-18T03:10:19.144Z"
   },
   {
    "duration": 31,
    "start_time": "2023-04-18T03:10:27.862Z"
   },
   {
    "duration": 15,
    "start_time": "2023-04-18T03:10:40.462Z"
   },
   {
    "duration": 18,
    "start_time": "2023-04-18T03:12:27.255Z"
   },
   {
    "duration": 55,
    "start_time": "2023-04-18T03:12:46.744Z"
   },
   {
    "duration": 10,
    "start_time": "2023-04-18T03:13:02.974Z"
   },
   {
    "duration": 33,
    "start_time": "2023-04-18T03:13:20.489Z"
   },
   {
    "duration": 11,
    "start_time": "2023-04-18T03:13:38.585Z"
   },
   {
    "duration": 8,
    "start_time": "2023-04-18T03:13:45.984Z"
   },
   {
    "duration": 13,
    "start_time": "2023-04-18T03:13:56.132Z"
   },
   {
    "duration": 18,
    "start_time": "2023-04-18T03:14:28.957Z"
   },
   {
    "duration": 16,
    "start_time": "2023-04-18T03:15:25.910Z"
   },
   {
    "duration": 24,
    "start_time": "2023-04-18T03:16:04.855Z"
   },
   {
    "duration": 99,
    "start_time": "2023-04-18T03:16:19.633Z"
   },
   {
    "duration": 13,
    "start_time": "2023-04-18T03:16:25.631Z"
   },
   {
    "duration": 19,
    "start_time": "2023-04-18T03:16:51.379Z"
   },
   {
    "duration": 17,
    "start_time": "2023-04-18T03:17:22.012Z"
   },
   {
    "duration": 13,
    "start_time": "2023-04-18T03:17:39.323Z"
   },
   {
    "duration": 22,
    "start_time": "2023-04-18T03:18:17.803Z"
   },
   {
    "duration": 17,
    "start_time": "2023-04-18T03:18:32.904Z"
   },
   {
    "duration": 25,
    "start_time": "2023-04-18T03:18:55.792Z"
   },
   {
    "duration": 48,
    "start_time": "2023-04-18T03:20:25.105Z"
   },
   {
    "duration": 1548,
    "start_time": "2023-04-18T03:22:42.959Z"
   },
   {
    "duration": 4,
    "start_time": "2023-04-18T03:22:44.510Z"
   },
   {
    "duration": 89,
    "start_time": "2023-04-18T03:22:44.516Z"
   },
   {
    "duration": 17,
    "start_time": "2023-04-18T03:22:44.608Z"
   },
   {
    "duration": 30,
    "start_time": "2023-04-18T03:22:44.628Z"
   },
   {
    "duration": 24,
    "start_time": "2023-04-18T03:22:44.661Z"
   },
   {
    "duration": 33,
    "start_time": "2023-04-18T03:22:44.688Z"
   },
   {
    "duration": 12,
    "start_time": "2023-04-18T03:22:44.723Z"
   },
   {
    "duration": 34,
    "start_time": "2023-04-18T03:22:44.737Z"
   },
   {
    "duration": 41,
    "start_time": "2023-04-18T03:22:44.776Z"
   },
   {
    "duration": 40,
    "start_time": "2023-04-18T03:22:44.819Z"
   },
   {
    "duration": 41,
    "start_time": "2023-04-18T03:22:44.863Z"
   },
   {
    "duration": 43,
    "start_time": "2023-04-18T03:22:44.906Z"
   },
   {
    "duration": 36,
    "start_time": "2023-04-18T03:22:44.951Z"
   },
   {
    "duration": 38,
    "start_time": "2023-04-18T03:22:44.990Z"
   },
   {
    "duration": 133,
    "start_time": "2023-04-18T03:22:45.031Z"
   },
   {
    "duration": 73,
    "start_time": "2023-04-18T03:22:45.166Z"
   },
   {
    "duration": 42,
    "start_time": "2023-04-18T03:22:45.241Z"
   },
   {
    "duration": 29,
    "start_time": "2023-04-18T03:22:45.285Z"
   },
   {
    "duration": 35,
    "start_time": "2023-04-18T03:22:45.316Z"
   },
   {
    "duration": 481,
    "start_time": "2023-04-18T03:22:45.353Z"
   },
   {
    "duration": 30,
    "start_time": "2023-04-18T03:22:45.836Z"
   },
   {
    "duration": 21,
    "start_time": "2023-04-18T03:22:45.868Z"
   },
   {
    "duration": 18,
    "start_time": "2023-04-18T03:22:45.892Z"
   },
   {
    "duration": 333,
    "start_time": "2023-04-18T03:22:45.913Z"
   },
   {
    "duration": 157,
    "start_time": "2023-04-18T03:22:46.249Z"
   },
   {
    "duration": 19,
    "start_time": "2023-04-18T03:22:46.409Z"
   },
   {
    "duration": 368,
    "start_time": "2023-04-18T03:22:46.433Z"
   },
   {
    "duration": 227,
    "start_time": "2023-04-18T03:22:46.804Z"
   },
   {
    "duration": 14,
    "start_time": "2023-04-18T03:22:47.033Z"
   },
   {
    "duration": 289,
    "start_time": "2023-04-18T03:22:47.060Z"
   },
   {
    "duration": 342,
    "start_time": "2023-04-18T03:22:47.351Z"
   },
   {
    "duration": 258,
    "start_time": "2023-04-18T03:22:47.695Z"
   },
   {
    "duration": 335,
    "start_time": "2023-04-18T03:22:47.958Z"
   },
   {
    "duration": 232,
    "start_time": "2023-04-18T03:22:48.295Z"
   },
   {
    "duration": 6,
    "start_time": "2023-04-18T03:22:48.529Z"
   },
   {
    "duration": 39,
    "start_time": "2023-04-18T03:22:48.537Z"
   },
   {
    "duration": 185,
    "start_time": "2023-04-18T03:22:48.579Z"
   },
   {
    "duration": 6,
    "start_time": "2023-04-18T03:22:48.766Z"
   },
   {
    "duration": 8,
    "start_time": "2023-04-18T03:22:48.775Z"
   },
   {
    "duration": 281,
    "start_time": "2023-04-18T03:22:48.786Z"
   },
   {
    "duration": 5,
    "start_time": "2023-04-18T03:22:49.070Z"
   },
   {
    "duration": 7,
    "start_time": "2023-04-18T03:22:49.078Z"
   },
   {
    "duration": 314,
    "start_time": "2023-04-18T03:22:49.088Z"
   },
   {
    "duration": 194,
    "start_time": "2023-04-18T03:22:49.405Z"
   },
   {
    "duration": 10,
    "start_time": "2023-04-18T03:22:49.601Z"
   },
   {
    "duration": 318,
    "start_time": "2023-04-18T03:22:49.613Z"
   },
   {
    "duration": 16,
    "start_time": "2023-04-18T03:22:49.934Z"
   },
   {
    "duration": 45,
    "start_time": "2023-04-18T03:22:49.960Z"
   },
   {
    "duration": 18,
    "start_time": "2023-04-18T03:22:50.007Z"
   },
   {
    "duration": 36,
    "start_time": "2023-04-18T03:22:50.030Z"
   },
   {
    "duration": 22,
    "start_time": "2023-04-18T03:22:50.069Z"
   },
   {
    "duration": 1216,
    "start_time": "2023-04-18T03:47:16.408Z"
   },
   {
    "duration": 2,
    "start_time": "2023-04-18T03:47:17.626Z"
   },
   {
    "duration": 129,
    "start_time": "2023-04-18T03:47:17.629Z"
   },
   {
    "duration": 17,
    "start_time": "2023-04-18T03:47:17.764Z"
   },
   {
    "duration": 12,
    "start_time": "2023-04-18T03:47:17.782Z"
   },
   {
    "duration": 10,
    "start_time": "2023-04-18T03:47:17.796Z"
   },
   {
    "duration": 12,
    "start_time": "2023-04-18T03:47:17.808Z"
   },
   {
    "duration": 12,
    "start_time": "2023-04-18T03:47:17.822Z"
   },
   {
    "duration": 42,
    "start_time": "2023-04-18T03:47:17.845Z"
   },
   {
    "duration": 14,
    "start_time": "2023-04-18T03:47:17.890Z"
   },
   {
    "duration": 12,
    "start_time": "2023-04-18T03:47:17.905Z"
   },
   {
    "duration": 14,
    "start_time": "2023-04-18T03:47:17.919Z"
   },
   {
    "duration": 53,
    "start_time": "2023-04-18T03:47:17.938Z"
   },
   {
    "duration": 15,
    "start_time": "2023-04-18T03:47:17.993Z"
   },
   {
    "duration": 6,
    "start_time": "2023-04-18T03:47:18.009Z"
   },
   {
    "duration": 7,
    "start_time": "2023-04-18T03:47:18.016Z"
   },
   {
    "duration": 16,
    "start_time": "2023-04-18T03:47:18.024Z"
   },
   {
    "duration": 61,
    "start_time": "2023-04-18T03:47:18.046Z"
   },
   {
    "duration": 7,
    "start_time": "2023-04-18T03:47:18.109Z"
   },
   {
    "duration": 30,
    "start_time": "2023-04-18T03:47:18.118Z"
   },
   {
    "duration": 341,
    "start_time": "2023-04-18T03:47:18.150Z"
   },
   {
    "duration": 14,
    "start_time": "2023-04-18T03:47:18.493Z"
   },
   {
    "duration": 46,
    "start_time": "2023-04-18T03:47:18.509Z"
   },
   {
    "duration": 51,
    "start_time": "2023-04-18T03:47:18.557Z"
   },
   {
    "duration": 223,
    "start_time": "2023-04-18T03:47:18.610Z"
   },
   {
    "duration": 153,
    "start_time": "2023-04-18T03:47:18.834Z"
   },
   {
    "duration": 12,
    "start_time": "2023-04-18T03:47:18.988Z"
   },
   {
    "duration": 309,
    "start_time": "2023-04-18T03:47:19.003Z"
   },
   {
    "duration": 192,
    "start_time": "2023-04-18T03:47:19.314Z"
   },
   {
    "duration": 11,
    "start_time": "2023-04-18T03:47:19.508Z"
   },
   {
    "duration": 210,
    "start_time": "2023-04-18T03:47:19.520Z"
   },
   {
    "duration": 337,
    "start_time": "2023-04-18T03:47:19.734Z"
   },
   {
    "duration": 218,
    "start_time": "2023-04-18T03:47:20.073Z"
   },
   {
    "duration": 300,
    "start_time": "2023-04-18T03:47:20.293Z"
   },
   {
    "duration": 221,
    "start_time": "2023-04-18T03:47:20.595Z"
   },
   {
    "duration": 5,
    "start_time": "2023-04-18T03:47:20.817Z"
   },
   {
    "duration": 86,
    "start_time": "2023-04-18T03:47:20.823Z"
   },
   {
    "duration": 204,
    "start_time": "2023-04-18T03:47:20.910Z"
   },
   {
    "duration": 5,
    "start_time": "2023-04-18T03:47:21.116Z"
   },
   {
    "duration": 41,
    "start_time": "2023-04-18T03:47:21.134Z"
   },
   {
    "duration": 221,
    "start_time": "2023-04-18T03:47:21.177Z"
   },
   {
    "duration": 4,
    "start_time": "2023-04-18T03:47:21.400Z"
   },
   {
    "duration": 80,
    "start_time": "2023-04-18T03:47:21.405Z"
   },
   {
    "duration": 232,
    "start_time": "2023-04-18T03:47:21.487Z"
   },
   {
    "duration": 167,
    "start_time": "2023-04-18T03:47:21.720Z"
   },
   {
    "duration": 8,
    "start_time": "2023-04-18T03:47:21.889Z"
   },
   {
    "duration": 249,
    "start_time": "2023-04-18T03:47:21.898Z"
   },
   {
    "duration": 17,
    "start_time": "2023-04-18T03:47:22.148Z"
   },
   {
    "duration": 81,
    "start_time": "2023-04-18T03:47:22.170Z"
   },
   {
    "duration": 69,
    "start_time": "2023-04-18T03:47:22.253Z"
   },
   {
    "duration": 88,
    "start_time": "2023-04-18T03:47:22.324Z"
   },
   {
    "duration": 14,
    "start_time": "2023-04-18T03:47:22.414Z"
   },
   {
    "duration": 1273,
    "start_time": "2023-04-18T03:59:12.356Z"
   },
   {
    "duration": 9,
    "start_time": "2023-04-18T03:59:13.631Z"
   },
   {
    "duration": 150,
    "start_time": "2023-04-18T03:59:13.641Z"
   },
   {
    "duration": 12,
    "start_time": "2023-04-18T03:59:13.793Z"
   },
   {
    "duration": 14,
    "start_time": "2023-04-18T03:59:13.807Z"
   },
   {
    "duration": 8,
    "start_time": "2023-04-18T03:59:13.823Z"
   },
   {
    "duration": 59,
    "start_time": "2023-04-18T03:59:13.832Z"
   },
   {
    "duration": 10,
    "start_time": "2023-04-18T03:59:13.893Z"
   },
   {
    "duration": 8,
    "start_time": "2023-04-18T03:59:13.905Z"
   },
   {
    "duration": 9,
    "start_time": "2023-04-18T03:59:13.915Z"
   },
   {
    "duration": 11,
    "start_time": "2023-04-18T03:59:13.926Z"
   },
   {
    "duration": 17,
    "start_time": "2023-04-18T03:59:13.938Z"
   },
   {
    "duration": 29,
    "start_time": "2023-04-18T03:59:13.966Z"
   },
   {
    "duration": 10,
    "start_time": "2023-04-18T03:59:13.998Z"
   },
   {
    "duration": 4,
    "start_time": "2023-04-18T03:59:14.009Z"
   },
   {
    "duration": 9,
    "start_time": "2023-04-18T03:59:14.014Z"
   },
   {
    "duration": 19,
    "start_time": "2023-04-18T03:59:14.024Z"
   },
   {
    "duration": 50,
    "start_time": "2023-04-18T03:59:14.044Z"
   },
   {
    "duration": 7,
    "start_time": "2023-04-18T03:59:14.095Z"
   },
   {
    "duration": 23,
    "start_time": "2023-04-18T03:59:14.104Z"
   },
   {
    "duration": 319,
    "start_time": "2023-04-18T03:59:14.129Z"
   },
   {
    "duration": 19,
    "start_time": "2023-04-18T03:59:14.457Z"
   },
   {
    "duration": 25,
    "start_time": "2023-04-18T03:59:14.477Z"
   },
   {
    "duration": 7,
    "start_time": "2023-04-18T03:59:14.503Z"
   },
   {
    "duration": 239,
    "start_time": "2023-04-18T03:59:14.512Z"
   },
   {
    "duration": 152,
    "start_time": "2023-04-18T03:59:14.753Z"
   },
   {
    "duration": 13,
    "start_time": "2023-04-18T03:59:14.907Z"
   },
   {
    "duration": 347,
    "start_time": "2023-04-18T03:59:14.922Z"
   },
   {
    "duration": 219,
    "start_time": "2023-04-18T03:59:15.270Z"
   },
   {
    "duration": 13,
    "start_time": "2023-04-18T03:59:15.490Z"
   },
   {
    "duration": 216,
    "start_time": "2023-04-18T03:59:15.504Z"
   },
   {
    "duration": 339,
    "start_time": "2023-04-18T03:59:15.722Z"
   },
   {
    "duration": 232,
    "start_time": "2023-04-18T03:59:16.063Z"
   },
   {
    "duration": 390,
    "start_time": "2023-04-18T03:59:16.297Z"
   },
   {
    "duration": 208,
    "start_time": "2023-04-18T03:59:16.690Z"
   },
   {
    "duration": 5,
    "start_time": "2023-04-18T03:59:16.899Z"
   },
   {
    "duration": 26,
    "start_time": "2023-04-18T03:59:16.905Z"
   },
   {
    "duration": 198,
    "start_time": "2023-04-18T03:59:16.932Z"
   },
   {
    "duration": 9,
    "start_time": "2023-04-18T03:59:17.136Z"
   },
   {
    "duration": 40,
    "start_time": "2023-04-18T03:59:17.149Z"
   },
   {
    "duration": 186,
    "start_time": "2023-04-18T03:59:17.194Z"
   },
   {
    "duration": 4,
    "start_time": "2023-04-18T03:59:17.381Z"
   },
   {
    "duration": 9,
    "start_time": "2023-04-18T03:59:17.387Z"
   },
   {
    "duration": 241,
    "start_time": "2023-04-18T03:59:17.398Z"
   },
   {
    "duration": 163,
    "start_time": "2023-04-18T03:59:17.648Z"
   },
   {
    "duration": 7,
    "start_time": "2023-04-18T03:59:17.813Z"
   },
   {
    "duration": 205,
    "start_time": "2023-04-18T03:59:17.821Z"
   },
   {
    "duration": 19,
    "start_time": "2023-04-18T03:59:18.028Z"
   },
   {
    "duration": 55,
    "start_time": "2023-04-18T03:59:18.051Z"
   },
   {
    "duration": 52,
    "start_time": "2023-04-18T03:59:18.108Z"
   },
   {
    "duration": 57,
    "start_time": "2023-04-18T03:59:18.162Z"
   },
   {
    "duration": 34,
    "start_time": "2023-04-18T03:59:18.221Z"
   },
   {
    "duration": 1208,
    "start_time": "2023-04-18T04:02:50.880Z"
   },
   {
    "duration": 2,
    "start_time": "2023-04-18T04:02:52.090Z"
   },
   {
    "duration": 109,
    "start_time": "2023-04-18T04:02:52.094Z"
   },
   {
    "duration": 12,
    "start_time": "2023-04-18T04:02:52.204Z"
   },
   {
    "duration": 27,
    "start_time": "2023-04-18T04:02:52.218Z"
   },
   {
    "duration": 39,
    "start_time": "2023-04-18T04:02:52.247Z"
   },
   {
    "duration": 16,
    "start_time": "2023-04-18T04:02:52.288Z"
   },
   {
    "duration": 9,
    "start_time": "2023-04-18T04:02:52.306Z"
   },
   {
    "duration": 12,
    "start_time": "2023-04-18T04:02:52.317Z"
   },
   {
    "duration": 52,
    "start_time": "2023-04-18T04:02:52.330Z"
   },
   {
    "duration": 23,
    "start_time": "2023-04-18T04:02:52.383Z"
   },
   {
    "duration": 16,
    "start_time": "2023-04-18T04:02:52.408Z"
   },
   {
    "duration": 14,
    "start_time": "2023-04-18T04:02:52.426Z"
   },
   {
    "duration": 48,
    "start_time": "2023-04-18T04:02:52.447Z"
   },
   {
    "duration": 4,
    "start_time": "2023-04-18T04:02:52.497Z"
   },
   {
    "duration": 8,
    "start_time": "2023-04-18T04:02:52.502Z"
   },
   {
    "duration": 15,
    "start_time": "2023-04-18T04:02:52.512Z"
   },
   {
    "duration": 21,
    "start_time": "2023-04-18T04:02:52.529Z"
   },
   {
    "duration": 57,
    "start_time": "2023-04-18T04:02:52.552Z"
   },
   {
    "duration": 28,
    "start_time": "2023-04-18T04:02:52.612Z"
   },
   {
    "duration": 311,
    "start_time": "2023-04-18T04:02:52.644Z"
   },
   {
    "duration": 16,
    "start_time": "2023-04-18T04:02:52.957Z"
   },
   {
    "duration": 34,
    "start_time": "2023-04-18T04:02:52.975Z"
   },
   {
    "duration": 10,
    "start_time": "2023-04-18T04:02:53.010Z"
   },
   {
    "duration": 266,
    "start_time": "2023-04-18T04:02:53.022Z"
   },
   {
    "duration": 125,
    "start_time": "2023-04-18T04:02:53.290Z"
   },
   {
    "duration": 19,
    "start_time": "2023-04-18T04:02:53.416Z"
   },
   {
    "duration": 280,
    "start_time": "2023-04-18T04:02:53.437Z"
   },
   {
    "duration": 206,
    "start_time": "2023-04-18T04:02:53.719Z"
   },
   {
    "duration": 14,
    "start_time": "2023-04-18T04:02:53.934Z"
   },
   {
    "duration": 240,
    "start_time": "2023-04-18T04:02:53.949Z"
   },
   {
    "duration": 303,
    "start_time": "2023-04-18T04:02:54.191Z"
   },
   {
    "duration": 258,
    "start_time": "2023-04-18T04:02:54.496Z"
   },
   {
    "duration": 330,
    "start_time": "2023-04-18T04:02:54.755Z"
   },
   {
    "duration": 212,
    "start_time": "2023-04-18T04:02:55.098Z"
   },
   {
    "duration": 5,
    "start_time": "2023-04-18T04:02:55.311Z"
   },
   {
    "duration": 24,
    "start_time": "2023-04-18T04:02:55.317Z"
   },
   {
    "duration": 187,
    "start_time": "2023-04-18T04:02:55.342Z"
   },
   {
    "duration": 6,
    "start_time": "2023-04-18T04:02:55.531Z"
   },
   {
    "duration": 48,
    "start_time": "2023-04-18T04:02:55.539Z"
   },
   {
    "duration": 176,
    "start_time": "2023-04-18T04:02:55.591Z"
   },
   {
    "duration": 9,
    "start_time": "2023-04-18T04:02:55.769Z"
   },
   {
    "duration": 21,
    "start_time": "2023-04-18T04:02:55.779Z"
   },
   {
    "duration": 227,
    "start_time": "2023-04-18T04:02:55.801Z"
   },
   {
    "duration": 164,
    "start_time": "2023-04-18T04:02:56.029Z"
   },
   {
    "duration": 6,
    "start_time": "2023-04-18T04:02:56.196Z"
   },
   {
    "duration": 225,
    "start_time": "2023-04-18T04:02:56.203Z"
   },
   {
    "duration": 15,
    "start_time": "2023-04-18T04:02:56.429Z"
   },
   {
    "duration": 58,
    "start_time": "2023-04-18T04:02:56.445Z"
   },
   {
    "duration": 8,
    "start_time": "2023-04-18T04:02:56.505Z"
   },
   {
    "duration": 50,
    "start_time": "2023-04-18T04:02:56.514Z"
   },
   {
    "duration": 20,
    "start_time": "2023-04-18T04:02:56.566Z"
   }
  ],
  "kernelspec": {
   "display_name": "Python 3 (ipykernel)",
   "language": "python",
   "name": "python3"
  },
  "language_info": {
   "codemirror_mode": {
    "name": "ipython",
    "version": 3
   },
   "file_extension": ".py",
   "mimetype": "text/x-python",
   "name": "python",
   "nbconvert_exporter": "python",
   "pygments_lexer": "ipython3",
   "version": "3.9.13"
  },
  "toc": {
   "base_numbering": 1,
   "nav_menu": {},
   "number_sections": true,
   "sideBar": true,
   "skip_h1_title": false,
   "title_cell": "Table of Contents",
   "title_sidebar": "Contents",
   "toc_cell": false,
   "toc_position": {
    "height": "569.95px",
    "left": "33px",
    "top": "516.783px",
    "width": "274.717px"
   },
   "toc_section_display": true,
   "toc_window_display": false
  }
 },
 "nbformat": 4,
 "nbformat_minor": 5
}
