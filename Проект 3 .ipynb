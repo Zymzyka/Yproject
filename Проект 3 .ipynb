{
 "cells": [
  {
   "cell_type": "markdown",
   "metadata": {},
   "source": [
    "# Исследование объявлений о продаже квартир\n",
    "\n",
    "В вашем распоряжении данные сервиса Яндекс.Недвижимость — архив объявлений о продаже квартир в Санкт-Петербурге и соседних населённых пунктов за несколько лет. Нужно научиться определять рыночную стоимость объектов недвижимости. Ваша задача — установить параметры. Это позволит построить автоматизированную систему: она отследит аномалии и мошенническую деятельность. \n",
    "\n",
    "По каждой квартире на продажу доступны два вида данных. Первые вписаны пользователем, вторые — получены автоматически на основе картографических данных. Например, расстояние до центра, аэропорта, ближайшего парка и водоёма. "
   ]
  },
  {
   "cell_type": "markdown",
   "metadata": {},
   "source": [
    "### Откройте файл с данными и изучите общую информацию. "
   ]
  },
  {
   "cell_type": "code",
   "execution_count": 1,
   "metadata": {},
   "outputs": [],
   "source": [
    "#Запускаем библиотеку пандас для работы с таблицами.\n",
    "import pandas as pd\n",
    "#Запускает бибилиотеку matplotlib для построение гистрограм.\n",
    "import matplotlib.pyplot as plt\n",
    "#Запускаем библиотеку numpy для работы с массивами\n",
    "import numpy as np "
   ]
  },
  {
   "cell_type": "code",
   "execution_count": 2,
   "metadata": {},
   "outputs": [],
   "source": [
    "# Прочитали фаил таблицы csv,сделали разделение столбцов методом sep и присвоили переменной data \n",
    "data = pd.read_csv('/datasets/real_estate_data.csv', sep='\\t')"
   ]
  },
  {
   "cell_type": "code",
   "execution_count": 3,
   "metadata": {
    "scrolled": true
   },
   "outputs": [
    {
     "name": "stdout",
     "output_type": "stream",
     "text": [
      "<class 'pandas.core.frame.DataFrame'>\n",
      "RangeIndex: 23699 entries, 0 to 23698\n",
      "Data columns (total 22 columns):\n",
      " #   Column                Non-Null Count  Dtype  \n",
      "---  ------                --------------  -----  \n",
      " 0   total_images          23699 non-null  int64  \n",
      " 1   last_price            23699 non-null  float64\n",
      " 2   total_area            23699 non-null  float64\n",
      " 3   first_day_exposition  23699 non-null  object \n",
      " 4   rooms                 23699 non-null  int64  \n",
      " 5   ceiling_height        14504 non-null  float64\n",
      " 6   floors_total          23613 non-null  float64\n",
      " 7   living_area           21796 non-null  float64\n",
      " 8   floor                 23699 non-null  int64  \n",
      " 9   is_apartment          2775 non-null   object \n",
      " 10  studio                23699 non-null  bool   \n",
      " 11  open_plan             23699 non-null  bool   \n",
      " 12  kitchen_area          21421 non-null  float64\n",
      " 13  balcony               12180 non-null  float64\n",
      " 14  locality_name         23650 non-null  object \n",
      " 15  airports_nearest      18157 non-null  float64\n",
      " 16  cityCenters_nearest   18180 non-null  float64\n",
      " 17  parks_around3000      18181 non-null  float64\n",
      " 18  parks_nearest         8079 non-null   float64\n",
      " 19  ponds_around3000      18181 non-null  float64\n",
      " 20  ponds_nearest         9110 non-null   float64\n",
      " 21  days_exposition       20518 non-null  float64\n",
      "dtypes: bool(2), float64(14), int64(3), object(3)\n",
      "memory usage: 3.7+ MB\n"
     ]
    }
   ],
   "source": [
    "# Просмотрели информацию о таблице количество: строчек, столбцов и пропусков в столбцах и их типы\n",
    "data.info()"
   ]
  },
  {
   "cell_type": "code",
   "execution_count": 4,
   "metadata": {
    "scrolled": true
   },
   "outputs": [
    {
     "data": {
      "text/html": [
       "<div>\n",
       "<style scoped>\n",
       "    .dataframe tbody tr th:only-of-type {\n",
       "        vertical-align: middle;\n",
       "    }\n",
       "\n",
       "    .dataframe tbody tr th {\n",
       "        vertical-align: top;\n",
       "    }\n",
       "\n",
       "    .dataframe thead th {\n",
       "        text-align: right;\n",
       "    }\n",
       "</style>\n",
       "<table border=\"1\" class=\"dataframe\">\n",
       "  <thead>\n",
       "    <tr style=\"text-align: right;\">\n",
       "      <th></th>\n",
       "      <th>total_images</th>\n",
       "      <th>last_price</th>\n",
       "      <th>total_area</th>\n",
       "      <th>first_day_exposition</th>\n",
       "      <th>rooms</th>\n",
       "      <th>ceiling_height</th>\n",
       "      <th>floors_total</th>\n",
       "      <th>living_area</th>\n",
       "      <th>floor</th>\n",
       "      <th>is_apartment</th>\n",
       "      <th>...</th>\n",
       "      <th>kitchen_area</th>\n",
       "      <th>balcony</th>\n",
       "      <th>locality_name</th>\n",
       "      <th>airports_nearest</th>\n",
       "      <th>cityCenters_nearest</th>\n",
       "      <th>parks_around3000</th>\n",
       "      <th>parks_nearest</th>\n",
       "      <th>ponds_around3000</th>\n",
       "      <th>ponds_nearest</th>\n",
       "      <th>days_exposition</th>\n",
       "    </tr>\n",
       "  </thead>\n",
       "  <tbody>\n",
       "    <tr>\n",
       "      <th>0</th>\n",
       "      <td>20</td>\n",
       "      <td>13000000.0</td>\n",
       "      <td>108.00</td>\n",
       "      <td>2019-03-07T00:00:00</td>\n",
       "      <td>3</td>\n",
       "      <td>2.70</td>\n",
       "      <td>16.0</td>\n",
       "      <td>51.00</td>\n",
       "      <td>8</td>\n",
       "      <td>NaN</td>\n",
       "      <td>...</td>\n",
       "      <td>25.00</td>\n",
       "      <td>NaN</td>\n",
       "      <td>Санкт-Петербург</td>\n",
       "      <td>18863.0</td>\n",
       "      <td>16028.0</td>\n",
       "      <td>1.0</td>\n",
       "      <td>482.0</td>\n",
       "      <td>2.0</td>\n",
       "      <td>755.0</td>\n",
       "      <td>NaN</td>\n",
       "    </tr>\n",
       "    <tr>\n",
       "      <th>1</th>\n",
       "      <td>7</td>\n",
       "      <td>3350000.0</td>\n",
       "      <td>40.40</td>\n",
       "      <td>2018-12-04T00:00:00</td>\n",
       "      <td>1</td>\n",
       "      <td>NaN</td>\n",
       "      <td>11.0</td>\n",
       "      <td>18.60</td>\n",
       "      <td>1</td>\n",
       "      <td>NaN</td>\n",
       "      <td>...</td>\n",
       "      <td>11.00</td>\n",
       "      <td>2.0</td>\n",
       "      <td>посёлок Шушары</td>\n",
       "      <td>12817.0</td>\n",
       "      <td>18603.0</td>\n",
       "      <td>0.0</td>\n",
       "      <td>NaN</td>\n",
       "      <td>0.0</td>\n",
       "      <td>NaN</td>\n",
       "      <td>81.0</td>\n",
       "    </tr>\n",
       "    <tr>\n",
       "      <th>2</th>\n",
       "      <td>10</td>\n",
       "      <td>5196000.0</td>\n",
       "      <td>56.00</td>\n",
       "      <td>2015-08-20T00:00:00</td>\n",
       "      <td>2</td>\n",
       "      <td>NaN</td>\n",
       "      <td>5.0</td>\n",
       "      <td>34.30</td>\n",
       "      <td>4</td>\n",
       "      <td>NaN</td>\n",
       "      <td>...</td>\n",
       "      <td>8.30</td>\n",
       "      <td>0.0</td>\n",
       "      <td>Санкт-Петербург</td>\n",
       "      <td>21741.0</td>\n",
       "      <td>13933.0</td>\n",
       "      <td>1.0</td>\n",
       "      <td>90.0</td>\n",
       "      <td>2.0</td>\n",
       "      <td>574.0</td>\n",
       "      <td>558.0</td>\n",
       "    </tr>\n",
       "    <tr>\n",
       "      <th>3</th>\n",
       "      <td>0</td>\n",
       "      <td>64900000.0</td>\n",
       "      <td>159.00</td>\n",
       "      <td>2015-07-24T00:00:00</td>\n",
       "      <td>3</td>\n",
       "      <td>NaN</td>\n",
       "      <td>14.0</td>\n",
       "      <td>NaN</td>\n",
       "      <td>9</td>\n",
       "      <td>NaN</td>\n",
       "      <td>...</td>\n",
       "      <td>NaN</td>\n",
       "      <td>0.0</td>\n",
       "      <td>Санкт-Петербург</td>\n",
       "      <td>28098.0</td>\n",
       "      <td>6800.0</td>\n",
       "      <td>2.0</td>\n",
       "      <td>84.0</td>\n",
       "      <td>3.0</td>\n",
       "      <td>234.0</td>\n",
       "      <td>424.0</td>\n",
       "    </tr>\n",
       "    <tr>\n",
       "      <th>4</th>\n",
       "      <td>2</td>\n",
       "      <td>10000000.0</td>\n",
       "      <td>100.00</td>\n",
       "      <td>2018-06-19T00:00:00</td>\n",
       "      <td>2</td>\n",
       "      <td>3.03</td>\n",
       "      <td>14.0</td>\n",
       "      <td>32.00</td>\n",
       "      <td>13</td>\n",
       "      <td>NaN</td>\n",
       "      <td>...</td>\n",
       "      <td>41.00</td>\n",
       "      <td>NaN</td>\n",
       "      <td>Санкт-Петербург</td>\n",
       "      <td>31856.0</td>\n",
       "      <td>8098.0</td>\n",
       "      <td>2.0</td>\n",
       "      <td>112.0</td>\n",
       "      <td>1.0</td>\n",
       "      <td>48.0</td>\n",
       "      <td>121.0</td>\n",
       "    </tr>\n",
       "    <tr>\n",
       "      <th>5</th>\n",
       "      <td>10</td>\n",
       "      <td>2890000.0</td>\n",
       "      <td>30.40</td>\n",
       "      <td>2018-09-10T00:00:00</td>\n",
       "      <td>1</td>\n",
       "      <td>NaN</td>\n",
       "      <td>12.0</td>\n",
       "      <td>14.40</td>\n",
       "      <td>5</td>\n",
       "      <td>NaN</td>\n",
       "      <td>...</td>\n",
       "      <td>9.10</td>\n",
       "      <td>NaN</td>\n",
       "      <td>городской посёлок Янино-1</td>\n",
       "      <td>NaN</td>\n",
       "      <td>NaN</td>\n",
       "      <td>NaN</td>\n",
       "      <td>NaN</td>\n",
       "      <td>NaN</td>\n",
       "      <td>NaN</td>\n",
       "      <td>55.0</td>\n",
       "    </tr>\n",
       "    <tr>\n",
       "      <th>6</th>\n",
       "      <td>6</td>\n",
       "      <td>3700000.0</td>\n",
       "      <td>37.30</td>\n",
       "      <td>2017-11-02T00:00:00</td>\n",
       "      <td>1</td>\n",
       "      <td>NaN</td>\n",
       "      <td>26.0</td>\n",
       "      <td>10.60</td>\n",
       "      <td>6</td>\n",
       "      <td>NaN</td>\n",
       "      <td>...</td>\n",
       "      <td>14.40</td>\n",
       "      <td>1.0</td>\n",
       "      <td>посёлок Парголово</td>\n",
       "      <td>52996.0</td>\n",
       "      <td>19143.0</td>\n",
       "      <td>0.0</td>\n",
       "      <td>NaN</td>\n",
       "      <td>0.0</td>\n",
       "      <td>NaN</td>\n",
       "      <td>155.0</td>\n",
       "    </tr>\n",
       "    <tr>\n",
       "      <th>7</th>\n",
       "      <td>5</td>\n",
       "      <td>7915000.0</td>\n",
       "      <td>71.60</td>\n",
       "      <td>2019-04-18T00:00:00</td>\n",
       "      <td>2</td>\n",
       "      <td>NaN</td>\n",
       "      <td>24.0</td>\n",
       "      <td>NaN</td>\n",
       "      <td>22</td>\n",
       "      <td>NaN</td>\n",
       "      <td>...</td>\n",
       "      <td>18.90</td>\n",
       "      <td>2.0</td>\n",
       "      <td>Санкт-Петербург</td>\n",
       "      <td>23982.0</td>\n",
       "      <td>11634.0</td>\n",
       "      <td>0.0</td>\n",
       "      <td>NaN</td>\n",
       "      <td>0.0</td>\n",
       "      <td>NaN</td>\n",
       "      <td>NaN</td>\n",
       "    </tr>\n",
       "    <tr>\n",
       "      <th>8</th>\n",
       "      <td>20</td>\n",
       "      <td>2900000.0</td>\n",
       "      <td>33.16</td>\n",
       "      <td>2018-05-23T00:00:00</td>\n",
       "      <td>1</td>\n",
       "      <td>NaN</td>\n",
       "      <td>27.0</td>\n",
       "      <td>15.43</td>\n",
       "      <td>26</td>\n",
       "      <td>NaN</td>\n",
       "      <td>...</td>\n",
       "      <td>8.81</td>\n",
       "      <td>NaN</td>\n",
       "      <td>посёлок Мурино</td>\n",
       "      <td>NaN</td>\n",
       "      <td>NaN</td>\n",
       "      <td>NaN</td>\n",
       "      <td>NaN</td>\n",
       "      <td>NaN</td>\n",
       "      <td>NaN</td>\n",
       "      <td>189.0</td>\n",
       "    </tr>\n",
       "    <tr>\n",
       "      <th>9</th>\n",
       "      <td>18</td>\n",
       "      <td>5400000.0</td>\n",
       "      <td>61.00</td>\n",
       "      <td>2017-02-26T00:00:00</td>\n",
       "      <td>3</td>\n",
       "      <td>2.50</td>\n",
       "      <td>9.0</td>\n",
       "      <td>43.60</td>\n",
       "      <td>7</td>\n",
       "      <td>NaN</td>\n",
       "      <td>...</td>\n",
       "      <td>6.50</td>\n",
       "      <td>2.0</td>\n",
       "      <td>Санкт-Петербург</td>\n",
       "      <td>50898.0</td>\n",
       "      <td>15008.0</td>\n",
       "      <td>0.0</td>\n",
       "      <td>NaN</td>\n",
       "      <td>0.0</td>\n",
       "      <td>NaN</td>\n",
       "      <td>289.0</td>\n",
       "    </tr>\n",
       "    <tr>\n",
       "      <th>10</th>\n",
       "      <td>5</td>\n",
       "      <td>5050000.0</td>\n",
       "      <td>39.60</td>\n",
       "      <td>2017-11-16T00:00:00</td>\n",
       "      <td>1</td>\n",
       "      <td>2.67</td>\n",
       "      <td>12.0</td>\n",
       "      <td>20.30</td>\n",
       "      <td>3</td>\n",
       "      <td>NaN</td>\n",
       "      <td>...</td>\n",
       "      <td>8.50</td>\n",
       "      <td>NaN</td>\n",
       "      <td>Санкт-Петербург</td>\n",
       "      <td>38357.0</td>\n",
       "      <td>13878.0</td>\n",
       "      <td>1.0</td>\n",
       "      <td>310.0</td>\n",
       "      <td>2.0</td>\n",
       "      <td>553.0</td>\n",
       "      <td>137.0</td>\n",
       "    </tr>\n",
       "    <tr>\n",
       "      <th>11</th>\n",
       "      <td>9</td>\n",
       "      <td>3300000.0</td>\n",
       "      <td>44.00</td>\n",
       "      <td>2018-08-27T00:00:00</td>\n",
       "      <td>2</td>\n",
       "      <td>NaN</td>\n",
       "      <td>5.0</td>\n",
       "      <td>31.00</td>\n",
       "      <td>4</td>\n",
       "      <td>False</td>\n",
       "      <td>...</td>\n",
       "      <td>6.00</td>\n",
       "      <td>1.0</td>\n",
       "      <td>Ломоносов</td>\n",
       "      <td>48252.0</td>\n",
       "      <td>51677.0</td>\n",
       "      <td>0.0</td>\n",
       "      <td>NaN</td>\n",
       "      <td>0.0</td>\n",
       "      <td>NaN</td>\n",
       "      <td>7.0</td>\n",
       "    </tr>\n",
       "    <tr>\n",
       "      <th>12</th>\n",
       "      <td>10</td>\n",
       "      <td>3890000.0</td>\n",
       "      <td>54.00</td>\n",
       "      <td>2016-06-30T00:00:00</td>\n",
       "      <td>2</td>\n",
       "      <td>NaN</td>\n",
       "      <td>5.0</td>\n",
       "      <td>30.00</td>\n",
       "      <td>5</td>\n",
       "      <td>NaN</td>\n",
       "      <td>...</td>\n",
       "      <td>9.00</td>\n",
       "      <td>0.0</td>\n",
       "      <td>Сертолово</td>\n",
       "      <td>NaN</td>\n",
       "      <td>NaN</td>\n",
       "      <td>NaN</td>\n",
       "      <td>NaN</td>\n",
       "      <td>NaN</td>\n",
       "      <td>NaN</td>\n",
       "      <td>90.0</td>\n",
       "    </tr>\n",
       "    <tr>\n",
       "      <th>13</th>\n",
       "      <td>20</td>\n",
       "      <td>3550000.0</td>\n",
       "      <td>42.80</td>\n",
       "      <td>2017-07-01T00:00:00</td>\n",
       "      <td>2</td>\n",
       "      <td>2.56</td>\n",
       "      <td>5.0</td>\n",
       "      <td>27.00</td>\n",
       "      <td>5</td>\n",
       "      <td>NaN</td>\n",
       "      <td>...</td>\n",
       "      <td>5.20</td>\n",
       "      <td>1.0</td>\n",
       "      <td>Петергоф</td>\n",
       "      <td>37868.0</td>\n",
       "      <td>33058.0</td>\n",
       "      <td>1.0</td>\n",
       "      <td>294.0</td>\n",
       "      <td>3.0</td>\n",
       "      <td>298.0</td>\n",
       "      <td>366.0</td>\n",
       "    </tr>\n",
       "    <tr>\n",
       "      <th>14</th>\n",
       "      <td>1</td>\n",
       "      <td>4400000.0</td>\n",
       "      <td>36.00</td>\n",
       "      <td>2016-06-23T00:00:00</td>\n",
       "      <td>1</td>\n",
       "      <td>NaN</td>\n",
       "      <td>6.0</td>\n",
       "      <td>17.00</td>\n",
       "      <td>1</td>\n",
       "      <td>NaN</td>\n",
       "      <td>...</td>\n",
       "      <td>8.00</td>\n",
       "      <td>0.0</td>\n",
       "      <td>Пушкин</td>\n",
       "      <td>20782.0</td>\n",
       "      <td>30759.0</td>\n",
       "      <td>0.0</td>\n",
       "      <td>NaN</td>\n",
       "      <td>1.0</td>\n",
       "      <td>96.0</td>\n",
       "      <td>203.0</td>\n",
       "    </tr>\n",
       "    <tr>\n",
       "      <th>15</th>\n",
       "      <td>16</td>\n",
       "      <td>4650000.0</td>\n",
       "      <td>39.00</td>\n",
       "      <td>2017-11-18T00:00:00</td>\n",
       "      <td>1</td>\n",
       "      <td>NaN</td>\n",
       "      <td>14.0</td>\n",
       "      <td>20.50</td>\n",
       "      <td>5</td>\n",
       "      <td>NaN</td>\n",
       "      <td>...</td>\n",
       "      <td>7.60</td>\n",
       "      <td>1.0</td>\n",
       "      <td>Санкт-Петербург</td>\n",
       "      <td>12900.0</td>\n",
       "      <td>14259.0</td>\n",
       "      <td>1.0</td>\n",
       "      <td>590.0</td>\n",
       "      <td>1.0</td>\n",
       "      <td>296.0</td>\n",
       "      <td>19.0</td>\n",
       "    </tr>\n",
       "    <tr>\n",
       "      <th>16</th>\n",
       "      <td>11</td>\n",
       "      <td>6700000.0</td>\n",
       "      <td>82.00</td>\n",
       "      <td>2017-11-23T00:00:00</td>\n",
       "      <td>3</td>\n",
       "      <td>3.05</td>\n",
       "      <td>5.0</td>\n",
       "      <td>55.60</td>\n",
       "      <td>1</td>\n",
       "      <td>NaN</td>\n",
       "      <td>...</td>\n",
       "      <td>9.00</td>\n",
       "      <td>NaN</td>\n",
       "      <td>Санкт-Петербург</td>\n",
       "      <td>22108.0</td>\n",
       "      <td>10698.0</td>\n",
       "      <td>3.0</td>\n",
       "      <td>420.0</td>\n",
       "      <td>0.0</td>\n",
       "      <td>NaN</td>\n",
       "      <td>397.0</td>\n",
       "    </tr>\n",
       "    <tr>\n",
       "      <th>17</th>\n",
       "      <td>6</td>\n",
       "      <td>4180000.0</td>\n",
       "      <td>36.00</td>\n",
       "      <td>2016-09-09T00:00:00</td>\n",
       "      <td>1</td>\n",
       "      <td>NaN</td>\n",
       "      <td>17.0</td>\n",
       "      <td>16.50</td>\n",
       "      <td>7</td>\n",
       "      <td>NaN</td>\n",
       "      <td>...</td>\n",
       "      <td>11.00</td>\n",
       "      <td>1.0</td>\n",
       "      <td>Санкт-Петербург</td>\n",
       "      <td>33564.0</td>\n",
       "      <td>14616.0</td>\n",
       "      <td>0.0</td>\n",
       "      <td>NaN</td>\n",
       "      <td>1.0</td>\n",
       "      <td>859.0</td>\n",
       "      <td>571.0</td>\n",
       "    </tr>\n",
       "    <tr>\n",
       "      <th>18</th>\n",
       "      <td>8</td>\n",
       "      <td>3250000.0</td>\n",
       "      <td>31.00</td>\n",
       "      <td>2017-01-27T00:00:00</td>\n",
       "      <td>1</td>\n",
       "      <td>2.50</td>\n",
       "      <td>5.0</td>\n",
       "      <td>19.40</td>\n",
       "      <td>2</td>\n",
       "      <td>NaN</td>\n",
       "      <td>...</td>\n",
       "      <td>5.60</td>\n",
       "      <td>1.0</td>\n",
       "      <td>Санкт-Петербург</td>\n",
       "      <td>44060.0</td>\n",
       "      <td>10842.0</td>\n",
       "      <td>1.0</td>\n",
       "      <td>759.0</td>\n",
       "      <td>0.0</td>\n",
       "      <td>NaN</td>\n",
       "      <td>168.0</td>\n",
       "    </tr>\n",
       "    <tr>\n",
       "      <th>19</th>\n",
       "      <td>16</td>\n",
       "      <td>14200000.0</td>\n",
       "      <td>121.00</td>\n",
       "      <td>2019-01-09T00:00:00</td>\n",
       "      <td>3</td>\n",
       "      <td>2.75</td>\n",
       "      <td>16.0</td>\n",
       "      <td>76.00</td>\n",
       "      <td>8</td>\n",
       "      <td>NaN</td>\n",
       "      <td>...</td>\n",
       "      <td>12.00</td>\n",
       "      <td>NaN</td>\n",
       "      <td>Санкт-Петербург</td>\n",
       "      <td>38900.0</td>\n",
       "      <td>12843.0</td>\n",
       "      <td>0.0</td>\n",
       "      <td>NaN</td>\n",
       "      <td>0.0</td>\n",
       "      <td>NaN</td>\n",
       "      <td>97.0</td>\n",
       "    </tr>\n",
       "  </tbody>\n",
       "</table>\n",
       "<p>20 rows × 22 columns</p>\n",
       "</div>"
      ],
      "text/plain": [
       "    total_images  last_price  total_area first_day_exposition  rooms  \\\n",
       "0             20  13000000.0      108.00  2019-03-07T00:00:00      3   \n",
       "1              7   3350000.0       40.40  2018-12-04T00:00:00      1   \n",
       "2             10   5196000.0       56.00  2015-08-20T00:00:00      2   \n",
       "3              0  64900000.0      159.00  2015-07-24T00:00:00      3   \n",
       "4              2  10000000.0      100.00  2018-06-19T00:00:00      2   \n",
       "5             10   2890000.0       30.40  2018-09-10T00:00:00      1   \n",
       "6              6   3700000.0       37.30  2017-11-02T00:00:00      1   \n",
       "7              5   7915000.0       71.60  2019-04-18T00:00:00      2   \n",
       "8             20   2900000.0       33.16  2018-05-23T00:00:00      1   \n",
       "9             18   5400000.0       61.00  2017-02-26T00:00:00      3   \n",
       "10             5   5050000.0       39.60  2017-11-16T00:00:00      1   \n",
       "11             9   3300000.0       44.00  2018-08-27T00:00:00      2   \n",
       "12            10   3890000.0       54.00  2016-06-30T00:00:00      2   \n",
       "13            20   3550000.0       42.80  2017-07-01T00:00:00      2   \n",
       "14             1   4400000.0       36.00  2016-06-23T00:00:00      1   \n",
       "15            16   4650000.0       39.00  2017-11-18T00:00:00      1   \n",
       "16            11   6700000.0       82.00  2017-11-23T00:00:00      3   \n",
       "17             6   4180000.0       36.00  2016-09-09T00:00:00      1   \n",
       "18             8   3250000.0       31.00  2017-01-27T00:00:00      1   \n",
       "19            16  14200000.0      121.00  2019-01-09T00:00:00      3   \n",
       "\n",
       "    ceiling_height  floors_total  living_area  floor is_apartment  ...  \\\n",
       "0             2.70          16.0        51.00      8          NaN  ...   \n",
       "1              NaN          11.0        18.60      1          NaN  ...   \n",
       "2              NaN           5.0        34.30      4          NaN  ...   \n",
       "3              NaN          14.0          NaN      9          NaN  ...   \n",
       "4             3.03          14.0        32.00     13          NaN  ...   \n",
       "5              NaN          12.0        14.40      5          NaN  ...   \n",
       "6              NaN          26.0        10.60      6          NaN  ...   \n",
       "7              NaN          24.0          NaN     22          NaN  ...   \n",
       "8              NaN          27.0        15.43     26          NaN  ...   \n",
       "9             2.50           9.0        43.60      7          NaN  ...   \n",
       "10            2.67          12.0        20.30      3          NaN  ...   \n",
       "11             NaN           5.0        31.00      4        False  ...   \n",
       "12             NaN           5.0        30.00      5          NaN  ...   \n",
       "13            2.56           5.0        27.00      5          NaN  ...   \n",
       "14             NaN           6.0        17.00      1          NaN  ...   \n",
       "15             NaN          14.0        20.50      5          NaN  ...   \n",
       "16            3.05           5.0        55.60      1          NaN  ...   \n",
       "17             NaN          17.0        16.50      7          NaN  ...   \n",
       "18            2.50           5.0        19.40      2          NaN  ...   \n",
       "19            2.75          16.0        76.00      8          NaN  ...   \n",
       "\n",
       "    kitchen_area  balcony              locality_name  airports_nearest  \\\n",
       "0          25.00      NaN            Санкт-Петербург           18863.0   \n",
       "1          11.00      2.0             посёлок Шушары           12817.0   \n",
       "2           8.30      0.0            Санкт-Петербург           21741.0   \n",
       "3            NaN      0.0            Санкт-Петербург           28098.0   \n",
       "4          41.00      NaN            Санкт-Петербург           31856.0   \n",
       "5           9.10      NaN  городской посёлок Янино-1               NaN   \n",
       "6          14.40      1.0          посёлок Парголово           52996.0   \n",
       "7          18.90      2.0            Санкт-Петербург           23982.0   \n",
       "8           8.81      NaN             посёлок Мурино               NaN   \n",
       "9           6.50      2.0            Санкт-Петербург           50898.0   \n",
       "10          8.50      NaN            Санкт-Петербург           38357.0   \n",
       "11          6.00      1.0                  Ломоносов           48252.0   \n",
       "12          9.00      0.0                  Сертолово               NaN   \n",
       "13          5.20      1.0                   Петергоф           37868.0   \n",
       "14          8.00      0.0                     Пушкин           20782.0   \n",
       "15          7.60      1.0            Санкт-Петербург           12900.0   \n",
       "16          9.00      NaN            Санкт-Петербург           22108.0   \n",
       "17         11.00      1.0            Санкт-Петербург           33564.0   \n",
       "18          5.60      1.0            Санкт-Петербург           44060.0   \n",
       "19         12.00      NaN            Санкт-Петербург           38900.0   \n",
       "\n",
       "   cityCenters_nearest  parks_around3000  parks_nearest  ponds_around3000  \\\n",
       "0              16028.0               1.0          482.0               2.0   \n",
       "1              18603.0               0.0            NaN               0.0   \n",
       "2              13933.0               1.0           90.0               2.0   \n",
       "3               6800.0               2.0           84.0               3.0   \n",
       "4               8098.0               2.0          112.0               1.0   \n",
       "5                  NaN               NaN            NaN               NaN   \n",
       "6              19143.0               0.0            NaN               0.0   \n",
       "7              11634.0               0.0            NaN               0.0   \n",
       "8                  NaN               NaN            NaN               NaN   \n",
       "9              15008.0               0.0            NaN               0.0   \n",
       "10             13878.0               1.0          310.0               2.0   \n",
       "11             51677.0               0.0            NaN               0.0   \n",
       "12                 NaN               NaN            NaN               NaN   \n",
       "13             33058.0               1.0          294.0               3.0   \n",
       "14             30759.0               0.0            NaN               1.0   \n",
       "15             14259.0               1.0          590.0               1.0   \n",
       "16             10698.0               3.0          420.0               0.0   \n",
       "17             14616.0               0.0            NaN               1.0   \n",
       "18             10842.0               1.0          759.0               0.0   \n",
       "19             12843.0               0.0            NaN               0.0   \n",
       "\n",
       "    ponds_nearest  days_exposition  \n",
       "0           755.0              NaN  \n",
       "1             NaN             81.0  \n",
       "2           574.0            558.0  \n",
       "3           234.0            424.0  \n",
       "4            48.0            121.0  \n",
       "5             NaN             55.0  \n",
       "6             NaN            155.0  \n",
       "7             NaN              NaN  \n",
       "8             NaN            189.0  \n",
       "9             NaN            289.0  \n",
       "10          553.0            137.0  \n",
       "11            NaN              7.0  \n",
       "12            NaN             90.0  \n",
       "13          298.0            366.0  \n",
       "14           96.0            203.0  \n",
       "15          296.0             19.0  \n",
       "16            NaN            397.0  \n",
       "17          859.0            571.0  \n",
       "18            NaN            168.0  \n",
       "19            NaN             97.0  \n",
       "\n",
       "[20 rows x 22 columns]"
      ]
     },
     "execution_count": 4,
     "metadata": {},
     "output_type": "execute_result"
    }
   ],
   "source": [
    "#Открыли таблицу для дальнейшей работы\n",
    "data.head(20)"
   ]
  },
  {
   "cell_type": "code",
   "execution_count": 5,
   "metadata": {
    "scrolled": true
   },
   "outputs": [
    {
     "data": {
      "text/html": [
       "<div>\n",
       "<style scoped>\n",
       "    .dataframe tbody tr th:only-of-type {\n",
       "        vertical-align: middle;\n",
       "    }\n",
       "\n",
       "    .dataframe tbody tr th {\n",
       "        vertical-align: top;\n",
       "    }\n",
       "\n",
       "    .dataframe thead th {\n",
       "        text-align: right;\n",
       "    }\n",
       "</style>\n",
       "<table border=\"1\" class=\"dataframe\">\n",
       "  <thead>\n",
       "    <tr style=\"text-align: right;\">\n",
       "      <th></th>\n",
       "      <th>total_images</th>\n",
       "      <th>last_price</th>\n",
       "      <th>total_area</th>\n",
       "      <th>rooms</th>\n",
       "      <th>ceiling_height</th>\n",
       "      <th>floors_total</th>\n",
       "      <th>living_area</th>\n",
       "      <th>floor</th>\n",
       "      <th>kitchen_area</th>\n",
       "      <th>balcony</th>\n",
       "      <th>airports_nearest</th>\n",
       "      <th>cityCenters_nearest</th>\n",
       "      <th>parks_around3000</th>\n",
       "      <th>parks_nearest</th>\n",
       "      <th>ponds_around3000</th>\n",
       "      <th>ponds_nearest</th>\n",
       "      <th>days_exposition</th>\n",
       "    </tr>\n",
       "  </thead>\n",
       "  <tbody>\n",
       "    <tr>\n",
       "      <th>count</th>\n",
       "      <td>23699.000000</td>\n",
       "      <td>2.369900e+04</td>\n",
       "      <td>23699.000000</td>\n",
       "      <td>23699.000000</td>\n",
       "      <td>14504.000000</td>\n",
       "      <td>23613.000000</td>\n",
       "      <td>21796.000000</td>\n",
       "      <td>23699.000000</td>\n",
       "      <td>21421.000000</td>\n",
       "      <td>12180.000000</td>\n",
       "      <td>18157.000000</td>\n",
       "      <td>18180.000000</td>\n",
       "      <td>18181.000000</td>\n",
       "      <td>8079.000000</td>\n",
       "      <td>18181.000000</td>\n",
       "      <td>9110.000000</td>\n",
       "      <td>20518.000000</td>\n",
       "    </tr>\n",
       "    <tr>\n",
       "      <th>mean</th>\n",
       "      <td>9.858475</td>\n",
       "      <td>6.541549e+06</td>\n",
       "      <td>60.348651</td>\n",
       "      <td>2.070636</td>\n",
       "      <td>2.771499</td>\n",
       "      <td>10.673824</td>\n",
       "      <td>34.457852</td>\n",
       "      <td>5.892358</td>\n",
       "      <td>10.569807</td>\n",
       "      <td>1.150082</td>\n",
       "      <td>28793.672193</td>\n",
       "      <td>14191.277833</td>\n",
       "      <td>0.611408</td>\n",
       "      <td>490.804555</td>\n",
       "      <td>0.770255</td>\n",
       "      <td>517.980900</td>\n",
       "      <td>180.888634</td>\n",
       "    </tr>\n",
       "    <tr>\n",
       "      <th>std</th>\n",
       "      <td>5.682529</td>\n",
       "      <td>1.088701e+07</td>\n",
       "      <td>35.654083</td>\n",
       "      <td>1.078405</td>\n",
       "      <td>1.261056</td>\n",
       "      <td>6.597173</td>\n",
       "      <td>22.030445</td>\n",
       "      <td>4.885249</td>\n",
       "      <td>5.905438</td>\n",
       "      <td>1.071300</td>\n",
       "      <td>12630.880622</td>\n",
       "      <td>8608.386210</td>\n",
       "      <td>0.802074</td>\n",
       "      <td>342.317995</td>\n",
       "      <td>0.938346</td>\n",
       "      <td>277.720643</td>\n",
       "      <td>219.727988</td>\n",
       "    </tr>\n",
       "    <tr>\n",
       "      <th>min</th>\n",
       "      <td>0.000000</td>\n",
       "      <td>1.219000e+04</td>\n",
       "      <td>12.000000</td>\n",
       "      <td>0.000000</td>\n",
       "      <td>1.000000</td>\n",
       "      <td>1.000000</td>\n",
       "      <td>2.000000</td>\n",
       "      <td>1.000000</td>\n",
       "      <td>1.300000</td>\n",
       "      <td>0.000000</td>\n",
       "      <td>0.000000</td>\n",
       "      <td>181.000000</td>\n",
       "      <td>0.000000</td>\n",
       "      <td>1.000000</td>\n",
       "      <td>0.000000</td>\n",
       "      <td>13.000000</td>\n",
       "      <td>1.000000</td>\n",
       "    </tr>\n",
       "    <tr>\n",
       "      <th>25%</th>\n",
       "      <td>6.000000</td>\n",
       "      <td>3.400000e+06</td>\n",
       "      <td>40.000000</td>\n",
       "      <td>1.000000</td>\n",
       "      <td>2.520000</td>\n",
       "      <td>5.000000</td>\n",
       "      <td>18.600000</td>\n",
       "      <td>2.000000</td>\n",
       "      <td>7.000000</td>\n",
       "      <td>0.000000</td>\n",
       "      <td>18585.000000</td>\n",
       "      <td>9238.000000</td>\n",
       "      <td>0.000000</td>\n",
       "      <td>288.000000</td>\n",
       "      <td>0.000000</td>\n",
       "      <td>294.000000</td>\n",
       "      <td>45.000000</td>\n",
       "    </tr>\n",
       "    <tr>\n",
       "      <th>50%</th>\n",
       "      <td>9.000000</td>\n",
       "      <td>4.650000e+06</td>\n",
       "      <td>52.000000</td>\n",
       "      <td>2.000000</td>\n",
       "      <td>2.650000</td>\n",
       "      <td>9.000000</td>\n",
       "      <td>30.000000</td>\n",
       "      <td>4.000000</td>\n",
       "      <td>9.100000</td>\n",
       "      <td>1.000000</td>\n",
       "      <td>26726.000000</td>\n",
       "      <td>13098.500000</td>\n",
       "      <td>0.000000</td>\n",
       "      <td>455.000000</td>\n",
       "      <td>1.000000</td>\n",
       "      <td>502.000000</td>\n",
       "      <td>95.000000</td>\n",
       "    </tr>\n",
       "    <tr>\n",
       "      <th>75%</th>\n",
       "      <td>14.000000</td>\n",
       "      <td>6.800000e+06</td>\n",
       "      <td>69.900000</td>\n",
       "      <td>3.000000</td>\n",
       "      <td>2.800000</td>\n",
       "      <td>16.000000</td>\n",
       "      <td>42.300000</td>\n",
       "      <td>8.000000</td>\n",
       "      <td>12.000000</td>\n",
       "      <td>2.000000</td>\n",
       "      <td>37273.000000</td>\n",
       "      <td>16293.000000</td>\n",
       "      <td>1.000000</td>\n",
       "      <td>612.000000</td>\n",
       "      <td>1.000000</td>\n",
       "      <td>729.000000</td>\n",
       "      <td>232.000000</td>\n",
       "    </tr>\n",
       "    <tr>\n",
       "      <th>max</th>\n",
       "      <td>50.000000</td>\n",
       "      <td>7.630000e+08</td>\n",
       "      <td>900.000000</td>\n",
       "      <td>19.000000</td>\n",
       "      <td>100.000000</td>\n",
       "      <td>60.000000</td>\n",
       "      <td>409.700000</td>\n",
       "      <td>33.000000</td>\n",
       "      <td>112.000000</td>\n",
       "      <td>5.000000</td>\n",
       "      <td>84869.000000</td>\n",
       "      <td>65968.000000</td>\n",
       "      <td>3.000000</td>\n",
       "      <td>3190.000000</td>\n",
       "      <td>3.000000</td>\n",
       "      <td>1344.000000</td>\n",
       "      <td>1580.000000</td>\n",
       "    </tr>\n",
       "  </tbody>\n",
       "</table>\n",
       "</div>"
      ],
      "text/plain": [
       "       total_images    last_price    total_area         rooms  ceiling_height  \\\n",
       "count  23699.000000  2.369900e+04  23699.000000  23699.000000    14504.000000   \n",
       "mean       9.858475  6.541549e+06     60.348651      2.070636        2.771499   \n",
       "std        5.682529  1.088701e+07     35.654083      1.078405        1.261056   \n",
       "min        0.000000  1.219000e+04     12.000000      0.000000        1.000000   \n",
       "25%        6.000000  3.400000e+06     40.000000      1.000000        2.520000   \n",
       "50%        9.000000  4.650000e+06     52.000000      2.000000        2.650000   \n",
       "75%       14.000000  6.800000e+06     69.900000      3.000000        2.800000   \n",
       "max       50.000000  7.630000e+08    900.000000     19.000000      100.000000   \n",
       "\n",
       "       floors_total   living_area         floor  kitchen_area       balcony  \\\n",
       "count  23613.000000  21796.000000  23699.000000  21421.000000  12180.000000   \n",
       "mean      10.673824     34.457852      5.892358     10.569807      1.150082   \n",
       "std        6.597173     22.030445      4.885249      5.905438      1.071300   \n",
       "min        1.000000      2.000000      1.000000      1.300000      0.000000   \n",
       "25%        5.000000     18.600000      2.000000      7.000000      0.000000   \n",
       "50%        9.000000     30.000000      4.000000      9.100000      1.000000   \n",
       "75%       16.000000     42.300000      8.000000     12.000000      2.000000   \n",
       "max       60.000000    409.700000     33.000000    112.000000      5.000000   \n",
       "\n",
       "       airports_nearest  cityCenters_nearest  parks_around3000  parks_nearest  \\\n",
       "count      18157.000000         18180.000000      18181.000000    8079.000000   \n",
       "mean       28793.672193         14191.277833          0.611408     490.804555   \n",
       "std        12630.880622          8608.386210          0.802074     342.317995   \n",
       "min            0.000000           181.000000          0.000000       1.000000   \n",
       "25%        18585.000000          9238.000000          0.000000     288.000000   \n",
       "50%        26726.000000         13098.500000          0.000000     455.000000   \n",
       "75%        37273.000000         16293.000000          1.000000     612.000000   \n",
       "max        84869.000000         65968.000000          3.000000    3190.000000   \n",
       "\n",
       "       ponds_around3000  ponds_nearest  days_exposition  \n",
       "count      18181.000000    9110.000000     20518.000000  \n",
       "mean           0.770255     517.980900       180.888634  \n",
       "std            0.938346     277.720643       219.727988  \n",
       "min            0.000000      13.000000         1.000000  \n",
       "25%            0.000000     294.000000        45.000000  \n",
       "50%            1.000000     502.000000        95.000000  \n",
       "75%            1.000000     729.000000       232.000000  \n",
       "max            3.000000    1344.000000      1580.000000  "
      ]
     },
     "execution_count": 5,
     "metadata": {},
     "output_type": "execute_result"
    }
   ],
   "source": [
    "#Смотрим какие значения у нас есть в датасете нашем , средние, минимальные максимальные.\n",
    "#Выявили столбец rooms, который имеет 0 комнат(обработаем позже)\n",
    "data.describe()"
   ]
  },
  {
   "cell_type": "code",
   "execution_count": 6,
   "metadata": {},
   "outputs": [
    {
     "data": {
      "text/plain": [
       "total_images                0\n",
       "open_plan                   0\n",
       "floor                       0\n",
       "rooms                       0\n",
       "studio                      0\n",
       "total_area                  0\n",
       "last_price                  0\n",
       "first_day_exposition        0\n",
       "locality_name              49\n",
       "floors_total               86\n",
       "living_area              1903\n",
       "kitchen_area             2278\n",
       "days_exposition          3181\n",
       "ponds_around3000         5518\n",
       "parks_around3000         5518\n",
       "cityCenters_nearest      5519\n",
       "airports_nearest         5542\n",
       "ceiling_height           9195\n",
       "balcony                 11519\n",
       "ponds_nearest           14589\n",
       "parks_nearest           15620\n",
       "is_apartment            20924\n",
       "dtype: int64"
      ]
     },
     "execution_count": 6,
     "metadata": {},
     "output_type": "execute_result"
    }
   ],
   "source": [
    "#Вывели сумму пропуском в каждом столбце и отсортировали,\n",
    "#чтобы удобно обрабатывать от меньшего к большему \n",
    "data.isna().sum().sort_values()"
   ]
  },
  {
   "cell_type": "code",
   "execution_count": 7,
   "metadata": {},
   "outputs": [
    {
     "data": {
      "text/plain": [
       "0"
      ]
     },
     "execution_count": 7,
     "metadata": {},
     "output_type": "execute_result"
    }
   ],
   "source": [
    "#Проверили данные на явные дубликаты. не выявлено. \n",
    "data.duplicated().sum()"
   ]
  },
  {
   "cell_type": "code",
   "execution_count": 8,
   "metadata": {
    "scrolled": true
   },
   "outputs": [
    {
     "data": {
      "text/plain": [
       "array([[<AxesSubplot:title={'center':'total_images'}>,\n",
       "        <AxesSubplot:title={'center':'last_price'}>,\n",
       "        <AxesSubplot:title={'center':'total_area'}>,\n",
       "        <AxesSubplot:title={'center':'rooms'}>],\n",
       "       [<AxesSubplot:title={'center':'ceiling_height'}>,\n",
       "        <AxesSubplot:title={'center':'floors_total'}>,\n",
       "        <AxesSubplot:title={'center':'living_area'}>,\n",
       "        <AxesSubplot:title={'center':'floor'}>],\n",
       "       [<AxesSubplot:title={'center':'kitchen_area'}>,\n",
       "        <AxesSubplot:title={'center':'balcony'}>,\n",
       "        <AxesSubplot:title={'center':'airports_nearest'}>,\n",
       "        <AxesSubplot:title={'center':'cityCenters_nearest'}>],\n",
       "       [<AxesSubplot:title={'center':'parks_around3000'}>,\n",
       "        <AxesSubplot:title={'center':'parks_nearest'}>,\n",
       "        <AxesSubplot:title={'center':'ponds_around3000'}>,\n",
       "        <AxesSubplot:title={'center':'ponds_nearest'}>],\n",
       "       [<AxesSubplot:title={'center':'days_exposition'}>, <AxesSubplot:>,\n",
       "        <AxesSubplot:>, <AxesSubplot:>]], dtype=object)"
      ]
     },
     "execution_count": 8,
     "metadata": {},
     "output_type": "execute_result"
    },
    {
     "data": {
      "image/png": "[encoded data removed]",
      "text/plain": [
       "<Figure size 1080x1440 with 20 Axes>"
      ]
     },
     "metadata": {
      "needs_background": "light"
     },
     "output_type": "display_data"
    }
   ],
   "source": [
    "#Построили гистрограмму по каждому столбцу таблицы data\n",
    "data.hist(figsize=(15, 20))"
   ]
  },
  {
   "cell_type": "markdown",
   "metadata": {},
   "source": [
    "                                         Вывод\n",
    "-Имеем пропущенных значений от 50 штук  до 20 тысяч в разных столбцах, надо детально изучать каждый столбец с пропусками.\n",
    "\n",
    "-cityCenters_nearest - нужно привести к общему регистру и добавить в чем измеряется. данные берем из описания данных\n",
    "\n",
    "-Столбцы: парки, пруды, до центра и аэропорта - надо добавить что расстояние указано в метрах для удобства. информацию берем из описания данных\n",
    "\n",
    "-Столбцы пруды3000 и парки3000 -число водоёмов в радиусе 3 км , добавим км в описания столбцов.\n",
    "\n",
    "-Столбцы kitchen_area, living_area и total_area - добавим описание что измерение в м2\n"
   ]
  },
  {
   "cell_type": "markdown",
   "metadata": {},
   "source": [
    "### Предобработка данных"
   ]
  },
  {
   "cell_type": "code",
   "execution_count": 9,
   "metadata": {
    "scrolled": false
   },
   "outputs": [
    {
     "name": "stdout",
     "output_type": "stream",
     "text": [
      "<class 'pandas.core.frame.DataFrame'>\n",
      "RangeIndex: 23699 entries, 0 to 23698\n",
      "Data columns (total 22 columns):\n",
      " #   Column                      Non-Null Count  Dtype  \n",
      "---  ------                      --------------  -----  \n",
      " 0   total_images                23699 non-null  int64  \n",
      " 1   last_price                  23699 non-null  float64\n",
      " 2   total_area_m2               23699 non-null  float64\n",
      " 3   first_day_exposition        23699 non-null  object \n",
      " 4   rooms                       23699 non-null  int64  \n",
      " 5   ceiling_height              14504 non-null  float64\n",
      " 6   floors_total                23613 non-null  float64\n",
      " 7   living_area_m2              21796 non-null  float64\n",
      " 8   floor                       23699 non-null  int64  \n",
      " 9   is_apartment                2775 non-null   object \n",
      " 10  studio                      23699 non-null  bool   \n",
      " 11  open_plan                   23699 non-null  bool   \n",
      " 12  kitchen_area_m2             21421 non-null  float64\n",
      " 13  balcony                     12180 non-null  float64\n",
      " 14  locality_name               23650 non-null  object \n",
      " 15  airports_nearest            18157 non-null  float64\n",
      " 16  citycenters_nearest_meters  18180 non-null  float64\n",
      " 17  parks_around3000_km         18181 non-null  float64\n",
      " 18  parks_nearest_meters        8079 non-null   float64\n",
      " 19  ponds_around3000_km         18181 non-null  float64\n",
      " 20  ponds_nearest_meters        9110 non-null   float64\n",
      " 21  days_exposition             20518 non-null  float64\n",
      "dtypes: bool(2), float64(14), int64(3), object(3)\n",
      "memory usage: 3.7+ MB\n"
     ]
    }
   ],
   "source": [
    "#Перемеименуем колонки для общего удобства работы с данными  и проверим что переименовались data.info() \n",
    "data = data.rename(columns = {'cityCenters_nearest': 'citycenters_nearest_meters',\n",
    "                      'parks_around3000': 'parks_around3000_km',\n",
    "                      'ponds_around3000': 'ponds_around3000_km',\n",
    "                       'parks_nearest': 'parks_nearest_meters',\n",
    "                       'ponds_nearest': 'ponds_nearest_meters',\n",
    "                        'kitchen_area': 'kitchen_area_m2',\n",
    "                        'living_area': 'living_area_m2',\n",
    "                         'total_area': 'total_area_m2' })\n",
    "data.info()"
   ]
  },
  {
   "cell_type": "code",
   "execution_count": 10,
   "metadata": {},
   "outputs": [
    {
     "data": {
      "text/html": [
       "<div>\n",
       "<style scoped>\n",
       "    .dataframe tbody tr th:only-of-type {\n",
       "        vertical-align: middle;\n",
       "    }\n",
       "\n",
       "    .dataframe tbody tr th {\n",
       "        vertical-align: top;\n",
       "    }\n",
       "\n",
       "    .dataframe thead th {\n",
       "        text-align: right;\n",
       "    }\n",
       "</style>\n",
       "<table border=\"1\" class=\"dataframe\">\n",
       "  <thead>\n",
       "    <tr style=\"text-align: right;\">\n",
       "      <th></th>\n",
       "      <th>total_images</th>\n",
       "      <th>last_price</th>\n",
       "      <th>total_area_m2</th>\n",
       "      <th>first_day_exposition</th>\n",
       "      <th>rooms</th>\n",
       "      <th>ceiling_height</th>\n",
       "      <th>floors_total</th>\n",
       "      <th>living_area_m2</th>\n",
       "      <th>floor</th>\n",
       "      <th>is_apartment</th>\n",
       "      <th>...</th>\n",
       "      <th>kitchen_area_m2</th>\n",
       "      <th>balcony</th>\n",
       "      <th>locality_name</th>\n",
       "      <th>airports_nearest</th>\n",
       "      <th>citycenters_nearest_meters</th>\n",
       "      <th>parks_around3000_km</th>\n",
       "      <th>parks_nearest_meters</th>\n",
       "      <th>ponds_around3000_km</th>\n",
       "      <th>ponds_nearest_meters</th>\n",
       "      <th>days_exposition</th>\n",
       "    </tr>\n",
       "  </thead>\n",
       "  <tbody>\n",
       "    <tr>\n",
       "      <th>0</th>\n",
       "      <td>20</td>\n",
       "      <td>13000000.0</td>\n",
       "      <td>108.00</td>\n",
       "      <td>2019-03-07T00:00:00</td>\n",
       "      <td>3</td>\n",
       "      <td>2.70</td>\n",
       "      <td>16.0</td>\n",
       "      <td>51.00</td>\n",
       "      <td>8</td>\n",
       "      <td>NaN</td>\n",
       "      <td>...</td>\n",
       "      <td>25.00</td>\n",
       "      <td>NaN</td>\n",
       "      <td>Санкт-Петербург</td>\n",
       "      <td>18863.0</td>\n",
       "      <td>16028.0</td>\n",
       "      <td>1.0</td>\n",
       "      <td>482.0</td>\n",
       "      <td>2.0</td>\n",
       "      <td>755.0</td>\n",
       "      <td>NaN</td>\n",
       "    </tr>\n",
       "    <tr>\n",
       "      <th>1</th>\n",
       "      <td>7</td>\n",
       "      <td>3350000.0</td>\n",
       "      <td>40.40</td>\n",
       "      <td>2018-12-04T00:00:00</td>\n",
       "      <td>1</td>\n",
       "      <td>NaN</td>\n",
       "      <td>11.0</td>\n",
       "      <td>18.60</td>\n",
       "      <td>1</td>\n",
       "      <td>NaN</td>\n",
       "      <td>...</td>\n",
       "      <td>11.00</td>\n",
       "      <td>2.0</td>\n",
       "      <td>посёлок Шушары</td>\n",
       "      <td>12817.0</td>\n",
       "      <td>18603.0</td>\n",
       "      <td>0.0</td>\n",
       "      <td>NaN</td>\n",
       "      <td>0.0</td>\n",
       "      <td>NaN</td>\n",
       "      <td>81.0</td>\n",
       "    </tr>\n",
       "    <tr>\n",
       "      <th>2</th>\n",
       "      <td>10</td>\n",
       "      <td>5196000.0</td>\n",
       "      <td>56.00</td>\n",
       "      <td>2015-08-20T00:00:00</td>\n",
       "      <td>2</td>\n",
       "      <td>NaN</td>\n",
       "      <td>5.0</td>\n",
       "      <td>34.30</td>\n",
       "      <td>4</td>\n",
       "      <td>NaN</td>\n",
       "      <td>...</td>\n",
       "      <td>8.30</td>\n",
       "      <td>0.0</td>\n",
       "      <td>Санкт-Петербург</td>\n",
       "      <td>21741.0</td>\n",
       "      <td>13933.0</td>\n",
       "      <td>1.0</td>\n",
       "      <td>90.0</td>\n",
       "      <td>2.0</td>\n",
       "      <td>574.0</td>\n",
       "      <td>558.0</td>\n",
       "    </tr>\n",
       "    <tr>\n",
       "      <th>3</th>\n",
       "      <td>0</td>\n",
       "      <td>64900000.0</td>\n",
       "      <td>159.00</td>\n",
       "      <td>2015-07-24T00:00:00</td>\n",
       "      <td>3</td>\n",
       "      <td>NaN</td>\n",
       "      <td>14.0</td>\n",
       "      <td>NaN</td>\n",
       "      <td>9</td>\n",
       "      <td>NaN</td>\n",
       "      <td>...</td>\n",
       "      <td>NaN</td>\n",
       "      <td>0.0</td>\n",
       "      <td>Санкт-Петербург</td>\n",
       "      <td>28098.0</td>\n",
       "      <td>6800.0</td>\n",
       "      <td>2.0</td>\n",
       "      <td>84.0</td>\n",
       "      <td>3.0</td>\n",
       "      <td>234.0</td>\n",
       "      <td>424.0</td>\n",
       "    </tr>\n",
       "    <tr>\n",
       "      <th>4</th>\n",
       "      <td>2</td>\n",
       "      <td>10000000.0</td>\n",
       "      <td>100.00</td>\n",
       "      <td>2018-06-19T00:00:00</td>\n",
       "      <td>2</td>\n",
       "      <td>3.03</td>\n",
       "      <td>14.0</td>\n",
       "      <td>32.00</td>\n",
       "      <td>13</td>\n",
       "      <td>NaN</td>\n",
       "      <td>...</td>\n",
       "      <td>41.00</td>\n",
       "      <td>NaN</td>\n",
       "      <td>Санкт-Петербург</td>\n",
       "      <td>31856.0</td>\n",
       "      <td>8098.0</td>\n",
       "      <td>2.0</td>\n",
       "      <td>112.0</td>\n",
       "      <td>1.0</td>\n",
       "      <td>48.0</td>\n",
       "      <td>121.0</td>\n",
       "    </tr>\n",
       "    <tr>\n",
       "      <th>5</th>\n",
       "      <td>10</td>\n",
       "      <td>2890000.0</td>\n",
       "      <td>30.40</td>\n",
       "      <td>2018-09-10T00:00:00</td>\n",
       "      <td>1</td>\n",
       "      <td>NaN</td>\n",
       "      <td>12.0</td>\n",
       "      <td>14.40</td>\n",
       "      <td>5</td>\n",
       "      <td>NaN</td>\n",
       "      <td>...</td>\n",
       "      <td>9.10</td>\n",
       "      <td>NaN</td>\n",
       "      <td>городской посёлок Янино-1</td>\n",
       "      <td>NaN</td>\n",
       "      <td>NaN</td>\n",
       "      <td>NaN</td>\n",
       "      <td>NaN</td>\n",
       "      <td>NaN</td>\n",
       "      <td>NaN</td>\n",
       "      <td>55.0</td>\n",
       "    </tr>\n",
       "    <tr>\n",
       "      <th>6</th>\n",
       "      <td>6</td>\n",
       "      <td>3700000.0</td>\n",
       "      <td>37.30</td>\n",
       "      <td>2017-11-02T00:00:00</td>\n",
       "      <td>1</td>\n",
       "      <td>NaN</td>\n",
       "      <td>26.0</td>\n",
       "      <td>10.60</td>\n",
       "      <td>6</td>\n",
       "      <td>NaN</td>\n",
       "      <td>...</td>\n",
       "      <td>14.40</td>\n",
       "      <td>1.0</td>\n",
       "      <td>посёлок Парголово</td>\n",
       "      <td>52996.0</td>\n",
       "      <td>19143.0</td>\n",
       "      <td>0.0</td>\n",
       "      <td>NaN</td>\n",
       "      <td>0.0</td>\n",
       "      <td>NaN</td>\n",
       "      <td>155.0</td>\n",
       "    </tr>\n",
       "    <tr>\n",
       "      <th>7</th>\n",
       "      <td>5</td>\n",
       "      <td>7915000.0</td>\n",
       "      <td>71.60</td>\n",
       "      <td>2019-04-18T00:00:00</td>\n",
       "      <td>2</td>\n",
       "      <td>NaN</td>\n",
       "      <td>24.0</td>\n",
       "      <td>NaN</td>\n",
       "      <td>22</td>\n",
       "      <td>NaN</td>\n",
       "      <td>...</td>\n",
       "      <td>18.90</td>\n",
       "      <td>2.0</td>\n",
       "      <td>Санкт-Петербург</td>\n",
       "      <td>23982.0</td>\n",
       "      <td>11634.0</td>\n",
       "      <td>0.0</td>\n",
       "      <td>NaN</td>\n",
       "      <td>0.0</td>\n",
       "      <td>NaN</td>\n",
       "      <td>NaN</td>\n",
       "    </tr>\n",
       "    <tr>\n",
       "      <th>8</th>\n",
       "      <td>20</td>\n",
       "      <td>2900000.0</td>\n",
       "      <td>33.16</td>\n",
       "      <td>2018-05-23T00:00:00</td>\n",
       "      <td>1</td>\n",
       "      <td>NaN</td>\n",
       "      <td>27.0</td>\n",
       "      <td>15.43</td>\n",
       "      <td>26</td>\n",
       "      <td>NaN</td>\n",
       "      <td>...</td>\n",
       "      <td>8.81</td>\n",
       "      <td>NaN</td>\n",
       "      <td>посёлок Мурино</td>\n",
       "      <td>NaN</td>\n",
       "      <td>NaN</td>\n",
       "      <td>NaN</td>\n",
       "      <td>NaN</td>\n",
       "      <td>NaN</td>\n",
       "      <td>NaN</td>\n",
       "      <td>189.0</td>\n",
       "    </tr>\n",
       "    <tr>\n",
       "      <th>9</th>\n",
       "      <td>18</td>\n",
       "      <td>5400000.0</td>\n",
       "      <td>61.00</td>\n",
       "      <td>2017-02-26T00:00:00</td>\n",
       "      <td>3</td>\n",
       "      <td>2.50</td>\n",
       "      <td>9.0</td>\n",
       "      <td>43.60</td>\n",
       "      <td>7</td>\n",
       "      <td>NaN</td>\n",
       "      <td>...</td>\n",
       "      <td>6.50</td>\n",
       "      <td>2.0</td>\n",
       "      <td>Санкт-Петербург</td>\n",
       "      <td>50898.0</td>\n",
       "      <td>15008.0</td>\n",
       "      <td>0.0</td>\n",
       "      <td>NaN</td>\n",
       "      <td>0.0</td>\n",
       "      <td>NaN</td>\n",
       "      <td>289.0</td>\n",
       "    </tr>\n",
       "    <tr>\n",
       "      <th>10</th>\n",
       "      <td>5</td>\n",
       "      <td>5050000.0</td>\n",
       "      <td>39.60</td>\n",
       "      <td>2017-11-16T00:00:00</td>\n",
       "      <td>1</td>\n",
       "      <td>2.67</td>\n",
       "      <td>12.0</td>\n",
       "      <td>20.30</td>\n",
       "      <td>3</td>\n",
       "      <td>NaN</td>\n",
       "      <td>...</td>\n",
       "      <td>8.50</td>\n",
       "      <td>NaN</td>\n",
       "      <td>Санкт-Петербург</td>\n",
       "      <td>38357.0</td>\n",
       "      <td>13878.0</td>\n",
       "      <td>1.0</td>\n",
       "      <td>310.0</td>\n",
       "      <td>2.0</td>\n",
       "      <td>553.0</td>\n",
       "      <td>137.0</td>\n",
       "    </tr>\n",
       "    <tr>\n",
       "      <th>11</th>\n",
       "      <td>9</td>\n",
       "      <td>3300000.0</td>\n",
       "      <td>44.00</td>\n",
       "      <td>2018-08-27T00:00:00</td>\n",
       "      <td>2</td>\n",
       "      <td>NaN</td>\n",
       "      <td>5.0</td>\n",
       "      <td>31.00</td>\n",
       "      <td>4</td>\n",
       "      <td>False</td>\n",
       "      <td>...</td>\n",
       "      <td>6.00</td>\n",
       "      <td>1.0</td>\n",
       "      <td>Ломоносов</td>\n",
       "      <td>48252.0</td>\n",
       "      <td>51677.0</td>\n",
       "      <td>0.0</td>\n",
       "      <td>NaN</td>\n",
       "      <td>0.0</td>\n",
       "      <td>NaN</td>\n",
       "      <td>7.0</td>\n",
       "    </tr>\n",
       "    <tr>\n",
       "      <th>12</th>\n",
       "      <td>10</td>\n",
       "      <td>3890000.0</td>\n",
       "      <td>54.00</td>\n",
       "      <td>2016-06-30T00:00:00</td>\n",
       "      <td>2</td>\n",
       "      <td>NaN</td>\n",
       "      <td>5.0</td>\n",
       "      <td>30.00</td>\n",
       "      <td>5</td>\n",
       "      <td>NaN</td>\n",
       "      <td>...</td>\n",
       "      <td>9.00</td>\n",
       "      <td>0.0</td>\n",
       "      <td>Сертолово</td>\n",
       "      <td>NaN</td>\n",
       "      <td>NaN</td>\n",
       "      <td>NaN</td>\n",
       "      <td>NaN</td>\n",
       "      <td>NaN</td>\n",
       "      <td>NaN</td>\n",
       "      <td>90.0</td>\n",
       "    </tr>\n",
       "    <tr>\n",
       "      <th>13</th>\n",
       "      <td>20</td>\n",
       "      <td>3550000.0</td>\n",
       "      <td>42.80</td>\n",
       "      <td>2017-07-01T00:00:00</td>\n",
       "      <td>2</td>\n",
       "      <td>2.56</td>\n",
       "      <td>5.0</td>\n",
       "      <td>27.00</td>\n",
       "      <td>5</td>\n",
       "      <td>NaN</td>\n",
       "      <td>...</td>\n",
       "      <td>5.20</td>\n",
       "      <td>1.0</td>\n",
       "      <td>Петергоф</td>\n",
       "      <td>37868.0</td>\n",
       "      <td>33058.0</td>\n",
       "      <td>1.0</td>\n",
       "      <td>294.0</td>\n",
       "      <td>3.0</td>\n",
       "      <td>298.0</td>\n",
       "      <td>366.0</td>\n",
       "    </tr>\n",
       "    <tr>\n",
       "      <th>14</th>\n",
       "      <td>1</td>\n",
       "      <td>4400000.0</td>\n",
       "      <td>36.00</td>\n",
       "      <td>2016-06-23T00:00:00</td>\n",
       "      <td>1</td>\n",
       "      <td>NaN</td>\n",
       "      <td>6.0</td>\n",
       "      <td>17.00</td>\n",
       "      <td>1</td>\n",
       "      <td>NaN</td>\n",
       "      <td>...</td>\n",
       "      <td>8.00</td>\n",
       "      <td>0.0</td>\n",
       "      <td>Пушкин</td>\n",
       "      <td>20782.0</td>\n",
       "      <td>30759.0</td>\n",
       "      <td>0.0</td>\n",
       "      <td>NaN</td>\n",
       "      <td>1.0</td>\n",
       "      <td>96.0</td>\n",
       "      <td>203.0</td>\n",
       "    </tr>\n",
       "    <tr>\n",
       "      <th>15</th>\n",
       "      <td>16</td>\n",
       "      <td>4650000.0</td>\n",
       "      <td>39.00</td>\n",
       "      <td>2017-11-18T00:00:00</td>\n",
       "      <td>1</td>\n",
       "      <td>NaN</td>\n",
       "      <td>14.0</td>\n",
       "      <td>20.50</td>\n",
       "      <td>5</td>\n",
       "      <td>NaN</td>\n",
       "      <td>...</td>\n",
       "      <td>7.60</td>\n",
       "      <td>1.0</td>\n",
       "      <td>Санкт-Петербург</td>\n",
       "      <td>12900.0</td>\n",
       "      <td>14259.0</td>\n",
       "      <td>1.0</td>\n",
       "      <td>590.0</td>\n",
       "      <td>1.0</td>\n",
       "      <td>296.0</td>\n",
       "      <td>19.0</td>\n",
       "    </tr>\n",
       "    <tr>\n",
       "      <th>16</th>\n",
       "      <td>11</td>\n",
       "      <td>6700000.0</td>\n",
       "      <td>82.00</td>\n",
       "      <td>2017-11-23T00:00:00</td>\n",
       "      <td>3</td>\n",
       "      <td>3.05</td>\n",
       "      <td>5.0</td>\n",
       "      <td>55.60</td>\n",
       "      <td>1</td>\n",
       "      <td>NaN</td>\n",
       "      <td>...</td>\n",
       "      <td>9.00</td>\n",
       "      <td>NaN</td>\n",
       "      <td>Санкт-Петербург</td>\n",
       "      <td>22108.0</td>\n",
       "      <td>10698.0</td>\n",
       "      <td>3.0</td>\n",
       "      <td>420.0</td>\n",
       "      <td>0.0</td>\n",
       "      <td>NaN</td>\n",
       "      <td>397.0</td>\n",
       "    </tr>\n",
       "    <tr>\n",
       "      <th>17</th>\n",
       "      <td>6</td>\n",
       "      <td>4180000.0</td>\n",
       "      <td>36.00</td>\n",
       "      <td>2016-09-09T00:00:00</td>\n",
       "      <td>1</td>\n",
       "      <td>NaN</td>\n",
       "      <td>17.0</td>\n",
       "      <td>16.50</td>\n",
       "      <td>7</td>\n",
       "      <td>NaN</td>\n",
       "      <td>...</td>\n",
       "      <td>11.00</td>\n",
       "      <td>1.0</td>\n",
       "      <td>Санкт-Петербург</td>\n",
       "      <td>33564.0</td>\n",
       "      <td>14616.0</td>\n",
       "      <td>0.0</td>\n",
       "      <td>NaN</td>\n",
       "      <td>1.0</td>\n",
       "      <td>859.0</td>\n",
       "      <td>571.0</td>\n",
       "    </tr>\n",
       "    <tr>\n",
       "      <th>18</th>\n",
       "      <td>8</td>\n",
       "      <td>3250000.0</td>\n",
       "      <td>31.00</td>\n",
       "      <td>2017-01-27T00:00:00</td>\n",
       "      <td>1</td>\n",
       "      <td>2.50</td>\n",
       "      <td>5.0</td>\n",
       "      <td>19.40</td>\n",
       "      <td>2</td>\n",
       "      <td>NaN</td>\n",
       "      <td>...</td>\n",
       "      <td>5.60</td>\n",
       "      <td>1.0</td>\n",
       "      <td>Санкт-Петербург</td>\n",
       "      <td>44060.0</td>\n",
       "      <td>10842.0</td>\n",
       "      <td>1.0</td>\n",
       "      <td>759.0</td>\n",
       "      <td>0.0</td>\n",
       "      <td>NaN</td>\n",
       "      <td>168.0</td>\n",
       "    </tr>\n",
       "    <tr>\n",
       "      <th>19</th>\n",
       "      <td>16</td>\n",
       "      <td>14200000.0</td>\n",
       "      <td>121.00</td>\n",
       "      <td>2019-01-09T00:00:00</td>\n",
       "      <td>3</td>\n",
       "      <td>2.75</td>\n",
       "      <td>16.0</td>\n",
       "      <td>76.00</td>\n",
       "      <td>8</td>\n",
       "      <td>NaN</td>\n",
       "      <td>...</td>\n",
       "      <td>12.00</td>\n",
       "      <td>NaN</td>\n",
       "      <td>Санкт-Петербург</td>\n",
       "      <td>38900.0</td>\n",
       "      <td>12843.0</td>\n",
       "      <td>0.0</td>\n",
       "      <td>NaN</td>\n",
       "      <td>0.0</td>\n",
       "      <td>NaN</td>\n",
       "      <td>97.0</td>\n",
       "    </tr>\n",
       "  </tbody>\n",
       "</table>\n",
       "<p>20 rows × 22 columns</p>\n",
       "</div>"
      ],
      "text/plain": [
       "    total_images  last_price  total_area_m2 first_day_exposition  rooms  \\\n",
       "0             20  13000000.0         108.00  2019-03-07T00:00:00      3   \n",
       "1              7   3350000.0          40.40  2018-12-04T00:00:00      1   \n",
       "2             10   5196000.0          56.00  2015-08-20T00:00:00      2   \n",
       "3              0  64900000.0         159.00  2015-07-24T00:00:00      3   \n",
       "4              2  10000000.0         100.00  2018-06-19T00:00:00      2   \n",
       "5             10   2890000.0          30.40  2018-09-10T00:00:00      1   \n",
       "6              6   3700000.0          37.30  2017-11-02T00:00:00      1   \n",
       "7              5   7915000.0          71.60  2019-04-18T00:00:00      2   \n",
       "8             20   2900000.0          33.16  2018-05-23T00:00:00      1   \n",
       "9             18   5400000.0          61.00  2017-02-26T00:00:00      3   \n",
       "10             5   5050000.0          39.60  2017-11-16T00:00:00      1   \n",
       "11             9   3300000.0          44.00  2018-08-27T00:00:00      2   \n",
       "12            10   3890000.0          54.00  2016-06-30T00:00:00      2   \n",
       "13            20   3550000.0          42.80  2017-07-01T00:00:00      2   \n",
       "14             1   4400000.0          36.00  2016-06-23T00:00:00      1   \n",
       "15            16   4650000.0          39.00  2017-11-18T00:00:00      1   \n",
       "16            11   6700000.0          82.00  2017-11-23T00:00:00      3   \n",
       "17             6   4180000.0          36.00  2016-09-09T00:00:00      1   \n",
       "18             8   3250000.0          31.00  2017-01-27T00:00:00      1   \n",
       "19            16  14200000.0         121.00  2019-01-09T00:00:00      3   \n",
       "\n",
       "    ceiling_height  floors_total  living_area_m2  floor is_apartment  ...  \\\n",
       "0             2.70          16.0           51.00      8          NaN  ...   \n",
       "1              NaN          11.0           18.60      1          NaN  ...   \n",
       "2              NaN           5.0           34.30      4          NaN  ...   \n",
       "3              NaN          14.0             NaN      9          NaN  ...   \n",
       "4             3.03          14.0           32.00     13          NaN  ...   \n",
       "5              NaN          12.0           14.40      5          NaN  ...   \n",
       "6              NaN          26.0           10.60      6          NaN  ...   \n",
       "7              NaN          24.0             NaN     22          NaN  ...   \n",
       "8              NaN          27.0           15.43     26          NaN  ...   \n",
       "9             2.50           9.0           43.60      7          NaN  ...   \n",
       "10            2.67          12.0           20.30      3          NaN  ...   \n",
       "11             NaN           5.0           31.00      4        False  ...   \n",
       "12             NaN           5.0           30.00      5          NaN  ...   \n",
       "13            2.56           5.0           27.00      5          NaN  ...   \n",
       "14             NaN           6.0           17.00      1          NaN  ...   \n",
       "15             NaN          14.0           20.50      5          NaN  ...   \n",
       "16            3.05           5.0           55.60      1          NaN  ...   \n",
       "17             NaN          17.0           16.50      7          NaN  ...   \n",
       "18            2.50           5.0           19.40      2          NaN  ...   \n",
       "19            2.75          16.0           76.00      8          NaN  ...   \n",
       "\n",
       "    kitchen_area_m2  balcony              locality_name  airports_nearest  \\\n",
       "0             25.00      NaN            Санкт-Петербург           18863.0   \n",
       "1             11.00      2.0             посёлок Шушары           12817.0   \n",
       "2              8.30      0.0            Санкт-Петербург           21741.0   \n",
       "3               NaN      0.0            Санкт-Петербург           28098.0   \n",
       "4             41.00      NaN            Санкт-Петербург           31856.0   \n",
       "5              9.10      NaN  городской посёлок Янино-1               NaN   \n",
       "6             14.40      1.0          посёлок Парголово           52996.0   \n",
       "7             18.90      2.0            Санкт-Петербург           23982.0   \n",
       "8              8.81      NaN             посёлок Мурино               NaN   \n",
       "9              6.50      2.0            Санкт-Петербург           50898.0   \n",
       "10             8.50      NaN            Санкт-Петербург           38357.0   \n",
       "11             6.00      1.0                  Ломоносов           48252.0   \n",
       "12             9.00      0.0                  Сертолово               NaN   \n",
       "13             5.20      1.0                   Петергоф           37868.0   \n",
       "14             8.00      0.0                     Пушкин           20782.0   \n",
       "15             7.60      1.0            Санкт-Петербург           12900.0   \n",
       "16             9.00      NaN            Санкт-Петербург           22108.0   \n",
       "17            11.00      1.0            Санкт-Петербург           33564.0   \n",
       "18             5.60      1.0            Санкт-Петербург           44060.0   \n",
       "19            12.00      NaN            Санкт-Петербург           38900.0   \n",
       "\n",
       "   citycenters_nearest_meters  parks_around3000_km  parks_nearest_meters  \\\n",
       "0                     16028.0                  1.0                 482.0   \n",
       "1                     18603.0                  0.0                   NaN   \n",
       "2                     13933.0                  1.0                  90.0   \n",
       "3                      6800.0                  2.0                  84.0   \n",
       "4                      8098.0                  2.0                 112.0   \n",
       "5                         NaN                  NaN                   NaN   \n",
       "6                     19143.0                  0.0                   NaN   \n",
       "7                     11634.0                  0.0                   NaN   \n",
       "8                         NaN                  NaN                   NaN   \n",
       "9                     15008.0                  0.0                   NaN   \n",
       "10                    13878.0                  1.0                 310.0   \n",
       "11                    51677.0                  0.0                   NaN   \n",
       "12                        NaN                  NaN                   NaN   \n",
       "13                    33058.0                  1.0                 294.0   \n",
       "14                    30759.0                  0.0                   NaN   \n",
       "15                    14259.0                  1.0                 590.0   \n",
       "16                    10698.0                  3.0                 420.0   \n",
       "17                    14616.0                  0.0                   NaN   \n",
       "18                    10842.0                  1.0                 759.0   \n",
       "19                    12843.0                  0.0                   NaN   \n",
       "\n",
       "    ponds_around3000_km  ponds_nearest_meters  days_exposition  \n",
       "0                   2.0                 755.0              NaN  \n",
       "1                   0.0                   NaN             81.0  \n",
       "2                   2.0                 574.0            558.0  \n",
       "3                   3.0                 234.0            424.0  \n",
       "4                   1.0                  48.0            121.0  \n",
       "5                   NaN                   NaN             55.0  \n",
       "6                   0.0                   NaN            155.0  \n",
       "7                   0.0                   NaN              NaN  \n",
       "8                   NaN                   NaN            189.0  \n",
       "9                   0.0                   NaN            289.0  \n",
       "10                  2.0                 553.0            137.0  \n",
       "11                  0.0                   NaN              7.0  \n",
       "12                  NaN                   NaN             90.0  \n",
       "13                  3.0                 298.0            366.0  \n",
       "14                  1.0                  96.0            203.0  \n",
       "15                  1.0                 296.0             19.0  \n",
       "16                  0.0                   NaN            397.0  \n",
       "17                  1.0                 859.0            571.0  \n",
       "18                  0.0                   NaN            168.0  \n",
       "19                  0.0                   NaN             97.0  \n",
       "\n",
       "[20 rows x 22 columns]"
      ]
     },
     "execution_count": 10,
     "metadata": {},
     "output_type": "execute_result"
    }
   ],
   "source": [
    "#Новые данные с переименнованными столбацми, работаем с ними\n",
    "data.head(20)"
   ]
  },
  {
   "cell_type": "code",
   "execution_count": 11,
   "metadata": {},
   "outputs": [
    {
     "data": {
      "text/plain": [
       "total_images                      0\n",
       "open_plan                         0\n",
       "floor                             0\n",
       "rooms                             0\n",
       "studio                            0\n",
       "total_area_m2                     0\n",
       "last_price                        0\n",
       "first_day_exposition              0\n",
       "locality_name                    49\n",
       "floors_total                     86\n",
       "living_area_m2                 1903\n",
       "kitchen_area_m2                2278\n",
       "days_exposition                3181\n",
       "ponds_around3000_km            5518\n",
       "parks_around3000_km            5518\n",
       "citycenters_nearest_meters     5519\n",
       "airports_nearest               5542\n",
       "ceiling_height                 9195\n",
       "balcony                       11519\n",
       "ponds_nearest_meters          14589\n",
       "parks_nearest_meters          15620\n",
       "is_apartment                  20924\n",
       "dtype: int64"
      ]
     },
     "execution_count": 11,
     "metadata": {},
     "output_type": "execute_result"
    }
   ],
   "source": [
    "#Снова выводим пропуски и начнем их обрабатывать\n",
    "data.isna().sum().sort_values()"
   ]
  },
  {
   "cell_type": "code",
   "execution_count": 12,
   "metadata": {},
   "outputs": [
    {
     "data": {
      "text/plain": [
       "array(['Санкт-Петербург', 'посёлок Шушары', 'городской посёлок Янино-1',\n",
       "       'посёлок Парголово', 'посёлок Мурино', 'Ломоносов', 'Сертолово',\n",
       "       'Петергоф', 'Пушкин', 'деревня Кудрово', 'Коммунар', 'Колпино',\n",
       "       'поселок городского типа Красный Бор', 'Гатчина', 'поселок Мурино',\n",
       "       'деревня Фёдоровское', 'Выборг', 'Кронштадт', 'Кировск',\n",
       "       'деревня Новое Девяткино', 'посёлок Металлострой',\n",
       "       'посёлок городского типа Лебяжье',\n",
       "       'посёлок городского типа Сиверский', 'поселок Молодцово',\n",
       "       'поселок городского типа Кузьмоловский',\n",
       "       'садовое товарищество Новая Ропша', 'Павловск',\n",
       "       'деревня Пикколово', 'Всеволожск', 'Волхов', 'Кингисепп',\n",
       "       'Приозерск', 'Сестрорецк', 'деревня Куттузи', 'посёлок Аннино',\n",
       "       'поселок городского типа Ефимовский', 'посёлок Плодовое',\n",
       "       'деревня Заклинье', 'поселок Торковичи', 'поселок Первомайское',\n",
       "       'Красное Село', 'посёлок Понтонный', 'Сясьстрой', 'деревня Старая',\n",
       "       'деревня Лесколово', 'посёлок Новый Свет', 'Сланцы',\n",
       "       'село Путилово', 'Ивангород', 'Мурино', 'Шлиссельбург',\n",
       "       'Никольское', 'Зеленогорск', 'Сосновый Бор', 'поселок Новый Свет',\n",
       "       'деревня Оржицы', 'деревня Кальтино', 'Кудрово',\n",
       "       'поселок Романовка', 'посёлок Бугры', 'поселок Бугры',\n",
       "       'поселок городского типа Рощино', 'Кириши', 'Луга', 'Волосово',\n",
       "       'Отрадное', 'село Павлово', 'поселок Оредеж', 'село Копорье',\n",
       "       'посёлок городского типа Красный Бор', 'посёлок Молодёжное',\n",
       "       'Тихвин', 'посёлок Победа', 'деревня Нурма',\n",
       "       'поселок городского типа Синявино', 'Тосно',\n",
       "       'посёлок городского типа Кузьмоловский', 'посёлок Стрельна',\n",
       "       'Бокситогорск', 'посёлок Александровская', 'деревня Лопухинка',\n",
       "       'Пикалёво', 'поселок Терволово',\n",
       "       'поселок городского типа Советский', 'Подпорожье',\n",
       "       'посёлок Петровское', 'посёлок городского типа Токсово',\n",
       "       'поселок Сельцо', 'посёлок городского типа Вырица',\n",
       "       'деревня Кипень', 'деревня Келози', 'деревня Вартемяги',\n",
       "       'посёлок Тельмана', 'поселок Севастьяново',\n",
       "       'городской поселок Большая Ижора', nan,\n",
       "       'городской посёлок Павлово', 'деревня Агалатово',\n",
       "       'посёлок Новогорелово', 'городской посёлок Лесогорский',\n",
       "       'деревня Лаголово', 'поселок Цвелодубово',\n",
       "       'поселок городского типа Рахья', 'поселок городского типа Вырица',\n",
       "       'деревня Белогорка', 'поселок Заводской',\n",
       "       'городской посёлок Новоселье', 'деревня Большие Колпаны',\n",
       "       'деревня Горбунки', 'деревня Батово', 'деревня Заневка',\n",
       "       'деревня Иссад', 'Приморск', 'городской посёлок Фёдоровское',\n",
       "       'деревня Мистолово', 'Новая Ладога', 'поселок Зимитицы',\n",
       "       'поселок Барышево', 'деревня Разметелево',\n",
       "       'поселок городского типа имени Свердлова', 'деревня Пеники',\n",
       "       'поселок Рябово', 'деревня Пудомяги', 'поселок станции Корнево',\n",
       "       'деревня Низино', 'деревня Бегуницы', 'посёлок Поляны',\n",
       "       'городской посёлок Мга', 'поселок Елизаветино',\n",
       "       'посёлок городского типа Кузнечное', 'деревня Колтуши',\n",
       "       'поселок Запорожское', 'посёлок городского типа Рощино',\n",
       "       'деревня Гостилицы', 'деревня Малое Карлино',\n",
       "       'посёлок Мичуринское', 'посёлок городского типа имени Морозова',\n",
       "       'посёлок Песочный', 'посёлок Сосново', 'деревня Аро',\n",
       "       'поселок Ильичёво', 'посёлок городского типа Тайцы',\n",
       "       'деревня Малое Верево', 'деревня Извара', 'поселок станции Вещево',\n",
       "       'село Паша', 'деревня Калитино',\n",
       "       'посёлок городского типа Ульяновка', 'деревня Чудской Бор',\n",
       "       'поселок городского типа Дубровка', 'деревня Мины',\n",
       "       'поселок Войсковицы', 'посёлок городского типа имени Свердлова',\n",
       "       'деревня Коркино', 'посёлок Ропша',\n",
       "       'поселок городского типа Приладожский', 'посёлок Щеглово',\n",
       "       'посёлок Гаврилово', 'Лодейное Поле', 'деревня Рабитицы',\n",
       "       'поселок городского типа Никольский', 'деревня Кузьмолово',\n",
       "       'деревня Малые Колпаны', 'поселок Тельмана',\n",
       "       'посёлок Петро-Славянка', 'городской посёлок Назия',\n",
       "       'посёлок Репино', 'посёлок Ильичёво', 'поселок Углово',\n",
       "       'поселок Старая Малукса', 'садовое товарищество Рахья',\n",
       "       'поселок Аннино', 'поселок Победа', 'деревня Меньково',\n",
       "       'деревня Старые Бегуницы', 'посёлок Сапёрный', 'поселок Семрино',\n",
       "       'поселок Гаврилово', 'поселок Глажево', 'поселок Кобринское',\n",
       "       'деревня Гарболово', 'деревня Юкки',\n",
       "       'поселок станции Приветнинское', 'деревня Мануйлово',\n",
       "       'деревня Пчева', 'поселок Поляны', 'поселок Цвылёво',\n",
       "       'поселок Мельниково', 'посёлок Пудость', 'посёлок Усть-Луга',\n",
       "       'Светогорск', 'Любань', 'поселок Селезнёво',\n",
       "       'поселок городского типа Рябово', 'Каменногорск', 'деревня Кривко',\n",
       "       'поселок Глебычево', 'деревня Парицы', 'поселок Жилпосёлок',\n",
       "       'посёлок городского типа Мга', 'городской поселок Янино-1',\n",
       "       'посёлок Войскорово', 'село Никольское', 'посёлок Терволово',\n",
       "       'поселок Стеклянный', 'посёлок городского типа Важины',\n",
       "       'посёлок Мыза-Ивановка', 'село Русско-Высоцкое',\n",
       "       'поселок городского типа Лебяжье',\n",
       "       'поселок городского типа Форносово', 'село Старая Ладога',\n",
       "       'поселок Житково', 'городской посёлок Виллози', 'деревня Лампово',\n",
       "       'деревня Шпаньково', 'деревня Лаврики', 'посёлок Сумино',\n",
       "       'посёлок Возрождение', 'деревня Старосиверская',\n",
       "       'посёлок Кикерино', 'поселок Возрождение',\n",
       "       'деревня Старое Хинколово', 'посёлок Пригородный',\n",
       "       'посёлок Торфяное', 'городской посёлок Будогощь',\n",
       "       'поселок Суходолье', 'поселок Красная Долина', 'деревня Хапо-Ое',\n",
       "       'поселок городского типа Дружная Горка', 'поселок Лисий Нос',\n",
       "       'деревня Яльгелево', 'посёлок Стеклянный', 'село Рождествено',\n",
       "       'деревня Старополье', 'посёлок Левашово', 'деревня Сяськелево',\n",
       "       'деревня Камышовка',\n",
       "       'садоводческое некоммерческое товарищество Лесная Поляна',\n",
       "       'деревня Хязельки', 'поселок Жилгородок',\n",
       "       'посёлок городского типа Павлово', 'деревня Ялгино',\n",
       "       'поселок Новый Учхоз', 'городской посёлок Рощино',\n",
       "       'поселок Гончарово', 'поселок Почап', 'посёлок Сапёрное',\n",
       "       'посёлок Платформа 69-й километр', 'поселок Каложицы',\n",
       "       'деревня Фалилеево', 'деревня Пельгора',\n",
       "       'поселок городского типа Лесогорский', 'деревня Торошковичи',\n",
       "       'посёлок Белоостров', 'посёлок Алексеевка', 'поселок Серебрянский',\n",
       "       'поселок Лукаши', 'поселок Петровское', 'деревня Щеглово',\n",
       "       'поселок Мичуринское', 'деревня Тарасово', 'поселок Кингисеппский',\n",
       "       'посёлок при железнодорожной станции Вещево', 'поселок Ушаки',\n",
       "       'деревня Котлы', 'деревня Сижно', 'деревня Торосово',\n",
       "       'посёлок Форт Красная Горка', 'поселок городского типа Токсово',\n",
       "       'деревня Новолисино', 'посёлок станции Громово', 'деревня Глинка',\n",
       "       'посёлок Мельниково', 'поселок городского типа Назия',\n",
       "       'деревня Старая Пустошь', 'поселок Коммунары', 'поселок Починок',\n",
       "       'посёлок городского типа Вознесенье', 'деревня Разбегаево',\n",
       "       'посёлок городского типа Рябово', 'поселок Гладкое',\n",
       "       'посёлок при железнодорожной станции Приветнинское',\n",
       "       'поселок Тёсово-4', 'посёлок Жилгородок', 'деревня Бор',\n",
       "       'посёлок Коробицыно', 'деревня Большая Вруда', 'деревня Курковицы',\n",
       "       'посёлок Лисий Нос', 'городской посёлок Советский',\n",
       "       'посёлок Кобралово', 'деревня Суоранда', 'поселок Кобралово',\n",
       "       'поселок городского типа Кондратьево',\n",
       "       'коттеджный поселок Счастье', 'поселок Любань', 'деревня Реброво',\n",
       "       'деревня Зимитицы', 'деревня Тойворово', 'поселок Семиозерье',\n",
       "       'поселок Лесное', 'поселок Совхозный', 'поселок Усть-Луга',\n",
       "       'посёлок Ленинское', 'посёлок Суйда',\n",
       "       'посёлок городского типа Форносово', 'деревня Нижние Осельки',\n",
       "       'посёлок станции Свирь', 'поселок Перово', 'Высоцк',\n",
       "       'поселок Гарболово', 'село Шум', 'поселок Котельский',\n",
       "       'поселок станции Лужайка', 'деревня Большая Пустомержа',\n",
       "       'поселок Красносельское', 'деревня Вахнова Кара', 'деревня Пижма',\n",
       "       'коттеджный поселок Кивеннапа Север', 'поселок Коробицыно',\n",
       "       'поселок Ромашки', 'посёлок Перово', 'деревня Каськово',\n",
       "       'деревня Куровицы', 'посёлок Плоское', 'поселок Сумино',\n",
       "       'поселок городского типа Большая Ижора', 'поселок Кирпичное',\n",
       "       'деревня Ям-Тесово', 'деревня Раздолье', 'деревня Терпилицы',\n",
       "       'посёлок Шугозеро', 'деревня Ваганово', 'поселок Пушное',\n",
       "       'садовое товарищество Садко', 'посёлок Усть-Ижора',\n",
       "       'деревня Выскатка', 'городской посёлок Свирьстрой',\n",
       "       'поселок Громово', 'деревня Кисельня', 'посёлок Старая Малукса',\n",
       "       'деревня Трубников Бор', 'поселок Калитино',\n",
       "       'посёлок Высокоключевой', 'садовое товарищество Приладожский',\n",
       "       'посёлок Пансионат Зелёный Бор', 'деревня Ненимяки',\n",
       "       'поселок Пансионат Зелёный Бор', 'деревня Снегирёвка',\n",
       "       'деревня Рапполово', 'деревня Пустынка', 'поселок Рабитицы',\n",
       "       'деревня Большой Сабск', 'деревня Русско', 'деревня Лупполово',\n",
       "       'деревня Большое Рейзино', 'деревня Малая Романовка',\n",
       "       'поселок Дружноселье', 'поселок Пчевжа', 'поселок Володарское',\n",
       "       'деревня Нижняя', 'коттеджный посёлок Лесное', 'деревня Тихковицы',\n",
       "       'деревня Борисова Грива', 'посёлок Дзержинского'], dtype=object)"
      ]
     },
     "execution_count": 12,
     "metadata": {},
     "output_type": "execute_result"
    }
   ],
   "source": [
    "#Гипотеза - очень странно что пропущено 49 мест проживания людей? Они не знают где живут?\n",
    "#Выведем уникальные значения locality_name \n",
    "#Огромный спискок- самая большая в нем проблема это возможно буква е и ё. \n",
    "data['locality_name'].unique()"
   ]
  },
  {
   "cell_type": "code",
   "execution_count": 13,
   "metadata": {},
   "outputs": [
    {
     "data": {
      "text/plain": [
       "array(['Санкт-Петербург', 'поселок Шушары', 'городской поселок Янино-1',\n",
       "       'поселок Парголово', 'поселок Мурино', 'Ломоносов', 'Сертолово',\n",
       "       'Петергоф', 'Пушкин', 'деревня Кудрово', 'Коммунар', 'Колпино',\n",
       "       'поселок городского типа Красный Бор', 'Гатчина',\n",
       "       'деревня Фёдоровское', 'Выборг', 'Кронштадт', 'Кировск',\n",
       "       'деревня Новое Девяткино', 'поселок Металлострой',\n",
       "       'поселок городского типа Лебяжье',\n",
       "       'поселок городского типа Сиверский', 'поселок Молодцово',\n",
       "       'поселок городского типа Кузьмоловский',\n",
       "       'садовое товарищество Новая Ропша', 'Павловск',\n",
       "       'деревня Пикколово', 'Всеволожск', 'Волхов', 'Кингисепп',\n",
       "       'Приозерск', 'Сестрорецк', 'деревня Куттузи', 'поселок Аннино',\n",
       "       'поселок городского типа Ефимовский', 'поселок Плодовое',\n",
       "       'деревня Заклинье', 'поселок Торковичи', 'поселок Первомайское',\n",
       "       'Красное Село', 'поселок Понтонный', 'Сясьстрой', 'деревня Старая',\n",
       "       'деревня Лесколово', 'поселок Новый Свет', 'Сланцы',\n",
       "       'село Путилово', 'Ивангород', 'Мурино', 'Шлиссельбург',\n",
       "       'Никольское', 'Зеленогорск', 'Сосновый Бор', 'деревня Оржицы',\n",
       "       'деревня Кальтино', 'Кудрово', 'поселок Романовка',\n",
       "       'поселок Бугры', 'поселок городского типа Рощино', 'Кириши',\n",
       "       'Луга', 'Волосово', 'Отрадное', 'село Павлово', 'поселок Оредеж',\n",
       "       'село Копорье', 'поселок Молодёжное', 'Тихвин', 'поселок Победа',\n",
       "       'деревня Нурма', 'поселок городского типа Синявино', 'Тосно',\n",
       "       'поселок Стрельна', 'Бокситогорск', 'поселок Александровская',\n",
       "       'деревня Лопухинка', 'Пикалёво', 'поселок Терволово',\n",
       "       'поселок городского типа Советский', 'Подпорожье',\n",
       "       'поселок Петровское', 'поселок городского типа Токсово',\n",
       "       'поселок Сельцо', 'поселок городского типа Вырица',\n",
       "       'деревня Кипень', 'деревня Келози', 'деревня Вартемяги',\n",
       "       'поселок Тельмана', 'поселок Севастьяново',\n",
       "       'городской поселок Большая Ижора', nan,\n",
       "       'городской поселок Павлово', 'деревня Агалатово',\n",
       "       'поселок Новогорелово', 'городской поселок Лесогорский',\n",
       "       'деревня Лаголово', 'поселок Цвелодубово',\n",
       "       'поселок городского типа Рахья', 'деревня Белогорка',\n",
       "       'поселок Заводской', 'городской поселок Новоселье',\n",
       "       'деревня Большие Колпаны', 'деревня Горбунки', 'деревня Батово',\n",
       "       'деревня Заневка', 'деревня Иссад', 'Приморск',\n",
       "       'городской поселок Фёдоровское', 'деревня Мистолово',\n",
       "       'Новая Ладога', 'поселок Зимитицы', 'поселок Барышево',\n",
       "       'деревня Разметелево', 'поселок городского типа имени Свердлова',\n",
       "       'деревня Пеники', 'поселок Рябово', 'деревня Пудомяги',\n",
       "       'поселок станции Корнево', 'деревня Низино', 'деревня Бегуницы',\n",
       "       'поселок Поляны', 'городской поселок Мга', 'поселок Елизаветино',\n",
       "       'поселок городского типа Кузнечное', 'деревня Колтуши',\n",
       "       'поселок Запорожское', 'деревня Гостилицы',\n",
       "       'деревня Малое Карлино', 'поселок Мичуринское',\n",
       "       'поселок городского типа имени Морозова', 'поселок Песочный',\n",
       "       'поселок Сосново', 'деревня Аро', 'поселок Ильичёво',\n",
       "       'поселок городского типа Тайцы', 'деревня Малое Верево',\n",
       "       'деревня Извара', 'поселок станции Вещево', 'село Паша',\n",
       "       'деревня Калитино', 'поселок городского типа Ульяновка',\n",
       "       'деревня Чудской Бор', 'поселок городского типа Дубровка',\n",
       "       'деревня Мины', 'поселок Войсковицы', 'деревня Коркино',\n",
       "       'поселок Ропша', 'поселок городского типа Приладожский',\n",
       "       'поселок Щеглово', 'поселок Гаврилово', 'Лодейное Поле',\n",
       "       'деревня Рабитицы', 'поселок городского типа Никольский',\n",
       "       'деревня Кузьмолово', 'деревня Малые Колпаны',\n",
       "       'поселок Петро-Славянка', 'городской поселок Назия',\n",
       "       'поселок Репино', 'поселок Углово', 'поселок Старая Малукса',\n",
       "       'садовое товарищество Рахья', 'деревня Меньково',\n",
       "       'деревня Старые Бегуницы', 'поселок Сапёрный', 'поселок Семрино',\n",
       "       'поселок Глажево', 'поселок Кобринское', 'деревня Гарболово',\n",
       "       'деревня Юкки', 'поселок станции Приветнинское',\n",
       "       'деревня Мануйлово', 'деревня Пчева', 'поселок Цвылёво',\n",
       "       'поселок Мельниково', 'поселок Пудость', 'поселок Усть-Луга',\n",
       "       'Светогорск', 'Любань', 'поселок Селезнёво',\n",
       "       'поселок городского типа Рябово', 'Каменногорск', 'деревня Кривко',\n",
       "       'поселок Глебычево', 'деревня Парицы', 'поселок Жилпоселок',\n",
       "       'поселок городского типа Мга', 'поселок Войскорово',\n",
       "       'село Никольское', 'поселок Стеклянный',\n",
       "       'поселок городского типа Важины', 'поселок Мыза-Ивановка',\n",
       "       'село Русско-Высоцкое', 'поселок городского типа Форносово',\n",
       "       'село Старая Ладога', 'поселок Житково',\n",
       "       'городской поселок Виллози', 'деревня Лампово',\n",
       "       'деревня Шпаньково', 'деревня Лаврики', 'поселок Сумино',\n",
       "       'поселок Возрождение', 'деревня Старосиверская',\n",
       "       'поселок Кикерино', 'деревня Старое Хинколово',\n",
       "       'поселок Пригородный', 'поселок Торфяное',\n",
       "       'городской поселок Будогощь', 'поселок Суходолье',\n",
       "       'поселок Красная Долина', 'деревня Хапо-Ое',\n",
       "       'поселок городского типа Дружная Горка', 'поселок Лисий Нос',\n",
       "       'деревня Яльгелево', 'село Рождествено', 'деревня Старополье',\n",
       "       'поселок Левашово', 'деревня Сяськелево', 'деревня Камышовка',\n",
       "       'садоводческое некоммерческое товарищество Лесная Поляна',\n",
       "       'деревня Хязельки', 'поселок Жилгородок',\n",
       "       'поселок городского типа Павлово', 'деревня Ялгино',\n",
       "       'поселок Новый Учхоз', 'городской поселок Рощино',\n",
       "       'поселок Гончарово', 'поселок Почап', 'поселок Сапёрное',\n",
       "       'поселок Платформа 69-й километр', 'поселок Каложицы',\n",
       "       'деревня Фалилеево', 'деревня Пельгора',\n",
       "       'поселок городского типа Лесогорский', 'деревня Торошковичи',\n",
       "       'поселок Белоостров', 'поселок Алексеевка', 'поселок Серебрянский',\n",
       "       'поселок Лукаши', 'деревня Щеглово', 'деревня Тарасово',\n",
       "       'поселок Кингисеппский',\n",
       "       'поселок при железнодорожной станции Вещево', 'поселок Ушаки',\n",
       "       'деревня Котлы', 'деревня Сижно', 'деревня Торосово',\n",
       "       'поселок Форт Красная Горка', 'деревня Новолисино',\n",
       "       'поселок станции Громово', 'деревня Глинка',\n",
       "       'поселок городского типа Назия', 'деревня Старая Пустошь',\n",
       "       'поселок Коммунары', 'поселок Починок',\n",
       "       'поселок городского типа Вознесенье', 'деревня Разбегаево',\n",
       "       'поселок Гладкое',\n",
       "       'поселок при железнодорожной станции Приветнинское',\n",
       "       'поселок Тёсово-4', 'деревня Бор', 'поселок Коробицыно',\n",
       "       'деревня Большая Вруда', 'деревня Курковицы',\n",
       "       'городской поселок Советский', 'поселок Кобралово',\n",
       "       'деревня Суоранда', 'поселок городского типа Кондратьево',\n",
       "       'коттеджный поселок Счастье', 'поселок Любань', 'деревня Реброво',\n",
       "       'деревня Зимитицы', 'деревня Тойворово', 'поселок Семиозерье',\n",
       "       'поселок Лесное', 'поселок Совхозный', 'поселок Ленинское',\n",
       "       'поселок Суйда', 'деревня Нижние Осельки', 'поселок станции Свирь',\n",
       "       'поселок Перово', 'Высоцк', 'поселок Гарболово', 'село Шум',\n",
       "       'поселок Котельский', 'поселок станции Лужайка',\n",
       "       'деревня Большая Пустомержа', 'поселок Красносельское',\n",
       "       'деревня Вахнова Кара', 'деревня Пижма',\n",
       "       'коттеджный поселок Кивеннапа Север', 'поселок Ромашки',\n",
       "       'деревня Каськово', 'деревня Куровицы', 'поселок Плоское',\n",
       "       'поселок городского типа Большая Ижора', 'поселок Кирпичное',\n",
       "       'деревня Ям-Тесово', 'деревня Раздолье', 'деревня Терпилицы',\n",
       "       'поселок Шугозеро', 'деревня Ваганово', 'поселок Пушное',\n",
       "       'садовое товарищество Садко', 'поселок Усть-Ижора',\n",
       "       'деревня Выскатка', 'городской поселок Свирьстрой',\n",
       "       'поселок Громово', 'деревня Кисельня', 'деревня Трубников Бор',\n",
       "       'поселок Калитино', 'поселок Высокоключевой',\n",
       "       'садовое товарищество Приладожский',\n",
       "       'поселок Пансионат Зелёный Бор', 'деревня Ненимяки',\n",
       "       'деревня Снегирёвка', 'деревня Рапполово', 'деревня Пустынка',\n",
       "       'поселок Рабитицы', 'деревня Большой Сабск', 'деревня Русско',\n",
       "       'деревня Лупполово', 'деревня Большое Рейзино',\n",
       "       'деревня Малая Романовка', 'поселок Дружноселье', 'поселок Пчевжа',\n",
       "       'поселок Володарское', 'деревня Нижняя',\n",
       "       'коттеджный поселок Лесное', 'деревня Тихковицы',\n",
       "       'деревня Борисова Грива', 'поселок Дзержинского'], dtype=object)"
      ]
     },
     "execution_count": 13,
     "metadata": {},
     "output_type": "execute_result"
    }
   ],
   "source": [
    "# заменили ё на e и приведли к одному виду все , без regex=True неработало. взял с pandas.pydata.org\n",
    "data['locality_name'] = data['locality_name'].replace('посёлок', 'поселок', regex=True)\n",
    "#Проверили все заменилось\n",
    "data['locality_name'].unique()"
   ]
  },
  {
   "cell_type": "code",
   "execution_count": 14,
   "metadata": {},
   "outputs": [
    {
     "data": {
      "text/plain": [
       "49"
      ]
     },
     "execution_count": 14,
     "metadata": {},
     "output_type": "execute_result"
    }
   ],
   "source": [
    "#Пропуски так и остались но данные не будут групироваться в разные строки зависимости от ё и е \n",
    "data['locality_name'].isna().sum()"
   ]
  },
  {
   "cell_type": "code",
   "execution_count": 15,
   "metadata": {},
   "outputs": [
    {
     "data": {
      "text/plain": [
       "0"
      ]
     },
     "execution_count": 15,
     "metadata": {},
     "output_type": "execute_result"
    }
   ],
   "source": [
    "#Принято решение удалить 49 строк так как мы не знаем место положение квартир\n",
    "data = data.dropna(subset=['locality_name'])\n",
    "#Проверили, пропусков больше нету \n",
    "data['locality_name'].isna().sum()"
   ]
  },
  {
   "cell_type": "code",
   "execution_count": 16,
   "metadata": {},
   "outputs": [
    {
     "name": "stdout",
     "output_type": "stream",
     "text": [
      "<class 'pandas.core.frame.DataFrame'>\n",
      "Int64Index: 23565 entries, 0 to 23698\n",
      "Data columns (total 22 columns):\n",
      " #   Column                      Non-Null Count  Dtype  \n",
      "---  ------                      --------------  -----  \n",
      " 0   total_images                23565 non-null  int64  \n",
      " 1   last_price                  23565 non-null  float64\n",
      " 2   total_area_m2               23565 non-null  float64\n",
      " 3   first_day_exposition        23565 non-null  object \n",
      " 4   rooms                       23565 non-null  int64  \n",
      " 5   ceiling_height              14481 non-null  float64\n",
      " 6   floors_total                23565 non-null  int64  \n",
      " 7   living_area_m2              21700 non-null  float64\n",
      " 8   floor                       23565 non-null  int64  \n",
      " 9   is_apartment                2760 non-null   object \n",
      " 10  studio                      23565 non-null  bool   \n",
      " 11  open_plan                   23565 non-null  bool   \n",
      " 12  kitchen_area_m2             21343 non-null  float64\n",
      " 13  balcony                     12090 non-null  float64\n",
      " 14  locality_name               23565 non-null  object \n",
      " 15  airports_nearest            18041 non-null  float64\n",
      " 16  citycenters_nearest_meters  18064 non-null  float64\n",
      " 17  parks_around3000_km         18065 non-null  float64\n",
      " 18  parks_nearest_meters        8030 non-null   float64\n",
      " 19  ponds_around3000_km         18065 non-null  float64\n",
      " 20  ponds_nearest_meters        9036 non-null   float64\n",
      " 21  days_exposition             20394 non-null  float64\n",
      "dtypes: bool(2), float64(13), int64(4), object(3)\n",
      "memory usage: 3.8+ MB\n"
     ]
    }
   ],
   "source": [
    "#Первое что можно увидеть формат floors_total - float64,\n",
    "#этажи это целые числа, надо сделать формат int\n",
    "#Гипотеза - значений в которых нет этажей очень мало. очень странно что их не заполнили\n",
    "#Медианой такие значение, наверно заполнять будет не верно , их проще отбросить.\n",
    "#посмотрели уникальные значения\n",
    "data['floors_total'].unique()\n",
    "data = data.dropna(subset=['floors_total'])\n",
    "#Поменяли тип данных\n",
    "data['floors_total'] = data['floors_total'].astype('int')\n",
    "#Проверили что тип данных сменился\n",
    "data.info()"
   ]
  },
  {
   "cell_type": "markdown",
   "metadata": {},
   "source": [
    "В data.describe() я заметил, что колоне rooms, есть значение равно 0.\n",
    "Гипотеза состоит в том, что не может быть комнат 0, мы изучаем данные по жилым помещение.\n",
    "Средний м2 у жилого помещения со значение 0 равен 18.8 м2, а средне значение у жилого помещения равен 17.8 м2\n",
    "Предлагаю обьеденить жилые помещения которые имеют 0 комнат и 1 комнату."
   ]
  },
  {
   "cell_type": "code",
   "execution_count": 17,
   "metadata": {},
   "outputs": [
    {
     "data": {
      "text/plain": [
       "array([ 3,  1,  2,  4,  5,  6,  0,  7, 11,  8, 14, 10, 15,  9, 19, 16, 12])"
      ]
     },
     "execution_count": 17,
     "metadata": {},
     "output_type": "execute_result"
    }
   ],
   "source": [
    "#Уведились что есть значение равное 0\n",
    "data['rooms'].unique()"
   ]
  },
  {
   "cell_type": "code",
   "execution_count": 18,
   "metadata": {},
   "outputs": [
    {
     "data": {
      "text/plain": [
       "array([ 3,  1,  2,  4,  5,  6,  7, 11,  8, 14, 10, 15,  9, 19, 16, 12])"
      ]
     },
     "execution_count": 18,
     "metadata": {},
     "output_type": "execute_result"
    }
   ],
   "source": [
    "# Заменили значение 0 комнат на 1 комнату\n",
    "data['rooms'] = data['rooms'].replace(0, 1)\n",
    "#Проверили что значения 0 комнат больше нету\n",
    "data['rooms'].unique()"
   ]
  },
  {
   "cell_type": "code",
   "execution_count": 19,
   "metadata": {},
   "outputs": [
    {
     "data": {
      "text/plain": [
       "0"
      ]
     },
     "execution_count": 19,
     "metadata": {},
     "output_type": "execute_result"
    }
   ],
   "source": [
    "#Можем заполнить пропуски living_area_m2 средним по rooms , чем больше комнат тем больше жилая.\n",
    "data['rooms'].unique()\n",
    "for t in data['rooms'].unique():\n",
    "    data.loc[(data['rooms'] == t) & (data['living_area_m2'].isna()), 'living_area_m2'] = \\\n",
    "    data.loc[(data['rooms'] == t), 'living_area_m2'].median()\n",
    "#Пропусков нету\n",
    "data['living_area_m2'].isna().sum() "
   ]
  },
  {
   "cell_type": "code",
   "execution_count": 20,
   "metadata": {},
   "outputs": [
    {
     "data": {
      "text/html": [
       "<div>\n",
       "<style scoped>\n",
       "    .dataframe tbody tr th:only-of-type {\n",
       "        vertical-align: middle;\n",
       "    }\n",
       "\n",
       "    .dataframe tbody tr th {\n",
       "        vertical-align: top;\n",
       "    }\n",
       "\n",
       "    .dataframe thead tr th {\n",
       "        text-align: left;\n",
       "    }\n",
       "\n",
       "    .dataframe thead tr:last-of-type th {\n",
       "        text-align: right;\n",
       "    }\n",
       "</style>\n",
       "<table border=\"1\" class=\"dataframe\">\n",
       "  <thead>\n",
       "    <tr>\n",
       "      <th></th>\n",
       "      <th>count</th>\n",
       "      <th>median</th>\n",
       "    </tr>\n",
       "    <tr>\n",
       "      <th></th>\n",
       "      <th>living_area_m2</th>\n",
       "      <th>living_area_m2</th>\n",
       "    </tr>\n",
       "    <tr>\n",
       "      <th>rooms</th>\n",
       "      <th></th>\n",
       "      <th></th>\n",
       "    </tr>\n",
       "  </thead>\n",
       "  <tbody>\n",
       "    <tr>\n",
       "      <th>1</th>\n",
       "      <td>8198</td>\n",
       "      <td>17.600</td>\n",
       "    </tr>\n",
       "    <tr>\n",
       "      <th>2</th>\n",
       "      <td>7897</td>\n",
       "      <td>30.500</td>\n",
       "    </tr>\n",
       "    <tr>\n",
       "      <th>3</th>\n",
       "      <td>5779</td>\n",
       "      <td>45.000</td>\n",
       "    </tr>\n",
       "    <tr>\n",
       "      <th>4</th>\n",
       "      <td>1172</td>\n",
       "      <td>63.650</td>\n",
       "    </tr>\n",
       "    <tr>\n",
       "      <th>5</th>\n",
       "      <td>325</td>\n",
       "      <td>91.785</td>\n",
       "    </tr>\n",
       "    <tr>\n",
       "      <th>6</th>\n",
       "      <td>104</td>\n",
       "      <td>124.400</td>\n",
       "    </tr>\n",
       "    <tr>\n",
       "      <th>7</th>\n",
       "      <td>59</td>\n",
       "      <td>145.000</td>\n",
       "    </tr>\n",
       "    <tr>\n",
       "      <th>8</th>\n",
       "      <td>12</td>\n",
       "      <td>161.000</td>\n",
       "    </tr>\n",
       "    <tr>\n",
       "      <th>9</th>\n",
       "      <td>8</td>\n",
       "      <td>179.200</td>\n",
       "    </tr>\n",
       "    <tr>\n",
       "      <th>10</th>\n",
       "      <td>3</td>\n",
       "      <td>161.400</td>\n",
       "    </tr>\n",
       "    <tr>\n",
       "      <th>11</th>\n",
       "      <td>2</td>\n",
       "      <td>133.900</td>\n",
       "    </tr>\n",
       "    <tr>\n",
       "      <th>12</th>\n",
       "      <td>1</td>\n",
       "      <td>409.700</td>\n",
       "    </tr>\n",
       "    <tr>\n",
       "      <th>14</th>\n",
       "      <td>2</td>\n",
       "      <td>195.150</td>\n",
       "    </tr>\n",
       "    <tr>\n",
       "      <th>15</th>\n",
       "      <td>1</td>\n",
       "      <td>409.000</td>\n",
       "    </tr>\n",
       "    <tr>\n",
       "      <th>16</th>\n",
       "      <td>1</td>\n",
       "      <td>180.000</td>\n",
       "    </tr>\n",
       "    <tr>\n",
       "      <th>19</th>\n",
       "      <td>1</td>\n",
       "      <td>264.500</td>\n",
       "    </tr>\n",
       "  </tbody>\n",
       "</table>\n",
       "</div>"
      ],
      "text/plain": [
       "               count         median\n",
       "      living_area_m2 living_area_m2\n",
       "rooms                              \n",
       "1               8198         17.600\n",
       "2               7897         30.500\n",
       "3               5779         45.000\n",
       "4               1172         63.650\n",
       "5                325         91.785\n",
       "6                104        124.400\n",
       "7                 59        145.000\n",
       "8                 12        161.000\n",
       "9                  8        179.200\n",
       "10                 3        161.400\n",
       "11                 2        133.900\n",
       "12                 1        409.700\n",
       "14                 2        195.150\n",
       "15                 1        409.000\n",
       "16                 1        180.000\n",
       "19                 1        264.500"
      ]
     },
     "execution_count": 20,
     "metadata": {},
     "output_type": "execute_result"
    }
   ],
   "source": [
    "#Можем сгрупировать rooms и living_area_m2, посмотреть логично ли выглядит групировка.\n",
    "rooms_living_area_m2 = data.pivot_table(index='rooms',values='living_area_m2', aggfunc=['count','median'])\n",
    "#Жилые помещения увеличивают  жилую площадь в зависисти от количества комнат. Все выглядит как в жизни.\n",
    "rooms_living_area_m2"
   ]
  },
  {
   "cell_type": "code",
   "execution_count": 21,
   "metadata": {},
   "outputs": [
    {
     "data": {
      "text/plain": [
       "0"
      ]
     },
     "execution_count": 21,
     "metadata": {},
     "output_type": "execute_result"
    }
   ],
   "source": [
    "#Заполним kitchen_area_m2 средним как делали с living_area_m2 через rooms и сделаем сводную таблицу.\n",
    "#Посмотрим на сколько значение укладываются в норму мира \n",
    "for t in data['rooms'].unique():\n",
    "    data.loc[(data['rooms'] == t) & (data['kitchen_area_m2'].isna()), 'kitchen_area_m2'] = \\\n",
    "    data.loc[(data['rooms'] == t), 'kitchen_area_m2'].median()\n",
    "#Проверили нет пустых значений    \n",
    "data['kitchen_area_m2'].isna().sum()"
   ]
  },
  {
   "cell_type": "code",
   "execution_count": 22,
   "metadata": {},
   "outputs": [
    {
     "data": {
      "text/html": [
       "<div>\n",
       "<style scoped>\n",
       "    .dataframe tbody tr th:only-of-type {\n",
       "        vertical-align: middle;\n",
       "    }\n",
       "\n",
       "    .dataframe tbody tr th {\n",
       "        vertical-align: top;\n",
       "    }\n",
       "\n",
       "    .dataframe thead tr th {\n",
       "        text-align: left;\n",
       "    }\n",
       "\n",
       "    .dataframe thead tr:last-of-type th {\n",
       "        text-align: right;\n",
       "    }\n",
       "</style>\n",
       "<table border=\"1\" class=\"dataframe\">\n",
       "  <thead>\n",
       "    <tr>\n",
       "      <th></th>\n",
       "      <th>median</th>\n",
       "      <th>count</th>\n",
       "    </tr>\n",
       "    <tr>\n",
       "      <th></th>\n",
       "      <th>kitchen_area_m2</th>\n",
       "      <th>kitchen_area_m2</th>\n",
       "    </tr>\n",
       "    <tr>\n",
       "      <th>rooms</th>\n",
       "      <th></th>\n",
       "      <th></th>\n",
       "    </tr>\n",
       "  </thead>\n",
       "  <tbody>\n",
       "    <tr>\n",
       "      <th>1</th>\n",
       "      <td>9.00</td>\n",
       "      <td>8198</td>\n",
       "    </tr>\n",
       "    <tr>\n",
       "      <th>2</th>\n",
       "      <td>8.70</td>\n",
       "      <td>7897</td>\n",
       "    </tr>\n",
       "    <tr>\n",
       "      <th>3</th>\n",
       "      <td>9.50</td>\n",
       "      <td>5779</td>\n",
       "    </tr>\n",
       "    <tr>\n",
       "      <th>4</th>\n",
       "      <td>11.00</td>\n",
       "      <td>1172</td>\n",
       "    </tr>\n",
       "    <tr>\n",
       "      <th>5</th>\n",
       "      <td>15.10</td>\n",
       "      <td>325</td>\n",
       "    </tr>\n",
       "    <tr>\n",
       "      <th>6</th>\n",
       "      <td>19.75</td>\n",
       "      <td>104</td>\n",
       "    </tr>\n",
       "    <tr>\n",
       "      <th>7</th>\n",
       "      <td>20.00</td>\n",
       "      <td>59</td>\n",
       "    </tr>\n",
       "    <tr>\n",
       "      <th>8</th>\n",
       "      <td>25.00</td>\n",
       "      <td>12</td>\n",
       "    </tr>\n",
       "    <tr>\n",
       "      <th>9</th>\n",
       "      <td>14.30</td>\n",
       "      <td>8</td>\n",
       "    </tr>\n",
       "    <tr>\n",
       "      <th>10</th>\n",
       "      <td>19.80</td>\n",
       "      <td>3</td>\n",
       "    </tr>\n",
       "    <tr>\n",
       "      <th>11</th>\n",
       "      <td>12.60</td>\n",
       "      <td>2</td>\n",
       "    </tr>\n",
       "    <tr>\n",
       "      <th>12</th>\n",
       "      <td>112.00</td>\n",
       "      <td>1</td>\n",
       "    </tr>\n",
       "    <tr>\n",
       "      <th>14</th>\n",
       "      <td>21.25</td>\n",
       "      <td>2</td>\n",
       "    </tr>\n",
       "    <tr>\n",
       "      <th>15</th>\n",
       "      <td>100.00</td>\n",
       "      <td>1</td>\n",
       "    </tr>\n",
       "    <tr>\n",
       "      <th>16</th>\n",
       "      <td>13.00</td>\n",
       "      <td>1</td>\n",
       "    </tr>\n",
       "    <tr>\n",
       "      <th>19</th>\n",
       "      <td>27.60</td>\n",
       "      <td>1</td>\n",
       "    </tr>\n",
       "  </tbody>\n",
       "</table>\n",
       "</div>"
      ],
      "text/plain": [
       "               median           count\n",
       "      kitchen_area_m2 kitchen_area_m2\n",
       "rooms                                \n",
       "1                9.00            8198\n",
       "2                8.70            7897\n",
       "3                9.50            5779\n",
       "4               11.00            1172\n",
       "5               15.10             325\n",
       "6               19.75             104\n",
       "7               20.00              59\n",
       "8               25.00              12\n",
       "9               14.30               8\n",
       "10              19.80               3\n",
       "11              12.60               2\n",
       "12             112.00               1\n",
       "14              21.25               2\n",
       "15             100.00               1\n",
       "16              13.00               1\n",
       "19              27.60               1"
      ]
     },
     "execution_count": 22,
     "metadata": {},
     "output_type": "execute_result"
    }
   ],
   "source": [
    "#Строим сводную таблицу проверим на сколько значения выглядт логичными\n",
    "rooms_kitchen_area_m2 = data.pivot_table(index='rooms', values='kitchen_area_m2',\n",
    "                                         aggfunc=['median','count'])\n",
    "#Заполненые пустые данные выглядят реально \n",
    "rooms_kitchen_area_m2"
   ]
  },
  {
   "cell_type": "markdown",
   "metadata": {},
   "source": [
    "У нас есть попуски в days_exposition(сколько дней было размещено объявление (от публикации до снятия))\n",
    "\n",
    "Гипотеза - мы заполнить пропуски через rooms, так как в data.describe() видно очень интересную зависимость \n",
    "1 комната, обьявление висело в среднем 45 дней\n",
    "2 комнаты, обьявление висело в среднем 90 дней\n",
    "3 комнаты, обьявление висело в среднем 232 дня\n",
    "При среднем значении 2 комнаты обьявление висит 180 дней. \n",
    "Данные очень реалистичные, чем меньше комнат, тем выше ликвидность жилого помещения на рынке и данное суждение верно и наоборот, чем больше комнат тем ликвидность ниже. \n"
   ]
  },
  {
   "cell_type": "code",
   "execution_count": 23,
   "metadata": {},
   "outputs": [
    {
     "data": {
      "text/plain": [
       "0"
      ]
     },
     "execution_count": 23,
     "metadata": {},
     "output_type": "execute_result"
    }
   ],
   "source": [
    "#Заполним days_exposition средним значением через rooms, как делали выше с kitchen_area_m2\n",
    "for t in data['rooms'].unique():\n",
    "    data.loc[(data['rooms'] == t) & (data['days_exposition'].isna()), 'days_exposition'] = \\\n",
    "    data.loc[(data['rooms'] == t), 'days_exposition'].median()\n",
    "#Проверили нет пустых значений    \n",
    "data['days_exposition'].isna().sum()"
   ]
  },
  {
   "cell_type": "code",
   "execution_count": 24,
   "metadata": {},
   "outputs": [
    {
     "name": "stdout",
     "output_type": "stream",
     "text": [
      "<class 'pandas.core.frame.DataFrame'>\n",
      "Int64Index: 23565 entries, 0 to 23698\n",
      "Data columns (total 22 columns):\n",
      " #   Column                      Non-Null Count  Dtype  \n",
      "---  ------                      --------------  -----  \n",
      " 0   total_images                23565 non-null  int64  \n",
      " 1   last_price                  23565 non-null  float64\n",
      " 2   total_area_m2               23565 non-null  float64\n",
      " 3   first_day_exposition        23565 non-null  object \n",
      " 4   rooms                       23565 non-null  int64  \n",
      " 5   ceiling_height              14481 non-null  float64\n",
      " 6   floors_total                23565 non-null  int64  \n",
      " 7   living_area_m2              23565 non-null  float64\n",
      " 8   floor                       23565 non-null  int64  \n",
      " 9   is_apartment                2760 non-null   object \n",
      " 10  studio                      23565 non-null  bool   \n",
      " 11  open_plan                   23565 non-null  bool   \n",
      " 12  kitchen_area_m2             23565 non-null  float64\n",
      " 13  balcony                     12090 non-null  float64\n",
      " 14  locality_name               23565 non-null  object \n",
      " 15  airports_nearest            18041 non-null  float64\n",
      " 16  citycenters_nearest_meters  18064 non-null  float64\n",
      " 17  parks_around3000_km         18065 non-null  float64\n",
      " 18  parks_nearest_meters        8030 non-null   float64\n",
      " 19  ponds_around3000_km         18065 non-null  float64\n",
      " 20  ponds_nearest_meters        9036 non-null   float64\n",
      " 21  days_exposition             23565 non-null  int64  \n",
      "dtypes: bool(2), float64(12), int64(5), object(3)\n",
      "memory usage: 3.8+ MB\n"
     ]
    }
   ],
   "source": [
    "#Изменим тип days_exposition они сейча float64, а дни это целые числа, значит сделаем int64\n",
    "data['days_exposition'] = data['days_exposition'].astype('int')\n",
    "#Проверяем замену типа данных\n",
    "data.info()"
   ]
  },
  {
   "cell_type": "markdown",
   "metadata": {},
   "source": [
    "Гипотеза\n",
    "Столбцы ponds_around3000_km и parks_around3000_km имеют одинаковое значение пропущенных значений по 5518 строк.\n",
    "Также в столбцах ponds_around3000_km и parks_around3000_km есть значение 0.\n",
    "Предпологаемое решение\n",
    "Раз люди не указали сколько в радиусе 3км есть прудов или парков значит пустые значения равны 0.\n",
    "Предогаю значения nan заполнить нулями, а столбцы переименовать.\n"
   ]
  },
  {
   "cell_type": "code",
   "execution_count": 25,
   "metadata": {},
   "outputs": [],
   "source": [
    "#Заполнили значения nan нулевыми значениями\n",
    "data['parks_around3000_km'] = data['parks_around3000_km'].fillna(0)\n",
    "data['ponds_around3000_km'] = data['ponds_around3000_km'].fillna(0)"
   ]
  },
  {
   "cell_type": "code",
   "execution_count": 26,
   "metadata": {},
   "outputs": [
    {
     "data": {
      "text/plain": [
       "0.0"
      ]
     },
     "execution_count": 26,
     "metadata": {},
     "output_type": "execute_result"
    }
   ],
   "source": [
    "# Проведен тест если вычесть столбец parks_around3000_km из ponds_around3000_km значения будет равно 0,\n",
    "# значит они дублируют друг друга\n",
    "test = data['parks_around3000_km'] - data['ponds_around3000_km']\n",
    "test.unique().sum()"
   ]
  },
  {
   "cell_type": "code",
   "execution_count": 27,
   "metadata": {},
   "outputs": [
    {
     "name": "stdout",
     "output_type": "stream",
     "text": [
      "<class 'pandas.core.frame.DataFrame'>\n",
      "Int64Index: 23565 entries, 0 to 23698\n",
      "Data columns (total 21 columns):\n",
      " #   Column                           Non-Null Count  Dtype  \n",
      "---  ------                           --------------  -----  \n",
      " 0   total_images                     23565 non-null  int64  \n",
      " 1   last_price                       23565 non-null  float64\n",
      " 2   total_area_m2                    23565 non-null  float64\n",
      " 3   first_day_exposition             23565 non-null  object \n",
      " 4   rooms                            23565 non-null  int64  \n",
      " 5   ceiling_height                   14481 non-null  float64\n",
      " 6   floors_total                     23565 non-null  int64  \n",
      " 7   living_area_m2                   23565 non-null  float64\n",
      " 8   floor                            23565 non-null  int64  \n",
      " 9   is_apartment                     2760 non-null   object \n",
      " 10  studio                           23565 non-null  bool   \n",
      " 11  open_plan                        23565 non-null  bool   \n",
      " 12  kitchen_area_m2                  23565 non-null  float64\n",
      " 13  balcony                          12090 non-null  float64\n",
      " 14  locality_name                    23565 non-null  object \n",
      " 15  airports_nearest                 18041 non-null  float64\n",
      " 16  citycenters_nearest_meters       18064 non-null  float64\n",
      " 17  number_parksponds_around3000_km  23565 non-null  int64  \n",
      " 18  parks_nearest_meters             8030 non-null   float64\n",
      " 19  ponds_nearest_meters             9036 non-null   float64\n",
      " 20  days_exposition                  23565 non-null  int64  \n",
      "dtypes: bool(2), float64(10), int64(6), object(3)\n",
      "memory usage: 3.6+ MB\n"
     ]
    }
   ],
   "source": [
    "del data['ponds_around3000_km']\n",
    "data = data.rename(columns ={'parks_around3000_km': 'number_parksponds_around3000_km'})\n",
    "data['number_parksponds_around3000_km'] = data['number_parksponds_around3000_km'].astype('int')\n",
    "data.info()"
   ]
  },
  {
   "cell_type": "code",
   "execution_count": 28,
   "metadata": {},
   "outputs": [],
   "source": [
    "data['parks_nearest_meters'] = data['parks_nearest_meters'].fillna(0)\n",
    "data['ponds_nearest_meters'] = data['ponds_nearest_meters'].fillna(0)"
   ]
  },
  {
   "cell_type": "code",
   "execution_count": 29,
   "metadata": {},
   "outputs": [
    {
     "data": {
      "text/plain": [
       "-63593.0"
      ]
     },
     "execution_count": 29,
     "metadata": {},
     "output_type": "execute_result"
    }
   ],
   "source": [
    "test = data['parks_nearest_meters'] - data['ponds_nearest_meters']\n",
    "test.unique().sum()"
   ]
  },
  {
   "cell_type": "markdown",
   "metadata": {},
   "source": []
  },
  {
   "cell_type": "markdown",
   "metadata": {},
   "source": [
    "### Проведите исследовательский анализ данных"
   ]
  },
  {
   "cell_type": "code",
   "execution_count": null,
   "metadata": {},
   "outputs": [],
   "source": []
  },
  {
   "cell_type": "code",
   "execution_count": null,
   "metadata": {},
   "outputs": [],
   "source": []
  },
  {
   "cell_type": "markdown",
   "metadata": {},
   "source": [
    "### Общий вывод"
   ]
  },
  {
   "cell_type": "markdown",
   "metadata": {},
   "source": []
  },
  {
   "cell_type": "markdown",
   "metadata": {},
   "source": [
    "**Чек-лист готовности проекта**\n",
    "\n",
    "Поставьте 'x' в выполненных пунктах. Далее нажмите Shift+Enter."
   ]
  },
  {
   "cell_type": "markdown",
   "metadata": {},
   "source": [
    "- [x]  открыт файл\n",
    "- [x]  файлы изучены (выведены первые строки, метод `info()`, гистограммы и т.д.)\n",
    "- [ ]  определены пропущенные значения\n",
    "- [ ]  заполнены пропущенные значения там, где это возможно\n",
    "- [ ]  есть пояснение, какие пропущенные значения обнаружены\n",
    "- [ ]  изменены типы данных\n",
    "- [ ]  есть пояснение, в каких столбцах изменены типы и почему\n",
    "- [ ]  устранены неявные дубликаты в названиях населённых пунктов\n",
    "- [ ]  устранены редкие и выбивающиеся значения (аномалии) во всех столбцах\n",
    "- [ ]  посчитано и добавлено в таблицу: цена одного квадратного метра\n",
    "- [ ]  посчитано и добавлено в таблицу: день публикации объявления (0 - понедельник, 1 - вторник и т.д.)\n",
    "- [ ]  посчитано и добавлено в таблицу: месяц публикации объявления\n",
    "- [ ]  посчитано и добавлено в таблицу: год публикации объявления\n",
    "- [ ]  посчитано и добавлено в таблицу: тип этажа квартиры (значения — «первый», «последний», «другой»)\n",
    "- [ ]  посчитано и добавлено в таблицу: расстояние в км до центра города\n",
    "- [ ]  изучены и описаны следующие параметры:\n",
    "        - общая площадь;\n",
    "        - жилая площадь;\n",
    "        - площадь кухни;\n",
    "        - цена объекта;\n",
    "        - количество комнат;\n",
    "        - высота потолков;\n",
    "        - этаж квартиры;\n",
    "        - тип этажа квартиры («первый», «последний», «другой»);\n",
    "        - общее количество этажей в доме;\n",
    "        - расстояние до центра города в метрах;\n",
    "        - расстояние до ближайшего аэропорта;\n",
    "        - расстояние до ближайшего парка;\n",
    "        - день и месяц публикации объявления\n",
    "- [ ]  построены гистограммы для каждого параметра\n",
    "- [ ]  выполнено задание: \"Изучите, как быстро продавались квартиры (столбец days_exposition). Этот параметр показывает, сколько дней «висело» каждое объявление.\n",
    "    - Постройте гистограмму.\n",
    "    - Посчитайте среднее и медиану.\n",
    "    - В ячейке типа markdown опишите, сколько обычно занимает продажа. Какие продажи можно считать быстрыми, а какие — необычно долгими?\"\n",
    "- [ ]  выполнено задание: \"Какие факторы больше всего влияют на общую (полную) стоимость объекта? Постройте графики, которые покажут зависимость цены от указанных ниже параметров. Для подготовки данных перед визуализацией вы можете использовать сводные таблицы.\"\n",
    "        - общей площади;\n",
    "        - жилой площади;\n",
    "        - площади кухни;\n",
    "        - количество комнат;\n",
    "        - типа этажа, на котором расположена квартира (первый, последний, другой);\n",
    "        - даты размещения (день недели, месяц, год);\n",
    "- [ ]  выполнено задание: \"Посчитайте среднюю цену одного квадратного метра в 10 населённых пунктах с наибольшим числом объявлений. Выделите населённые пункты с самой высокой и низкой стоимостью квадратного метра. Эти данные можно найти по имени в столбце `locality_name`.\"\n",
    "- [ ]  выполнено задание: \"Ранее вы посчитали расстояние до центра в километрах. Теперь выделите квартиры в Санкт-Петербурге с помощью столбца `locality_name` и вычислите среднюю цену каждого километра. Опишите, как стоимость объектов зависит от расстояния до центра города.\"\n",
    "- [ ]  в каждом этапе есть промежуточные выводы\n",
    "- [ ]  есть общий вывод"
   ]
  },
  {
   "cell_type": "code",
   "execution_count": null,
   "metadata": {},
   "outputs": [],
   "source": []
  }
 ],
 "metadata": {
  "ExecuteTimeLog": [
   {
    "duration": 43,
    "start_time": "2023-01-20T17:45:42.104Z"
   },
   {
    "duration": 557,
    "start_time": "2023-01-20T17:45:44.229Z"
   },
   {
    "duration": 13,
    "start_time": "2023-01-20T17:45:45.463Z"
   },
   {
    "duration": 320,
    "start_time": "2023-01-20T17:46:46.819Z"
   },
   {
    "duration": 71,
    "start_time": "2023-01-20T17:48:41.857Z"
   },
   {
    "duration": 84,
    "start_time": "2023-01-20T17:48:42.357Z"
   },
   {
    "duration": 75,
    "start_time": "2023-01-20T17:48:49.824Z"
   },
   {
    "duration": 70,
    "start_time": "2023-01-20T17:48:51.130Z"
   },
   {
    "duration": 12,
    "start_time": "2023-01-20T17:48:51.993Z"
   },
   {
    "duration": 13,
    "start_time": "2023-01-20T17:48:54.720Z"
   },
   {
    "duration": 11,
    "start_time": "2023-01-20T17:48:57.106Z"
   },
   {
    "duration": 10,
    "start_time": "2023-01-20T17:49:42.859Z"
   },
   {
    "duration": 70,
    "start_time": "2023-01-20T17:50:40.757Z"
   },
   {
    "duration": 10,
    "start_time": "2023-01-20T17:50:46.064Z"
   },
   {
    "duration": 10,
    "start_time": "2023-01-20T17:51:03.308Z"
   },
   {
    "duration": 2,
    "start_time": "2023-01-20T17:52:15.338Z"
   },
   {
    "duration": 68,
    "start_time": "2023-01-20T17:52:16.722Z"
   },
   {
    "duration": 12,
    "start_time": "2023-01-20T17:52:17.652Z"
   },
   {
    "duration": 10,
    "start_time": "2023-01-20T17:52:19.459Z"
   },
   {
    "duration": 12,
    "start_time": "2023-01-20T17:52:24.092Z"
   },
   {
    "duration": 345,
    "start_time": "2023-01-20T17:52:43.574Z"
   },
   {
    "duration": 216,
    "start_time": "2023-01-20T17:52:43.920Z"
   },
   {
    "duration": 71,
    "start_time": "2023-01-20T17:52:44.138Z"
   },
   {
    "duration": 11,
    "start_time": "2023-01-20T17:52:44.211Z"
   },
   {
    "duration": 79,
    "start_time": "2023-01-20T17:52:44.224Z"
   },
   {
    "duration": 11,
    "start_time": "2023-01-20T17:53:19.438Z"
   },
   {
    "duration": 2,
    "start_time": "2023-01-20T17:55:11.309Z"
   },
   {
    "duration": 2,
    "start_time": "2023-01-20T17:55:11.724Z"
   },
   {
    "duration": 71,
    "start_time": "2023-01-20T17:55:12.052Z"
   },
   {
    "duration": 13,
    "start_time": "2023-01-20T17:55:12.333Z"
   },
   {
    "duration": 9,
    "start_time": "2023-01-20T17:55:13.744Z"
   },
   {
    "duration": 393,
    "start_time": "2023-01-20T17:56:01.158Z"
   },
   {
    "duration": 219,
    "start_time": "2023-01-20T17:56:01.553Z"
   },
   {
    "duration": 77,
    "start_time": "2023-01-20T17:56:01.773Z"
   },
   {
    "duration": 12,
    "start_time": "2023-01-20T17:56:01.852Z"
   },
   {
    "duration": 25,
    "start_time": "2023-01-20T17:56:01.867Z"
   },
   {
    "duration": 101,
    "start_time": "2023-01-20T17:56:01.894Z"
   },
   {
    "duration": 11,
    "start_time": "2023-01-20T17:56:20.256Z"
   },
   {
    "duration": 78,
    "start_time": "2023-01-20T18:01:23.761Z"
   },
   {
    "duration": 12,
    "start_time": "2023-01-20T18:01:24.313Z"
   },
   {
    "duration": 9,
    "start_time": "2023-01-20T18:01:25.852Z"
   },
   {
    "duration": 71,
    "start_time": "2023-01-20T18:02:49.031Z"
   },
   {
    "duration": 11,
    "start_time": "2023-01-20T18:02:49.731Z"
   },
   {
    "duration": 8,
    "start_time": "2023-01-20T18:02:51.582Z"
   },
   {
    "duration": 13,
    "start_time": "2023-01-20T18:02:54.345Z"
   },
   {
    "duration": 85,
    "start_time": "2023-01-20T18:04:22.273Z"
   },
   {
    "duration": 20,
    "start_time": "2023-01-20T18:04:22.492Z"
   },
   {
    "duration": 44,
    "start_time": "2023-01-20T18:04:39.936Z"
   },
   {
    "duration": 40,
    "start_time": "2023-01-20T18:05:50.066Z"
   },
   {
    "duration": 1866,
    "start_time": "2023-01-20T18:05:51.392Z"
   },
   {
    "duration": 1775,
    "start_time": "2023-01-20T18:06:00.340Z"
   },
   {
    "duration": 1163,
    "start_time": "2023-01-20T18:07:31.580Z"
   },
   {
    "duration": 7,
    "start_time": "2023-01-20T18:07:52.487Z"
   },
   {
    "duration": 5,
    "start_time": "2023-01-20T18:11:30.284Z"
   },
   {
    "duration": 10,
    "start_time": "2023-01-20T18:15:54.675Z"
   },
   {
    "duration": 8,
    "start_time": "2023-01-20T18:16:14.690Z"
   },
   {
    "duration": 11,
    "start_time": "2023-01-20T18:16:17.580Z"
   },
   {
    "duration": 13,
    "start_time": "2023-01-20T18:16:26.475Z"
   },
   {
    "duration": 6,
    "start_time": "2023-01-20T18:16:55.940Z"
   },
   {
    "duration": 4,
    "start_time": "2023-01-20T18:21:28.538Z"
   },
   {
    "duration": 4,
    "start_time": "2023-01-20T18:21:30.876Z"
   },
   {
    "duration": 3,
    "start_time": "2023-01-20T18:21:33.106Z"
   },
   {
    "duration": 6,
    "start_time": "2023-01-20T18:21:43.524Z"
   },
   {
    "duration": 4,
    "start_time": "2023-01-20T18:21:46.154Z"
   },
   {
    "duration": 6,
    "start_time": "2023-01-20T18:21:51.969Z"
   },
   {
    "duration": 7,
    "start_time": "2023-01-20T18:22:01.623Z"
   },
   {
    "duration": 5,
    "start_time": "2023-01-20T18:26:31.679Z"
   },
   {
    "duration": 5,
    "start_time": "2023-01-20T18:26:38.404Z"
   },
   {
    "duration": 6,
    "start_time": "2023-01-20T19:07:34.186Z"
   },
   {
    "duration": 6,
    "start_time": "2023-01-20T19:07:50.019Z"
   },
   {
    "duration": 5,
    "start_time": "2023-01-20T19:07:58.686Z"
   },
   {
    "duration": 3,
    "start_time": "2023-01-20T19:09:20.806Z"
   },
   {
    "duration": 4,
    "start_time": "2023-01-20T19:09:23.951Z"
   },
   {
    "duration": 7,
    "start_time": "2023-01-20T19:09:26.365Z"
   },
   {
    "duration": 14,
    "start_time": "2023-01-20T19:23:19.851Z"
   },
   {
    "duration": 7,
    "start_time": "2023-01-20T19:24:26.126Z"
   },
   {
    "duration": 11,
    "start_time": "2023-01-20T19:24:40.505Z"
   },
   {
    "duration": 370,
    "start_time": "2023-01-20T19:30:01.883Z"
   },
   {
    "duration": 462,
    "start_time": "2023-01-20T19:30:02.255Z"
   },
   {
    "duration": 95,
    "start_time": "2023-01-20T19:30:02.719Z"
   },
   {
    "duration": 13,
    "start_time": "2023-01-20T19:30:02.816Z"
   },
   {
    "duration": 46,
    "start_time": "2023-01-20T19:30:02.831Z"
   },
   {
    "duration": 1984,
    "start_time": "2023-01-20T19:30:02.880Z"
   },
   {
    "duration": 9,
    "start_time": "2023-01-20T19:30:04.866Z"
   },
   {
    "duration": 24,
    "start_time": "2023-01-20T19:30:04.877Z"
   },
   {
    "duration": 20,
    "start_time": "2023-01-20T19:30:04.903Z"
   },
   {
    "duration": 31,
    "start_time": "2023-01-20T19:30:04.924Z"
   },
   {
    "duration": 15,
    "start_time": "2023-01-20T19:30:04.958Z"
   },
   {
    "duration": 46,
    "start_time": "2023-01-20T19:30:04.975Z"
   },
   {
    "duration": 13,
    "start_time": "2023-01-20T19:30:16.853Z"
   },
   {
    "duration": 3,
    "start_time": "2023-01-20T19:30:28.471Z"
   },
   {
    "duration": 18,
    "start_time": "2023-01-20T19:30:36.921Z"
   },
   {
    "duration": 4,
    "start_time": "2023-01-20T19:31:03.424Z"
   },
   {
    "duration": 5,
    "start_time": "2023-01-20T19:31:05.828Z"
   },
   {
    "duration": 5,
    "start_time": "2023-01-20T19:31:08.398Z"
   },
   {
    "duration": 12,
    "start_time": "2023-01-20T19:31:09.594Z"
   },
   {
    "duration": 11,
    "start_time": "2023-01-20T19:31:38.190Z"
   },
   {
    "duration": 11,
    "start_time": "2023-01-20T19:31:45.343Z"
   },
   {
    "duration": 10,
    "start_time": "2023-01-20T19:32:04.053Z"
   },
   {
    "duration": 11,
    "start_time": "2023-01-20T19:32:30.712Z"
   },
   {
    "duration": 11,
    "start_time": "2023-01-20T19:33:26.778Z"
   },
   {
    "duration": 4,
    "start_time": "2023-01-20T19:34:13.398Z"
   },
   {
    "duration": 9,
    "start_time": "2023-01-20T19:40:39.611Z"
   },
   {
    "duration": 9,
    "start_time": "2023-01-20T19:41:01.655Z"
   },
   {
    "duration": 7,
    "start_time": "2023-01-20T19:41:19.950Z"
   },
   {
    "duration": 4,
    "start_time": "2023-01-20T19:41:25.162Z"
   },
   {
    "duration": 5,
    "start_time": "2023-01-20T19:41:54.262Z"
   },
   {
    "duration": 6,
    "start_time": "2023-01-20T19:42:18.961Z"
   },
   {
    "duration": 4,
    "start_time": "2023-01-20T19:43:28.636Z"
   },
   {
    "duration": 5,
    "start_time": "2023-01-20T19:43:33.506Z"
   },
   {
    "duration": 4,
    "start_time": "2023-01-20T19:45:23.581Z"
   },
   {
    "duration": 5,
    "start_time": "2023-01-20T19:45:40.466Z"
   },
   {
    "duration": 4,
    "start_time": "2023-01-20T19:45:50.381Z"
   },
   {
    "duration": 4,
    "start_time": "2023-01-20T19:46:22.229Z"
   },
   {
    "duration": 3,
    "start_time": "2023-01-20T19:46:37.004Z"
   },
   {
    "duration": 3,
    "start_time": "2023-01-20T19:46:39.600Z"
   },
   {
    "duration": 6,
    "start_time": "2023-01-20T19:46:42.489Z"
   },
   {
    "duration": 6,
    "start_time": "2023-01-20T19:46:47.890Z"
   },
   {
    "duration": 424,
    "start_time": "2023-01-20T19:46:52.134Z"
   },
   {
    "duration": 250,
    "start_time": "2023-01-20T19:46:52.561Z"
   },
   {
    "duration": 85,
    "start_time": "2023-01-20T19:46:52.813Z"
   },
   {
    "duration": 15,
    "start_time": "2023-01-20T19:46:52.900Z"
   },
   {
    "duration": 52,
    "start_time": "2023-01-20T19:46:52.916Z"
   },
   {
    "duration": 1819,
    "start_time": "2023-01-20T19:46:52.969Z"
   },
   {
    "duration": 8,
    "start_time": "2023-01-20T19:46:54.790Z"
   },
   {
    "duration": 20,
    "start_time": "2023-01-20T19:46:54.800Z"
   },
   {
    "duration": 10,
    "start_time": "2023-01-20T19:46:54.822Z"
   },
   {
    "duration": 22,
    "start_time": "2023-01-20T19:46:54.834Z"
   },
   {
    "duration": 16,
    "start_time": "2023-01-20T19:46:54.858Z"
   },
   {
    "duration": 21,
    "start_time": "2023-01-20T19:46:54.875Z"
   },
   {
    "duration": 6,
    "start_time": "2023-01-20T19:47:42.670Z"
   },
   {
    "duration": 4,
    "start_time": "2023-01-20T19:47:48.709Z"
   },
   {
    "duration": 4,
    "start_time": "2023-01-20T19:48:35.420Z"
   },
   {
    "duration": 5,
    "start_time": "2023-01-20T19:48:37.296Z"
   },
   {
    "duration": 4,
    "start_time": "2023-01-20T19:48:38.482Z"
   },
   {
    "duration": 167,
    "start_time": "2023-01-20T20:02:20.151Z"
   },
   {
    "duration": 218,
    "start_time": "2023-01-20T20:02:41.123Z"
   },
   {
    "duration": 1281,
    "start_time": "2023-01-20T20:02:47.324Z"
   },
   {
    "duration": 163,
    "start_time": "2023-01-20T20:02:58.394Z"
   },
   {
    "duration": 396,
    "start_time": "2023-01-20T20:03:04.560Z"
   },
   {
    "duration": 404,
    "start_time": "2023-01-20T20:03:22.330Z"
   },
   {
    "duration": 229,
    "start_time": "2023-01-20T20:03:42.055Z"
   },
   {
    "duration": 265,
    "start_time": "2023-01-20T20:03:51.475Z"
   },
   {
    "duration": 5,
    "start_time": "2023-01-20T20:04:14.409Z"
   },
   {
    "duration": 3,
    "start_time": "2023-01-20T20:05:07.263Z"
   },
   {
    "duration": 5,
    "start_time": "2023-01-20T20:05:08.885Z"
   },
   {
    "duration": 7,
    "start_time": "2023-01-20T20:09:29.738Z"
   },
   {
    "duration": 6,
    "start_time": "2023-01-20T20:09:36.629Z"
   },
   {
    "duration": 84,
    "start_time": "2023-01-20T20:11:28.398Z"
   },
   {
    "duration": 4,
    "start_time": "2023-01-20T20:11:54.753Z"
   },
   {
    "duration": 12,
    "start_time": "2023-01-20T20:12:10.103Z"
   },
   {
    "duration": 5,
    "start_time": "2023-01-20T20:13:17.907Z"
   },
   {
    "duration": 5,
    "start_time": "2023-01-20T20:13:40.313Z"
   },
   {
    "duration": 6,
    "start_time": "2023-01-20T20:13:42.623Z"
   },
   {
    "duration": 5,
    "start_time": "2023-01-20T20:13:43.283Z"
   },
   {
    "duration": 5,
    "start_time": "2023-01-20T20:14:35.264Z"
   },
   {
    "duration": 8,
    "start_time": "2023-01-20T20:14:56.513Z"
   },
   {
    "duration": 27,
    "start_time": "2023-01-20T20:15:10.342Z"
   },
   {
    "duration": 5,
    "start_time": "2023-01-20T20:17:35.491Z"
   },
   {
    "duration": 5,
    "start_time": "2023-01-20T20:26:03.408Z"
   },
   {
    "duration": 12,
    "start_time": "2023-01-20T20:26:04.979Z"
   },
   {
    "duration": 46,
    "start_time": "2023-01-20T20:26:38.297Z"
   },
   {
    "duration": 43,
    "start_time": "2023-01-20T20:26:41.907Z"
   },
   {
    "duration": 4,
    "start_time": "2023-01-20T20:26:54.664Z"
   },
   {
    "duration": 5,
    "start_time": "2023-01-20T20:27:04.843Z"
   },
   {
    "duration": 7,
    "start_time": "2023-01-20T20:27:15.329Z"
   },
   {
    "duration": 5,
    "start_time": "2023-01-20T20:27:17.213Z"
   },
   {
    "duration": 6,
    "start_time": "2023-01-20T20:27:41.134Z"
   },
   {
    "duration": 4,
    "start_time": "2023-01-20T20:28:04.127Z"
   },
   {
    "duration": 5,
    "start_time": "2023-01-20T20:28:10.168Z"
   },
   {
    "duration": 5,
    "start_time": "2023-01-20T20:28:15.989Z"
   },
   {
    "duration": 14,
    "start_time": "2023-01-20T20:28:32.609Z"
   },
   {
    "duration": 5,
    "start_time": "2023-01-20T20:29:54.067Z"
   },
   {
    "duration": 4,
    "start_time": "2023-01-20T20:30:00.836Z"
   },
   {
    "duration": 5,
    "start_time": "2023-01-20T20:30:10.389Z"
   },
   {
    "duration": 14,
    "start_time": "2023-01-20T20:30:16.429Z"
   },
   {
    "duration": 12,
    "start_time": "2023-01-20T20:30:24.107Z"
   },
   {
    "duration": 5,
    "start_time": "2023-01-20T20:30:36.348Z"
   },
   {
    "duration": 15,
    "start_time": "2023-01-20T20:31:34.077Z"
   },
   {
    "duration": 17,
    "start_time": "2023-01-20T20:34:24.933Z"
   },
   {
    "duration": 6,
    "start_time": "2023-01-20T20:47:12.327Z"
   },
   {
    "duration": 81,
    "start_time": "2023-01-20T20:50:22.418Z"
   },
   {
    "duration": 71,
    "start_time": "2023-01-20T20:50:30.603Z"
   },
   {
    "duration": 275,
    "start_time": "2023-01-20T20:51:03.851Z"
   },
   {
    "duration": 10,
    "start_time": "2023-01-20T20:51:15.316Z"
   },
   {
    "duration": 3,
    "start_time": "2023-01-20T20:52:16.109Z"
   },
   {
    "duration": 5,
    "start_time": "2023-01-20T20:52:24.281Z"
   },
   {
    "duration": 5,
    "start_time": "2023-01-20T20:52:53.220Z"
   },
   {
    "duration": 4,
    "start_time": "2023-01-20T20:53:06.687Z"
   },
   {
    "duration": 4,
    "start_time": "2023-01-20T20:53:27.298Z"
   },
   {
    "duration": 383,
    "start_time": "2023-01-20T20:53:36.334Z"
   },
   {
    "duration": 215,
    "start_time": "2023-01-20T20:53:36.719Z"
   },
   {
    "duration": 82,
    "start_time": "2023-01-20T20:53:36.936Z"
   },
   {
    "duration": 13,
    "start_time": "2023-01-20T20:53:37.020Z"
   },
   {
    "duration": 44,
    "start_time": "2023-01-20T20:53:37.035Z"
   },
   {
    "duration": 1831,
    "start_time": "2023-01-20T20:53:37.081Z"
   },
   {
    "duration": 10,
    "start_time": "2023-01-20T20:53:38.914Z"
   },
   {
    "duration": 6,
    "start_time": "2023-01-20T20:53:38.926Z"
   },
   {
    "duration": 3,
    "start_time": "2023-01-20T20:53:38.934Z"
   },
   {
    "duration": 9,
    "start_time": "2023-01-20T20:53:38.939Z"
   },
   {
    "duration": 4,
    "start_time": "2023-01-20T20:53:38.949Z"
   },
   {
    "duration": 6,
    "start_time": "2023-01-20T20:53:38.954Z"
   },
   {
    "duration": 5,
    "start_time": "2023-01-20T20:53:38.961Z"
   },
   {
    "duration": 13,
    "start_time": "2023-01-20T20:53:38.969Z"
   },
   {
    "duration": 6,
    "start_time": "2023-01-20T20:53:38.984Z"
   },
   {
    "duration": 11,
    "start_time": "2023-01-20T20:53:38.992Z"
   },
   {
    "duration": 611,
    "start_time": "2023-01-20T20:57:06.147Z"
   },
   {
    "duration": 605,
    "start_time": "2023-01-20T20:58:07.072Z"
   },
   {
    "duration": 559,
    "start_time": "2023-01-20T20:58:10.107Z"
   },
   {
    "duration": 564,
    "start_time": "2023-01-20T20:58:18.423Z"
   },
   {
    "duration": 543,
    "start_time": "2023-01-20T20:58:20.966Z"
   },
   {
    "duration": 118,
    "start_time": "2023-01-21T15:45:44.153Z"
   },
   {
    "duration": 16,
    "start_time": "2023-01-21T15:45:46.836Z"
   },
   {
    "duration": 15,
    "start_time": "2023-01-21T15:45:53.612Z"
   },
   {
    "duration": 551,
    "start_time": "2023-01-21T15:46:02.757Z"
   },
   {
    "duration": 655,
    "start_time": "2023-01-21T15:46:03.311Z"
   },
   {
    "duration": 284,
    "start_time": "2023-01-21T15:46:03.968Z"
   },
   {
    "duration": 30,
    "start_time": "2023-01-21T15:46:04.255Z"
   },
   {
    "duration": 83,
    "start_time": "2023-01-21T15:46:04.288Z"
   },
   {
    "duration": 3320,
    "start_time": "2023-01-21T15:46:04.374Z"
   },
   {
    "duration": 25,
    "start_time": "2023-01-21T15:46:07.696Z"
   },
   {
    "duration": 627,
    "start_time": "2023-01-21T15:46:07.724Z"
   },
   {
    "duration": 0,
    "start_time": "2023-01-21T15:46:08.353Z"
   },
   {
    "duration": 0,
    "start_time": "2023-01-21T15:46:08.354Z"
   },
   {
    "duration": 0,
    "start_time": "2023-01-21T15:46:08.356Z"
   },
   {
    "duration": 0,
    "start_time": "2023-01-21T15:46:08.358Z"
   },
   {
    "duration": 0,
    "start_time": "2023-01-21T15:46:08.359Z"
   },
   {
    "duration": 0,
    "start_time": "2023-01-21T15:46:08.361Z"
   },
   {
    "duration": 0,
    "start_time": "2023-01-21T15:46:08.362Z"
   },
   {
    "duration": 0,
    "start_time": "2023-01-21T15:46:08.364Z"
   },
   {
    "duration": 0,
    "start_time": "2023-01-21T15:46:08.366Z"
   },
   {
    "duration": 10,
    "start_time": "2023-01-21T15:48:32.227Z"
   },
   {
    "duration": 6,
    "start_time": "2023-01-21T15:49:23.245Z"
   },
   {
    "duration": 7,
    "start_time": "2023-01-21T15:49:25.822Z"
   },
   {
    "duration": 9,
    "start_time": "2023-01-21T15:49:37.916Z"
   },
   {
    "duration": 10,
    "start_time": "2023-01-21T15:49:42.164Z"
   },
   {
    "duration": 9,
    "start_time": "2023-01-21T15:49:57.908Z"
   },
   {
    "duration": 15,
    "start_time": "2023-01-21T15:50:03.575Z"
   },
   {
    "duration": 107,
    "start_time": "2023-01-21T15:51:38.530Z"
   },
   {
    "duration": 107,
    "start_time": "2023-01-21T15:51:44.761Z"
   },
   {
    "duration": 87,
    "start_time": "2023-01-21T15:51:52.659Z"
   },
   {
    "duration": 48,
    "start_time": "2023-01-21T15:52:01.134Z"
   },
   {
    "duration": 97,
    "start_time": "2023-01-21T15:52:05.363Z"
   },
   {
    "duration": 81,
    "start_time": "2023-01-21T15:52:31.363Z"
   },
   {
    "duration": 82,
    "start_time": "2023-01-21T15:52:46.120Z"
   },
   {
    "duration": 15,
    "start_time": "2023-01-21T15:52:47.058Z"
   },
   {
    "duration": 133,
    "start_time": "2023-01-21T15:52:49.957Z"
   },
   {
    "duration": 17,
    "start_time": "2023-01-21T15:55:29.716Z"
   },
   {
    "duration": 8,
    "start_time": "2023-01-21T15:55:32.167Z"
   },
   {
    "duration": 618,
    "start_time": "2023-01-21T15:55:39.457Z"
   },
   {
    "duration": 436,
    "start_time": "2023-01-21T15:55:40.078Z"
   },
   {
    "duration": 200,
    "start_time": "2023-01-21T15:55:40.521Z"
   },
   {
    "duration": 41,
    "start_time": "2023-01-21T15:55:40.732Z"
   },
   {
    "duration": 158,
    "start_time": "2023-01-21T15:55:40.780Z"
   },
   {
    "duration": 3414,
    "start_time": "2023-01-21T15:55:40.943Z"
   },
   {
    "duration": 12,
    "start_time": "2023-01-21T15:55:44.360Z"
   },
   {
    "duration": 48,
    "start_time": "2023-01-21T15:55:44.375Z"
   },
   {
    "duration": 39,
    "start_time": "2023-01-21T15:55:44.427Z"
   },
   {
    "duration": 10,
    "start_time": "2023-01-21T15:55:44.469Z"
   },
   {
    "duration": 61,
    "start_time": "2023-01-21T15:55:44.481Z"
   },
   {
    "duration": 22,
    "start_time": "2023-01-21T15:55:44.544Z"
   },
   {
    "duration": 12,
    "start_time": "2023-01-21T15:55:44.568Z"
   },
   {
    "duration": 21,
    "start_time": "2023-01-21T15:55:44.582Z"
   },
   {
    "duration": 48,
    "start_time": "2023-01-21T15:55:44.605Z"
   },
   {
    "duration": 10,
    "start_time": "2023-01-21T15:55:50.294Z"
   },
   {
    "duration": 65,
    "start_time": "2023-01-21T16:06:50.438Z"
   },
   {
    "duration": 399,
    "start_time": "2023-01-21T16:07:10.909Z"
   },
   {
    "duration": 542,
    "start_time": "2023-01-21T16:07:11.310Z"
   },
   {
    "duration": 433,
    "start_time": "2023-01-21T16:07:11.854Z"
   },
   {
    "duration": 17,
    "start_time": "2023-01-21T16:07:12.288Z"
   },
   {
    "duration": 51,
    "start_time": "2023-01-21T16:07:12.308Z"
   },
   {
    "duration": 2400,
    "start_time": "2023-01-21T16:07:12.361Z"
   },
   {
    "duration": 14,
    "start_time": "2023-01-21T16:07:14.762Z"
   },
   {
    "duration": 20,
    "start_time": "2023-01-21T16:07:14.778Z"
   },
   {
    "duration": 48,
    "start_time": "2023-01-21T16:07:14.799Z"
   },
   {
    "duration": 9,
    "start_time": "2023-01-21T16:07:14.848Z"
   },
   {
    "duration": 33,
    "start_time": "2023-01-21T16:07:14.860Z"
   },
   {
    "duration": 22,
    "start_time": "2023-01-21T16:07:14.896Z"
   },
   {
    "duration": 61,
    "start_time": "2023-01-21T16:07:14.920Z"
   },
   {
    "duration": 45,
    "start_time": "2023-01-21T16:07:14.985Z"
   },
   {
    "duration": 41,
    "start_time": "2023-01-21T16:07:15.032Z"
   },
   {
    "duration": 29,
    "start_time": "2023-01-21T16:07:15.075Z"
   },
   {
    "duration": 11,
    "start_time": "2023-01-21T16:07:34.369Z"
   },
   {
    "duration": 103,
    "start_time": "2023-01-21T16:07:46.634Z"
   },
   {
    "duration": 7,
    "start_time": "2023-01-21T16:08:17.423Z"
   },
   {
    "duration": 404,
    "start_time": "2023-01-21T16:08:58.860Z"
   },
   {
    "duration": 250,
    "start_time": "2023-01-21T16:08:59.266Z"
   },
   {
    "duration": 101,
    "start_time": "2023-01-21T16:08:59.520Z"
   },
   {
    "duration": 15,
    "start_time": "2023-01-21T16:08:59.623Z"
   },
   {
    "duration": 65,
    "start_time": "2023-01-21T16:08:59.640Z"
   },
   {
    "duration": 2069,
    "start_time": "2023-01-21T16:08:59.707Z"
   },
   {
    "duration": 9,
    "start_time": "2023-01-21T16:09:01.779Z"
   },
   {
    "duration": 7,
    "start_time": "2023-01-21T16:09:01.790Z"
   },
   {
    "duration": 3,
    "start_time": "2023-01-21T16:09:01.798Z"
   },
   {
    "duration": 10,
    "start_time": "2023-01-21T16:09:01.803Z"
   },
   {
    "duration": 7,
    "start_time": "2023-01-21T16:09:01.815Z"
   },
   {
    "duration": 6,
    "start_time": "2023-01-21T16:09:01.823Z"
   },
   {
    "duration": 26,
    "start_time": "2023-01-21T16:09:01.831Z"
   },
   {
    "duration": 11,
    "start_time": "2023-01-21T16:09:01.858Z"
   },
   {
    "duration": 8,
    "start_time": "2023-01-21T16:09:01.871Z"
   },
   {
    "duration": 7,
    "start_time": "2023-01-21T16:09:01.881Z"
   },
   {
    "duration": 14,
    "start_time": "2023-01-21T16:09:48.831Z"
   },
   {
    "duration": 9,
    "start_time": "2023-01-21T16:11:47.675Z"
   },
   {
    "duration": 20,
    "start_time": "2023-01-21T16:11:55.035Z"
   },
   {
    "duration": 5,
    "start_time": "2023-01-21T16:15:26.121Z"
   },
   {
    "duration": 6,
    "start_time": "2023-01-21T16:16:12.005Z"
   },
   {
    "duration": 4,
    "start_time": "2023-01-21T16:16:24.969Z"
   },
   {
    "duration": 407,
    "start_time": "2023-01-21T16:16:36.365Z"
   },
   {
    "duration": 240,
    "start_time": "2023-01-21T16:16:36.774Z"
   },
   {
    "duration": 103,
    "start_time": "2023-01-21T16:16:37.016Z"
   },
   {
    "duration": 16,
    "start_time": "2023-01-21T16:16:37.120Z"
   },
   {
    "duration": 59,
    "start_time": "2023-01-21T16:16:37.138Z"
   },
   {
    "duration": 2014,
    "start_time": "2023-01-21T16:16:37.199Z"
   },
   {
    "duration": 13,
    "start_time": "2023-01-21T16:16:39.215Z"
   },
   {
    "duration": 6,
    "start_time": "2023-01-21T16:16:39.230Z"
   },
   {
    "duration": 2,
    "start_time": "2023-01-21T16:16:39.238Z"
   },
   {
    "duration": 21,
    "start_time": "2023-01-21T16:16:39.242Z"
   },
   {
    "duration": 6,
    "start_time": "2023-01-21T16:16:39.265Z"
   },
   {
    "duration": 7,
    "start_time": "2023-01-21T16:16:39.273Z"
   },
   {
    "duration": 7,
    "start_time": "2023-01-21T16:16:39.281Z"
   },
   {
    "duration": 16,
    "start_time": "2023-01-21T16:16:39.290Z"
   },
   {
    "duration": 4,
    "start_time": "2023-01-21T16:16:39.307Z"
   },
   {
    "duration": 10,
    "start_time": "2023-01-21T16:16:39.314Z"
   },
   {
    "duration": 30,
    "start_time": "2023-01-21T16:16:39.326Z"
   },
   {
    "duration": 23,
    "start_time": "2023-01-21T16:16:39.358Z"
   },
   {
    "duration": 7,
    "start_time": "2023-01-21T16:16:39.383Z"
   },
   {
    "duration": 10,
    "start_time": "2023-01-21T16:16:39.392Z"
   },
   {
    "duration": 7,
    "start_time": "2023-01-21T16:16:45.044Z"
   },
   {
    "duration": 4,
    "start_time": "2023-01-21T16:16:49.625Z"
   },
   {
    "duration": 507,
    "start_time": "2023-01-21T16:17:36.729Z"
   },
   {
    "duration": 268,
    "start_time": "2023-01-21T16:17:37.238Z"
   },
   {
    "duration": 107,
    "start_time": "2023-01-21T16:17:37.508Z"
   },
   {
    "duration": 23,
    "start_time": "2023-01-21T16:17:37.618Z"
   },
   {
    "duration": 62,
    "start_time": "2023-01-21T16:17:37.643Z"
   },
   {
    "duration": 2122,
    "start_time": "2023-01-21T16:17:37.706Z"
   },
   {
    "duration": 11,
    "start_time": "2023-01-21T16:17:39.830Z"
   },
   {
    "duration": 12,
    "start_time": "2023-01-21T16:17:39.843Z"
   },
   {
    "duration": 27,
    "start_time": "2023-01-21T16:17:39.857Z"
   },
   {
    "duration": 11,
    "start_time": "2023-01-21T16:17:39.887Z"
   },
   {
    "duration": 9,
    "start_time": "2023-01-21T16:17:39.901Z"
   },
   {
    "duration": 15,
    "start_time": "2023-01-21T16:17:39.912Z"
   },
   {
    "duration": 107,
    "start_time": "2023-01-21T16:17:39.930Z"
   },
   {
    "duration": 0,
    "start_time": "2023-01-21T16:17:40.039Z"
   },
   {
    "duration": 0,
    "start_time": "2023-01-21T16:17:40.040Z"
   },
   {
    "duration": 0,
    "start_time": "2023-01-21T16:17:40.042Z"
   },
   {
    "duration": 0,
    "start_time": "2023-01-21T16:17:40.050Z"
   },
   {
    "duration": 0,
    "start_time": "2023-01-21T16:17:40.051Z"
   },
   {
    "duration": 0,
    "start_time": "2023-01-21T16:17:40.056Z"
   },
   {
    "duration": 0,
    "start_time": "2023-01-21T16:17:40.057Z"
   },
   {
    "duration": 20,
    "start_time": "2023-01-21T16:18:07.182Z"
   },
   {
    "duration": 20,
    "start_time": "2023-01-21T16:18:25.644Z"
   },
   {
    "duration": 14,
    "start_time": "2023-01-21T16:18:30.776Z"
   },
   {
    "duration": 13,
    "start_time": "2023-01-21T16:18:51.002Z"
   },
   {
    "duration": 6,
    "start_time": "2023-01-21T16:18:56.574Z"
   },
   {
    "duration": 6,
    "start_time": "2023-01-21T16:19:11.690Z"
   },
   {
    "duration": 7,
    "start_time": "2023-01-21T16:19:20.436Z"
   },
   {
    "duration": 2,
    "start_time": "2023-01-21T16:19:47.522Z"
   },
   {
    "duration": 8,
    "start_time": "2023-01-21T16:19:59.136Z"
   },
   {
    "duration": 15,
    "start_time": "2023-01-21T16:20:13.086Z"
   },
   {
    "duration": 8,
    "start_time": "2023-01-21T16:20:19.211Z"
   },
   {
    "duration": 8,
    "start_time": "2023-01-21T16:20:20.830Z"
   },
   {
    "duration": 8,
    "start_time": "2023-01-21T16:20:22.295Z"
   },
   {
    "duration": 468,
    "start_time": "2023-01-21T16:20:27.205Z"
   },
   {
    "duration": 355,
    "start_time": "2023-01-21T16:20:27.675Z"
   },
   {
    "duration": 148,
    "start_time": "2023-01-21T16:20:28.032Z"
   },
   {
    "duration": 28,
    "start_time": "2023-01-21T16:20:28.182Z"
   },
   {
    "duration": 77,
    "start_time": "2023-01-21T16:20:28.212Z"
   },
   {
    "duration": 3018,
    "start_time": "2023-01-21T16:20:28.291Z"
   },
   {
    "duration": 16,
    "start_time": "2023-01-21T16:20:31.316Z"
   },
   {
    "duration": 76,
    "start_time": "2023-01-21T16:20:31.334Z"
   },
   {
    "duration": 23,
    "start_time": "2023-01-21T16:20:31.412Z"
   },
   {
    "duration": 59,
    "start_time": "2023-01-21T16:20:31.437Z"
   },
   {
    "duration": 13,
    "start_time": "2023-01-21T16:20:31.498Z"
   },
   {
    "duration": 40,
    "start_time": "2023-01-21T16:20:31.514Z"
   },
   {
    "duration": 26,
    "start_time": "2023-01-21T16:20:31.557Z"
   },
   {
    "duration": 22,
    "start_time": "2023-01-21T16:20:31.587Z"
   },
   {
    "duration": 23,
    "start_time": "2023-01-21T16:20:31.612Z"
   },
   {
    "duration": 20,
    "start_time": "2023-01-21T16:20:31.638Z"
   },
   {
    "duration": 64,
    "start_time": "2023-01-21T16:20:31.660Z"
   },
   {
    "duration": 15,
    "start_time": "2023-01-21T16:20:31.727Z"
   },
   {
    "duration": 30,
    "start_time": "2023-01-21T16:20:31.745Z"
   },
   {
    "duration": 125,
    "start_time": "2023-01-21T16:20:31.777Z"
   },
   {
    "duration": 8,
    "start_time": "2023-01-21T16:20:35.881Z"
   },
   {
    "duration": 10,
    "start_time": "2023-01-21T16:20:41.029Z"
   },
   {
    "duration": 5,
    "start_time": "2023-01-21T16:20:52.017Z"
   },
   {
    "duration": 10,
    "start_time": "2023-01-21T16:21:17.517Z"
   },
   {
    "duration": 469,
    "start_time": "2023-01-21T16:21:23.017Z"
   },
   {
    "duration": 311,
    "start_time": "2023-01-21T16:21:23.489Z"
   },
   {
    "duration": 125,
    "start_time": "2023-01-21T16:21:23.804Z"
   },
   {
    "duration": 22,
    "start_time": "2023-01-21T16:21:23.931Z"
   },
   {
    "duration": 67,
    "start_time": "2023-01-21T16:21:23.960Z"
   },
   {
    "duration": 2331,
    "start_time": "2023-01-21T16:21:24.029Z"
   },
   {
    "duration": 12,
    "start_time": "2023-01-21T16:21:26.362Z"
   },
   {
    "duration": 49,
    "start_time": "2023-01-21T16:21:26.377Z"
   },
   {
    "duration": 8,
    "start_time": "2023-01-21T16:21:26.428Z"
   },
   {
    "duration": 40,
    "start_time": "2023-01-21T16:21:26.438Z"
   },
   {
    "duration": 78,
    "start_time": "2023-01-21T16:21:26.481Z"
   },
   {
    "duration": 36,
    "start_time": "2023-01-21T16:21:26.560Z"
   },
   {
    "duration": 7,
    "start_time": "2023-01-21T16:21:26.598Z"
   },
   {
    "duration": 23,
    "start_time": "2023-01-21T16:21:26.609Z"
   },
   {
    "duration": 12,
    "start_time": "2023-01-21T16:21:26.634Z"
   },
   {
    "duration": 33,
    "start_time": "2023-01-21T16:21:26.648Z"
   },
   {
    "duration": 31,
    "start_time": "2023-01-21T16:21:26.683Z"
   },
   {
    "duration": 10,
    "start_time": "2023-01-21T16:21:26.716Z"
   },
   {
    "duration": 30,
    "start_time": "2023-01-21T16:21:26.728Z"
   },
   {
    "duration": 35,
    "start_time": "2023-01-21T16:21:26.762Z"
   },
   {
    "duration": 2,
    "start_time": "2023-01-21T16:21:27.516Z"
   },
   {
    "duration": 6,
    "start_time": "2023-01-21T16:21:28.229Z"
   },
   {
    "duration": 106,
    "start_time": "2023-01-21T16:21:29.776Z"
   },
   {
    "duration": 15,
    "start_time": "2023-01-21T16:21:30.405Z"
   },
   {
    "duration": 69,
    "start_time": "2023-01-21T16:21:32.342Z"
   },
   {
    "duration": 2405,
    "start_time": "2023-01-21T16:21:35.374Z"
   },
   {
    "duration": 12,
    "start_time": "2023-01-21T16:21:43.882Z"
   },
   {
    "duration": 9,
    "start_time": "2023-01-21T16:21:46.686Z"
   },
   {
    "duration": 3,
    "start_time": "2023-01-21T16:21:50.005Z"
   },
   {
    "duration": 9,
    "start_time": "2023-01-21T16:21:51.739Z"
   },
   {
    "duration": 9,
    "start_time": "2023-01-21T16:21:55.052Z"
   },
   {
    "duration": 77,
    "start_time": "2023-01-21T16:22:02.869Z"
   },
   {
    "duration": 18,
    "start_time": "2023-01-21T16:23:17.610Z"
   },
   {
    "duration": 384,
    "start_time": "2023-01-21T16:23:54.012Z"
   },
   {
    "duration": 269,
    "start_time": "2023-01-21T16:23:54.399Z"
   },
   {
    "duration": 96,
    "start_time": "2023-01-21T16:23:54.670Z"
   },
   {
    "duration": 14,
    "start_time": "2023-01-21T16:23:54.768Z"
   },
   {
    "duration": 43,
    "start_time": "2023-01-21T16:23:54.784Z"
   },
   {
    "duration": 2100,
    "start_time": "2023-01-21T16:23:54.829Z"
   },
   {
    "duration": 14,
    "start_time": "2023-01-21T16:23:56.931Z"
   },
   {
    "duration": 7,
    "start_time": "2023-01-21T16:23:56.947Z"
   },
   {
    "duration": 19,
    "start_time": "2023-01-21T16:23:56.956Z"
   },
   {
    "duration": 6,
    "start_time": "2023-01-21T16:23:56.978Z"
   },
   {
    "duration": 5,
    "start_time": "2023-01-21T16:23:56.986Z"
   },
   {
    "duration": 7,
    "start_time": "2023-01-21T16:23:56.993Z"
   },
   {
    "duration": 89,
    "start_time": "2023-01-21T16:23:57.002Z"
   },
   {
    "duration": 0,
    "start_time": "2023-01-21T16:23:57.093Z"
   },
   {
    "duration": 0,
    "start_time": "2023-01-21T16:23:57.095Z"
   },
   {
    "duration": 0,
    "start_time": "2023-01-21T16:23:57.096Z"
   },
   {
    "duration": 0,
    "start_time": "2023-01-21T16:23:57.098Z"
   },
   {
    "duration": 0,
    "start_time": "2023-01-21T16:23:57.100Z"
   },
   {
    "duration": 0,
    "start_time": "2023-01-21T16:23:57.100Z"
   },
   {
    "duration": 0,
    "start_time": "2023-01-21T16:23:57.101Z"
   },
   {
    "duration": 6,
    "start_time": "2023-01-21T16:24:02.552Z"
   },
   {
    "duration": 15,
    "start_time": "2023-01-21T16:24:10.333Z"
   },
   {
    "duration": 6,
    "start_time": "2023-01-21T16:24:16.887Z"
   },
   {
    "duration": 11,
    "start_time": "2023-01-21T16:24:24.625Z"
   },
   {
    "duration": 6,
    "start_time": "2023-01-21T16:24:27.379Z"
   },
   {
    "duration": 10,
    "start_time": "2023-01-21T16:24:28.265Z"
   },
   {
    "duration": 7,
    "start_time": "2023-01-21T16:24:28.791Z"
   },
   {
    "duration": 14,
    "start_time": "2023-01-21T16:24:52.003Z"
   },
   {
    "duration": 12,
    "start_time": "2023-01-21T16:25:00.334Z"
   },
   {
    "duration": 4,
    "start_time": "2023-01-21T16:25:01.532Z"
   },
   {
    "duration": 12,
    "start_time": "2023-01-21T16:25:17.264Z"
   },
   {
    "duration": 6,
    "start_time": "2023-01-21T16:25:35.406Z"
   },
   {
    "duration": 3,
    "start_time": "2023-01-21T16:27:57.525Z"
   },
   {
    "duration": 6,
    "start_time": "2023-01-21T16:27:57.530Z"
   },
   {
    "duration": 104,
    "start_time": "2023-01-21T16:27:57.537Z"
   },
   {
    "duration": 14,
    "start_time": "2023-01-21T16:27:57.643Z"
   },
   {
    "duration": 41,
    "start_time": "2023-01-21T16:27:57.659Z"
   },
   {
    "duration": 1966,
    "start_time": "2023-01-21T16:27:57.702Z"
   },
   {
    "duration": 10,
    "start_time": "2023-01-21T16:27:59.670Z"
   },
   {
    "duration": 8,
    "start_time": "2023-01-21T16:27:59.682Z"
   },
   {
    "duration": 4,
    "start_time": "2023-01-21T16:27:59.693Z"
   },
   {
    "duration": 8,
    "start_time": "2023-01-21T16:27:59.699Z"
   },
   {
    "duration": 5,
    "start_time": "2023-01-21T16:27:59.708Z"
   },
   {
    "duration": 35,
    "start_time": "2023-01-21T16:27:59.715Z"
   },
   {
    "duration": 12,
    "start_time": "2023-01-21T16:28:05.459Z"
   },
   {
    "duration": 6,
    "start_time": "2023-01-21T16:28:05.950Z"
   },
   {
    "duration": 0,
    "start_time": "2023-01-21T16:28:50.420Z"
   },
   {
    "duration": 0,
    "start_time": "2023-01-21T16:28:50.420Z"
   },
   {
    "duration": 422,
    "start_time": "2023-01-21T16:28:50.535Z"
   },
   {
    "duration": 232,
    "start_time": "2023-01-21T16:28:50.959Z"
   },
   {
    "duration": 92,
    "start_time": "2023-01-21T16:28:51.192Z"
   },
   {
    "duration": 17,
    "start_time": "2023-01-21T16:28:51.286Z"
   },
   {
    "duration": 60,
    "start_time": "2023-01-21T16:28:51.305Z"
   },
   {
    "duration": 1926,
    "start_time": "2023-01-21T16:28:51.367Z"
   },
   {
    "duration": 14,
    "start_time": "2023-01-21T16:28:53.295Z"
   },
   {
    "duration": 6,
    "start_time": "2023-01-21T16:28:53.310Z"
   },
   {
    "duration": 3,
    "start_time": "2023-01-21T16:28:53.318Z"
   },
   {
    "duration": 7,
    "start_time": "2023-01-21T16:28:53.323Z"
   },
   {
    "duration": 5,
    "start_time": "2023-01-21T16:28:53.333Z"
   },
   {
    "duration": 6,
    "start_time": "2023-01-21T16:28:53.349Z"
   },
   {
    "duration": 6,
    "start_time": "2023-01-21T16:28:53.357Z"
   },
   {
    "duration": 45,
    "start_time": "2023-01-21T16:28:53.364Z"
   },
   {
    "duration": 0,
    "start_time": "2023-01-21T16:28:53.412Z"
   },
   {
    "duration": 0,
    "start_time": "2023-01-21T16:28:53.414Z"
   },
   {
    "duration": 0,
    "start_time": "2023-01-21T16:28:53.416Z"
   },
   {
    "duration": 0,
    "start_time": "2023-01-21T16:28:53.417Z"
   },
   {
    "duration": 0,
    "start_time": "2023-01-21T16:28:53.419Z"
   },
   {
    "duration": 0,
    "start_time": "2023-01-21T16:28:53.449Z"
   },
   {
    "duration": 371,
    "start_time": "2023-01-21T16:32:22.889Z"
   },
   {
    "duration": 232,
    "start_time": "2023-01-21T16:32:23.262Z"
   },
   {
    "duration": 92,
    "start_time": "2023-01-21T16:32:23.496Z"
   },
   {
    "duration": 15,
    "start_time": "2023-01-21T16:32:23.589Z"
   },
   {
    "duration": 60,
    "start_time": "2023-01-21T16:32:23.605Z"
   },
   {
    "duration": 1858,
    "start_time": "2023-01-21T16:32:23.667Z"
   },
   {
    "duration": 11,
    "start_time": "2023-01-21T16:32:25.526Z"
   },
   {
    "duration": 7,
    "start_time": "2023-01-21T16:32:25.538Z"
   },
   {
    "duration": 2,
    "start_time": "2023-01-21T16:32:25.547Z"
   },
   {
    "duration": 8,
    "start_time": "2023-01-21T16:32:25.552Z"
   },
   {
    "duration": 4,
    "start_time": "2023-01-21T16:32:25.561Z"
   },
   {
    "duration": 8,
    "start_time": "2023-01-21T16:32:25.567Z"
   },
   {
    "duration": 9,
    "start_time": "2023-01-21T16:32:25.577Z"
   },
   {
    "duration": 99,
    "start_time": "2023-01-21T16:32:25.588Z"
   },
   {
    "duration": 0,
    "start_time": "2023-01-21T16:32:25.689Z"
   },
   {
    "duration": 0,
    "start_time": "2023-01-21T16:32:25.690Z"
   },
   {
    "duration": 0,
    "start_time": "2023-01-21T16:32:25.691Z"
   },
   {
    "duration": 0,
    "start_time": "2023-01-21T16:32:25.692Z"
   },
   {
    "duration": 0,
    "start_time": "2023-01-21T16:32:25.694Z"
   },
   {
    "duration": 0,
    "start_time": "2023-01-21T16:32:25.694Z"
   },
   {
    "duration": 6,
    "start_time": "2023-01-21T16:32:34.062Z"
   },
   {
    "duration": 5,
    "start_time": "2023-01-21T16:32:35.961Z"
   },
   {
    "duration": 13,
    "start_time": "2023-01-21T16:32:42.124Z"
   },
   {
    "duration": 6,
    "start_time": "2023-01-21T16:33:36.903Z"
   },
   {
    "duration": 6,
    "start_time": "2023-01-21T16:33:46.443Z"
   },
   {
    "duration": 10,
    "start_time": "2023-01-21T16:33:56.132Z"
   },
   {
    "duration": 6,
    "start_time": "2023-01-21T16:33:59.504Z"
   },
   {
    "duration": 9,
    "start_time": "2023-01-21T16:34:01.965Z"
   },
   {
    "duration": 6,
    "start_time": "2023-01-21T16:34:06.946Z"
   },
   {
    "duration": 4,
    "start_time": "2023-01-21T16:34:09.436Z"
   },
   {
    "duration": 11,
    "start_time": "2023-01-21T16:34:12.167Z"
   },
   {
    "duration": 16,
    "start_time": "2023-01-21T16:34:23.862Z"
   },
   {
    "duration": 12,
    "start_time": "2023-01-21T16:34:29.936Z"
   },
   {
    "duration": 6,
    "start_time": "2023-01-21T16:34:34.476Z"
   },
   {
    "duration": 5,
    "start_time": "2023-01-21T16:34:41.455Z"
   },
   {
    "duration": 13,
    "start_time": "2023-01-21T16:34:42.296Z"
   },
   {
    "duration": 8,
    "start_time": "2023-01-21T16:34:43.056Z"
   },
   {
    "duration": 5,
    "start_time": "2023-01-21T16:34:47.175Z"
   },
   {
    "duration": 6,
    "start_time": "2023-01-21T16:34:53.775Z"
   },
   {
    "duration": 14,
    "start_time": "2023-01-21T16:35:00.872Z"
   },
   {
    "duration": 13,
    "start_time": "2023-01-21T16:35:14.416Z"
   },
   {
    "duration": 9,
    "start_time": "2023-01-21T16:35:49.291Z"
   },
   {
    "duration": 371,
    "start_time": "2023-01-21T16:36:00.685Z"
   },
   {
    "duration": 232,
    "start_time": "2023-01-21T16:36:01.057Z"
   },
   {
    "duration": 93,
    "start_time": "2023-01-21T16:36:01.291Z"
   },
   {
    "duration": 17,
    "start_time": "2023-01-21T16:36:01.386Z"
   },
   {
    "duration": 84,
    "start_time": "2023-01-21T16:36:01.405Z"
   },
   {
    "duration": 1869,
    "start_time": "2023-01-21T16:36:01.491Z"
   },
   {
    "duration": 9,
    "start_time": "2023-01-21T16:36:03.362Z"
   },
   {
    "duration": 6,
    "start_time": "2023-01-21T16:36:03.373Z"
   },
   {
    "duration": 3,
    "start_time": "2023-01-21T16:36:03.380Z"
   },
   {
    "duration": 9,
    "start_time": "2023-01-21T16:36:03.386Z"
   },
   {
    "duration": 10,
    "start_time": "2023-01-21T16:36:03.397Z"
   },
   {
    "duration": 16,
    "start_time": "2023-01-21T16:36:03.409Z"
   },
   {
    "duration": 6,
    "start_time": "2023-01-21T16:36:03.426Z"
   },
   {
    "duration": 99,
    "start_time": "2023-01-21T16:36:03.434Z"
   },
   {
    "duration": 0,
    "start_time": "2023-01-21T16:36:03.534Z"
   },
   {
    "duration": 0,
    "start_time": "2023-01-21T16:36:03.535Z"
   },
   {
    "duration": 0,
    "start_time": "2023-01-21T16:36:03.536Z"
   },
   {
    "duration": 0,
    "start_time": "2023-01-21T16:36:03.538Z"
   },
   {
    "duration": 0,
    "start_time": "2023-01-21T16:36:03.539Z"
   },
   {
    "duration": 0,
    "start_time": "2023-01-21T16:36:03.549Z"
   },
   {
    "duration": 5,
    "start_time": "2023-01-21T16:37:22.286Z"
   },
   {
    "duration": 11,
    "start_time": "2023-01-21T16:37:25.066Z"
   },
   {
    "duration": 4,
    "start_time": "2023-01-21T16:37:40.521Z"
   },
   {
    "duration": 5,
    "start_time": "2023-01-21T16:37:42.325Z"
   },
   {
    "duration": 5,
    "start_time": "2023-01-21T16:37:49.306Z"
   },
   {
    "duration": 5,
    "start_time": "2023-01-21T16:37:59.869Z"
   },
   {
    "duration": 12,
    "start_time": "2023-01-21T16:38:01.202Z"
   },
   {
    "duration": 6,
    "start_time": "2023-01-21T16:38:02.749Z"
   },
   {
    "duration": 6,
    "start_time": "2023-01-21T16:38:06.351Z"
   },
   {
    "duration": 6,
    "start_time": "2023-01-21T16:38:17.095Z"
   },
   {
    "duration": 4,
    "start_time": "2023-01-21T16:38:32.922Z"
   },
   {
    "duration": 5,
    "start_time": "2023-01-21T16:38:42.151Z"
   },
   {
    "duration": 5,
    "start_time": "2023-01-21T16:38:46.970Z"
   },
   {
    "duration": 5,
    "start_time": "2023-01-21T16:39:55.154Z"
   },
   {
    "duration": 4,
    "start_time": "2023-01-21T16:41:14.711Z"
   },
   {
    "duration": 6,
    "start_time": "2023-01-21T16:41:33.025Z"
   },
   {
    "duration": 1114,
    "start_time": "2023-01-21T16:44:23.207Z"
   },
   {
    "duration": 16,
    "start_time": "2023-01-21T16:45:02.415Z"
   },
   {
    "duration": 24,
    "start_time": "2023-01-21T16:45:47.291Z"
   },
   {
    "duration": 33,
    "start_time": "2023-01-21T16:46:43.079Z"
   },
   {
    "duration": 17,
    "start_time": "2023-01-21T16:48:32.040Z"
   },
   {
    "duration": 68,
    "start_time": "2023-01-21T16:49:17.370Z"
   },
   {
    "duration": 4,
    "start_time": "2023-01-21T16:49:22.404Z"
   },
   {
    "duration": 5,
    "start_time": "2023-01-21T16:51:17.905Z"
   },
   {
    "duration": 42,
    "start_time": "2023-01-21T16:52:37.969Z"
   },
   {
    "duration": 34,
    "start_time": "2023-01-21T16:53:11.647Z"
   },
   {
    "duration": 45,
    "start_time": "2023-01-21T16:53:20.492Z"
   },
   {
    "duration": 11,
    "start_time": "2023-01-21T16:54:08.073Z"
   },
   {
    "duration": 7,
    "start_time": "2023-01-21T16:55:50.754Z"
   },
   {
    "duration": 9,
    "start_time": "2023-01-21T16:56:01.359Z"
   },
   {
    "duration": 15,
    "start_time": "2023-01-21T16:56:09.159Z"
   },
   {
    "duration": 34,
    "start_time": "2023-01-21T16:58:09.264Z"
   },
   {
    "duration": 14,
    "start_time": "2023-01-21T16:58:34.953Z"
   },
   {
    "duration": 23,
    "start_time": "2023-01-21T16:59:02.825Z"
   },
   {
    "duration": 7,
    "start_time": "2023-01-21T16:59:40.075Z"
   },
   {
    "duration": 93,
    "start_time": "2023-01-21T17:00:18.783Z"
   },
   {
    "duration": 72,
    "start_time": "2023-01-21T17:00:24.265Z"
   },
   {
    "duration": 6,
    "start_time": "2023-01-21T17:00:30.160Z"
   },
   {
    "duration": 172,
    "start_time": "2023-01-21T17:02:45.879Z"
   },
   {
    "duration": 212,
    "start_time": "2023-01-21T17:03:16.540Z"
   },
   {
    "duration": 228,
    "start_time": "2023-01-21T17:03:22.894Z"
   },
   {
    "duration": 4,
    "start_time": "2023-01-21T17:06:31.130Z"
   },
   {
    "duration": 10,
    "start_time": "2023-01-21T17:07:27.075Z"
   },
   {
    "duration": 5,
    "start_time": "2023-01-21T17:07:57.011Z"
   },
   {
    "duration": 33,
    "start_time": "2023-01-21T17:07:59.680Z"
   },
   {
    "duration": 21,
    "start_time": "2023-01-21T17:08:09.777Z"
   },
   {
    "duration": 15,
    "start_time": "2023-01-21T17:14:00.304Z"
   },
   {
    "duration": 1208,
    "start_time": "2023-01-21T17:15:08.340Z"
   },
   {
    "duration": 1189,
    "start_time": "2023-01-21T17:15:18.311Z"
   },
   {
    "duration": 422,
    "start_time": "2023-01-21T17:15:29.616Z"
   },
   {
    "duration": 236,
    "start_time": "2023-01-21T17:15:30.040Z"
   },
   {
    "duration": 94,
    "start_time": "2023-01-21T17:15:30.277Z"
   },
   {
    "duration": 15,
    "start_time": "2023-01-21T17:15:30.373Z"
   },
   {
    "duration": 57,
    "start_time": "2023-01-21T17:15:30.390Z"
   },
   {
    "duration": 1967,
    "start_time": "2023-01-21T17:15:30.449Z"
   },
   {
    "duration": 11,
    "start_time": "2023-01-21T17:15:32.418Z"
   },
   {
    "duration": 6,
    "start_time": "2023-01-21T17:15:32.430Z"
   },
   {
    "duration": 9,
    "start_time": "2023-01-21T17:15:32.438Z"
   },
   {
    "duration": 24,
    "start_time": "2023-01-21T17:15:32.449Z"
   },
   {
    "duration": 36,
    "start_time": "2023-01-21T17:15:32.474Z"
   },
   {
    "duration": 18,
    "start_time": "2023-01-21T17:15:32.513Z"
   },
   {
    "duration": 4,
    "start_time": "2023-01-21T17:15:32.534Z"
   },
   {
    "duration": 10,
    "start_time": "2023-01-21T17:15:32.549Z"
   },
   {
    "duration": 8,
    "start_time": "2023-01-21T17:15:32.561Z"
   },
   {
    "duration": 6,
    "start_time": "2023-01-21T17:15:32.570Z"
   },
   {
    "duration": 7,
    "start_time": "2023-01-21T17:15:32.577Z"
   },
   {
    "duration": 12,
    "start_time": "2023-01-21T17:15:32.586Z"
   },
   {
    "duration": 13,
    "start_time": "2023-01-21T17:15:32.600Z"
   },
   {
    "duration": 4,
    "start_time": "2023-01-21T17:15:32.616Z"
   },
   {
    "duration": 28,
    "start_time": "2023-01-21T17:15:32.622Z"
   },
   {
    "duration": 27,
    "start_time": "2023-01-21T17:15:32.652Z"
   },
   {
    "duration": 34,
    "start_time": "2023-01-21T17:15:32.680Z"
   },
   {
    "duration": 1165,
    "start_time": "2023-01-21T17:15:32.716Z"
   },
   {
    "duration": 1166,
    "start_time": "2023-01-21T17:15:58.800Z"
   },
   {
    "duration": 5,
    "start_time": "2023-01-21T17:16:06.118Z"
   },
   {
    "duration": 6,
    "start_time": "2023-01-21T17:16:28.223Z"
   },
   {
    "duration": 6,
    "start_time": "2023-01-21T17:16:55.500Z"
   },
   {
    "duration": 9,
    "start_time": "2023-01-21T17:17:02.284Z"
   },
   {
    "duration": 5,
    "start_time": "2023-01-21T17:17:11.639Z"
   },
   {
    "duration": 9,
    "start_time": "2023-01-21T17:17:14.246Z"
   },
   {
    "duration": 5,
    "start_time": "2023-01-21T17:17:28.876Z"
   },
   {
    "duration": 9,
    "start_time": "2023-01-21T17:17:45.434Z"
   },
   {
    "duration": 6,
    "start_time": "2023-01-21T17:18:34.955Z"
   },
   {
    "duration": 13,
    "start_time": "2023-01-21T17:18:53.163Z"
   },
   {
    "duration": 18,
    "start_time": "2023-01-21T17:21:00.337Z"
   },
   {
    "duration": 19,
    "start_time": "2023-01-21T17:21:10.914Z"
   },
   {
    "duration": 4,
    "start_time": "2023-01-21T17:22:38.456Z"
   },
   {
    "duration": 20,
    "start_time": "2023-01-21T17:22:51.684Z"
   },
   {
    "duration": 12,
    "start_time": "2023-01-21T17:23:27.777Z"
   },
   {
    "duration": 6,
    "start_time": "2023-01-21T17:24:12.791Z"
   },
   {
    "duration": 4,
    "start_time": "2023-01-21T17:34:43.322Z"
   },
   {
    "duration": 9,
    "start_time": "2023-01-21T17:34:44.495Z"
   },
   {
    "duration": 10,
    "start_time": "2023-01-21T17:35:01.204Z"
   },
   {
    "duration": 10,
    "start_time": "2023-01-21T17:35:10.253Z"
   },
   {
    "duration": 10,
    "start_time": "2023-01-21T17:35:16.615Z"
   },
   {
    "duration": 11,
    "start_time": "2023-01-21T17:38:21.201Z"
   },
   {
    "duration": 4,
    "start_time": "2023-01-21T17:39:00.394Z"
   },
   {
    "duration": 16,
    "start_time": "2023-01-21T17:39:01.692Z"
   },
   {
    "duration": 17,
    "start_time": "2023-01-21T17:39:09.507Z"
   },
   {
    "duration": 454,
    "start_time": "2023-01-21T17:39:19.209Z"
   },
   {
    "duration": 325,
    "start_time": "2023-01-21T17:39:19.666Z"
   },
   {
    "duration": 129,
    "start_time": "2023-01-21T17:39:19.993Z"
   },
   {
    "duration": 24,
    "start_time": "2023-01-21T17:39:20.125Z"
   },
   {
    "duration": 43,
    "start_time": "2023-01-21T17:39:20.152Z"
   },
   {
    "duration": 1937,
    "start_time": "2023-01-21T17:39:20.196Z"
   },
   {
    "duration": 11,
    "start_time": "2023-01-21T17:39:22.134Z"
   },
   {
    "duration": 25,
    "start_time": "2023-01-21T17:39:22.148Z"
   },
   {
    "duration": 11,
    "start_time": "2023-01-21T17:39:22.175Z"
   },
   {
    "duration": 34,
    "start_time": "2023-01-21T17:39:22.189Z"
   },
   {
    "duration": 33,
    "start_time": "2023-01-21T17:39:22.225Z"
   },
   {
    "duration": 18,
    "start_time": "2023-01-21T17:39:22.259Z"
   },
   {
    "duration": 5,
    "start_time": "2023-01-21T17:39:22.279Z"
   },
   {
    "duration": 14,
    "start_time": "2023-01-21T17:39:22.286Z"
   },
   {
    "duration": 10,
    "start_time": "2023-01-21T17:39:22.302Z"
   },
   {
    "duration": 13,
    "start_time": "2023-01-21T17:39:22.313Z"
   },
   {
    "duration": 20,
    "start_time": "2023-01-21T17:39:22.327Z"
   },
   {
    "duration": 20,
    "start_time": "2023-01-21T17:39:22.349Z"
   },
   {
    "duration": 32,
    "start_time": "2023-01-21T17:39:22.371Z"
   },
   {
    "duration": 11,
    "start_time": "2023-01-21T17:39:22.406Z"
   },
   {
    "duration": 24,
    "start_time": "2023-01-21T17:39:22.419Z"
   },
   {
    "duration": 30,
    "start_time": "2023-01-21T17:39:22.444Z"
   },
   {
    "duration": 36,
    "start_time": "2023-01-21T17:39:22.477Z"
   },
   {
    "duration": 5,
    "start_time": "2023-01-21T17:39:22.515Z"
   },
   {
    "duration": 8,
    "start_time": "2023-01-21T17:39:22.522Z"
   },
   {
    "duration": 6,
    "start_time": "2023-01-21T17:39:22.548Z"
   },
   {
    "duration": 29,
    "start_time": "2023-01-21T17:39:22.555Z"
   },
   {
    "duration": 4,
    "start_time": "2023-01-21T17:39:22.588Z"
   },
   {
    "duration": 35,
    "start_time": "2023-01-21T17:39:22.594Z"
   },
   {
    "duration": 19,
    "start_time": "2023-01-21T17:39:22.631Z"
   },
   {
    "duration": 22,
    "start_time": "2023-01-21T17:39:22.652Z"
   },
   {
    "duration": 20,
    "start_time": "2023-01-21T17:39:22.676Z"
   },
   {
    "duration": 12,
    "start_time": "2023-01-21T17:39:22.698Z"
   },
   {
    "duration": 4,
    "start_time": "2023-01-21T17:39:52.535Z"
   },
   {
    "duration": 8,
    "start_time": "2023-01-21T17:39:58.438Z"
   },
   {
    "duration": 6,
    "start_time": "2023-01-21T17:40:08.831Z"
   },
   {
    "duration": 4,
    "start_time": "2023-01-21T17:41:03.862Z"
   },
   {
    "duration": 4,
    "start_time": "2023-01-21T17:41:11.356Z"
   },
   {
    "duration": 10,
    "start_time": "2023-01-21T17:41:13.396Z"
   },
   {
    "duration": 6,
    "start_time": "2023-01-21T17:41:14.561Z"
   },
   {
    "duration": 82,
    "start_time": "2023-01-21T17:41:31.872Z"
   },
   {
    "duration": 8,
    "start_time": "2023-01-21T17:41:35.393Z"
   },
   {
    "duration": 410,
    "start_time": "2023-01-21T17:41:40.647Z"
   },
   {
    "duration": 225,
    "start_time": "2023-01-21T17:41:41.059Z"
   },
   {
    "duration": 104,
    "start_time": "2023-01-21T17:41:41.285Z"
   },
   {
    "duration": 22,
    "start_time": "2023-01-21T17:41:41.391Z"
   },
   {
    "duration": 65,
    "start_time": "2023-01-21T17:41:41.415Z"
   },
   {
    "duration": 1934,
    "start_time": "2023-01-21T17:41:41.483Z"
   },
   {
    "duration": 12,
    "start_time": "2023-01-21T17:41:43.419Z"
   },
   {
    "duration": 18,
    "start_time": "2023-01-21T17:41:43.433Z"
   },
   {
    "duration": 4,
    "start_time": "2023-01-21T17:41:43.453Z"
   },
   {
    "duration": 11,
    "start_time": "2023-01-21T17:41:43.461Z"
   },
   {
    "duration": 43,
    "start_time": "2023-01-21T17:41:43.473Z"
   },
   {
    "duration": 32,
    "start_time": "2023-01-21T17:41:43.517Z"
   },
   {
    "duration": 5,
    "start_time": "2023-01-21T17:41:43.551Z"
   },
   {
    "duration": 5,
    "start_time": "2023-01-21T17:41:43.558Z"
   },
   {
    "duration": 10,
    "start_time": "2023-01-21T17:41:43.565Z"
   },
   {
    "duration": 8,
    "start_time": "2023-01-21T17:41:43.576Z"
   },
   {
    "duration": 4,
    "start_time": "2023-01-21T17:41:43.586Z"
   },
   {
    "duration": 6,
    "start_time": "2023-01-21T17:41:43.591Z"
   },
   {
    "duration": 10,
    "start_time": "2023-01-21T17:41:43.599Z"
   },
   {
    "duration": 40,
    "start_time": "2023-01-21T17:41:43.610Z"
   },
   {
    "duration": 8,
    "start_time": "2023-01-21T17:41:43.652Z"
   },
   {
    "duration": 21,
    "start_time": "2023-01-21T17:41:43.661Z"
   },
   {
    "duration": 27,
    "start_time": "2023-01-21T17:41:43.683Z"
   },
   {
    "duration": 4,
    "start_time": "2023-01-21T17:41:43.712Z"
   },
   {
    "duration": 8,
    "start_time": "2023-01-21T17:41:43.718Z"
   },
   {
    "duration": 7,
    "start_time": "2023-01-21T17:41:43.749Z"
   },
   {
    "duration": 38,
    "start_time": "2023-01-21T17:41:43.757Z"
   },
   {
    "duration": 5,
    "start_time": "2023-01-21T17:41:43.799Z"
   },
   {
    "duration": 26,
    "start_time": "2023-01-21T17:41:43.806Z"
   },
   {
    "duration": 21,
    "start_time": "2023-01-21T17:41:43.833Z"
   },
   {
    "duration": 7,
    "start_time": "2023-01-21T17:41:43.856Z"
   },
   {
    "duration": 17,
    "start_time": "2023-01-21T17:41:43.865Z"
   },
   {
    "duration": 10,
    "start_time": "2023-01-21T17:41:43.884Z"
   },
   {
    "duration": 21,
    "start_time": "2023-01-21T17:41:43.895Z"
   },
   {
    "duration": 9,
    "start_time": "2023-01-21T17:42:01.804Z"
   },
   {
    "duration": 5,
    "start_time": "2023-01-21T17:42:02.469Z"
   },
   {
    "duration": 6,
    "start_time": "2023-01-21T17:42:14.912Z"
   },
   {
    "duration": 6,
    "start_time": "2023-01-21T17:43:36.956Z"
   },
   {
    "duration": 3,
    "start_time": "2023-01-21T17:44:53.290Z"
   },
   {
    "duration": 9,
    "start_time": "2023-01-21T17:44:54.228Z"
   },
   {
    "duration": 5,
    "start_time": "2023-01-21T17:44:54.789Z"
   },
   {
    "duration": 6,
    "start_time": "2023-01-21T17:45:41.985Z"
   },
   {
    "duration": 5,
    "start_time": "2023-01-21T17:46:06.597Z"
   },
   {
    "duration": 9,
    "start_time": "2023-01-21T17:46:07.906Z"
   },
   {
    "duration": 4,
    "start_time": "2023-01-21T17:46:08.457Z"
   },
   {
    "duration": 4,
    "start_time": "2023-01-21T17:46:58.071Z"
   },
   {
    "duration": 16,
    "start_time": "2023-01-21T17:46:58.597Z"
   },
   {
    "duration": 6,
    "start_time": "2023-01-21T17:46:59.079Z"
   },
   {
    "duration": 7,
    "start_time": "2023-01-21T17:47:02.053Z"
   },
   {
    "duration": 11,
    "start_time": "2023-01-21T17:47:07.592Z"
   },
   {
    "duration": 6,
    "start_time": "2023-01-21T17:48:08.639Z"
   },
   {
    "duration": 88,
    "start_time": "2023-01-21T17:49:23.663Z"
   },
   {
    "duration": 20,
    "start_time": "2023-01-21T17:49:35.522Z"
   },
   {
    "duration": 5,
    "start_time": "2023-01-21T17:51:11.952Z"
   },
   {
    "duration": 17,
    "start_time": "2023-01-21T17:51:12.418Z"
   },
   {
    "duration": 9,
    "start_time": "2023-01-21T17:51:12.932Z"
   },
   {
    "duration": 8,
    "start_time": "2023-01-21T17:51:15.537Z"
   },
   {
    "duration": 18,
    "start_time": "2023-01-21T17:51:18.676Z"
   },
   {
    "duration": 14,
    "start_time": "2023-01-21T17:51:22.398Z"
   },
   {
    "duration": 3,
    "start_time": "2023-01-21T17:52:07.231Z"
   },
   {
    "duration": 12,
    "start_time": "2023-01-21T17:52:08.589Z"
   },
   {
    "duration": 6,
    "start_time": "2023-01-21T17:52:10.292Z"
   },
   {
    "duration": 5,
    "start_time": "2023-01-21T17:52:12.492Z"
   },
   {
    "duration": 13,
    "start_time": "2023-01-21T17:52:13.155Z"
   },
   {
    "duration": 12,
    "start_time": "2023-01-21T17:52:16.418Z"
   },
   {
    "duration": 15,
    "start_time": "2023-01-21T17:52:18.976Z"
   },
   {
    "duration": 4,
    "start_time": "2023-01-21T17:52:38.503Z"
   },
   {
    "duration": 12,
    "start_time": "2023-01-21T17:52:39.825Z"
   },
   {
    "duration": 5,
    "start_time": "2023-01-21T17:52:40.288Z"
   },
   {
    "duration": 7,
    "start_time": "2023-01-21T17:52:42.133Z"
   },
   {
    "duration": 14,
    "start_time": "2023-01-21T17:52:44.326Z"
   },
   {
    "duration": 10,
    "start_time": "2023-01-21T17:52:46.721Z"
   },
   {
    "duration": 4,
    "start_time": "2023-01-21T17:53:08.088Z"
   },
   {
    "duration": 10,
    "start_time": "2023-01-21T17:53:08.616Z"
   },
   {
    "duration": 5,
    "start_time": "2023-01-21T17:53:09.548Z"
   },
   {
    "duration": 6,
    "start_time": "2023-01-21T17:53:11.211Z"
   },
   {
    "duration": 19,
    "start_time": "2023-01-21T17:53:41.691Z"
   },
   {
    "duration": 18,
    "start_time": "2023-01-21T17:53:45.391Z"
   },
   {
    "duration": 0,
    "start_time": "2023-01-21T17:59:15.012Z"
   },
   {
    "duration": 0,
    "start_time": "2023-01-21T17:59:15.013Z"
   },
   {
    "duration": 0,
    "start_time": "2023-01-21T17:59:15.014Z"
   },
   {
    "duration": 0,
    "start_time": "2023-01-21T17:59:15.015Z"
   },
   {
    "duration": 0,
    "start_time": "2023-01-21T17:59:15.017Z"
   },
   {
    "duration": 0,
    "start_time": "2023-01-21T17:59:15.018Z"
   },
   {
    "duration": 388,
    "start_time": "2023-01-21T17:59:15.161Z"
   },
   {
    "duration": 230,
    "start_time": "2023-01-21T17:59:15.551Z"
   },
   {
    "duration": 86,
    "start_time": "2023-01-21T17:59:15.783Z"
   },
   {
    "duration": 16,
    "start_time": "2023-01-21T17:59:15.871Z"
   },
   {
    "duration": 44,
    "start_time": "2023-01-21T17:59:15.888Z"
   },
   {
    "duration": 2112,
    "start_time": "2023-01-21T17:59:15.933Z"
   },
   {
    "duration": 9,
    "start_time": "2023-01-21T17:59:18.047Z"
   },
   {
    "duration": 7,
    "start_time": "2023-01-21T17:59:18.058Z"
   },
   {
    "duration": 4,
    "start_time": "2023-01-21T17:59:18.066Z"
   },
   {
    "duration": 7,
    "start_time": "2023-01-21T17:59:18.073Z"
   },
   {
    "duration": 31,
    "start_time": "2023-01-21T17:59:18.082Z"
   },
   {
    "duration": 51,
    "start_time": "2023-01-21T17:59:18.116Z"
   },
   {
    "duration": 4,
    "start_time": "2023-01-21T17:59:18.169Z"
   },
   {
    "duration": 6,
    "start_time": "2023-01-21T17:59:18.175Z"
   },
   {
    "duration": 5,
    "start_time": "2023-01-21T17:59:18.183Z"
   },
   {
    "duration": 6,
    "start_time": "2023-01-21T17:59:18.189Z"
   },
   {
    "duration": 8,
    "start_time": "2023-01-21T17:59:18.197Z"
   },
   {
    "duration": 10,
    "start_time": "2023-01-21T17:59:18.206Z"
   },
   {
    "duration": 35,
    "start_time": "2023-01-21T17:59:18.218Z"
   },
   {
    "duration": 4,
    "start_time": "2023-01-21T17:59:18.255Z"
   },
   {
    "duration": 7,
    "start_time": "2023-01-21T17:59:18.260Z"
   },
   {
    "duration": 20,
    "start_time": "2023-01-21T17:59:18.268Z"
   },
   {
    "duration": 28,
    "start_time": "2023-01-21T17:59:18.289Z"
   },
   {
    "duration": 5,
    "start_time": "2023-01-21T17:59:18.348Z"
   },
   {
    "duration": 11,
    "start_time": "2023-01-21T17:59:18.355Z"
   },
   {
    "duration": 6,
    "start_time": "2023-01-21T17:59:18.368Z"
   },
   {
    "duration": 20,
    "start_time": "2023-01-21T17:59:18.376Z"
   },
   {
    "duration": 4,
    "start_time": "2023-01-21T17:59:18.398Z"
   },
   {
    "duration": 21,
    "start_time": "2023-01-21T17:59:18.403Z"
   },
   {
    "duration": 7,
    "start_time": "2023-01-21T17:59:18.448Z"
   },
   {
    "duration": 3,
    "start_time": "2023-01-21T17:59:18.457Z"
   },
   {
    "duration": 10,
    "start_time": "2023-01-21T17:59:18.462Z"
   },
   {
    "duration": 6,
    "start_time": "2023-01-21T17:59:18.474Z"
   },
   {
    "duration": 12,
    "start_time": "2023-01-21T17:59:18.482Z"
   },
   {
    "duration": 74,
    "start_time": "2023-01-21T17:59:18.496Z"
   },
   {
    "duration": 0,
    "start_time": "2023-01-21T17:59:18.572Z"
   },
   {
    "duration": 16,
    "start_time": "2023-01-21T17:59:32.926Z"
   },
   {
    "duration": 4,
    "start_time": "2023-01-21T17:59:44.404Z"
   },
   {
    "duration": 16,
    "start_time": "2023-01-21T17:59:45.001Z"
   },
   {
    "duration": 7,
    "start_time": "2023-01-21T17:59:45.567Z"
   },
   {
    "duration": 6,
    "start_time": "2023-01-21T17:59:48.971Z"
   },
   {
    "duration": 6,
    "start_time": "2023-01-21T18:00:13.766Z"
   },
   {
    "duration": 7,
    "start_time": "2023-01-21T18:00:23.570Z"
   },
   {
    "duration": 92,
    "start_time": "2023-01-21T18:04:07.115Z"
   },
   {
    "duration": 7,
    "start_time": "2023-01-21T18:06:55.575Z"
   },
   {
    "duration": 29,
    "start_time": "2023-01-21T18:07:00.740Z"
   },
   {
    "duration": 13,
    "start_time": "2023-01-21T18:07:09.549Z"
   },
   {
    "duration": 23,
    "start_time": "2023-01-21T18:07:16.566Z"
   },
   {
    "duration": 5,
    "start_time": "2023-01-21T18:09:00.621Z"
   },
   {
    "duration": 12,
    "start_time": "2023-01-21T18:09:01.395Z"
   },
   {
    "duration": 6,
    "start_time": "2023-01-21T18:09:01.795Z"
   },
   {
    "duration": 7,
    "start_time": "2023-01-21T18:09:03.126Z"
   },
   {
    "duration": 5,
    "start_time": "2023-01-21T18:09:38.205Z"
   },
   {
    "duration": 291,
    "start_time": "2023-01-21T18:09:38.920Z"
   },
   {
    "duration": 6,
    "start_time": "2023-01-21T18:09:39.376Z"
   },
   {
    "duration": 6,
    "start_time": "2023-01-21T18:09:43.019Z"
   },
   {
    "duration": 403,
    "start_time": "2023-01-21T18:09:56.909Z"
   },
   {
    "duration": 346,
    "start_time": "2023-01-21T18:09:57.314Z"
   },
   {
    "duration": 123,
    "start_time": "2023-01-21T18:09:57.662Z"
   },
   {
    "duration": 22,
    "start_time": "2023-01-21T18:09:57.788Z"
   },
   {
    "duration": 74,
    "start_time": "2023-01-21T18:09:57.811Z"
   },
   {
    "duration": 2082,
    "start_time": "2023-01-21T18:09:57.887Z"
   },
   {
    "duration": 17,
    "start_time": "2023-01-21T18:09:59.971Z"
   },
   {
    "duration": 14,
    "start_time": "2023-01-21T18:09:59.990Z"
   },
   {
    "duration": 14,
    "start_time": "2023-01-21T18:10:00.005Z"
   },
   {
    "duration": 20,
    "start_time": "2023-01-21T18:10:00.022Z"
   },
   {
    "duration": 35,
    "start_time": "2023-01-21T18:10:00.044Z"
   },
   {
    "duration": 21,
    "start_time": "2023-01-21T18:10:00.081Z"
   },
   {
    "duration": 5,
    "start_time": "2023-01-21T18:10:00.104Z"
   },
   {
    "duration": 11,
    "start_time": "2023-01-21T18:10:00.111Z"
   },
   {
    "duration": 6,
    "start_time": "2023-01-21T18:10:00.124Z"
   },
   {
    "duration": 6,
    "start_time": "2023-01-21T18:10:00.149Z"
   },
   {
    "duration": 18,
    "start_time": "2023-01-21T18:10:00.157Z"
   },
   {
    "duration": 32,
    "start_time": "2023-01-21T18:10:00.177Z"
   },
   {
    "duration": 17,
    "start_time": "2023-01-21T18:10:00.212Z"
   },
   {
    "duration": 5,
    "start_time": "2023-01-21T18:10:00.231Z"
   },
   {
    "duration": 27,
    "start_time": "2023-01-21T18:10:00.238Z"
   },
   {
    "duration": 34,
    "start_time": "2023-01-21T18:10:00.267Z"
   },
   {
    "duration": 29,
    "start_time": "2023-01-21T18:10:00.303Z"
   },
   {
    "duration": 19,
    "start_time": "2023-01-21T18:10:00.333Z"
   },
   {
    "duration": 43,
    "start_time": "2023-01-21T18:10:00.354Z"
   },
   {
    "duration": 27,
    "start_time": "2023-01-21T18:10:00.399Z"
   },
   {
    "duration": 45,
    "start_time": "2023-01-21T18:10:00.427Z"
   },
   {
    "duration": 5,
    "start_time": "2023-01-21T18:10:00.475Z"
   },
   {
    "duration": 33,
    "start_time": "2023-01-21T18:10:00.481Z"
   },
   {
    "duration": 19,
    "start_time": "2023-01-21T18:10:00.516Z"
   },
   {
    "duration": 54,
    "start_time": "2023-01-21T18:10:00.538Z"
   },
   {
    "duration": 420,
    "start_time": "2023-01-21T18:10:00.594Z"
   },
   {
    "duration": 0,
    "start_time": "2023-01-21T18:10:01.016Z"
   },
   {
    "duration": 0,
    "start_time": "2023-01-21T18:10:01.017Z"
   },
   {
    "duration": 0,
    "start_time": "2023-01-21T18:10:01.019Z"
   },
   {
    "duration": 0,
    "start_time": "2023-01-21T18:10:01.020Z"
   },
   {
    "duration": 876,
    "start_time": "2023-01-21T18:10:40.989Z"
   },
   {
    "duration": 95,
    "start_time": "2023-01-21T18:12:07.081Z"
   },
   {
    "duration": 71,
    "start_time": "2023-01-21T18:12:58.490Z"
   },
   {
    "duration": 102,
    "start_time": "2023-01-21T18:13:09.991Z"
   },
   {
    "duration": 78,
    "start_time": "2023-01-21T18:13:25.590Z"
   },
   {
    "duration": 4,
    "start_time": "2023-01-21T18:13:36.419Z"
   },
   {
    "duration": 4,
    "start_time": "2023-01-21T18:13:42.056Z"
   },
   {
    "duration": 2013,
    "start_time": "2023-01-21T18:13:45.219Z"
   },
   {
    "duration": 4,
    "start_time": "2023-01-21T18:14:04.881Z"
   },
   {
    "duration": 305,
    "start_time": "2023-01-21T18:14:09.326Z"
   },
   {
    "duration": 277,
    "start_time": "2023-01-21T18:15:08.320Z"
   },
   {
    "duration": 5,
    "start_time": "2023-01-21T18:15:10.210Z"
   },
   {
    "duration": 70,
    "start_time": "2023-01-21T18:15:39.703Z"
   },
   {
    "duration": 81,
    "start_time": "2023-01-21T18:15:44.958Z"
   },
   {
    "duration": 81,
    "start_time": "2023-01-21T18:15:50.028Z"
   },
   {
    "duration": 5,
    "start_time": "2023-01-21T18:15:53.195Z"
   },
   {
    "duration": 965,
    "start_time": "2023-01-21T18:16:04.369Z"
   },
   {
    "duration": 288,
    "start_time": "2023-01-21T18:16:15.719Z"
   },
   {
    "duration": 863,
    "start_time": "2023-01-21T18:16:26.658Z"
   },
   {
    "duration": 5,
    "start_time": "2023-01-21T18:18:07.769Z"
   },
   {
    "duration": 11,
    "start_time": "2023-01-21T18:18:08.170Z"
   },
   {
    "duration": 11,
    "start_time": "2023-01-21T18:18:10.671Z"
   },
   {
    "duration": 8,
    "start_time": "2023-01-21T18:18:11.050Z"
   },
   {
    "duration": 7,
    "start_time": "2023-01-21T18:18:14.995Z"
   },
   {
    "duration": 16,
    "start_time": "2023-01-21T18:18:28.270Z"
   },
   {
    "duration": 7,
    "start_time": "2023-01-21T18:18:29.017Z"
   },
   {
    "duration": 12,
    "start_time": "2023-01-21T18:18:32.775Z"
   },
   {
    "duration": 28,
    "start_time": "2023-01-21T18:18:37.111Z"
   },
   {
    "duration": 14,
    "start_time": "2023-01-21T18:18:38.920Z"
   },
   {
    "duration": 109,
    "start_time": "2023-01-21T18:21:52.730Z"
   },
   {
    "duration": 78,
    "start_time": "2023-01-21T18:21:58.415Z"
   },
   {
    "duration": 5,
    "start_time": "2023-01-21T18:22:17.574Z"
   },
   {
    "duration": 21,
    "start_time": "2023-01-21T18:22:19.491Z"
   },
   {
    "duration": 7,
    "start_time": "2023-01-21T18:22:19.949Z"
   },
   {
    "duration": 7,
    "start_time": "2023-01-21T18:22:21.781Z"
   },
   {
    "duration": 4,
    "start_time": "2023-01-21T18:22:26.180Z"
   },
   {
    "duration": 19,
    "start_time": "2023-01-21T18:22:26.732Z"
   },
   {
    "duration": 7,
    "start_time": "2023-01-21T18:22:27.303Z"
   },
   {
    "duration": 7,
    "start_time": "2023-01-21T18:22:28.920Z"
   },
   {
    "duration": 5,
    "start_time": "2023-01-21T18:23:07.675Z"
   },
   {
    "duration": 13,
    "start_time": "2023-01-21T18:23:08.264Z"
   },
   {
    "duration": 8,
    "start_time": "2023-01-21T18:23:09.213Z"
   },
   {
    "duration": 7,
    "start_time": "2023-01-21T18:23:09.635Z"
   },
   {
    "duration": 12,
    "start_time": "2023-01-21T18:23:20.229Z"
   },
   {
    "duration": 5,
    "start_time": "2023-01-21T18:24:00.559Z"
   },
   {
    "duration": 16,
    "start_time": "2023-01-21T18:24:05.616Z"
   },
   {
    "duration": 5,
    "start_time": "2023-01-21T18:25:04.939Z"
   },
   {
    "duration": 9,
    "start_time": "2023-01-21T18:25:05.354Z"
   },
   {
    "duration": 7,
    "start_time": "2023-01-21T18:25:05.733Z"
   },
   {
    "duration": 6,
    "start_time": "2023-01-21T18:25:06.346Z"
   },
   {
    "duration": 13,
    "start_time": "2023-01-21T18:25:12.225Z"
   },
   {
    "duration": 5,
    "start_time": "2023-01-21T18:26:16.713Z"
   },
   {
    "duration": 9,
    "start_time": "2023-01-21T18:26:18.325Z"
   },
   {
    "duration": 7,
    "start_time": "2023-01-21T18:26:18.729Z"
   },
   {
    "duration": 7,
    "start_time": "2023-01-21T18:26:20.585Z"
   },
   {
    "duration": 22,
    "start_time": "2023-01-21T18:26:28.310Z"
   },
   {
    "duration": 14,
    "start_time": "2023-01-21T18:26:30.069Z"
   },
   {
    "duration": 74,
    "start_time": "2023-01-21T18:27:24.048Z"
   },
   {
    "duration": 4,
    "start_time": "2023-01-21T18:27:31.850Z"
   },
   {
    "duration": 8,
    "start_time": "2023-01-21T18:27:33.867Z"
   },
   {
    "duration": 5,
    "start_time": "2023-01-21T18:27:34.463Z"
   },
   {
    "duration": 8,
    "start_time": "2023-01-21T18:27:34.996Z"
   },
   {
    "duration": 7,
    "start_time": "2023-01-21T18:30:47.276Z"
   },
   {
    "duration": 6,
    "start_time": "2023-01-21T18:34:31.293Z"
   },
   {
    "duration": 338,
    "start_time": "2023-01-21T18:34:32.310Z"
   },
   {
    "duration": 7,
    "start_time": "2023-01-21T18:34:32.664Z"
   },
   {
    "duration": 8,
    "start_time": "2023-01-21T18:34:37.137Z"
   },
   {
    "duration": 3,
    "start_time": "2023-01-21T18:34:40.250Z"
   },
   {
    "duration": 327,
    "start_time": "2023-01-21T18:34:46.572Z"
   },
   {
    "duration": 5,
    "start_time": "2023-01-21T18:35:16.951Z"
   },
   {
    "duration": 339,
    "start_time": "2023-01-21T18:35:19.412Z"
   },
   {
    "duration": 5,
    "start_time": "2023-01-21T18:36:49.195Z"
   },
   {
    "duration": 286,
    "start_time": "2023-01-21T18:36:50.916Z"
   },
   {
    "duration": 3,
    "start_time": "2023-01-21T18:37:23.866Z"
   },
   {
    "duration": 379,
    "start_time": "2023-01-21T18:37:24.497Z"
   },
   {
    "duration": 4,
    "start_time": "2023-01-21T18:39:19.226Z"
   },
   {
    "duration": 4,
    "start_time": "2023-01-21T18:39:38.020Z"
   },
   {
    "duration": 316,
    "start_time": "2023-01-21T18:39:38.575Z"
   },
   {
    "duration": 4,
    "start_time": "2023-01-21T18:39:55.826Z"
   },
   {
    "duration": 14,
    "start_time": "2023-01-21T18:39:56.562Z"
   },
   {
    "duration": 6,
    "start_time": "2023-01-21T18:39:57.756Z"
   },
   {
    "duration": 6,
    "start_time": "2023-01-21T18:39:59.982Z"
   },
   {
    "duration": 6,
    "start_time": "2023-01-21T18:41:44.650Z"
   },
   {
    "duration": 14,
    "start_time": "2023-01-21T18:41:45.066Z"
   },
   {
    "duration": 9,
    "start_time": "2023-01-21T18:41:45.450Z"
   },
   {
    "duration": 7,
    "start_time": "2023-01-21T18:41:45.967Z"
   },
   {
    "duration": 7,
    "start_time": "2023-01-21T18:42:03.816Z"
   },
   {
    "duration": 9,
    "start_time": "2023-01-21T18:42:04.405Z"
   },
   {
    "duration": 5,
    "start_time": "2023-01-21T18:42:04.821Z"
   },
   {
    "duration": 7,
    "start_time": "2023-01-21T18:42:06.447Z"
   },
   {
    "duration": 3,
    "start_time": "2023-01-21T18:42:49.552Z"
   },
   {
    "duration": 15,
    "start_time": "2023-01-21T18:42:50.253Z"
   },
   {
    "duration": 7,
    "start_time": "2023-01-21T18:42:50.842Z"
   },
   {
    "duration": 6,
    "start_time": "2023-01-21T18:42:53.217Z"
   },
   {
    "duration": 3,
    "start_time": "2023-01-21T18:42:58.082Z"
   },
   {
    "duration": 7,
    "start_time": "2023-01-21T18:43:02.681Z"
   },
   {
    "duration": 12,
    "start_time": "2023-01-21T18:43:06.305Z"
   },
   {
    "duration": 3,
    "start_time": "2023-01-21T18:47:20.862Z"
   },
   {
    "duration": 14,
    "start_time": "2023-01-21T18:47:21.628Z"
   },
   {
    "duration": 7,
    "start_time": "2023-01-21T18:47:22.062Z"
   },
   {
    "duration": 6,
    "start_time": "2023-01-21T18:47:22.788Z"
   },
   {
    "duration": 4,
    "start_time": "2023-01-21T18:47:30.681Z"
   },
   {
    "duration": 24,
    "start_time": "2023-01-21T18:47:39.991Z"
   },
   {
    "duration": 8,
    "start_time": "2023-01-21T18:47:57.305Z"
   },
   {
    "duration": 11,
    "start_time": "2023-01-21T18:47:59.052Z"
   },
   {
    "duration": 10,
    "start_time": "2023-01-21T18:48:21.154Z"
   },
   {
    "duration": 7,
    "start_time": "2023-01-21T18:48:24.108Z"
   },
   {
    "duration": 23,
    "start_time": "2023-01-21T18:48:26.972Z"
   },
   {
    "duration": 520,
    "start_time": "2023-01-21T18:48:53.353Z"
   },
   {
    "duration": 321,
    "start_time": "2023-01-21T18:48:53.876Z"
   },
   {
    "duration": 125,
    "start_time": "2023-01-21T18:48:54.199Z"
   },
   {
    "duration": 26,
    "start_time": "2023-01-21T18:48:54.326Z"
   },
   {
    "duration": 63,
    "start_time": "2023-01-21T18:48:54.355Z"
   },
   {
    "duration": 2741,
    "start_time": "2023-01-21T18:48:54.420Z"
   },
   {
    "duration": 16,
    "start_time": "2023-01-21T18:48:57.162Z"
   },
   {
    "duration": 9,
    "start_time": "2023-01-21T18:48:57.180Z"
   },
   {
    "duration": 7,
    "start_time": "2023-01-21T18:48:57.192Z"
   },
   {
    "duration": 13,
    "start_time": "2023-01-21T18:48:57.201Z"
   },
   {
    "duration": 58,
    "start_time": "2023-01-21T18:48:57.217Z"
   },
   {
    "duration": 25,
    "start_time": "2023-01-21T18:48:57.277Z"
   },
   {
    "duration": 6,
    "start_time": "2023-01-21T18:48:57.305Z"
   },
   {
    "duration": 7,
    "start_time": "2023-01-21T18:48:57.316Z"
   },
   {
    "duration": 27,
    "start_time": "2023-01-21T18:48:57.325Z"
   },
   {
    "duration": 13,
    "start_time": "2023-01-21T18:48:57.354Z"
   },
   {
    "duration": 15,
    "start_time": "2023-01-21T18:48:57.369Z"
   },
   {
    "duration": 13,
    "start_time": "2023-01-21T18:48:57.386Z"
   },
   {
    "duration": 27,
    "start_time": "2023-01-21T18:48:57.400Z"
   },
   {
    "duration": 20,
    "start_time": "2023-01-21T18:48:57.430Z"
   },
   {
    "duration": 14,
    "start_time": "2023-01-21T18:48:57.452Z"
   },
   {
    "duration": 33,
    "start_time": "2023-01-21T18:48:57.468Z"
   },
   {
    "duration": 52,
    "start_time": "2023-01-21T18:48:57.503Z"
   },
   {
    "duration": 5,
    "start_time": "2023-01-21T18:48:57.557Z"
   },
   {
    "duration": 18,
    "start_time": "2023-01-21T18:48:57.565Z"
   },
   {
    "duration": 11,
    "start_time": "2023-01-21T18:48:57.585Z"
   },
   {
    "duration": 28,
    "start_time": "2023-01-21T18:48:57.598Z"
   },
   {
    "duration": 23,
    "start_time": "2023-01-21T18:48:57.628Z"
   },
   {
    "duration": 28,
    "start_time": "2023-01-21T18:48:57.655Z"
   },
   {
    "duration": 34,
    "start_time": "2023-01-21T18:48:57.686Z"
   },
   {
    "duration": 31,
    "start_time": "2023-01-21T18:48:57.724Z"
   },
   {
    "duration": 20,
    "start_time": "2023-01-21T18:48:57.757Z"
   },
   {
    "duration": 7,
    "start_time": "2023-01-21T18:48:57.779Z"
   },
   {
    "duration": 10,
    "start_time": "2023-01-21T18:48:57.788Z"
   },
   {
    "duration": 133,
    "start_time": "2023-01-21T18:48:57.800Z"
   },
   {
    "duration": 0,
    "start_time": "2023-01-21T18:48:57.936Z"
   },
   {
    "duration": 0,
    "start_time": "2023-01-21T18:48:57.937Z"
   },
   {
    "duration": 9,
    "start_time": "2023-01-21T18:49:15.566Z"
   },
   {
    "duration": 8,
    "start_time": "2023-01-21T18:49:16.254Z"
   },
   {
    "duration": 7,
    "start_time": "2023-01-21T18:49:17.461Z"
   },
   {
    "duration": 7,
    "start_time": "2023-01-21T18:49:23.526Z"
   },
   {
    "duration": 21,
    "start_time": "2023-01-21T18:49:26.732Z"
   },
   {
    "duration": 9,
    "start_time": "2023-01-21T18:49:43.472Z"
   },
   {
    "duration": 17,
    "start_time": "2023-01-21T18:49:50.625Z"
   },
   {
    "duration": 24,
    "start_time": "2023-01-21T18:50:41.467Z"
   },
   {
    "duration": 24,
    "start_time": "2023-01-21T18:50:46.445Z"
   },
   {
    "duration": 25,
    "start_time": "2023-01-21T18:51:22.481Z"
   },
   {
    "duration": 22,
    "start_time": "2023-01-21T18:51:33.293Z"
   },
   {
    "duration": 16,
    "start_time": "2023-01-21T18:52:46.284Z"
   },
   {
    "duration": 10,
    "start_time": "2023-01-21T18:53:29.161Z"
   },
   {
    "duration": 5,
    "start_time": "2023-01-21T18:53:52.428Z"
   },
   {
    "duration": 15,
    "start_time": "2023-01-21T18:53:53.628Z"
   },
   {
    "duration": 7,
    "start_time": "2023-01-21T18:53:54.037Z"
   },
   {
    "duration": 8,
    "start_time": "2023-01-21T18:53:56.287Z"
   },
   {
    "duration": 24,
    "start_time": "2023-01-21T18:53:59.201Z"
   },
   {
    "duration": 8,
    "start_time": "2023-01-21T18:54:00.702Z"
   },
   {
    "duration": 14,
    "start_time": "2023-01-21T18:54:02.918Z"
   },
   {
    "duration": 4,
    "start_time": "2023-01-21T18:55:37.453Z"
   },
   {
    "duration": 17,
    "start_time": "2023-01-21T18:55:38.124Z"
   },
   {
    "duration": 6,
    "start_time": "2023-01-21T18:55:38.701Z"
   },
   {
    "duration": 6,
    "start_time": "2023-01-21T18:55:39.291Z"
   },
   {
    "duration": 6,
    "start_time": "2023-01-21T18:55:43.836Z"
   },
   {
    "duration": 6,
    "start_time": "2023-01-21T18:55:44.797Z"
   },
   {
    "duration": 16,
    "start_time": "2023-01-21T18:55:46.916Z"
   },
   {
    "duration": 5,
    "start_time": "2023-01-21T18:55:49.297Z"
   },
   {
    "duration": 9,
    "start_time": "2023-01-21T18:55:51.273Z"
   },
   {
    "duration": 13,
    "start_time": "2023-01-21T18:56:55.906Z"
   },
   {
    "duration": 15,
    "start_time": "2023-01-21T18:57:07.902Z"
   },
   {
    "duration": 5,
    "start_time": "2023-01-21T18:58:44.561Z"
   },
   {
    "duration": 9,
    "start_time": "2023-01-21T18:59:56.223Z"
   },
   {
    "duration": 7,
    "start_time": "2023-01-21T19:00:24.563Z"
   },
   {
    "duration": 15,
    "start_time": "2023-01-21T19:00:24.948Z"
   },
   {
    "duration": 5,
    "start_time": "2023-01-21T19:00:25.528Z"
   },
   {
    "duration": 9,
    "start_time": "2023-01-21T19:00:27.153Z"
   },
   {
    "duration": 14,
    "start_time": "2023-01-21T19:02:01.467Z"
   },
   {
    "duration": 837,
    "start_time": "2023-01-22T15:08:36.677Z"
   },
   {
    "duration": 358,
    "start_time": "2023-01-22T15:08:37.517Z"
   },
   {
    "duration": 17,
    "start_time": "2023-01-22T15:08:37.877Z"
   },
   {
    "duration": 42,
    "start_time": "2023-01-22T15:08:37.896Z"
   },
   {
    "duration": 2171,
    "start_time": "2023-01-22T15:08:37.940Z"
   },
   {
    "duration": 13,
    "start_time": "2023-01-22T15:08:40.113Z"
   },
   {
    "duration": 7,
    "start_time": "2023-01-22T15:08:40.129Z"
   },
   {
    "duration": 5,
    "start_time": "2023-01-22T15:08:40.137Z"
   },
   {
    "duration": 29,
    "start_time": "2023-01-22T15:08:40.148Z"
   },
   {
    "duration": 46,
    "start_time": "2023-01-22T15:08:40.180Z"
   },
   {
    "duration": 25,
    "start_time": "2023-01-22T15:08:40.228Z"
   },
   {
    "duration": 6,
    "start_time": "2023-01-22T15:08:40.256Z"
   },
   {
    "duration": 18,
    "start_time": "2023-01-22T15:08:40.264Z"
   },
   {
    "duration": 14,
    "start_time": "2023-01-22T15:08:40.283Z"
   },
   {
    "duration": 9,
    "start_time": "2023-01-22T15:08:40.299Z"
   },
   {
    "duration": 12,
    "start_time": "2023-01-22T15:08:40.309Z"
   },
   {
    "duration": 17,
    "start_time": "2023-01-22T15:08:40.323Z"
   },
   {
    "duration": 16,
    "start_time": "2023-01-22T15:08:40.342Z"
   },
   {
    "duration": 19,
    "start_time": "2023-01-22T15:08:40.360Z"
   },
   {
    "duration": 9,
    "start_time": "2023-01-22T15:08:40.380Z"
   },
   {
    "duration": 29,
    "start_time": "2023-01-22T15:08:40.391Z"
   },
   {
    "duration": 40,
    "start_time": "2023-01-22T15:08:40.422Z"
   },
   {
    "duration": 7,
    "start_time": "2023-01-22T15:08:40.465Z"
   },
   {
    "duration": 12,
    "start_time": "2023-01-22T15:08:40.474Z"
   },
   {
    "duration": 12,
    "start_time": "2023-01-22T15:08:40.488Z"
   },
   {
    "duration": 31,
    "start_time": "2023-01-22T15:08:40.501Z"
   },
   {
    "duration": 17,
    "start_time": "2023-01-22T15:08:40.534Z"
   },
   {
    "duration": 39,
    "start_time": "2023-01-22T15:08:40.557Z"
   },
   {
    "duration": 12,
    "start_time": "2023-01-22T15:08:40.598Z"
   },
   {
    "duration": 11,
    "start_time": "2023-01-22T15:08:40.612Z"
   },
   {
    "duration": 15,
    "start_time": "2023-01-22T15:08:40.625Z"
   },
   {
    "duration": 5,
    "start_time": "2023-01-22T15:08:40.641Z"
   },
   {
    "duration": 32,
    "start_time": "2023-01-22T15:08:40.647Z"
   },
   {
    "duration": 12,
    "start_time": "2023-01-22T15:08:40.681Z"
   },
   {
    "duration": 18,
    "start_time": "2023-01-22T15:08:40.695Z"
   },
   {
    "duration": 10,
    "start_time": "2023-01-22T15:08:40.715Z"
   },
   {
    "duration": 76,
    "start_time": "2023-01-22T15:18:31.807Z"
   },
   {
    "duration": 706,
    "start_time": "2023-01-22T15:21:43.765Z"
   },
   {
    "duration": 103,
    "start_time": "2023-01-22T15:21:44.473Z"
   },
   {
    "duration": 16,
    "start_time": "2023-01-22T15:21:44.578Z"
   },
   {
    "duration": 42,
    "start_time": "2023-01-22T15:21:44.596Z"
   },
   {
    "duration": 75,
    "start_time": "2023-01-22T15:21:44.650Z"
   },
   {
    "duration": 2230,
    "start_time": "2023-01-22T15:21:44.727Z"
   },
   {
    "duration": 14,
    "start_time": "2023-01-22T15:21:46.960Z"
   },
   {
    "duration": 35,
    "start_time": "2023-01-22T15:25:01.967Z"
   },
   {
    "duration": 630,
    "start_time": "2023-01-22T15:29:25.273Z"
   },
   {
    "duration": 99,
    "start_time": "2023-01-22T15:29:25.905Z"
   },
   {
    "duration": 15,
    "start_time": "2023-01-22T15:29:26.006Z"
   },
   {
    "duration": 50,
    "start_time": "2023-01-22T15:29:26.023Z"
   },
   {
    "duration": 78,
    "start_time": "2023-01-22T15:29:26.075Z"
   },
   {
    "duration": 13,
    "start_time": "2023-01-22T15:29:26.155Z"
   },
   {
    "duration": 27,
    "start_time": "2023-01-22T15:29:26.170Z"
   },
   {
    "duration": 2129,
    "start_time": "2023-01-22T15:29:26.199Z"
   },
   {
    "duration": 75,
    "start_time": "2023-01-22T15:50:46.928Z"
   },
   {
    "duration": 75,
    "start_time": "2023-01-22T15:51:00.930Z"
   },
   {
    "duration": 142,
    "start_time": "2023-01-22T15:51:30.521Z"
   },
   {
    "duration": 86,
    "start_time": "2023-01-22T15:51:46.320Z"
   },
   {
    "duration": 75,
    "start_time": "2023-01-22T15:51:52.076Z"
   },
   {
    "duration": 100,
    "start_time": "2023-01-22T15:53:37.614Z"
   },
   {
    "duration": 82,
    "start_time": "2023-01-22T15:54:17.586Z"
   },
   {
    "duration": 70,
    "start_time": "2023-01-22T15:54:48.344Z"
   },
   {
    "duration": 73,
    "start_time": "2023-01-22T15:54:54.164Z"
   },
   {
    "duration": 73,
    "start_time": "2023-01-22T15:55:24.753Z"
   },
   {
    "duration": 599,
    "start_time": "2023-01-22T15:55:29.696Z"
   },
   {
    "duration": 95,
    "start_time": "2023-01-22T15:55:30.297Z"
   },
   {
    "duration": 16,
    "start_time": "2023-01-22T15:55:30.394Z"
   },
   {
    "duration": 48,
    "start_time": "2023-01-22T15:55:30.412Z"
   },
   {
    "duration": 74,
    "start_time": "2023-01-22T15:55:30.462Z"
   },
   {
    "duration": 18,
    "start_time": "2023-01-22T15:55:30.538Z"
   },
   {
    "duration": 69,
    "start_time": "2023-01-22T15:55:30.557Z"
   },
   {
    "duration": 1896,
    "start_time": "2023-01-22T15:55:30.628Z"
   },
   {
    "duration": 71,
    "start_time": "2023-01-22T15:55:32.526Z"
   },
   {
    "duration": 75,
    "start_time": "2023-01-22T15:56:19.203Z"
   },
   {
    "duration": 70,
    "start_time": "2023-01-22T15:56:24.648Z"
   },
   {
    "duration": 63,
    "start_time": "2023-01-22T15:56:36.640Z"
   },
   {
    "duration": 635,
    "start_time": "2023-01-22T15:56:44.195Z"
   },
   {
    "duration": 94,
    "start_time": "2023-01-22T15:56:44.832Z"
   },
   {
    "duration": 18,
    "start_time": "2023-01-22T15:56:44.928Z"
   },
   {
    "duration": 46,
    "start_time": "2023-01-22T15:56:44.950Z"
   },
   {
    "duration": 90,
    "start_time": "2023-01-22T15:56:44.997Z"
   },
   {
    "duration": 9,
    "start_time": "2023-01-22T15:56:45.089Z"
   },
   {
    "duration": 23,
    "start_time": "2023-01-22T15:56:45.099Z"
   },
   {
    "duration": 2012,
    "start_time": "2023-01-22T15:56:45.124Z"
   },
   {
    "duration": 103,
    "start_time": "2023-01-22T15:56:47.138Z"
   },
   {
    "duration": 3,
    "start_time": "2023-01-22T15:56:50.883Z"
   },
   {
    "duration": 90,
    "start_time": "2023-01-22T15:56:51.182Z"
   },
   {
    "duration": 14,
    "start_time": "2023-01-22T15:56:56.709Z"
   },
   {
    "duration": 36,
    "start_time": "2023-01-22T15:56:58.860Z"
   },
   {
    "duration": 81,
    "start_time": "2023-01-22T15:57:01.412Z"
   },
   {
    "duration": 11,
    "start_time": "2023-01-22T15:57:03.484Z"
   },
   {
    "duration": 30,
    "start_time": "2023-01-22T15:57:05.884Z"
   },
   {
    "duration": 1918,
    "start_time": "2023-01-22T15:57:06.517Z"
   },
   {
    "duration": 84,
    "start_time": "2023-01-22T15:57:11.958Z"
   },
   {
    "duration": 73,
    "start_time": "2023-01-22T15:58:13.334Z"
   },
   {
    "duration": 75,
    "start_time": "2023-01-22T15:58:15.308Z"
   },
   {
    "duration": 74,
    "start_time": "2023-01-22T15:58:25.318Z"
   },
   {
    "duration": 84,
    "start_time": "2023-01-22T15:58:29.169Z"
   },
   {
    "duration": 82,
    "start_time": "2023-01-22T15:58:43.514Z"
   },
   {
    "duration": 72,
    "start_time": "2023-01-22T15:58:51.669Z"
   },
   {
    "duration": 631,
    "start_time": "2023-01-22T15:59:09.609Z"
   },
   {
    "duration": 92,
    "start_time": "2023-01-22T15:59:10.242Z"
   },
   {
    "duration": 17,
    "start_time": "2023-01-22T15:59:10.336Z"
   },
   {
    "duration": 47,
    "start_time": "2023-01-22T15:59:10.356Z"
   },
   {
    "duration": 80,
    "start_time": "2023-01-22T15:59:10.405Z"
   },
   {
    "duration": 9,
    "start_time": "2023-01-22T15:59:10.487Z"
   },
   {
    "duration": 25,
    "start_time": "2023-01-22T15:59:10.498Z"
   },
   {
    "duration": 1993,
    "start_time": "2023-01-22T15:59:10.524Z"
   },
   {
    "duration": 70,
    "start_time": "2023-01-22T15:59:12.519Z"
   },
   {
    "duration": 75,
    "start_time": "2023-01-22T15:59:49.528Z"
   },
   {
    "duration": 6,
    "start_time": "2023-01-22T15:59:56.639Z"
   },
   {
    "duration": 6,
    "start_time": "2023-01-22T15:59:58.811Z"
   },
   {
    "duration": 79,
    "start_time": "2023-01-22T16:00:34.712Z"
   },
   {
    "duration": 46,
    "start_time": "2023-01-22T16:00:52.452Z"
   },
   {
    "duration": 44,
    "start_time": "2023-01-22T16:01:58.682Z"
   },
   {
    "duration": 5,
    "start_time": "2023-01-22T16:02:05.757Z"
   },
   {
    "duration": 6,
    "start_time": "2023-01-22T16:02:07.958Z"
   },
   {
    "duration": 21,
    "start_time": "2023-01-22T16:02:25.363Z"
   },
   {
    "duration": 14,
    "start_time": "2023-01-22T16:05:57.273Z"
   },
   {
    "duration": 18,
    "start_time": "2023-01-22T16:09:34.301Z"
   },
   {
    "duration": 17,
    "start_time": "2023-01-22T16:09:36.657Z"
   },
   {
    "duration": 7,
    "start_time": "2023-01-22T16:16:03.855Z"
   },
   {
    "duration": 15,
    "start_time": "2023-01-22T16:29:22.411Z"
   },
   {
    "duration": 89,
    "start_time": "2023-01-22T16:29:50.832Z"
   },
   {
    "duration": 10,
    "start_time": "2023-01-22T16:30:02.916Z"
   },
   {
    "duration": 10,
    "start_time": "2023-01-22T16:30:17.914Z"
   },
   {
    "duration": 12,
    "start_time": "2023-01-22T16:30:26.314Z"
   },
   {
    "duration": 9,
    "start_time": "2023-01-22T16:30:34.708Z"
   },
   {
    "duration": 10,
    "start_time": "2023-01-22T16:31:58.509Z"
   },
   {
    "duration": 608,
    "start_time": "2023-01-22T16:32:10.989Z"
   },
   {
    "duration": 93,
    "start_time": "2023-01-22T16:32:11.598Z"
   },
   {
    "duration": 16,
    "start_time": "2023-01-22T16:32:11.693Z"
   },
   {
    "duration": 48,
    "start_time": "2023-01-22T16:32:11.711Z"
   },
   {
    "duration": 71,
    "start_time": "2023-01-22T16:32:11.762Z"
   },
   {
    "duration": 23,
    "start_time": "2023-01-22T16:32:11.834Z"
   },
   {
    "duration": 27,
    "start_time": "2023-01-22T16:32:11.859Z"
   },
   {
    "duration": 1949,
    "start_time": "2023-01-22T16:32:11.888Z"
   },
   {
    "duration": 18,
    "start_time": "2023-01-22T16:32:13.839Z"
   },
   {
    "duration": 9,
    "start_time": "2023-01-22T16:32:13.859Z"
   },
   {
    "duration": 5,
    "start_time": "2023-01-22T16:32:13.870Z"
   },
   {
    "duration": 5,
    "start_time": "2023-01-22T16:32:13.877Z"
   },
   {
    "duration": 4,
    "start_time": "2023-01-22T16:32:20.163Z"
   },
   {
    "duration": 8,
    "start_time": "2023-01-22T16:32:35.840Z"
   },
   {
    "duration": 7,
    "start_time": "2023-01-22T16:32:44.028Z"
   },
   {
    "duration": 683,
    "start_time": "2023-01-22T16:38:19.725Z"
   },
   {
    "duration": 98,
    "start_time": "2023-01-22T16:38:20.410Z"
   },
   {
    "duration": 17,
    "start_time": "2023-01-22T16:38:20.509Z"
   },
   {
    "duration": 55,
    "start_time": "2023-01-22T16:38:20.528Z"
   },
   {
    "duration": 88,
    "start_time": "2023-01-22T16:38:20.586Z"
   },
   {
    "duration": 16,
    "start_time": "2023-01-22T16:38:20.677Z"
   },
   {
    "duration": 27,
    "start_time": "2023-01-22T16:38:20.696Z"
   },
   {
    "duration": 2072,
    "start_time": "2023-01-22T16:38:20.725Z"
   },
   {
    "duration": 28,
    "start_time": "2023-01-22T16:38:22.800Z"
   },
   {
    "duration": 15,
    "start_time": "2023-01-22T16:38:22.831Z"
   },
   {
    "duration": 10,
    "start_time": "2023-01-22T16:38:22.848Z"
   },
   {
    "duration": 17,
    "start_time": "2023-01-22T16:38:22.859Z"
   },
   {
    "duration": 8,
    "start_time": "2023-01-22T16:40:09.034Z"
   },
   {
    "duration": 665,
    "start_time": "2023-01-22T16:40:17.326Z"
   },
   {
    "duration": 94,
    "start_time": "2023-01-22T16:40:17.992Z"
   },
   {
    "duration": 17,
    "start_time": "2023-01-22T16:40:18.087Z"
   },
   {
    "duration": 56,
    "start_time": "2023-01-22T16:40:18.106Z"
   },
   {
    "duration": 88,
    "start_time": "2023-01-22T16:40:18.163Z"
   },
   {
    "duration": 11,
    "start_time": "2023-01-22T16:40:18.253Z"
   },
   {
    "duration": 27,
    "start_time": "2023-01-22T16:40:18.266Z"
   },
   {
    "duration": 1907,
    "start_time": "2023-01-22T16:40:18.294Z"
   },
   {
    "duration": 18,
    "start_time": "2023-01-22T16:40:20.203Z"
   },
   {
    "duration": 10,
    "start_time": "2023-01-22T16:40:20.225Z"
   },
   {
    "duration": 16,
    "start_time": "2023-01-22T16:40:20.236Z"
   },
   {
    "duration": 9,
    "start_time": "2023-01-22T16:40:20.254Z"
   },
   {
    "duration": 9,
    "start_time": "2023-01-22T16:40:43.305Z"
   },
   {
    "duration": 45,
    "start_time": "2023-01-22T16:42:52.615Z"
   },
   {
    "duration": 27,
    "start_time": "2023-01-22T16:43:57.002Z"
   },
   {
    "duration": 77,
    "start_time": "2023-01-22T16:44:54.079Z"
   },
   {
    "duration": 5,
    "start_time": "2023-01-22T16:45:03.973Z"
   },
   {
    "duration": 29,
    "start_time": "2023-01-22T16:45:50.506Z"
   },
   {
    "duration": 10,
    "start_time": "2023-01-22T16:48:16.544Z"
   },
   {
    "duration": 12,
    "start_time": "2023-01-22T16:48:23.041Z"
   },
   {
    "duration": 6,
    "start_time": "2023-01-22T17:32:27.886Z"
   },
   {
    "duration": 16,
    "start_time": "2023-01-22T17:35:24.624Z"
   },
   {
    "duration": 9,
    "start_time": "2023-01-22T17:40:01.189Z"
   },
   {
    "duration": 19,
    "start_time": "2023-01-22T17:40:06.965Z"
   },
   {
    "duration": 32,
    "start_time": "2023-01-22T17:40:16.984Z"
   },
   {
    "duration": 5,
    "start_time": "2023-01-22T17:47:30.091Z"
   },
   {
    "duration": 40,
    "start_time": "2023-01-22T17:51:57.535Z"
   },
   {
    "duration": 31,
    "start_time": "2023-01-22T17:52:49.516Z"
   },
   {
    "duration": 12,
    "start_time": "2023-01-22T17:54:41.357Z"
   },
   {
    "duration": 643,
    "start_time": "2023-01-22T17:57:21.859Z"
   },
   {
    "duration": 95,
    "start_time": "2023-01-22T17:57:22.504Z"
   },
   {
    "duration": 17,
    "start_time": "2023-01-22T17:57:22.600Z"
   },
   {
    "duration": 48,
    "start_time": "2023-01-22T17:57:22.619Z"
   },
   {
    "duration": 81,
    "start_time": "2023-01-22T17:57:22.669Z"
   },
   {
    "duration": 10,
    "start_time": "2023-01-22T17:57:22.752Z"
   },
   {
    "duration": 28,
    "start_time": "2023-01-22T17:57:22.763Z"
   },
   {
    "duration": 2004,
    "start_time": "2023-01-22T17:57:22.792Z"
   },
   {
    "duration": 17,
    "start_time": "2023-01-22T17:57:24.798Z"
   },
   {
    "duration": 30,
    "start_time": "2023-01-22T17:57:24.817Z"
   },
   {
    "duration": 17,
    "start_time": "2023-01-22T17:57:24.849Z"
   },
   {
    "duration": 52,
    "start_time": "2023-01-22T17:57:24.868Z"
   },
   {
    "duration": 5,
    "start_time": "2023-01-22T17:57:24.922Z"
   },
   {
    "duration": 33,
    "start_time": "2023-01-22T17:57:24.929Z"
   },
   {
    "duration": 20,
    "start_time": "2023-01-22T17:57:24.964Z"
   },
   {
    "duration": 36,
    "start_time": "2023-01-22T17:57:24.985Z"
   },
   {
    "duration": 30,
    "start_time": "2023-01-22T17:57:25.023Z"
   },
   {
    "duration": 5,
    "start_time": "2023-01-22T18:04:29.633Z"
   },
   {
    "duration": 4,
    "start_time": "2023-01-22T18:05:18.343Z"
   },
   {
    "duration": 6,
    "start_time": "2023-01-22T18:05:26.085Z"
   },
   {
    "duration": 73,
    "start_time": "2023-01-22T18:05:38.070Z"
   },
   {
    "duration": 6,
    "start_time": "2023-01-22T18:05:58.825Z"
   },
   {
    "duration": 6,
    "start_time": "2023-01-22T18:06:38.270Z"
   },
   {
    "duration": 8,
    "start_time": "2023-01-22T18:07:23.768Z"
   },
   {
    "duration": 7,
    "start_time": "2023-01-22T18:07:32.569Z"
   },
   {
    "duration": 6,
    "start_time": "2023-01-22T18:07:37.438Z"
   },
   {
    "duration": 44,
    "start_time": "2023-01-22T18:08:25.816Z"
   },
   {
    "duration": 18,
    "start_time": "2023-01-22T18:08:28.835Z"
   },
   {
    "duration": 14,
    "start_time": "2023-01-22T18:09:27.994Z"
   },
   {
    "duration": 27,
    "start_time": "2023-01-22T18:10:18.799Z"
   },
   {
    "duration": 25,
    "start_time": "2023-01-22T18:10:26.443Z"
   },
   {
    "duration": 4,
    "start_time": "2023-01-22T18:20:55.864Z"
   },
   {
    "duration": 13,
    "start_time": "2023-01-22T18:21:22.207Z"
   },
   {
    "duration": 11,
    "start_time": "2023-01-22T18:21:51.542Z"
   },
   {
    "duration": 12,
    "start_time": "2023-01-22T18:22:42.102Z"
   },
   {
    "duration": 26,
    "start_time": "2023-01-22T18:23:08.027Z"
   },
   {
    "duration": 40,
    "start_time": "2023-01-22T18:23:39.418Z"
   },
   {
    "duration": 27,
    "start_time": "2023-01-22T18:25:43.987Z"
   },
   {
    "duration": 5,
    "start_time": "2023-01-22T18:39:07.688Z"
   },
   {
    "duration": 29,
    "start_time": "2023-01-22T18:39:41.952Z"
   },
   {
    "duration": 16,
    "start_time": "2023-01-22T18:42:09.161Z"
   },
   {
    "duration": 6,
    "start_time": "2023-01-22T18:56:53.688Z"
   },
   {
    "duration": 10,
    "start_time": "2023-01-22T19:00:48.350Z"
   },
   {
    "duration": 37,
    "start_time": "2023-01-22T19:03:23.772Z"
   },
   {
    "duration": 10,
    "start_time": "2023-01-22T19:03:52.630Z"
   },
   {
    "duration": 10,
    "start_time": "2023-01-22T19:03:57.169Z"
   },
   {
    "duration": 9,
    "start_time": "2023-01-22T19:04:10.152Z"
   },
   {
    "duration": 31,
    "start_time": "2023-01-22T19:05:47.166Z"
   },
   {
    "duration": 43,
    "start_time": "2023-01-22T19:08:09.240Z"
   },
   {
    "duration": 45,
    "start_time": "2023-01-22T19:09:28.761Z"
   },
   {
    "duration": 39,
    "start_time": "2023-01-22T19:11:15.813Z"
   },
   {
    "duration": 73,
    "start_time": "2023-01-22T19:18:26.063Z"
   },
   {
    "duration": 66,
    "start_time": "2023-01-22T19:18:46.878Z"
   },
   {
    "duration": 73,
    "start_time": "2023-01-22T19:19:19.343Z"
   },
   {
    "duration": 14,
    "start_time": "2023-01-22T19:19:28.115Z"
   },
   {
    "duration": 16,
    "start_time": "2023-01-22T19:19:34.163Z"
   },
   {
    "duration": 293,
    "start_time": "2023-01-22T19:20:17.202Z"
   },
   {
    "duration": 74,
    "start_time": "2023-01-22T19:20:36.862Z"
   },
   {
    "duration": 8,
    "start_time": "2023-01-22T19:25:44.807Z"
   },
   {
    "duration": 1063,
    "start_time": "2023-01-22T19:25:57.681Z"
   },
   {
    "duration": 5,
    "start_time": "2023-01-22T19:26:23.167Z"
   },
   {
    "duration": 51,
    "start_time": "2023-01-22T19:26:45.784Z"
   },
   {
    "duration": 35,
    "start_time": "2023-01-22T19:26:52.172Z"
   },
   {
    "duration": 6,
    "start_time": "2023-01-22T19:27:17.867Z"
   },
   {
    "duration": 6,
    "start_time": "2023-01-22T19:27:24.932Z"
   },
   {
    "duration": 6,
    "start_time": "2023-01-22T19:27:46.468Z"
   },
   {
    "duration": 76,
    "start_time": "2023-01-22T19:30:03.640Z"
   },
   {
    "duration": 5,
    "start_time": "2023-01-22T19:30:12.555Z"
   },
   {
    "duration": 5,
    "start_time": "2023-01-22T19:46:02.902Z"
   },
   {
    "duration": 6,
    "start_time": "2023-01-22T19:46:04.126Z"
   },
   {
    "duration": 163,
    "start_time": "2023-01-22T19:50:02.352Z"
   },
   {
    "duration": 8,
    "start_time": "2023-01-22T19:50:14.506Z"
   },
   {
    "duration": 8,
    "start_time": "2023-01-22T19:50:36.692Z"
   },
   {
    "duration": 5,
    "start_time": "2023-01-22T19:51:39.626Z"
   },
   {
    "duration": 18,
    "start_time": "2023-01-22T19:51:53.434Z"
   },
   {
    "duration": 15,
    "start_time": "2023-01-22T19:52:31.739Z"
   },
   {
    "duration": 67,
    "start_time": "2023-01-22T19:53:21.666Z"
   },
   {
    "duration": 28,
    "start_time": "2023-01-22T19:53:29.482Z"
   },
   {
    "duration": 6,
    "start_time": "2023-01-22T19:56:30.109Z"
   },
   {
    "duration": 695,
    "start_time": "2023-01-22T19:56:40.029Z"
   },
   {
    "duration": 147,
    "start_time": "2023-01-22T19:56:40.726Z"
   },
   {
    "duration": 15,
    "start_time": "2023-01-22T19:56:40.875Z"
   },
   {
    "duration": 80,
    "start_time": "2023-01-22T19:56:40.892Z"
   },
   {
    "duration": 98,
    "start_time": "2023-01-22T19:56:40.975Z"
   },
   {
    "duration": 9,
    "start_time": "2023-01-22T19:56:41.074Z"
   },
   {
    "duration": 22,
    "start_time": "2023-01-22T19:56:41.085Z"
   },
   {
    "duration": 1976,
    "start_time": "2023-01-22T19:56:41.109Z"
   },
   {
    "duration": 18,
    "start_time": "2023-01-22T19:56:43.086Z"
   },
   {
    "duration": 36,
    "start_time": "2023-01-22T19:56:43.106Z"
   },
   {
    "duration": 11,
    "start_time": "2023-01-22T19:56:43.143Z"
   },
   {
    "duration": 6,
    "start_time": "2023-01-22T19:56:43.156Z"
   },
   {
    "duration": 30,
    "start_time": "2023-01-22T19:56:43.164Z"
   },
   {
    "duration": 6,
    "start_time": "2023-01-22T19:56:43.197Z"
   },
   {
    "duration": 17,
    "start_time": "2023-01-22T19:56:43.205Z"
   },
   {
    "duration": 44,
    "start_time": "2023-01-22T19:56:43.224Z"
   },
   {
    "duration": 4,
    "start_time": "2023-01-22T19:56:43.269Z"
   },
   {
    "duration": 6,
    "start_time": "2023-01-22T19:56:43.275Z"
   },
   {
    "duration": 28,
    "start_time": "2023-01-22T19:56:43.282Z"
   },
   {
    "duration": 44,
    "start_time": "2023-01-22T19:56:43.311Z"
   },
   {
    "duration": 31,
    "start_time": "2023-01-22T19:56:43.357Z"
   },
   {
    "duration": 23,
    "start_time": "2023-01-22T19:56:43.390Z"
   },
   {
    "duration": 66,
    "start_time": "2023-01-22T19:56:43.416Z"
   },
   {
    "duration": 18,
    "start_time": "2023-01-22T19:56:43.485Z"
   },
   {
    "duration": 4,
    "start_time": "2023-01-22T19:56:43.505Z"
   },
   {
    "duration": 10,
    "start_time": "2023-01-22T19:56:43.510Z"
   },
   {
    "duration": 48,
    "start_time": "2023-01-22T19:56:43.522Z"
   },
   {
    "duration": 5,
    "start_time": "2023-01-22T19:56:43.572Z"
   },
   {
    "duration": 1151,
    "start_time": "2023-01-22T19:56:43.579Z"
   },
   {
    "duration": 68,
    "start_time": "2023-01-22T19:57:38.255Z"
   },
   {
    "duration": 6,
    "start_time": "2023-01-22T19:57:38.580Z"
   },
   {
    "duration": 5,
    "start_time": "2023-01-22T19:57:48.213Z"
   },
   {
    "duration": 6,
    "start_time": "2023-01-22T19:57:48.720Z"
   },
   {
    "duration": 1114,
    "start_time": "2023-01-22T19:58:56.996Z"
   },
   {
    "duration": 1058,
    "start_time": "2023-01-22T19:59:11.160Z"
   },
   {
    "duration": 1267,
    "start_time": "2023-01-22T20:00:07.429Z"
   },
   {
    "duration": 655,
    "start_time": "2023-01-22T20:00:44.763Z"
   },
   {
    "duration": 97,
    "start_time": "2023-01-22T20:00:45.420Z"
   },
   {
    "duration": 16,
    "start_time": "2023-01-22T20:00:45.518Z"
   },
   {
    "duration": 46,
    "start_time": "2023-01-22T20:00:45.536Z"
   },
   {
    "duration": 84,
    "start_time": "2023-01-22T20:00:45.585Z"
   },
   {
    "duration": 9,
    "start_time": "2023-01-22T20:00:45.670Z"
   },
   {
    "duration": 22,
    "start_time": "2023-01-22T20:00:45.681Z"
   },
   {
    "duration": 2000,
    "start_time": "2023-01-22T20:00:45.705Z"
   },
   {
    "duration": 19,
    "start_time": "2023-01-22T20:00:47.706Z"
   },
   {
    "duration": 35,
    "start_time": "2023-01-22T20:00:47.726Z"
   },
   {
    "duration": 11,
    "start_time": "2023-01-22T20:00:47.763Z"
   },
   {
    "duration": 6,
    "start_time": "2023-01-22T20:00:47.775Z"
   },
   {
    "duration": 34,
    "start_time": "2023-01-22T20:00:47.782Z"
   },
   {
    "duration": 5,
    "start_time": "2023-01-22T20:00:47.819Z"
   },
   {
    "duration": 14,
    "start_time": "2023-01-22T20:00:47.848Z"
   },
   {
    "duration": 24,
    "start_time": "2023-01-22T20:00:47.863Z"
   },
   {
    "duration": 4,
    "start_time": "2023-01-22T20:00:47.889Z"
   },
   {
    "duration": 9,
    "start_time": "2023-01-22T20:00:47.894Z"
   },
   {
    "duration": 59,
    "start_time": "2023-01-22T20:00:47.905Z"
   },
   {
    "duration": 18,
    "start_time": "2023-01-22T20:00:47.966Z"
   },
   {
    "duration": 28,
    "start_time": "2023-01-22T20:00:47.986Z"
   },
   {
    "duration": 41,
    "start_time": "2023-01-22T20:00:48.016Z"
   },
   {
    "duration": 37,
    "start_time": "2023-01-22T20:00:48.059Z"
   },
   {
    "duration": 16,
    "start_time": "2023-01-22T20:00:48.098Z"
   },
   {
    "duration": 5,
    "start_time": "2023-01-22T20:00:48.115Z"
   },
   {
    "duration": 32,
    "start_time": "2023-01-22T20:00:48.122Z"
   },
   {
    "duration": 29,
    "start_time": "2023-01-22T20:00:48.156Z"
   },
   {
    "duration": 5,
    "start_time": "2023-01-22T20:00:48.187Z"
   },
   {
    "duration": 6,
    "start_time": "2023-01-22T20:00:48.193Z"
   }
  ],
  "kernelspec": {
   "display_name": "Python 3 (ipykernel)",
   "language": "python",
   "name": "python3"
  },
  "language_info": {
   "codemirror_mode": {
    "name": "ipython",
    "version": 3
   },
   "file_extension": ".py",
   "mimetype": "text/x-python",
   "name": "python",
   "nbconvert_exporter": "python",
   "pygments_lexer": "ipython3",
   "version": "3.9.5"
  },
  "toc": {
   "base_numbering": 1,
   "nav_menu": {},
   "number_sections": true,
   "sideBar": true,
   "skip_h1_title": true,
   "title_cell": "Table of Contents",
   "title_sidebar": "Contents",
   "toc_cell": false,
   "toc_position": {},
   "toc_section_display": true,
   "toc_window_display": false
  }
 },
 "nbformat": 4,
 "nbformat_minor": 2
}
